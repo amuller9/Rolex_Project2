{
 "cells": [
  {
   "cell_type": "markdown",
   "metadata": {},
   "source": [
    "##### Project 2 - Big-Scale Analysis \n",
    "##### Team ROLEX - Samuel Lew, Alexandre Lang, Samy Bouzerda, Alix Muller\n",
    "-------\n",
    "# Kaggle: Real or Not? NLP with Disaster Tweets\n",
    "-------"
   ]
  },
  {
   "cell_type": "markdown",
   "metadata": {},
   "source": [
    "# 0. Dataset\n",
    "This competition's Dataset shows a set of tweets divided into a training and a test set. The training set has a column named 'target' that permits to identify if the tweet contains an infomation about a disaster or not.\n",
    "\n",
    "For example, here are one tweet about a disaster and another not:"
   ]
  },
  {
   "cell_type": "code",
   "execution_count": 110,
   "metadata": {},
   "outputs": [
    {
     "data": {
      "text/plain": [
       "'I can probably skip on these basic life maintenance things for a few days. (cut to burning buildings people screaming in the streets)'"
      ]
     },
     "execution_count": 110,
     "metadata": {},
     "output_type": "execute_result"
    }
   ],
   "source": [
    "# A disaster tweet\n",
    "disaster_tweet = train[train['Target'] == 1]['Tweet text']\n",
    "disaster_tweet.values[1]"
   ]
  },
  {
   "cell_type": "code",
   "execution_count": 111,
   "metadata": {
    "scrolled": true
   },
   "outputs": [
    {
     "data": {
      "text/plain": [
       "\"What the hell is wrong with people?!communication!  Rule with an iron fist ticket to disaster.  Can't swing one day and not the next.\""
      ]
     },
     "execution_count": 111,
     "metadata": {},
     "output_type": "execute_result"
    }
   ],
   "source": [
    "# A tweet not concerning a disaster\n",
    "non_disaster_tweet = train[train['Target'] == 0]['Tweet text']\n",
    "non_disaster_tweet.values[1]"
   ]
  },
  {
   "cell_type": "markdown",
   "metadata": {},
   "source": [
    "In this competition, people have to create a machine learning model to predict whether the tweets test set mention a disaster or not. This challenge is a binary classification problem."
   ]
  },
  {
   "cell_type": "markdown",
   "metadata": {},
   "source": [
    "# I. Importing libraries"
   ]
  },
  {
   "cell_type": "code",
   "execution_count": 106,
   "metadata": {},
   "outputs": [
    {
     "name": "stderr",
     "output_type": "stream",
     "text": [
      "[nltk_data] Downloading package stopwords to\n",
      "[nltk_data]     C:\\Users\\alixm\\AppData\\Roaming\\nltk_data...\n",
      "[nltk_data]   Package stopwords is already up-to-date!\n"
     ]
    },
    {
     "data": {
      "text/plain": [
       "True"
      ]
     },
     "execution_count": 106,
     "metadata": {},
     "output_type": "execute_result"
    }
   ],
   "source": [
    "import pandas as pd\n",
    "\n",
    "# matplotlib and seaborn for plotting\n",
    "import matplotlib.pyplot as plt\n",
    "import seaborn as sns\n",
    "\n",
    "# text processing libraries\n",
    "import re\n",
    "import string\n",
    "import nltk\n",
    "from nltk.corpus import stopwords\n",
    "\n",
    "import nltk\n",
    "nltk.download('stopwords')"
   ]
  },
  {
   "cell_type": "markdown",
   "metadata": {},
   "source": [
    "# II. EDA"
   ]
  },
  {
   "cell_type": "markdown",
   "metadata": {},
   "source": [
    "## 1. Training set"
   ]
  },
  {
   "cell_type": "markdown",
   "metadata": {},
   "source": [
    "### Data loading"
   ]
  },
  {
   "cell_type": "code",
   "execution_count": 107,
   "metadata": {},
   "outputs": [
    {
     "data": {
      "text/plain": [
       "(7613, 5)"
      ]
     },
     "execution_count": 107,
     "metadata": {},
     "output_type": "execute_result"
    }
   ],
   "source": [
    "train = pd.read_csv('../data/train.csv')\n",
    "train = train.sample(frac=1, replace=False)\n",
    "train = train[['id', 'keyword', 'location', 'text', 'target']]\n",
    "train.shape"
   ]
  },
  {
   "cell_type": "code",
   "execution_count": 108,
   "metadata": {},
   "outputs": [
    {
     "data": {
      "text/html": [
       "<div>\n",
       "<style scoped>\n",
       "    .dataframe tbody tr th:only-of-type {\n",
       "        vertical-align: middle;\n",
       "    }\n",
       "\n",
       "    .dataframe tbody tr th {\n",
       "        vertical-align: top;\n",
       "    }\n",
       "\n",
       "    .dataframe thead th {\n",
       "        text-align: right;\n",
       "    }\n",
       "</style>\n",
       "<table border=\"1\" class=\"dataframe\">\n",
       "  <thead>\n",
       "    <tr style=\"text-align: right;\">\n",
       "      <th></th>\n",
       "      <th>ID</th>\n",
       "      <th>Keyword</th>\n",
       "      <th>Location</th>\n",
       "      <th>Tweet text</th>\n",
       "      <th>Target</th>\n",
       "    </tr>\n",
       "  </thead>\n",
       "  <tbody>\n",
       "    <tr>\n",
       "      <th>4012</th>\n",
       "      <td>5698</td>\n",
       "      <td>floods</td>\n",
       "      <td>New York, USA</td>\n",
       "      <td>love when drake floods instagram. makes you fe...</td>\n",
       "      <td>0</td>\n",
       "    </tr>\n",
       "    <tr>\n",
       "      <th>2803</th>\n",
       "      <td>4030</td>\n",
       "      <td>disaster</td>\n",
       "      <td>Fort Worth, Texas</td>\n",
       "      <td>What the hell is wrong with people?!communicat...</td>\n",
       "      <td>0</td>\n",
       "    </tr>\n",
       "    <tr>\n",
       "      <th>877</th>\n",
       "      <td>1271</td>\n",
       "      <td>blood</td>\n",
       "      <td>North Jersey</td>\n",
       "      <td>@olrules Welcome - Read a free chapter of my n...</td>\n",
       "      <td>0</td>\n",
       "    </tr>\n",
       "    <tr>\n",
       "      <th>3762</th>\n",
       "      <td>5344</td>\n",
       "      <td>fire</td>\n",
       "      <td>Makai</td>\n",
       "      <td>@DaughterofNai Tenshi activated Yuki's fire card!</td>\n",
       "      <td>0</td>\n",
       "    </tr>\n",
       "    <tr>\n",
       "      <th>3531</th>\n",
       "      <td>5047</td>\n",
       "      <td>eyewitness</td>\n",
       "      <td>NaN</td>\n",
       "      <td>Monkeys Abused by Notorious Laboratory Dealer ...</td>\n",
       "      <td>0</td>\n",
       "    </tr>\n",
       "  </tbody>\n",
       "</table>\n",
       "</div>"
      ],
      "text/plain": [
       "        ID     Keyword           Location  \\\n",
       "4012  5698      floods      New York, USA   \n",
       "2803  4030    disaster  Fort Worth, Texas   \n",
       "877   1271       blood       North Jersey   \n",
       "3762  5344        fire              Makai   \n",
       "3531  5047  eyewitness                NaN   \n",
       "\n",
       "                                             Tweet text  Target  \n",
       "4012  love when drake floods instagram. makes you fe...       0  \n",
       "2803  What the hell is wrong with people?!communicat...       0  \n",
       "877   @olrules Welcome - Read a free chapter of my n...       0  \n",
       "3762  @DaughterofNai Tenshi activated Yuki's fire card!       0  \n",
       "3531  Monkeys Abused by Notorious Laboratory Dealer ...       0  "
      ]
     },
     "execution_count": 108,
     "metadata": {},
     "output_type": "execute_result"
    }
   ],
   "source": [
    "train.columns = ['ID', 'Keyword', 'Location', 'Tweet text', 'Target']\n",
    "train.head()"
   ]
  },
  {
   "cell_type": "markdown",
   "metadata": {},
   "source": [
    "### Distribution of the target column"
   ]
  },
  {
   "cell_type": "code",
   "execution_count": 109,
   "metadata": {},
   "outputs": [
    {
     "name": "stdout",
     "output_type": "stream",
     "text": [
      "There are 3271 tweets about disasters (Target = 0).\n",
      "There are 4342 tweets that are not about disasters (Target = 1).\n"
     ]
    }
   ],
   "source": [
    "#when the target = 1 it means the the tweet is about a disaster\n",
    "train_yes = train.query('Target == 1')\n",
    "yes_count = 0\n",
    "for row in train_yes.iterrows():\n",
    "    yes_count += 1\n",
    "print(f'There are {yes_count} tweets about disasters (Target = 0).')\n",
    "\n",
    "#when the target = 0 it means the the tweet is not about a disaster\n",
    "train_no = train.query('Target == 0')\n",
    "no_count = 0\n",
    "for row in train_no.iterrows():\n",
    "    no_count += 1\n",
    "print(f'There are {no_count} tweets that are not about disasters (Target = 1).')"
   ]
  },
  {
   "cell_type": "code",
   "execution_count": 112,
   "metadata": {},
   "outputs": [
    {
     "data": {
      "text/plain": [
       "<matplotlib.axes._subplots.AxesSubplot at 0x2251cbe6be0>"
      ]
     },
     "execution_count": 112,
     "metadata": {},
     "output_type": "execute_result"
    },
    {
     "data": {
      "image/png": "[encoded data removed]",
      "text/plain": [
       "<Figure size 432x288 with 1 Axes>"
      ]
     },
     "metadata": {
      "needs_background": "light"
     },
     "output_type": "display_data"
    }
   ],
   "source": [
    "sns.barplot(train['Target'].value_counts().index, train['Target'].value_counts(), palette = 'rocket')"
   ]
  },
  {
   "cell_type": "markdown",
   "metadata": {},
   "source": [
    "### Distribution of the Keyword column"
   ]
  },
  {
   "cell_type": "code",
   "execution_count": 113,
   "metadata": {},
   "outputs": [
    {
     "data": {
      "text/plain": [
       "<matplotlib.axes._subplots.AxesSubplot at 0x2251cbe8e80>"
      ]
     },
     "execution_count": 113,
     "metadata": {},
     "output_type": "execute_result"
    },
    {
     "data": {
      "image/png": "[encoded data removed]",
      "text/plain": [
       "<Figure size 432x288 with 1 Axes>"
      ]
     },
     "metadata": {
      "needs_background": "light"
     },
     "output_type": "display_data"
    }
   ],
   "source": [
    "sns.barplot(y = train['Keyword'].value_counts()[:10].index, x = train['Keyword'].value_counts()[:10], orient='h', palette = 'rocket')"
   ]
  },
  {
   "cell_type": "code",
   "execution_count": 114,
   "metadata": {},
   "outputs": [
    {
     "data": {
      "text/plain": [
       "1    102\n",
       "0     40\n",
       "Name: Target, dtype: int64"
      ]
     },
     "execution_count": 114,
     "metadata": {},
     "output_type": "execute_result"
    }
   ],
   "source": [
    "train.loc[train['Tweet text'].str.contains('disaster', na=False, case=False)].Target.value_counts()"
   ]
  },
  {
   "cell_type": "markdown",
   "metadata": {},
   "source": [
    "## 2. Test set"
   ]
  },
  {
   "cell_type": "markdown",
   "metadata": {},
   "source": [
    "### Data loading"
   ]
  },
  {
   "cell_type": "code",
   "execution_count": 115,
   "metadata": {},
   "outputs": [
    {
     "data": {
      "text/plain": [
       "(3263, 4)"
      ]
     },
     "execution_count": 115,
     "metadata": {},
     "output_type": "execute_result"
    }
   ],
   "source": [
    "test = pd.read_csv('../data/test.csv')\n",
    "test = test.sample(frac=1, replace=False)\n",
    "test = test[['id', 'keyword', 'location', 'text']]\n",
    "test.shape"
   ]
  },
  {
   "cell_type": "code",
   "execution_count": 116,
   "metadata": {},
   "outputs": [
    {
     "data": {
      "text/html": [
       "<div>\n",
       "<style scoped>\n",
       "    .dataframe tbody tr th:only-of-type {\n",
       "        vertical-align: middle;\n",
       "    }\n",
       "\n",
       "    .dataframe tbody tr th {\n",
       "        vertical-align: top;\n",
       "    }\n",
       "\n",
       "    .dataframe thead th {\n",
       "        text-align: right;\n",
       "    }\n",
       "</style>\n",
       "<table border=\"1\" class=\"dataframe\">\n",
       "  <thead>\n",
       "    <tr style=\"text-align: right;\">\n",
       "      <th></th>\n",
       "      <th>ID</th>\n",
       "      <th>Keyword</th>\n",
       "      <th>Location</th>\n",
       "      <th>Tweet text</th>\n",
       "    </tr>\n",
       "  </thead>\n",
       "  <tbody>\n",
       "    <tr>\n",
       "      <th>3199</th>\n",
       "      <td>10634</td>\n",
       "      <td>wounded</td>\n",
       "      <td>Mii Facebook</td>\n",
       "      <td>Police Officer Wounded Suspect Dead After Exch...</td>\n",
       "    </tr>\n",
       "    <tr>\n",
       "      <th>1583</th>\n",
       "      <td>5358</td>\n",
       "      <td>fire</td>\n",
       "      <td>NaN</td>\n",
       "      <td>Politifiact: Harry Reid's '30 Percent of Women...</td>\n",
       "    </tr>\n",
       "    <tr>\n",
       "      <th>1305</th>\n",
       "      <td>4291</td>\n",
       "      <td>drowning</td>\n",
       "      <td>Pico Rivera, CA</td>\n",
       "      <td>Drowning doesn't sound half bad rn</td>\n",
       "    </tr>\n",
       "    <tr>\n",
       "      <th>2396</th>\n",
       "      <td>8011</td>\n",
       "      <td>refugees</td>\n",
       "      <td>Kansas  KS</td>\n",
       "      <td>'imagine an entire aisle dedicated to making p...</td>\n",
       "    </tr>\n",
       "    <tr>\n",
       "      <th>1991</th>\n",
       "      <td>6713</td>\n",
       "      <td>lava</td>\n",
       "      <td>NaN</td>\n",
       "      <td>Jordan Son of Mars - Hot Lava release on 07/22...</td>\n",
       "    </tr>\n",
       "  </tbody>\n",
       "</table>\n",
       "</div>"
      ],
      "text/plain": [
       "         ID   Keyword         Location  \\\n",
       "3199  10634   wounded     Mii Facebook   \n",
       "1583   5358      fire              NaN   \n",
       "1305   4291  drowning  Pico Rivera, CA   \n",
       "2396   8011  refugees       Kansas  KS   \n",
       "1991   6713      lava              NaN   \n",
       "\n",
       "                                             Tweet text  \n",
       "3199  Police Officer Wounded Suspect Dead After Exch...  \n",
       "1583  Politifiact: Harry Reid's '30 Percent of Women...  \n",
       "1305                 Drowning doesn't sound half bad rn  \n",
       "2396  'imagine an entire aisle dedicated to making p...  \n",
       "1991  Jordan Son of Mars - Hot Lava release on 07/22...  "
      ]
     },
     "execution_count": 116,
     "metadata": {},
     "output_type": "execute_result"
    }
   ],
   "source": [
    "test.columns = ['ID', 'Keyword', 'Location', 'Tweet text']\n",
    "test.head()"
   ]
  },
  {
   "cell_type": "markdown",
   "metadata": {},
   "source": [
    "### Distribution of the Keyword column"
   ]
  },
  {
   "cell_type": "code",
   "execution_count": 117,
   "metadata": {},
   "outputs": [
    {
     "data": {
      "text/plain": [
       "<matplotlib.axes._subplots.AxesSubplot at 0x2251cb72ac8>"
      ]
     },
     "execution_count": 117,
     "metadata": {},
     "output_type": "execute_result"
    },
    {
     "data": {
      "image/png": "[encoded data removed]",
      "text/plain": [
       "<Figure size 432x288 with 1 Axes>"
      ]
     },
     "metadata": {
      "needs_background": "light"
     },
     "output_type": "display_data"
    }
   ],
   "source": [
    "sns.barplot(y = test['Keyword'].value_counts()[:10].index, x = test['Keyword'].value_counts()[:10], orient='h', palette = 'rocket')"
   ]
  },
  {
   "cell_type": "markdown",
   "metadata": {},
   "source": [
    "# III. Data preprocessing and tokenisation"
   ]
  },
  {
   "cell_type": "code",
   "execution_count": 118,
   "metadata": {},
   "outputs": [
    {
     "data": {
      "text/plain": [
       "4012    love when drake floods instagram makes you fee...\n",
       "2803    what the hell is wrong with peoplecommunicatio...\n",
       "877     olrules welcome  read a free chapter of my new...\n",
       "3762       daughterofnai tenshi activated yukis fire card\n",
       "3531    monkeys abused by notorious laboratory dealer ...\n",
       "Name: Tweet text, dtype: object"
      ]
     },
     "execution_count": 118,
     "metadata": {},
     "output_type": "execute_result"
    }
   ],
   "source": [
    "# Applying a first round of text cleaning techniques\n",
    "#Make text lowercase and remove text in square brackets, links, punctuation, words containing numbers.\n",
    "\n",
    "def clean_text(text):\n",
    "    text = text.lower()\n",
    "    text = re.sub('\\[.*?\\]', '', text)\n",
    "    text = re.sub('https?://\\S+|www\\.\\S+', '', text)\n",
    "    text = re.sub('<.*?>+', '', text)\n",
    "    text = re.sub('[%s]' % re.escape(string.punctuation), '', text)\n",
    "    text = re.sub('\\n', '', text)\n",
    "    text = re.sub('\\w*\\d\\w*', '', text)\n",
    "    return text\n",
    "\n",
    "# Applying the cleaning function to the dataset\n",
    "train['Tweet text'] = train['Tweet text'].apply(lambda x: clean_text(x))\n",
    "\n",
    "# Updated text\n",
    "train['Tweet text'].head()"
   ]
  },
  {
   "cell_type": "code",
   "execution_count": 119,
   "metadata": {},
   "outputs": [
    {
     "data": {
      "text/plain": [
       "3199    police officer wounded suspect dead after exch...\n",
       "1583    politifiact harry reids  percent of women serv...\n",
       "1305                    drowning doesnt sound half bad rn\n",
       "2396    imagine an entire aisle dedicated to making pe...\n",
       "1991    jordan son of mars  hot lava release on  for  ...\n",
       "Name: Tweet text, dtype: object"
      ]
     },
     "execution_count": 119,
     "metadata": {},
     "output_type": "execute_result"
    }
   ],
   "source": [
    "# Applying the cleaning function to the dataset\n",
    "test['Tweet text'] = test['Tweet text'].apply(lambda x: clean_text(x))\n",
    "\n",
    "# Updated text\n",
    "test['Tweet text'].head()"
   ]
  },
  {
   "cell_type": "code",
   "execution_count": 120,
   "metadata": {
    "scrolled": false
   },
   "outputs": [
    {
     "data": {
      "text/plain": [
       "4012    [love, when, drake, floods, instagram, makes, ...\n",
       "2803    [what, the, hell, is, wrong, with, peoplecommu...\n",
       "877     [olrules, welcome, read, a, free, chapter, of,...\n",
       "3762    [daughterofnai, tenshi, activated, yukis, fire...\n",
       "3531    [monkeys, abused, by, notorious, laboratory, d...\n",
       "Name: Tweet text, dtype: object"
      ]
     },
     "execution_count": 120,
     "metadata": {},
     "output_type": "execute_result"
    }
   ],
   "source": [
    "# Tokenising the training and test set\n",
    "tokenizer = nltk.tokenize.RegexpTokenizer(r'\\w+')\n",
    "\n",
    "train['Tweet text'] = train['Tweet text'].apply(lambda x: tokenizer.tokenize(x))\n",
    "train['Tweet text'].head()"
   ]
  },
  {
   "cell_type": "code",
   "execution_count": 121,
   "metadata": {},
   "outputs": [
    {
     "data": {
      "text/plain": [
       "3199    [police, officer, wounded, suspect, dead, afte...\n",
       "1583    [politifiact, harry, reids, percent, of, women...\n",
       "1305             [drowning, doesnt, sound, half, bad, rn]\n",
       "2396    [imagine, an, entire, aisle, dedicated, to, ma...\n",
       "1991    [jordan, son, of, mars, hot, lava, release, on...\n",
       "Name: Tweet text, dtype: object"
      ]
     },
     "execution_count": 121,
     "metadata": {},
     "output_type": "execute_result"
    }
   ],
   "source": [
    "test['Tweet text'] = test['Tweet text'].apply(lambda x: tokenizer.tokenize(x))\n",
    "test['Tweet text'].head()"
   ]
  },
  {
   "cell_type": "code",
   "execution_count": 122,
   "metadata": {},
   "outputs": [
    {
     "data": {
      "text/plain": [
       "4012    [love, drake, floods, instagram, makes, feel, ...\n",
       "2803    [hell, wrong, peoplecommunication, rule, iron,...\n",
       "877     [olrules, welcome, read, free, chapter, new, b...\n",
       "3762    [daughterofnai, tenshi, activated, yukis, fire...\n",
       "3531    [monkeys, abused, notorious, laboratory, deale...\n",
       "Name: Tweet text, dtype: object"
      ]
     },
     "execution_count": 122,
     "metadata": {},
     "output_type": "execute_result"
    }
   ],
   "source": [
    "def remove_stopwords(text):\n",
    "    words = [w for w in text if w not in stopwords.words('english')]\n",
    "    return words\n",
    "\n",
    "train['Tweet text'] = train['Tweet text'].apply(lambda x : remove_stopwords(x))\n",
    "train['Tweet text'].head()"
   ]
  },
  {
   "cell_type": "code",
   "execution_count": 123,
   "metadata": {},
   "outputs": [
    {
     "data": {
      "text/plain": [
       "3199    [police, officer, wounded, suspect, dead, exch...\n",
       "1583    [politifiact, harry, reids, percent, women, se...\n",
       "1305             [drowning, doesnt, sound, half, bad, rn]\n",
       "2396    [imagine, entire, aisle, dedicated, making, pe...\n",
       "1991    [jordan, son, mars, hot, lava, release, via, k...\n",
       "Name: Tweet text, dtype: object"
      ]
     },
     "execution_count": 123,
     "metadata": {},
     "output_type": "execute_result"
    }
   ],
   "source": [
    "test['Tweet text'] = test['Tweet text'].apply(lambda x : remove_stopwords(x))\n",
    "test['Tweet text'].head()"
   ]
  },
  {
   "cell_type": "markdown",
   "metadata": {},
   "source": [
    "A corpus of documents can thus be represented by a matrix with one row per document and one column per token (e.g. word) occurring in the corpus.\n",
    "\n",
    "We call vectorization the general process of turning a collection of text documents into numerical feature vectors. This specific strategy (tokenization, counting and normalization) is called the Bag of Words or \"Bag of n-grams\" representation. Documents are described by word occurrences while completely ignoring the relative position information of the words in the document."
   ]
  },
  {
   "cell_type": "markdown",
   "metadata": {},
   "source": [
    "# IV. Classification models"
   ]
  },
  {
   "cell_type": "markdown",
   "metadata": {},
   "source": [
    "\n",
    "## 1. KNN classifier\n",
    "The k-nearest neighbors algorithm (k-NN) is a non-parametric method used for classification (and also regression). In k-NN classification, The input consists of the k closest training examples in the feature space. The output is a class membership. An object is classified by a plurality vote of its neighbors, with the object being assigned to the class most common among its k nearest neighbors."
   ]
  },
  {
   "cell_type": "code",
   "execution_count": 124,
   "metadata": {},
   "outputs": [
    {
     "name": "stdout",
     "output_type": "stream",
     "text": [
      "X shape:  (7613,)\n",
      "y shape:  (3263, 4)\n"
     ]
    },
    {
     "data": {
      "text/plain": [
       "4012    [love, drake, floods, instagram, makes, feel, ...\n",
       "2803    [hell, wrong, peoplecommunication, rule, iron,...\n",
       "877     [olrules, welcome, read, free, chapter, new, b...\n",
       "3762    [daughterofnai, tenshi, activated, yukis, fire...\n",
       "3531    [monkeys, abused, notorious, laboratory, deale...\n",
       "Name: Tweet text, dtype: object"
      ]
     },
     "execution_count": 124,
     "metadata": {},
     "output_type": "execute_result"
    }
   ],
   "source": [
    "from sklearn.model_selection import train_test_split\n",
    "\n",
    "X = train['Tweet text']\n",
    "ylabels = train['Target']\n",
    "\n",
    "\n",
    "print('X shape: ', X.shape)\n",
    "print('y shape: ', y.shape)\n",
    "X.head()"
   ]
  },
  {
   "cell_type": "code",
   "execution_count": 125,
   "metadata": {},
   "outputs": [
    {
     "data": {
      "text/plain": [
       "(7613, 16222)"
      ]
     },
     "execution_count": 125,
     "metadata": {},
     "output_type": "execute_result"
    }
   ],
   "source": [
    "from sklearn.feature_extraction.text import CountVectorizer\n",
    "\n",
    "# Vectorize the training set\n",
    "word_vectorizer = CountVectorizer()\n",
    "X_train = word_vectorizer.fit_transform(train['Tweet text'].map(lambda words: ', '.join(words)))\n",
    "\n",
    "# Vectorize the testing test\n",
    "X_test = word_vectorizer.transform(test['Tweet text'].map(lambda words: ', '.join(words)))\n",
    "\n",
    "# Our output variable \"target\" which indicates whether a tweet is diaster tweet\n",
    "y_train = train['Target']\n",
    "\n",
    "X_train.shape"
   ]
  },
  {
   "cell_type": "code",
   "execution_count": 126,
   "metadata": {},
   "outputs": [
    {
     "name": "stdout",
     "output_type": "stream",
     "text": [
      "0.8003411140433389\n"
     ]
    },
    {
     "name": "stderr",
     "output_type": "stream",
     "text": [
      "C:\\ProgramData\\Anaconda3\\lib\\site-packages\\sklearn\\model_selection\\_split.py:1978: FutureWarning: The default value of cv will change from 3 to 5 in version 0.22. Specify it explicitly to silence this warning.\n",
      "  warnings.warn(CV_WARNING, FutureWarning)\n"
     ]
    }
   ],
   "source": [
    "from sklearn.naive_bayes import BernoulliNB\n",
    "from sklearn.model_selection import cross_val_score\n",
    "\n",
    "clf = BernoulliNB()\n",
    "scores = cross_val_score(clf, X_train, y_train)\n",
    "print(scores.mean())"
   ]
  },
  {
   "cell_type": "code",
   "execution_count": 127,
   "metadata": {},
   "outputs": [
    {
     "name": "stderr",
     "output_type": "stream",
     "text": [
      "C:\\ProgramData\\Anaconda3\\lib\\site-packages\\sklearn\\model_selection\\_split.py:1978: FutureWarning: The default value of cv will change from 3 to 5 in version 0.22. Specify it explicitly to silence this warning.\n",
      "  warnings.warn(CV_WARNING, FutureWarning)\n"
     ]
    },
    {
     "name": "stdout",
     "output_type": "stream",
     "text": [
      "0.6802829221133629\n"
     ]
    }
   ],
   "source": [
    "from sklearn.neighbors import KNeighborsClassifier\n",
    "knn = KNeighborsClassifier(n_neighbors=5, weights='uniform')\n",
    "\n",
    "scores = cross_val_score(knn, X_train, y_train)\n",
    "print(scores.mean())"
   ]
  },
  {
   "cell_type": "code",
   "execution_count": null,
   "metadata": {},
   "outputs": [],
   "source": []
  }
 ],
 "metadata": {
  "kernelspec": {
   "display_name": "Python 3",
   "language": "python",
   "name": "python3"
  },
  "language_info": {
   "codemirror_mode": {
    "name": "ipython",
    "version": 3
   },
   "file_extension": ".py",
   "mimetype": "text/x-python",
   "name": "python",
   "nbconvert_exporter": "python",
   "pygments_lexer": "ipython3",
   "version": "3.7.3"
  }
 },
 "nbformat": 4,
 "nbformat_minor": 2
}

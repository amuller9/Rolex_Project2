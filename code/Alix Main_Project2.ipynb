{
 "cells": [
  {
   "cell_type": "markdown",
   "metadata": {},
   "source": [
    "##### Project 2 - Big-Scale Analysis \n",
    "##### Team ROLEX - Samuel Lew, Alexandre Lang, Samy Bouzerda, Alix Muller\n",
    "-------\n",
    "# Kaggle: Real or Not? NLP with Disaster Tweets\n",
    "-------"
   ]
  },
  {
   "cell_type": "markdown",
   "metadata": {},
   "source": [
    "# 0. Dataset\n",
    "This competition's Dataset shows a set of tweets divided into a training and a test set. The training set has a column named 'target' that permits to identify if the tweet contains an infomation about a disaster or not.\n",
    "\n",
    "For example, here are one tweet about a disaster and another not:"
   ]
  },
  {
   "cell_type": "code",
   "execution_count": 8,
   "metadata": {},
   "outputs": [
    {
     "data": {
      "text/plain": [
       "'Governor allows parole for California school bus hijacker: Local... http://t.co/tAM6aoskoJ http://t.co/eL24mnFcHw'"
      ]
     },
     "execution_count": 8,
     "metadata": {},
     "output_type": "execute_result"
    }
   ],
   "source": [
    "# A disaster tweet\n",
    "disaster_tweet = train[train['Target'] == 1]['Tweet text']\n",
    "disaster_tweet.values[1]"
   ]
  },
  {
   "cell_type": "code",
   "execution_count": 9,
   "metadata": {
    "scrolled": true
   },
   "outputs": [
    {
     "data": {
      "text/plain": [
       "\"Am now repped by the fantastic Laura Milne @TheJonesesVoice for all your liguistic needs. And that's some tongue twister tweets\""
      ]
     },
     "execution_count": 9,
     "metadata": {},
     "output_type": "execute_result"
    }
   ],
   "source": [
    "# A tweet not concerning a disaster\n",
    "non_disaster_tweet = train[train['Target'] == 0]['Tweet text']\n",
    "non_disaster_tweet.values[1]"
   ]
  },
  {
   "cell_type": "markdown",
   "metadata": {},
   "source": [
    "In this competition, people have to create a machine learning model to predict whether the tweets test set mention a disaster or not. This challenge is a binary classification problem."
   ]
  },
  {
   "cell_type": "markdown",
   "metadata": {},
   "source": [
    "# I. Importing libraries"
   ]
  },
  {
   "cell_type": "code",
   "execution_count": 39,
   "metadata": {},
   "outputs": [
    {
     "name": "stderr",
     "output_type": "stream",
     "text": [
      "[nltk_data] Downloading package stopwords to\n",
      "[nltk_data]     C:\\Users\\alixm\\AppData\\Roaming\\nltk_data...\n",
      "[nltk_data]   Package stopwords is already up-to-date!\n"
     ]
    }
   ],
   "source": [
    "import pandas as pd\n",
    "\n",
    "# matplotlib and seaborn for plotting\n",
    "import matplotlib.pyplot as plt\n",
    "import seaborn as sns\n",
    "\n",
    "# text processing libraries\n",
    "import re\n",
    "import string\n",
    "import nltk\n",
    "from nltk.corpus import stopwords\n",
    "\n",
    "import nltk\n",
    "nltk.download('stopwords')\n",
    "\n",
    "# sklearn for classification models\n",
    "from sklearn.naive_bayes import BernoulliNB\n",
    "from sklearn.model_selection import cross_val_score\n",
    "from sklearn.metrics import accuracy_score\n",
    "from sklearn.neighbors import KNeighborsClassifier\n",
    "from sklearn import metrics\n"
   ]
  },
  {
   "cell_type": "markdown",
   "metadata": {},
   "source": [
    "# II. EDA"
   ]
  },
  {
   "cell_type": "markdown",
   "metadata": {},
   "source": [
    "## 1. Training set"
   ]
  },
  {
   "cell_type": "markdown",
   "metadata": {},
   "source": [
    "### Data loading"
   ]
  },
  {
   "cell_type": "code",
   "execution_count": 2,
   "metadata": {},
   "outputs": [
    {
     "data": {
      "text/plain": [
       "(7613, 5)"
      ]
     },
     "execution_count": 2,
     "metadata": {},
     "output_type": "execute_result"
    }
   ],
   "source": [
    "train = pd.read_csv('../data/train.csv')\n",
    "train = train.sample(frac=1, replace=False)\n",
    "train = train[['id', 'keyword', 'location', 'text', 'target']]\n",
    "train.shape"
   ]
  },
  {
   "cell_type": "code",
   "execution_count": 3,
   "metadata": {},
   "outputs": [
    {
     "data": {
      "text/html": [
       "<div>\n",
       "<style scoped>\n",
       "    .dataframe tbody tr th:only-of-type {\n",
       "        vertical-align: middle;\n",
       "    }\n",
       "\n",
       "    .dataframe tbody tr th {\n",
       "        vertical-align: top;\n",
       "    }\n",
       "\n",
       "    .dataframe thead th {\n",
       "        text-align: right;\n",
       "    }\n",
       "</style>\n",
       "<table border=\"1\" class=\"dataframe\">\n",
       "  <thead>\n",
       "    <tr style=\"text-align: right;\">\n",
       "      <th></th>\n",
       "      <th>ID</th>\n",
       "      <th>Keyword</th>\n",
       "      <th>Location</th>\n",
       "      <th>Tweet text</th>\n",
       "      <th>Target</th>\n",
       "    </tr>\n",
       "  </thead>\n",
       "  <tbody>\n",
       "    <tr>\n",
       "      <th>6421</th>\n",
       "      <td>9181</td>\n",
       "      <td>suicide%20bomber</td>\n",
       "      <td>NaN</td>\n",
       "      <td>@bbclaurak Why is no one talking about the ris...</td>\n",
       "      <td>1</td>\n",
       "    </tr>\n",
       "    <tr>\n",
       "      <th>4374</th>\n",
       "      <td>6215</td>\n",
       "      <td>hijacker</td>\n",
       "      <td>NaN</td>\n",
       "      <td>Governor allows parole for California school b...</td>\n",
       "      <td>1</td>\n",
       "    </tr>\n",
       "    <tr>\n",
       "      <th>659</th>\n",
       "      <td>953</td>\n",
       "      <td>blaze</td>\n",
       "      <td>302</td>\n",
       "      <td>Yo I got bars and I'm not even a rapper</td>\n",
       "      <td>0</td>\n",
       "    </tr>\n",
       "    <tr>\n",
       "      <th>7015</th>\n",
       "      <td>10056</td>\n",
       "      <td>twister</td>\n",
       "      <td>london</td>\n",
       "      <td>Am now repped by the fantastic Laura Milne @Th...</td>\n",
       "      <td>0</td>\n",
       "    </tr>\n",
       "    <tr>\n",
       "      <th>6351</th>\n",
       "      <td>9081</td>\n",
       "      <td>structural%20failure</td>\n",
       "      <td>ÌÏT: 27.9136024,-81.6078532</td>\n",
       "      <td>'@CatoInstitute: The causes of federal failure...</td>\n",
       "      <td>0</td>\n",
       "    </tr>\n",
       "  </tbody>\n",
       "</table>\n",
       "</div>"
      ],
      "text/plain": [
       "         ID               Keyword                     Location  \\\n",
       "6421   9181      suicide%20bomber                          NaN   \n",
       "4374   6215              hijacker                          NaN   \n",
       "659     953                 blaze                          302   \n",
       "7015  10056               twister                       london   \n",
       "6351   9081  structural%20failure  ÌÏT: 27.9136024,-81.6078532   \n",
       "\n",
       "                                             Tweet text  Target  \n",
       "6421  @bbclaurak Why is no one talking about the ris...       1  \n",
       "4374  Governor allows parole for California school b...       1  \n",
       "659             Yo I got bars and I'm not even a rapper       0  \n",
       "7015  Am now repped by the fantastic Laura Milne @Th...       0  \n",
       "6351  '@CatoInstitute: The causes of federal failure...       0  "
      ]
     },
     "execution_count": 3,
     "metadata": {},
     "output_type": "execute_result"
    }
   ],
   "source": [
    "train.columns = ['ID', 'Keyword', 'Location', 'Tweet text', 'Target']\n",
    "train.head()"
   ]
  },
  {
   "cell_type": "markdown",
   "metadata": {},
   "source": [
    "### Distribution of the target column"
   ]
  },
  {
   "cell_type": "code",
   "execution_count": 4,
   "metadata": {},
   "outputs": [
    {
     "name": "stdout",
     "output_type": "stream",
     "text": [
      "There are 3271 tweets about disasters (Target = 0).\n",
      "There are 4342 tweets that are not about disasters (Target = 1).\n"
     ]
    }
   ],
   "source": [
    "#when the target = 1 it means the the tweet is about a disaster\n",
    "train_yes = train.query('Target == 1')\n",
    "yes_count = 0\n",
    "for row in train_yes.iterrows():\n",
    "    yes_count += 1\n",
    "print(f'There are {yes_count} tweets about disasters (Target = 0).')\n",
    "\n",
    "#when the target = 0 it means the the tweet is not about a disaster\n",
    "train_no = train.query('Target == 0')\n",
    "no_count = 0\n",
    "for row in train_no.iterrows():\n",
    "    no_count += 1\n",
    "print(f'There are {no_count} tweets that are not about disasters (Target = 1).')"
   ]
  },
  {
   "cell_type": "code",
   "execution_count": 5,
   "metadata": {},
   "outputs": [
    {
     "data": {
      "text/plain": [
       "<matplotlib.axes._subplots.AxesSubplot at 0x186250b9978>"
      ]
     },
     "execution_count": 5,
     "metadata": {},
     "output_type": "execute_result"
    },
    {
     "data": {
      "image/png": "[encoded data removed]",
      "text/plain": [
       "<Figure size 432x288 with 1 Axes>"
      ]
     },
     "metadata": {
      "needs_background": "light"
     },
     "output_type": "display_data"
    }
   ],
   "source": [
    "sns.barplot(train['Target'].value_counts().index, train['Target'].value_counts(), palette = 'rocket')"
   ]
  },
  {
   "cell_type": "markdown",
   "metadata": {},
   "source": [
    "### Distribution of the Keyword column"
   ]
  },
  {
   "cell_type": "code",
   "execution_count": 10,
   "metadata": {},
   "outputs": [
    {
     "data": {
      "text/plain": [
       "<matplotlib.axes._subplots.AxesSubplot at 0x1862551a128>"
      ]
     },
     "execution_count": 10,
     "metadata": {},
     "output_type": "execute_result"
    },
    {
     "data": {
      "image/png": "[encoded data removed]",
      "text/plain": [
       "<Figure size 432x288 with 1 Axes>"
      ]
     },
     "metadata": {
      "needs_background": "light"
     },
     "output_type": "display_data"
    }
   ],
   "source": [
    "sns.barplot(y = train['Keyword'].value_counts()[:10].index, x = train['Keyword'].value_counts()[:10], orient='h', palette = 'rocket')"
   ]
  },
  {
   "cell_type": "code",
   "execution_count": 11,
   "metadata": {},
   "outputs": [
    {
     "data": {
      "text/plain": [
       "1    102\n",
       "0     40\n",
       "Name: Target, dtype: int64"
      ]
     },
     "execution_count": 11,
     "metadata": {},
     "output_type": "execute_result"
    }
   ],
   "source": [
    "train.loc[train['Tweet text'].str.contains('disaster', na=False, case=False)].Target.value_counts()"
   ]
  },
  {
   "cell_type": "markdown",
   "metadata": {},
   "source": [
    "## 2. Test set"
   ]
  },
  {
   "cell_type": "markdown",
   "metadata": {},
   "source": [
    "### Data loading"
   ]
  },
  {
   "cell_type": "code",
   "execution_count": 12,
   "metadata": {},
   "outputs": [
    {
     "data": {
      "text/plain": [
       "(3263, 4)"
      ]
     },
     "execution_count": 12,
     "metadata": {},
     "output_type": "execute_result"
    }
   ],
   "source": [
    "test = pd.read_csv('../data/test.csv')\n",
    "test = test.sample(frac=1, replace=False)\n",
    "test = test[['id', 'keyword', 'location', 'text']]\n",
    "test.shape"
   ]
  },
  {
   "cell_type": "code",
   "execution_count": 13,
   "metadata": {},
   "outputs": [
    {
     "data": {
      "text/html": [
       "<div>\n",
       "<style scoped>\n",
       "    .dataframe tbody tr th:only-of-type {\n",
       "        vertical-align: middle;\n",
       "    }\n",
       "\n",
       "    .dataframe tbody tr th {\n",
       "        vertical-align: top;\n",
       "    }\n",
       "\n",
       "    .dataframe thead th {\n",
       "        text-align: right;\n",
       "    }\n",
       "</style>\n",
       "<table border=\"1\" class=\"dataframe\">\n",
       "  <thead>\n",
       "    <tr style=\"text-align: right;\">\n",
       "      <th></th>\n",
       "      <th>ID</th>\n",
       "      <th>Keyword</th>\n",
       "      <th>Location</th>\n",
       "      <th>Tweet text</th>\n",
       "    </tr>\n",
       "  </thead>\n",
       "  <tbody>\n",
       "    <tr>\n",
       "      <th>1741</th>\n",
       "      <td>5871</td>\n",
       "      <td>hailstorm</td>\n",
       "      <td>Philippines</td>\n",
       "      <td>Hundreds of commuters abandoned at LRT station...</td>\n",
       "    </tr>\n",
       "    <tr>\n",
       "      <th>1980</th>\n",
       "      <td>6677</td>\n",
       "      <td>landslide</td>\n",
       "      <td>NaN</td>\n",
       "      <td>I liked a @YouTube video from @seeiey http://t...</td>\n",
       "    </tr>\n",
       "    <tr>\n",
       "      <th>1103</th>\n",
       "      <td>3630</td>\n",
       "      <td>desolation</td>\n",
       "      <td>NaN</td>\n",
       "      <td>'I See Fire' Ed Sheeran The Hobbit: The Desola...</td>\n",
       "    </tr>\n",
       "    <tr>\n",
       "      <th>318</th>\n",
       "      <td>1033</td>\n",
       "      <td>bleeding</td>\n",
       "      <td>??????????? :P</td>\n",
       "      <td>#Nepal: This house near TIA bleeding intÛªl a...</td>\n",
       "    </tr>\n",
       "    <tr>\n",
       "      <th>2518</th>\n",
       "      <td>8398</td>\n",
       "      <td>sandstorm</td>\n",
       "      <td>NaN</td>\n",
       "      <td>Watch This Airport Get Swallowed Up By A Sands...</td>\n",
       "    </tr>\n",
       "  </tbody>\n",
       "</table>\n",
       "</div>"
      ],
      "text/plain": [
       "        ID     Keyword        Location  \\\n",
       "1741  5871   hailstorm     Philippines   \n",
       "1980  6677   landslide             NaN   \n",
       "1103  3630  desolation             NaN   \n",
       "318   1033    bleeding  ??????????? :P   \n",
       "2518  8398   sandstorm             NaN   \n",
       "\n",
       "                                             Tweet text  \n",
       "1741  Hundreds of commuters abandoned at LRT station...  \n",
       "1980  I liked a @YouTube video from @seeiey http://t...  \n",
       "1103  'I See Fire' Ed Sheeran The Hobbit: The Desola...  \n",
       "318   #Nepal: This house near TIA bleeding intÛªl a...  \n",
       "2518  Watch This Airport Get Swallowed Up By A Sands...  "
      ]
     },
     "execution_count": 13,
     "metadata": {},
     "output_type": "execute_result"
    }
   ],
   "source": [
    "test.columns = ['ID', 'Keyword', 'Location', 'Tweet text']\n",
    "test.head()"
   ]
  },
  {
   "cell_type": "markdown",
   "metadata": {},
   "source": [
    "### Distribution of the Keyword column"
   ]
  },
  {
   "cell_type": "code",
   "execution_count": 14,
   "metadata": {},
   "outputs": [
    {
     "data": {
      "text/plain": [
       "<matplotlib.axes._subplots.AxesSubplot at 0x18625771978>"
      ]
     },
     "execution_count": 14,
     "metadata": {},
     "output_type": "execute_result"
    },
    {
     "data": {
      "image/png": "[encoded data removed]",
      "text/plain": [
       "<Figure size 432x288 with 1 Axes>"
      ]
     },
     "metadata": {
      "needs_background": "light"
     },
     "output_type": "display_data"
    }
   ],
   "source": [
    "sns.barplot(y = test['Keyword'].value_counts()[:10].index, x = test['Keyword'].value_counts()[:10], orient='h', palette = 'rocket')"
   ]
  },
  {
   "cell_type": "markdown",
   "metadata": {},
   "source": [
    "# III. Data preprocessing and tokenisation"
   ]
  },
  {
   "cell_type": "code",
   "execution_count": 15,
   "metadata": {},
   "outputs": [
    {
     "data": {
      "text/plain": [
       "6421    bbclaurak why is no one talking about the risk...\n",
       "4374    governor allows parole for california school b...\n",
       "659                yo i got bars and im not even a rapper\n",
       "7015    am now repped by the fantastic laura milne the...\n",
       "6351    catoinstitute the causes of federal failure ar...\n",
       "Name: Tweet text, dtype: object"
      ]
     },
     "execution_count": 15,
     "metadata": {},
     "output_type": "execute_result"
    }
   ],
   "source": [
    "# Applying a first round of text cleaning techniques\n",
    "#Make text lowercase and remove text in square brackets, links, punctuation, words containing numbers.\n",
    "\n",
    "def clean_text(text):\n",
    "    text = text.lower()\n",
    "    text = re.sub('\\[.*?\\]', '', text)\n",
    "    text = re.sub('https?://\\S+|www\\.\\S+', '', text)\n",
    "    text = re.sub('<.*?>+', '', text)\n",
    "    text = re.sub('[%s]' % re.escape(string.punctuation), '', text)\n",
    "    text = re.sub('\\n', '', text)\n",
    "    text = re.sub('\\w*\\d\\w*', '', text)\n",
    "    return text\n",
    "\n",
    "# Applying the cleaning function to the dataset\n",
    "train['Tweet text'] = train['Tweet text'].apply(lambda x: clean_text(x))\n",
    "\n",
    "# Updated text\n",
    "train['Tweet text'].head()"
   ]
  },
  {
   "cell_type": "code",
   "execution_count": 16,
   "metadata": {},
   "outputs": [
    {
     "data": {
      "text/plain": [
       "1741    hundreds of commuters abandoned at lrt station...\n",
       "1980    i liked a youtube video from seeiey  seeley  l...\n",
       "1103    i see fire ed sheeran the hobbit the desolatio...\n",
       "318     nepal this house near tia bleeding intûªl air...\n",
       "2518    watch this airport get swallowed up by a sands...\n",
       "Name: Tweet text, dtype: object"
      ]
     },
     "execution_count": 16,
     "metadata": {},
     "output_type": "execute_result"
    }
   ],
   "source": [
    "# Applying the cleaning function to the dataset\n",
    "test['Tweet text'] = test['Tweet text'].apply(lambda x: clean_text(x))\n",
    "\n",
    "# Updated text\n",
    "test['Tweet text'].head()"
   ]
  },
  {
   "cell_type": "code",
   "execution_count": 17,
   "metadata": {
    "scrolled": false
   },
   "outputs": [
    {
     "data": {
      "text/plain": [
       "6421    [bbclaurak, why, is, no, one, talking, about, ...\n",
       "4374    [governor, allows, parole, for, california, sc...\n",
       "659     [yo, i, got, bars, and, im, not, even, a, rapper]\n",
       "7015    [am, now, repped, by, the, fantastic, laura, m...\n",
       "6351    [catoinstitute, the, causes, of, federal, fail...\n",
       "Name: Tweet text, dtype: object"
      ]
     },
     "execution_count": 17,
     "metadata": {},
     "output_type": "execute_result"
    }
   ],
   "source": [
    "# Tokenising the training and test set\n",
    "tokenizer = nltk.tokenize.RegexpTokenizer(r'\\w+')\n",
    "\n",
    "train['Tweet text'] = train['Tweet text'].apply(lambda x: tokenizer.tokenize(x))\n",
    "train['Tweet text'].head()"
   ]
  },
  {
   "cell_type": "code",
   "execution_count": 18,
   "metadata": {},
   "outputs": [
    {
     "data": {
      "text/plain": [
       "1741    [hundreds, of, commuters, abandoned, at, lrt, ...\n",
       "1980    [i, liked, a, youtube, video, from, seeiey, se...\n",
       "1103    [i, see, fire, ed, sheeran, the, hobbit, the, ...\n",
       "318     [nepal, this, house, near, tia, bleeding, int,...\n",
       "2518    [watch, this, airport, get, swallowed, up, by,...\n",
       "Name: Tweet text, dtype: object"
      ]
     },
     "execution_count": 18,
     "metadata": {},
     "output_type": "execute_result"
    }
   ],
   "source": [
    "test['Tweet text'] = test['Tweet text'].apply(lambda x: tokenizer.tokenize(x))\n",
    "test['Tweet text'].head()"
   ]
  },
  {
   "cell_type": "code",
   "execution_count": 19,
   "metadata": {},
   "outputs": [
    {
     "data": {
      "text/plain": [
       "6421    [bbclaurak, one, talking, risk, suicide, bombe...\n",
       "4374    [governor, allows, parole, california, school,...\n",
       "659                     [yo, got, bars, im, even, rapper]\n",
       "7015    [repped, fantastic, laura, milne, thejonesesvo...\n",
       "6351    [catoinstitute, causes, federal, failure, deep...\n",
       "Name: Tweet text, dtype: object"
      ]
     },
     "execution_count": 19,
     "metadata": {},
     "output_type": "execute_result"
    }
   ],
   "source": [
    "def remove_stopwords(text):\n",
    "    words = [w for w in text if w not in stopwords.words('english')]\n",
    "    return words\n",
    "\n",
    "train['Tweet text'] = train['Tweet text'].apply(lambda x : remove_stopwords(x))\n",
    "train['Tweet text'].head()"
   ]
  },
  {
   "cell_type": "code",
   "execution_count": 20,
   "metadata": {},
   "outputs": [
    {
     "data": {
      "text/plain": [
       "1741    [hundreds, commuters, abandoned, lrt, station,...\n",
       "1980    [liked, youtube, video, seeiey, seeley, landsl...\n",
       "1103    [see, fire, ed, sheeran, hobbit, desolation, s...\n",
       "318     [nepal, house, near, tia, bleeding, int, ûªl, ...\n",
       "2518    [watch, airport, get, swallowed, sandstorm, mi...\n",
       "Name: Tweet text, dtype: object"
      ]
     },
     "execution_count": 20,
     "metadata": {},
     "output_type": "execute_result"
    }
   ],
   "source": [
    "test['Tweet text'] = test['Tweet text'].apply(lambda x : remove_stopwords(x))\n",
    "test['Tweet text'].head()"
   ]
  },
  {
   "cell_type": "markdown",
   "metadata": {},
   "source": [
    "# IV. Classification models"
   ]
  },
  {
   "cell_type": "markdown",
   "metadata": {},
   "source": [
    "\n",
    "## 1. KNN classifier\n",
    "The k-nearest neighbors algorithm (k-NN) is a non-parametric method used for classification (and also regression). In k-NN classification, The input consists of the k closest training examples in the feature space. The output is a class membership. An object is classified by a plurality vote of its neighbors, with the object being assigned to the class most common among its k nearest neighbors."
   ]
  },
  {
   "cell_type": "code",
   "execution_count": 35,
   "metadata": {},
   "outputs": [
    {
     "name": "stdout",
     "output_type": "stream",
     "text": [
      "X shape:  (7613,)\n",
      "y shape:  (7613,)\n"
     ]
    },
    {
     "data": {
      "text/plain": [
       "6421    [bbclaurak, one, talking, risk, suicide, bombe...\n",
       "4374    [governor, allows, parole, california, school,...\n",
       "659                     [yo, got, bars, im, even, rapper]\n",
       "7015    [repped, fantastic, laura, milne, thejonesesvo...\n",
       "6351    [catoinstitute, causes, federal, failure, deep...\n",
       "Name: Tweet text, dtype: object"
      ]
     },
     "execution_count": 35,
     "metadata": {},
     "output_type": "execute_result"
    }
   ],
   "source": [
    "from sklearn.model_selection import train_test_split\n",
    "\n",
    "X = train['Tweet text']\n",
    "ylabels = train['Target']\n",
    "\n",
    "\n",
    "print('X shape: ', X.shape)\n",
    "print('y shape: ', ylabels.shape)\n",
    "\n",
    "X.head()"
   ]
  },
  {
   "cell_type": "code",
   "execution_count": 52,
   "metadata": {},
   "outputs": [
    {
     "data": {
      "text/plain": [
       "(7613, 16222)"
      ]
     },
     "execution_count": 52,
     "metadata": {},
     "output_type": "execute_result"
    }
   ],
   "source": [
    "from sklearn.feature_extraction.text import CountVectorizer\n",
    "\n",
    "# Vectorize the training set\n",
    "word_vectorizer = CountVectorizer()\n",
    "X_train = word_vectorizer.fit_transform(train['Tweet text'].map(lambda words: ', '.join(words)))\n",
    "\n",
    "# Vectorize the testing test\n",
    "X_test = word_vectorizer.transform(test['Tweet text'].map(lambda words: ', '.join(words)))\n",
    "\n",
    "# Our output variable \"target\" which indicates whether a tweet is diaster tweet\n",
    "y_train = train['Target']\n",
    "\n",
    "X_train.shape"
   ]
  },
  {
   "cell_type": "code",
   "execution_count": 56,
   "metadata": {
    "scrolled": false
   },
   "outputs": [
    {
     "name": "stdout",
     "output_type": "stream",
     "text": [
      "0.7962688898538212\n"
     ]
    },
    {
     "name": "stderr",
     "output_type": "stream",
     "text": [
      "C:\\ProgramData\\Anaconda3\\lib\\site-packages\\sklearn\\model_selection\\_split.py:1978: FutureWarning: The default value of cv will change from 3 to 5 in version 0.22. Specify it explicitly to silence this warning.\n",
      "  warnings.warn(CV_WARNING, FutureWarning)\n"
     ]
    }
   ],
   "source": [
    "BNB = BernoulliNB()\n",
    "scores = cross_val_score(BNB, X_train, y_train)\n",
    "print(scores.mean())"
   ]
  },
  {
   "cell_type": "code",
   "execution_count": 57,
   "metadata": {},
   "outputs": [
    {
     "name": "stderr",
     "output_type": "stream",
     "text": [
      "C:\\ProgramData\\Anaconda3\\lib\\site-packages\\sklearn\\model_selection\\_split.py:1978: FutureWarning: The default value of cv will change from 3 to 5 in version 0.22. Specify it explicitly to silence this warning.\n",
      "  warnings.warn(CV_WARNING, FutureWarning)\n"
     ]
    },
    {
     "name": "stdout",
     "output_type": "stream",
     "text": [
      "0.7074728442058712\n"
     ]
    }
   ],
   "source": [
    "knn = KNeighborsClassifier(n_neighbors = 3, weights = 'uniform')\n",
    "scores = cross_val_score(knn, X_train, y_train)\n",
    "print(scores.mean())"
   ]
  }
 ],
 "metadata": {
  "kernelspec": {
   "display_name": "Python 3",
   "language": "python",
   "name": "python3"
  },
  "language_info": {
   "codemirror_mode": {
    "name": "ipython",
    "version": 3
   },
   "file_extension": ".py",
   "mimetype": "text/x-python",
   "name": "python",
   "nbconvert_exporter": "python",
   "pygments_lexer": "ipython3",
   "version": "3.7.3"
  }
 },
 "nbformat": 4,
 "nbformat_minor": 2
}

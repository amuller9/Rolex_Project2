{
 "cells": [
  {
   "cell_type": "markdown",
   "metadata": {},
   "source": [
    "## Real or Not? NLP with Disaster Tweets - Project 2"
   ]
  },
  {
   "cell_type": "markdown",
   "metadata": {},
   "source": [
    "Big-Scale Analytics - Project 2 - Team Rolex\n",
    "> Samuel Lew, Alexandre Lang, Samy Bouzerda, Alix Muller"
   ]
  },
  {
   "cell_type": "code",
   "execution_count": 2,
   "metadata": {},
   "outputs": [
    {
     "name": "stdout",
     "output_type": "stream",
     "text": [
      "there are 3271 tweets about disasters\n"
     ]
    }
   ],
   "source": [
    "import pandas as pd\n",
    "df = pd.read_csv ('../data/train.csv')\n",
    "df = df[['id', 'text', 'target']]\n",
    "df.iloc[:10]\n",
    "index = df.index\n",
    "columns = df.columns\n",
    "values = df.values\n",
    "df_yes = df.query('target == 1')\n",
    "yes_count = 0\n",
    "for row in df_yes.iterrows():\n",
    "    yes_count += 1\n",
    "print(f'there are {yes_count} tweets about disasters')\n",
    "\n",
    "def clean_text(text):\n",
    "    # Removing spaces and converting text into lowercase\n",
    "    return text.strip().lower()"
   ]
  },
  {
   "cell_type": "code",
   "execution_count": 5,
   "metadata": {},
   "outputs": [
    {
     "name": "stdout",
     "output_type": "stream",
     "text": [
      "there are 4342 tweets that are not about disasters\n"
     ]
    }
   ],
   "source": [
    "df_no = df.query('target == 0')\n",
    "no_count = 0\n",
    "for row in df_no.iterrows():\n",
    "    no_count += 1\n",
    "print(f'there are {no_count} tweets that are not about disasters')"
   ]
  },
  {
   "cell_type": "code",
   "execution_count": null,
   "metadata": {},
   "outputs": [],
   "source": []
  }
 ],
 "metadata": {
  "kernelspec": {
   "display_name": "Python 3",
   "language": "python",
   "name": "python3"
  },
  "language_info": {
   "codemirror_mode": {
    "name": "ipython",
    "version": 3
   },
   "file_extension": ".py",
   "mimetype": "text/x-python",
   "name": "python",
   "nbconvert_exporter": "python",
   "pygments_lexer": "ipython3",
   "version": "3.7.3"
  }
 },
 "nbformat": 4,
 "nbformat_minor": 2
}

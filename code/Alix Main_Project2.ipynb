{
 "cells": [
  {
   "cell_type": "markdown",
   "metadata": {},
   "source": [
    "##### Project 2 - Big-Scale Analysis \n",
    "##### Team ROLEX - Samuel Lew, Alexandre Lang, Samy Bouzerda, Alix Muller\n",
    "# Kaggle: Real or Not? NLP with Disaster Tweets"
   ]
  },
  {
   "cell_type": "markdown",
   "metadata": {},
   "source": [
    "# 0. Dataset\n",
    "This competition's Dataset shows a set of tweets divided into a training and a test set. The training set has a column named 'target' that permits to identify if the tweet contains an infomation about a disaster or not.\n",
    "\n",
    "For example, here are one tweet about a disaster and another not:"
   ]
  },
  {
   "cell_type": "code",
   "execution_count": 24,
   "metadata": {},
   "outputs": [
    {
     "data": {
      "text/plain": [
       "'Aquarium Ornament Wreck Sailing Boat Sunk Ship Destroyer Fish Tank Cave Decor - Full read \\x89Û_ http://t.co/nosA8JJjiN http://t.co/WUKvdavUJu'"
      ]
     },
     "execution_count": 24,
     "metadata": {},
     "output_type": "execute_result"
    }
   ],
   "source": [
    "# A disaster tweet\n",
    "disaster_tweet = train[train['Target'] == 1]['Tweet text']\n",
    "disaster_tweet.values[1]"
   ]
  },
  {
   "cell_type": "code",
   "execution_count": 25,
   "metadata": {
    "scrolled": true
   },
   "outputs": [
    {
     "data": {
      "text/plain": [
       "'We always try to bring the heavy. #metal #RT http://t.co/YAo1e0xngw'"
      ]
     },
     "execution_count": 25,
     "metadata": {},
     "output_type": "execute_result"
    }
   ],
   "source": [
    "# A tweet not concerning a disaster\n",
    "non_disaster_tweet = train[train['Target'] == 0]['Tweet text']\n",
    "non_disaster_tweet.values[1]"
   ]
  },
  {
   "cell_type": "markdown",
   "metadata": {},
   "source": [
    "In this competition, people have to create a machine learning model to predict whether the tweets test set mention a disaster or not. This challenge is a binary classification problem."
   ]
  },
  {
   "cell_type": "markdown",
   "metadata": {},
   "source": [
    "# I. Importing libraries"
   ]
  },
  {
   "cell_type": "code",
   "execution_count": 21,
   "metadata": {},
   "outputs": [
    {
     "name": "stderr",
     "output_type": "stream",
     "text": [
      "[nltk_data] Downloading package stopwords to\n",
      "[nltk_data]     C:\\Users\\alixm\\AppData\\Roaming\\nltk_data...\n",
      "[nltk_data]   Package stopwords is already up-to-date!\n"
     ]
    },
    {
     "data": {
      "text/plain": [
       "True"
      ]
     },
     "execution_count": 21,
     "metadata": {},
     "output_type": "execute_result"
    }
   ],
   "source": [
    "import pandas as pd\n",
    "\n",
    "# matplotlib and seaborn for plotting\n",
    "import matplotlib.pyplot as plt\n",
    "import seaborn as sns\n",
    "\n",
    "# text processing libraries\n",
    "import re\n",
    "import string\n",
    "import nltk\n",
    "from nltk.corpus import stopwords\n",
    "\n",
    "import nltk\n",
    "nltk.download('stopwords')"
   ]
  },
  {
   "cell_type": "markdown",
   "metadata": {},
   "source": [
    "# II. EDA"
   ]
  },
  {
   "cell_type": "markdown",
   "metadata": {},
   "source": [
    "## 1. Training set"
   ]
  },
  {
   "cell_type": "markdown",
   "metadata": {},
   "source": [
    "### Data loading"
   ]
  },
  {
   "cell_type": "code",
   "execution_count": 22,
   "metadata": {},
   "outputs": [
    {
     "data": {
      "text/plain": [
       "(7613, 5)"
      ]
     },
     "execution_count": 22,
     "metadata": {},
     "output_type": "execute_result"
    }
   ],
   "source": [
    "train = pd.read_csv('../data/train.csv')\n",
    "train = train.sample(frac=1, replace=False)\n",
    "train = train[['id', 'keyword', 'location', 'text', 'target']]\n",
    "train.shape"
   ]
  },
  {
   "cell_type": "code",
   "execution_count": 23,
   "metadata": {},
   "outputs": [
    {
     "data": {
      "text/html": [
       "<div>\n",
       "<style scoped>\n",
       "    .dataframe tbody tr th:only-of-type {\n",
       "        vertical-align: middle;\n",
       "    }\n",
       "\n",
       "    .dataframe tbody tr th {\n",
       "        vertical-align: top;\n",
       "    }\n",
       "\n",
       "    .dataframe thead th {\n",
       "        text-align: right;\n",
       "    }\n",
       "</style>\n",
       "<table border=\"1\" class=\"dataframe\">\n",
       "  <thead>\n",
       "    <tr style=\"text-align: right;\">\n",
       "      <th></th>\n",
       "      <th>ID</th>\n",
       "      <th>Keyword</th>\n",
       "      <th>Location</th>\n",
       "      <th>Tweet text</th>\n",
       "      <th>Target</th>\n",
       "    </tr>\n",
       "  </thead>\n",
       "  <tbody>\n",
       "    <tr>\n",
       "      <th>4147</th>\n",
       "      <td>5894</td>\n",
       "      <td>harm</td>\n",
       "      <td>where the wild things are</td>\n",
       "      <td>I concur. The longer you spend with your child...</td>\n",
       "      <td>0</td>\n",
       "    </tr>\n",
       "    <tr>\n",
       "      <th>2675</th>\n",
       "      <td>3837</td>\n",
       "      <td>detonate</td>\n",
       "      <td>Worldwide</td>\n",
       "      <td>Apollo Brown - Detonate (Ft. M.O.P.) https://t...</td>\n",
       "      <td>1</td>\n",
       "    </tr>\n",
       "    <tr>\n",
       "      <th>32</th>\n",
       "      <td>49</td>\n",
       "      <td>ablaze</td>\n",
       "      <td>Est. September 2012 - Bristol</td>\n",
       "      <td>We always try to bring the heavy. #metal #RT h...</td>\n",
       "      <td>0</td>\n",
       "    </tr>\n",
       "    <tr>\n",
       "      <th>896</th>\n",
       "      <td>1297</td>\n",
       "      <td>bloody</td>\n",
       "      <td>65</td>\n",
       "      <td>@zhenghxn i tried 11 eyes akame ga kill and to...</td>\n",
       "      <td>0</td>\n",
       "    </tr>\n",
       "    <tr>\n",
       "      <th>6488</th>\n",
       "      <td>9276</td>\n",
       "      <td>sunk</td>\n",
       "      <td>New York</td>\n",
       "      <td>Aquarium Ornament Wreck Sailing Boat Sunk Ship...</td>\n",
       "      <td>1</td>\n",
       "    </tr>\n",
       "  </tbody>\n",
       "</table>\n",
       "</div>"
      ],
      "text/plain": [
       "        ID   Keyword                       Location  \\\n",
       "4147  5894      harm      where the wild things are   \n",
       "2675  3837  detonate                      Worldwide   \n",
       "32      49    ablaze  Est. September 2012 - Bristol   \n",
       "896   1297    bloody                             65   \n",
       "6488  9276      sunk                       New York   \n",
       "\n",
       "                                             Tweet text  Target  \n",
       "4147  I concur. The longer you spend with your child...       0  \n",
       "2675  Apollo Brown - Detonate (Ft. M.O.P.) https://t...       1  \n",
       "32    We always try to bring the heavy. #metal #RT h...       0  \n",
       "896   @zhenghxn i tried 11 eyes akame ga kill and to...       0  \n",
       "6488  Aquarium Ornament Wreck Sailing Boat Sunk Ship...       1  "
      ]
     },
     "execution_count": 23,
     "metadata": {},
     "output_type": "execute_result"
    }
   ],
   "source": [
    "train.columns = ['ID', 'Keyword', 'Location', 'Tweet text', 'Target']\n",
    "train.head()"
   ]
  },
  {
   "cell_type": "markdown",
   "metadata": {},
   "source": [
    "### Distribution of the target column"
   ]
  },
  {
   "cell_type": "code",
   "execution_count": 26,
   "metadata": {},
   "outputs": [
    {
     "name": "stdout",
     "output_type": "stream",
     "text": [
      "There are 3271 tweets about disasters (Target = 0).\n",
      "There are 4342 tweets that are not about disasters (Target = 1).\n"
     ]
    }
   ],
   "source": [
    "#when the target = 1 it means the the tweet is about a disaster\n",
    "train_yes = train.query('Target == 1')\n",
    "yes_count = 0\n",
    "for row in train_yes.iterrows():\n",
    "    yes_count += 1\n",
    "print(f'There are {yes_count} tweets about disasters (Target = 0).')\n",
    "\n",
    "#when the target = 0 it means the the tweet is not about a disaster\n",
    "train_no = train.query('Target == 0')\n",
    "no_count = 0\n",
    "for row in train_no.iterrows():\n",
    "    no_count += 1\n",
    "print(f'There are {no_count} tweets that are not about disasters (Target = 1).')"
   ]
  },
  {
   "cell_type": "code",
   "execution_count": 27,
   "metadata": {},
   "outputs": [
    {
     "data": {
      "text/plain": [
       "<matplotlib.axes._subplots.AxesSubplot at 0x1c48d0c1e80>"
      ]
     },
     "execution_count": 27,
     "metadata": {},
     "output_type": "execute_result"
    },
    {
     "data": {
      "image/png": "[encoded data removed]",
      "text/plain": [
       "<Figure size 432x288 with 1 Axes>"
      ]
     },
     "metadata": {
      "needs_background": "light"
     },
     "output_type": "display_data"
    }
   ],
   "source": [
    "sns.barplot(train['Target'].value_counts().index, train['Target'].value_counts(), palette = 'rocket')"
   ]
  },
  {
   "cell_type": "markdown",
   "metadata": {},
   "source": [
    "### Distribution of the Keyword column"
   ]
  },
  {
   "cell_type": "code",
   "execution_count": 28,
   "metadata": {},
   "outputs": [
    {
     "data": {
      "text/plain": [
       "<matplotlib.axes._subplots.AxesSubplot at 0x1c48c623358>"
      ]
     },
     "execution_count": 28,
     "metadata": {},
     "output_type": "execute_result"
    },
    {
     "data": {
      "image/png": "[encoded data removed]",
      "text/plain": [
       "<Figure size 432x288 with 1 Axes>"
      ]
     },
     "metadata": {
      "needs_background": "light"
     },
     "output_type": "display_data"
    }
   ],
   "source": [
    "sns.barplot(y = train['Keyword'].value_counts()[:10].index, x = train['Keyword'].value_counts()[:10], orient='h', palette = 'rocket')"
   ]
  },
  {
   "cell_type": "code",
   "execution_count": 29,
   "metadata": {},
   "outputs": [
    {
     "data": {
      "text/plain": [
       "1    102\n",
       "0     40\n",
       "Name: Target, dtype: int64"
      ]
     },
     "execution_count": 29,
     "metadata": {},
     "output_type": "execute_result"
    }
   ],
   "source": [
    "train.loc[train['Tweet text'].str.contains('disaster', na=False, case=False)].Target.value_counts()"
   ]
  },
  {
   "cell_type": "markdown",
   "metadata": {},
   "source": [
    "## 2. Test set"
   ]
  },
  {
   "cell_type": "markdown",
   "metadata": {},
   "source": [
    "### Data loading"
   ]
  },
  {
   "cell_type": "code",
   "execution_count": 30,
   "metadata": {},
   "outputs": [
    {
     "data": {
      "text/plain": [
       "(3263, 4)"
      ]
     },
     "execution_count": 30,
     "metadata": {},
     "output_type": "execute_result"
    }
   ],
   "source": [
    "test = pd.read_csv('../data/test.csv')\n",
    "test = test.sample(frac=1, replace=False)\n",
    "test = test[['id', 'keyword', 'location', 'text']]\n",
    "test.shape"
   ]
  },
  {
   "cell_type": "code",
   "execution_count": 31,
   "metadata": {},
   "outputs": [
    {
     "data": {
      "text/html": [
       "<div>\n",
       "<style scoped>\n",
       "    .dataframe tbody tr th:only-of-type {\n",
       "        vertical-align: middle;\n",
       "    }\n",
       "\n",
       "    .dataframe tbody tr th {\n",
       "        vertical-align: top;\n",
       "    }\n",
       "\n",
       "    .dataframe thead th {\n",
       "        text-align: right;\n",
       "    }\n",
       "</style>\n",
       "<table border=\"1\" class=\"dataframe\">\n",
       "  <thead>\n",
       "    <tr style=\"text-align: right;\">\n",
       "      <th></th>\n",
       "      <th>ID</th>\n",
       "      <th>Keyword</th>\n",
       "      <th>Location</th>\n",
       "      <th>Tweet text</th>\n",
       "    </tr>\n",
       "  </thead>\n",
       "  <tbody>\n",
       "    <tr>\n",
       "      <th>2163</th>\n",
       "      <td>7243</td>\n",
       "      <td>natural%20disaster</td>\n",
       "      <td>NaN</td>\n",
       "      <td>TRAIN ACCIDENT IN HARDA (M.P.) IS NOT NATURAL ...</td>\n",
       "    </tr>\n",
       "    <tr>\n",
       "      <th>277</th>\n",
       "      <td>908</td>\n",
       "      <td>bioterrorism</td>\n",
       "      <td>NaN</td>\n",
       "      <td>HST's Anthony Kimery Discusses #BioTerrorism o...</td>\n",
       "    </tr>\n",
       "    <tr>\n",
       "      <th>199</th>\n",
       "      <td>645</td>\n",
       "      <td>arsonist</td>\n",
       "      <td>Fresno</td>\n",
       "      <td>Arson suspect linked to 30 fires caught in Nor...</td>\n",
       "    </tr>\n",
       "    <tr>\n",
       "      <th>156</th>\n",
       "      <td>511</td>\n",
       "      <td>army</td>\n",
       "      <td>NaN</td>\n",
       "      <td>Beyonce Is my pick for http://t.co/nnMQlz91o9 ...</td>\n",
       "    </tr>\n",
       "    <tr>\n",
       "      <th>3098</th>\n",
       "      <td>10257</td>\n",
       "      <td>war%20zone</td>\n",
       "      <td>Miami</td>\n",
       "      <td>My new sounds: War Zone https://t.co/hNXRfqRk3...</td>\n",
       "    </tr>\n",
       "  </tbody>\n",
       "</table>\n",
       "</div>"
      ],
      "text/plain": [
       "         ID             Keyword Location  \\\n",
       "2163   7243  natural%20disaster      NaN   \n",
       "277     908        bioterrorism      NaN   \n",
       "199     645            arsonist   Fresno   \n",
       "156     511                army      NaN   \n",
       "3098  10257          war%20zone    Miami   \n",
       "\n",
       "                                             Tweet text  \n",
       "2163  TRAIN ACCIDENT IN HARDA (M.P.) IS NOT NATURAL ...  \n",
       "277   HST's Anthony Kimery Discusses #BioTerrorism o...  \n",
       "199   Arson suspect linked to 30 fires caught in Nor...  \n",
       "156   Beyonce Is my pick for http://t.co/nnMQlz91o9 ...  \n",
       "3098  My new sounds: War Zone https://t.co/hNXRfqRk3...  "
      ]
     },
     "execution_count": 31,
     "metadata": {},
     "output_type": "execute_result"
    }
   ],
   "source": [
    "test.columns = ['ID', 'Keyword', 'Location', 'Tweet text']\n",
    "test.head()"
   ]
  },
  {
   "cell_type": "markdown",
   "metadata": {},
   "source": [
    "### Distribution of the Keyword column"
   ]
  },
  {
   "cell_type": "code",
   "execution_count": 32,
   "metadata": {},
   "outputs": [
    {
     "data": {
      "text/plain": [
       "<matplotlib.axes._subplots.AxesSubplot at 0x1c48e2dc2e8>"
      ]
     },
     "execution_count": 32,
     "metadata": {},
     "output_type": "execute_result"
    },
    {
     "data": {
      "image/png": "[encoded data removed]",
      "text/plain": [
       "<Figure size 432x288 with 1 Axes>"
      ]
     },
     "metadata": {
      "needs_background": "light"
     },
     "output_type": "display_data"
    }
   ],
   "source": [
    "sns.barplot(y = test['Keyword'].value_counts()[:10].index, x = test['Keyword'].value_counts()[:10], orient='h', palette = 'rocket')"
   ]
  },
  {
   "cell_type": "markdown",
   "metadata": {},
   "source": [
    "# III. Data preprocessing and tokenisation"
   ]
  },
  {
   "cell_type": "code",
   "execution_count": 33,
   "metadata": {},
   "outputs": [
    {
     "data": {
      "text/plain": [
       "4147    i concur the longer you spend with your child ...\n",
       "2675                  apollo brown  detonate ft mop  fiya\n",
       "32             we always try to bring the heavy metal rt \n",
       "896     zhenghxn i tried  eyes akame ga kill and tokyo...\n",
       "6488    aquarium ornament wreck sailing boat sunk ship...\n",
       "Name: Tweet text, dtype: object"
      ]
     },
     "execution_count": 33,
     "metadata": {},
     "output_type": "execute_result"
    }
   ],
   "source": [
    "# Applying a first round of text cleaning techniques\n",
    "#Make text lowercase and remove text in square brackets, links, punctuation, words containing numbers.\n",
    "\n",
    "def clean_text(text):\n",
    "    text = text.lower()\n",
    "    text = re.sub('\\[.*?\\]', '', text)\n",
    "    text = re.sub('https?://\\S+|www\\.\\S+', '', text)\n",
    "    text = re.sub('<.*?>+', '', text)\n",
    "    text = re.sub('[%s]' % re.escape(string.punctuation), '', text)\n",
    "    text = re.sub('\\n', '', text)\n",
    "    text = re.sub('\\w*\\d\\w*', '', text)\n",
    "    return text\n",
    "\n",
    "# Applying the cleaning function to the dataset\n",
    "train['Tweet text'] = train['Tweet text'].apply(lambda x: clean_text(x))\n",
    "\n",
    "# Updated text\n",
    "train['Tweet text'].head()"
   ]
  },
  {
   "cell_type": "code",
   "execution_count": 34,
   "metadata": {},
   "outputs": [
    {
     "data": {
      "text/plain": [
       "2163    train accident in harda mp is not natural disa...\n",
       "277     hsts anthony kimery discusses bioterrorism on ...\n",
       "199     arson suspect linked to  fires caught in north...\n",
       "156            beyonce is my pick for  fan army beyhive  \n",
       "3098                my new sounds war zone  on soundcloud\n",
       "Name: Tweet text, dtype: object"
      ]
     },
     "execution_count": 34,
     "metadata": {},
     "output_type": "execute_result"
    }
   ],
   "source": [
    "# Applying the cleaning function to the dataset\n",
    "test['Tweet text'] = test['Tweet text'].apply(lambda x: clean_text(x))\n",
    "\n",
    "# Updated text\n",
    "test['Tweet text'].head()"
   ]
  },
  {
   "cell_type": "code",
   "execution_count": 35,
   "metadata": {
    "scrolled": false
   },
   "outputs": [
    {
     "data": {
      "text/plain": [
       "4147    [i, concur, the, longer, you, spend, with, you...\n",
       "2675             [apollo, brown, detonate, ft, mop, fiya]\n",
       "32      [we, always, try, to, bring, the, heavy, metal...\n",
       "896     [zhenghxn, i, tried, eyes, akame, ga, kill, an...\n",
       "6488    [aquarium, ornament, wreck, sailing, boat, sun...\n",
       "Name: Tweet text, dtype: object"
      ]
     },
     "execution_count": 35,
     "metadata": {},
     "output_type": "execute_result"
    }
   ],
   "source": [
    "# Tokenising the training and test set\n",
    "tokenizer = nltk.tokenize.RegexpTokenizer(r'\\w+')\n",
    "\n",
    "train['Tweet text'] = train['Tweet text'].apply(lambda x: tokenizer.tokenize(x))\n",
    "train['Tweet text'].head()"
   ]
  },
  {
   "cell_type": "code",
   "execution_count": 36,
   "metadata": {},
   "outputs": [
    {
     "data": {
      "text/plain": [
       "2163    [train, accident, in, harda, mp, is, not, natu...\n",
       "277     [hsts, anthony, kimery, discusses, bioterroris...\n",
       "199     [arson, suspect, linked, to, fires, caught, in...\n",
       "156      [beyonce, is, my, pick, for, fan, army, beyhive]\n",
       "3098         [my, new, sounds, war, zone, on, soundcloud]\n",
       "Name: Tweet text, dtype: object"
      ]
     },
     "execution_count": 36,
     "metadata": {},
     "output_type": "execute_result"
    }
   ],
   "source": [
    "test['Tweet text'] = test['Tweet text'].apply(lambda x: tokenizer.tokenize(x))\n",
    "test['Tweet text'].head()"
   ]
  },
  {
   "cell_type": "code",
   "execution_count": 37,
   "metadata": {},
   "outputs": [
    {
     "data": {
      "text/plain": [
       "4147            [concur, longer, spend, child, harm, mmk]\n",
       "2675             [apollo, brown, detonate, ft, mop, fiya]\n",
       "32                 [always, try, bring, heavy, metal, rt]\n",
       "896     [zhenghxn, tried, eyes, akame, ga, kill, tokyo...\n",
       "6488    [aquarium, ornament, wreck, sailing, boat, sun...\n",
       "Name: Tweet text, dtype: object"
      ]
     },
     "execution_count": 37,
     "metadata": {},
     "output_type": "execute_result"
    }
   ],
   "source": [
    "def remove_stopwords(text):\n",
    "    words = [w for w in text if w not in stopwords.words('english')]\n",
    "    return words\n",
    "\n",
    "train['Tweet text'] = train['Tweet text'].apply(lambda x : remove_stopwords(x))\n",
    "train['Tweet text'].head()"
   ]
  },
  {
   "cell_type": "code",
   "execution_count": 38,
   "metadata": {},
   "outputs": [
    {
     "data": {
      "text/plain": [
       "2163    [train, accident, harda, mp, natural, disaster...\n",
       "277     [hsts, anthony, kimery, discusses, bioterroris...\n",
       "199     [arson, suspect, linked, fires, caught, northe...\n",
       "156                   [beyonce, pick, fan, army, beyhive]\n",
       "3098                 [new, sounds, war, zone, soundcloud]\n",
       "Name: Tweet text, dtype: object"
      ]
     },
     "execution_count": 38,
     "metadata": {},
     "output_type": "execute_result"
    }
   ],
   "source": [
    "test['Tweet text'] = test['Tweet text'].apply(lambda x : remove_stopwords(x))\n",
    "test['Tweet text'].head()"
   ]
  },
  {
   "cell_type": "markdown",
   "metadata": {},
   "source": [
    "# IV. Classification models"
   ]
  },
  {
   "cell_type": "markdown",
   "metadata": {},
   "source": [
    "\n",
    "## 1. KNN classifier\n",
    "The k-nearest neighbors algorithm (k-NN) is a non-parametric method used for classification (and also regression). In k-NN classification, The input consists of the k closest training examples in the feature space. The output is a class membership. An object is classified by a plurality vote of its neighbors, with the object being assigned to the class most common among its k nearest neighbors."
   ]
  },
  {
   "cell_type": "code",
   "execution_count": null,
   "metadata": {},
   "outputs": [],
   "source": [
    "from sklearn.neighbors import KNeighborsClassifier\n",
    "\n",
    "KNeighborsModel = KNeighborsClassifier(n_neighbors = 7,\n",
    "                                       weights = 'distance',\n",
    "                                      algorithm = 'brute')\n",
    "\n",
    "KNeighborsModel.fit(X_train,y_train)"
   ]
  },
  {
   "cell_type": "code",
   "execution_count": null,
   "metadata": {},
   "outputs": [],
   "source": []
  },
  {
   "cell_type": "code",
   "execution_count": null,
   "metadata": {},
   "outputs": [],
   "source": []
  },
  {
   "cell_type": "code",
   "execution_count": null,
   "metadata": {},
   "outputs": [],
   "source": []
  }
 ],
 "metadata": {
  "kernelspec": {
   "display_name": "Python 3",
   "language": "python",
   "name": "python3"
  },
  "language_info": {
   "codemirror_mode": {
    "name": "ipython",
    "version": 3
   },
   "file_extension": ".py",
   "mimetype": "text/x-python",
   "name": "python",
   "nbconvert_exporter": "python",
   "pygments_lexer": "ipython3",
   "version": "3.7.3"
  }
 },
 "nbformat": 4,
 "nbformat_minor": 2
}

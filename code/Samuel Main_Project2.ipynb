{
 "cells": [
  {
   "cell_type": "markdown",
   "metadata": {},
   "source": [
    "## Real or Not? NLP with Disaster Tweets - Project 2 - Sam's part"
   ]
  },
  {
   "cell_type": "markdown",
   "metadata": {},
   "source": [
    "Big-Scale Analytics - Project 2 - Team Rolex\n",
    "> Samuel Lew, Alexandre Lang, Samy Bouzerda, Alix Muller"
   ]
  },
  {
   "cell_type": "markdown",
   "metadata": {
    "nteract": {
     "transient": {
      "deleting": false
     }
    }
   },
   "source": [
    "## Load dataset"
   ]
  },
  {
   "cell_type": "code",
   "execution_count": 1,
   "metadata": {
    "execution": {
     "iopub.execute_input": "2020-05-16T15:30:54.513Z",
     "iopub.status.busy": "2020-05-16T15:30:54.499Z",
     "iopub.status.idle": "2020-05-16T15:30:55.284Z",
     "shell.execute_reply": "2020-05-16T15:30:55.336Z"
    }
   },
   "outputs": [],
   "source": [
    "import pandas as pd"
   ]
  },
  {
   "cell_type": "code",
   "execution_count": 2,
   "metadata": {
    "execution": {
     "iopub.execute_input": "2020-05-16T15:30:55.320Z",
     "iopub.status.busy": "2020-05-16T15:30:55.305Z",
     "iopub.status.idle": "2020-05-16T15:30:55.398Z",
     "shell.execute_reply": "2020-05-16T15:30:55.496Z"
    },
    "jupyter": {
     "outputs_hidden": false,
     "source_hidden": false
    },
    "nteract": {
     "transient": {
      "deleting": false
     }
    },
    "outputExpanded": false
   },
   "outputs": [
    {
     "data": {
      "text/html": [
       "<div>\n",
       "<style scoped>\n",
       "    .dataframe tbody tr th:only-of-type {\n",
       "        vertical-align: middle;\n",
       "    }\n",
       "\n",
       "    .dataframe tbody tr th {\n",
       "        vertical-align: top;\n",
       "    }\n",
       "\n",
       "    .dataframe thead th {\n",
       "        text-align: right;\n",
       "    }\n",
       "</style>\n",
       "<table border=\"1\" class=\"dataframe\">\n",
       "  <thead>\n",
       "    <tr style=\"text-align: right;\">\n",
       "      <th></th>\n",
       "      <th>id</th>\n",
       "      <th>text</th>\n",
       "      <th>target</th>\n",
       "    </tr>\n",
       "  </thead>\n",
       "  <tbody>\n",
       "    <tr>\n",
       "      <th>0</th>\n",
       "      <td>1</td>\n",
       "      <td>Our Deeds are the Reason of this #earthquake M...</td>\n",
       "      <td>1</td>\n",
       "    </tr>\n",
       "    <tr>\n",
       "      <th>1</th>\n",
       "      <td>4</td>\n",
       "      <td>Forest fire near La Ronge Sask. Canada</td>\n",
       "      <td>1</td>\n",
       "    </tr>\n",
       "    <tr>\n",
       "      <th>2</th>\n",
       "      <td>5</td>\n",
       "      <td>All residents asked to 'shelter in place' are ...</td>\n",
       "      <td>1</td>\n",
       "    </tr>\n",
       "    <tr>\n",
       "      <th>3</th>\n",
       "      <td>6</td>\n",
       "      <td>13,000 people receive #wildfires evacuation or...</td>\n",
       "      <td>1</td>\n",
       "    </tr>\n",
       "    <tr>\n",
       "      <th>4</th>\n",
       "      <td>7</td>\n",
       "      <td>Just got sent this photo from Ruby #Alaska as ...</td>\n",
       "      <td>1</td>\n",
       "    </tr>\n",
       "  </tbody>\n",
       "</table>\n",
       "</div>"
      ],
      "text/plain": [
       "   id                                               text  target\n",
       "0   1  Our Deeds are the Reason of this #earthquake M...       1\n",
       "1   4             Forest fire near La Ronge Sask. Canada       1\n",
       "2   5  All residents asked to 'shelter in place' are ...       1\n",
       "3   6  13,000 people receive #wildfires evacuation or...       1\n",
       "4   7  Just got sent this photo from Ruby #Alaska as ...       1"
      ]
     },
     "execution_count": 2,
     "metadata": {},
     "output_type": "execute_result"
    }
   ],
   "source": [
    "train = pd.read_csv ('../data/train.csv')\n",
    "train = train[['id', 'text', 'target']]\n",
    "\n",
    "test = pd.read_csv ('../data/test.csv')\n",
    "test = test[['id', 'text']]\n",
    "\n",
    "train.head()"
   ]
  },
  {
   "cell_type": "code",
   "execution_count": 3,
   "metadata": {
    "execution": {
     "iopub.execute_input": "2020-05-16T15:30:55.463Z",
     "iopub.status.busy": "2020-05-16T15:30:55.435Z",
     "iopub.status.idle": "2020-05-16T15:30:56.946Z",
     "shell.execute_reply": "2020-05-16T15:30:57.080Z"
    },
    "jupyter": {
     "outputs_hidden": false,
     "source_hidden": false
    },
    "nteract": {
     "transient": {
      "deleting": false
     }
    },
    "outputExpanded": false
   },
   "outputs": [
    {
     "name": "stdout",
     "output_type": "stream",
     "text": [
      "there are 7613 tweets in the dataset\n",
      "there are 3271 tweets about disasters\n",
      "there are 4342 tweets that are not about disasters\n",
      "the classification base rate is 42.96%\n"
     ]
    }
   ],
   "source": [
    "total_count = 0\n",
    "for row in train.iterrows():\n",
    "  total_count += 1\n",
    "print(f'there are {total_count} tweets in the dataset')\n",
    "\n",
    "train_yes = train.query('target == 1')\n",
    "yes_count = 0\n",
    "for row in train_yes.iterrows():\n",
    "    yes_count += 1\n",
    "print(f'there are {yes_count} tweets about disasters')\n",
    "\n",
    "train_no = train.query('target == 0')\n",
    "no_count = 0\n",
    "for row in train_no.iterrows():\n",
    "    no_count += 1\n",
    "print(f'there are {no_count} tweets that are not about disasters')\n",
    "\n",
    "print('the classification base rate is ' + str(yes_count/(yes_count+no_count)*100)[:5] + '%')"
   ]
  },
  {
   "cell_type": "markdown",
   "metadata": {
    "nteract": {
     "transient": {
      "deleting": false
     }
    }
   },
   "source": [
    "# Text processing"
   ]
  },
  {
   "cell_type": "code",
   "execution_count": 4,
   "metadata": {
    "execution": {
     "iopub.execute_input": "2020-05-16T15:30:56.984Z",
     "iopub.status.busy": "2020-05-16T15:30:56.969Z",
     "iopub.status.idle": "2020-05-16T15:30:57.010Z",
     "shell.execute_reply": "2020-05-16T15:30:57.093Z"
    },
    "jupyter": {
     "outputs_hidden": false,
     "source_hidden": false
    },
    "nteract": {
     "transient": {
      "deleting": false
     }
    },
    "outputExpanded": false
   },
   "outputs": [],
   "source": [
    "#!pip install spacy\n",
    "#!python -m spacy download en"
   ]
  },
  {
   "cell_type": "markdown",
   "metadata": {
    "nteract": {
     "transient": {
      "deleting": false
     }
    }
   },
   "source": [
    "## Import libraries"
   ]
  },
  {
   "cell_type": "code",
   "execution_count": 5,
   "metadata": {
    "execution": {
     "iopub.execute_input": "2020-05-16T15:30:57.048Z",
     "iopub.status.busy": "2020-05-16T15:30:57.032Z",
     "iopub.status.idle": "2020-05-16T15:31:02.568Z",
     "shell.execute_reply": "2020-05-16T15:31:02.586Z"
    },
    "jupyter": {
     "outputs_hidden": false,
     "source_hidden": false
    },
    "nteract": {
     "transient": {
      "deleting": false
     }
    },
    "outputExpanded": false
   },
   "outputs": [],
   "source": [
    "import string\n",
    "import spacy\n",
    "import re\n",
    "from spacy.lang.en.stop_words import STOP_WORDS\n",
    "from spacy.lang.en import English\n",
    "from nltk.corpus import stopwords\n",
    "import nltk\n",
    "\n",
    "parser = English()\n",
    "nlp = spacy.load('en')\n",
    "stop_words = spacy.lang.en.stop_words.STOP_WORDS\n",
    "punctuations = string.punctuation\n"
   ]
  },
  {
   "cell_type": "markdown",
   "metadata": {
    "nteract": {
     "transient": {
      "deleting": false
     }
    }
   },
   "source": [
    "## Lowercase and remove punctuation"
   ]
  },
  {
   "cell_type": "code",
   "execution_count": 6,
   "metadata": {
    "execution": {
     "iopub.execute_input": "2020-05-16T15:31:02.663Z",
     "iopub.status.busy": "2020-05-16T15:31:02.619Z",
     "iopub.status.idle": "2020-05-16T15:31:03.102Z",
     "shell.execute_reply": "2020-05-16T15:31:03.189Z"
    },
    "jupyter": {
     "outputs_hidden": false,
     "source_hidden": false
    },
    "nteract": {
     "transient": {
      "deleting": false
     }
    },
    "outputExpanded": false
   },
   "outputs": [
    {
     "data": {
      "text/html": [
       "<div>\n",
       "<style scoped>\n",
       "    .dataframe tbody tr th:only-of-type {\n",
       "        vertical-align: middle;\n",
       "    }\n",
       "\n",
       "    .dataframe tbody tr th {\n",
       "        vertical-align: top;\n",
       "    }\n",
       "\n",
       "    .dataframe thead th {\n",
       "        text-align: right;\n",
       "    }\n",
       "</style>\n",
       "<table border=\"1\" class=\"dataframe\">\n",
       "  <thead>\n",
       "    <tr style=\"text-align: right;\">\n",
       "      <th></th>\n",
       "      <th>id</th>\n",
       "      <th>text</th>\n",
       "      <th>target</th>\n",
       "      <th>filtered_tweet</th>\n",
       "    </tr>\n",
       "  </thead>\n",
       "  <tbody>\n",
       "    <tr>\n",
       "      <th>0</th>\n",
       "      <td>1</td>\n",
       "      <td>Our Deeds are the Reason of this #earthquake M...</td>\n",
       "      <td>1</td>\n",
       "      <td>our deeds are the reason of this earthquake ma...</td>\n",
       "    </tr>\n",
       "    <tr>\n",
       "      <th>1</th>\n",
       "      <td>4</td>\n",
       "      <td>Forest fire near La Ronge Sask. Canada</td>\n",
       "      <td>1</td>\n",
       "      <td>forest fire near la ronge sask canada</td>\n",
       "    </tr>\n",
       "    <tr>\n",
       "      <th>2</th>\n",
       "      <td>5</td>\n",
       "      <td>All residents asked to 'shelter in place' are ...</td>\n",
       "      <td>1</td>\n",
       "      <td>all residents asked to shelter in place are be...</td>\n",
       "    </tr>\n",
       "    <tr>\n",
       "      <th>3</th>\n",
       "      <td>6</td>\n",
       "      <td>13,000 people receive #wildfires evacuation or...</td>\n",
       "      <td>1</td>\n",
       "      <td>people receive wildfires evacuation orders in...</td>\n",
       "    </tr>\n",
       "    <tr>\n",
       "      <th>4</th>\n",
       "      <td>7</td>\n",
       "      <td>Just got sent this photo from Ruby #Alaska as ...</td>\n",
       "      <td>1</td>\n",
       "      <td>just got sent this photo from ruby alaska as s...</td>\n",
       "    </tr>\n",
       "  </tbody>\n",
       "</table>\n",
       "</div>"
      ],
      "text/plain": [
       "   id                                               text  target  \\\n",
       "0   1  Our Deeds are the Reason of this #earthquake M...       1   \n",
       "1   4             Forest fire near La Ronge Sask. Canada       1   \n",
       "2   5  All residents asked to 'shelter in place' are ...       1   \n",
       "3   6  13,000 people receive #wildfires evacuation or...       1   \n",
       "4   7  Just got sent this photo from Ruby #Alaska as ...       1   \n",
       "\n",
       "                                      filtered_tweet  \n",
       "0  our deeds are the reason of this earthquake ma...  \n",
       "1              forest fire near la ronge sask canada  \n",
       "2  all residents asked to shelter in place are be...  \n",
       "3   people receive wildfires evacuation orders in...  \n",
       "4  just got sent this photo from ruby alaska as s...  "
      ]
     },
     "execution_count": 6,
     "metadata": {},
     "output_type": "execute_result"
    }
   ],
   "source": [
    "def clean_text(text):\n",
    "    text = text.lower()\n",
    "    text = re.sub('\\[.*?\\]', '', text)\n",
    "    text = re.sub('https?://\\S+|www\\.\\S+', '', text)\n",
    "    text = re.sub('<.*?>+', '', text)\n",
    "    text = re.sub('[%s]' % re.escape(string.punctuation), '', text)\n",
    "    text = re.sub('\\n', '', text)\n",
    "    text = re.sub('\\w*\\d\\w*', '', text)\n",
    "    \n",
    "    return text\n",
    "  \n",
    "  \n",
    "train['filtered_tweet'] = train['text'].apply(lambda x: clean_text(x))\n",
    "test['filtered_tweet'] = test['text'].apply(lambda x: clean_text(x))\n",
    "\n",
    "train.head()"
   ]
  },
  {
   "cell_type": "markdown",
   "metadata": {
    "nteract": {
     "transient": {
      "deleting": false
     }
    }
   },
   "source": [
    "## Tokenize tweets"
   ]
  },
  {
   "cell_type": "code",
   "execution_count": 7,
   "metadata": {
    "execution": {
     "iopub.execute_input": "2020-05-16T15:31:03.205Z",
     "iopub.status.busy": "2020-05-16T15:31:03.167Z",
     "iopub.status.idle": "2020-05-16T15:31:03.274Z",
     "shell.execute_reply": "2020-05-16T15:31:03.368Z"
    },
    "jupyter": {
     "outputs_hidden": false,
     "source_hidden": false
    },
    "nteract": {
     "transient": {
      "deleting": false
     }
    },
    "outputExpanded": false
   },
   "outputs": [
    {
     "data": {
      "text/html": [
       "<div>\n",
       "<style scoped>\n",
       "    .dataframe tbody tr th:only-of-type {\n",
       "        vertical-align: middle;\n",
       "    }\n",
       "\n",
       "    .dataframe tbody tr th {\n",
       "        vertical-align: top;\n",
       "    }\n",
       "\n",
       "    .dataframe thead th {\n",
       "        text-align: right;\n",
       "    }\n",
       "</style>\n",
       "<table border=\"1\" class=\"dataframe\">\n",
       "  <thead>\n",
       "    <tr style=\"text-align: right;\">\n",
       "      <th></th>\n",
       "      <th>id</th>\n",
       "      <th>text</th>\n",
       "      <th>target</th>\n",
       "      <th>filtered_tweet</th>\n",
       "    </tr>\n",
       "  </thead>\n",
       "  <tbody>\n",
       "    <tr>\n",
       "      <th>0</th>\n",
       "      <td>1</td>\n",
       "      <td>Our Deeds are the Reason of this #earthquake M...</td>\n",
       "      <td>1</td>\n",
       "      <td>[our, deeds, are, the, reason, of, this, earth...</td>\n",
       "    </tr>\n",
       "    <tr>\n",
       "      <th>1</th>\n",
       "      <td>4</td>\n",
       "      <td>Forest fire near La Ronge Sask. Canada</td>\n",
       "      <td>1</td>\n",
       "      <td>[forest, fire, near, la, ronge, sask, canada]</td>\n",
       "    </tr>\n",
       "    <tr>\n",
       "      <th>2</th>\n",
       "      <td>5</td>\n",
       "      <td>All residents asked to 'shelter in place' are ...</td>\n",
       "      <td>1</td>\n",
       "      <td>[all, residents, asked, to, shelter, in, place...</td>\n",
       "    </tr>\n",
       "    <tr>\n",
       "      <th>3</th>\n",
       "      <td>6</td>\n",
       "      <td>13,000 people receive #wildfires evacuation or...</td>\n",
       "      <td>1</td>\n",
       "      <td>[people, receive, wildfires, evacuation, order...</td>\n",
       "    </tr>\n",
       "    <tr>\n",
       "      <th>4</th>\n",
       "      <td>7</td>\n",
       "      <td>Just got sent this photo from Ruby #Alaska as ...</td>\n",
       "      <td>1</td>\n",
       "      <td>[just, got, sent, this, photo, from, ruby, ala...</td>\n",
       "    </tr>\n",
       "  </tbody>\n",
       "</table>\n",
       "</div>"
      ],
      "text/plain": [
       "   id                                               text  target  \\\n",
       "0   1  Our Deeds are the Reason of this #earthquake M...       1   \n",
       "1   4             Forest fire near La Ronge Sask. Canada       1   \n",
       "2   5  All residents asked to 'shelter in place' are ...       1   \n",
       "3   6  13,000 people receive #wildfires evacuation or...       1   \n",
       "4   7  Just got sent this photo from Ruby #Alaska as ...       1   \n",
       "\n",
       "                                      filtered_tweet  \n",
       "0  [our, deeds, are, the, reason, of, this, earth...  \n",
       "1      [forest, fire, near, la, ronge, sask, canada]  \n",
       "2  [all, residents, asked, to, shelter, in, place...  \n",
       "3  [people, receive, wildfires, evacuation, order...  \n",
       "4  [just, got, sent, this, photo, from, ruby, ala...  "
      ]
     },
     "execution_count": 7,
     "metadata": {},
     "output_type": "execute_result"
    }
   ],
   "source": [
    "tokenizer = nltk.tokenize.RegexpTokenizer(r'\\w+')\n",
    "\n",
    "train['filtered_tweet'] = train['filtered_tweet'].apply(lambda x: tokenizer.tokenize(x))\n",
    "\n",
    "test['filtered_tweet'] = test['filtered_tweet'].apply(lambda x: tokenizer.tokenize(x))\n",
    "\n",
    "train.head()"
   ]
  },
  {
   "cell_type": "markdown",
   "metadata": {
    "nteract": {
     "transient": {
      "deleting": false
     }
    }
   },
   "source": [
    "## Remove stopwords and punctuation"
   ]
  },
  {
   "cell_type": "code",
   "execution_count": 8,
   "metadata": {
    "execution": {
     "iopub.execute_input": "2020-05-16T15:31:03.323Z",
     "iopub.status.busy": "2020-05-16T15:31:03.306Z",
     "iopub.status.idle": "2020-05-16T15:31:29.029Z",
     "shell.execute_reply": "2020-05-16T15:31:29.362Z"
    },
    "jupyter": {
     "outputs_hidden": false,
     "source_hidden": false
    },
    "nteract": {
     "transient": {
      "deleting": false
     }
    },
    "outputExpanded": false
   },
   "outputs": [
    {
     "data": {
      "text/html": [
       "<div>\n",
       "<style scoped>\n",
       "    .dataframe tbody tr th:only-of-type {\n",
       "        vertical-align: middle;\n",
       "    }\n",
       "\n",
       "    .dataframe tbody tr th {\n",
       "        vertical-align: top;\n",
       "    }\n",
       "\n",
       "    .dataframe thead th {\n",
       "        text-align: right;\n",
       "    }\n",
       "</style>\n",
       "<table border=\"1\" class=\"dataframe\">\n",
       "  <thead>\n",
       "    <tr style=\"text-align: right;\">\n",
       "      <th></th>\n",
       "      <th>id</th>\n",
       "      <th>text</th>\n",
       "      <th>target</th>\n",
       "      <th>filtered_tweet</th>\n",
       "    </tr>\n",
       "  </thead>\n",
       "  <tbody>\n",
       "    <tr>\n",
       "      <th>0</th>\n",
       "      <td>1</td>\n",
       "      <td>Our Deeds are the Reason of this #earthquake M...</td>\n",
       "      <td>1</td>\n",
       "      <td>[deeds, reason, earthquake, may, allah, forgiv...</td>\n",
       "    </tr>\n",
       "    <tr>\n",
       "      <th>1</th>\n",
       "      <td>4</td>\n",
       "      <td>Forest fire near La Ronge Sask. Canada</td>\n",
       "      <td>1</td>\n",
       "      <td>[forest, fire, near, la, ronge, sask, canada]</td>\n",
       "    </tr>\n",
       "    <tr>\n",
       "      <th>2</th>\n",
       "      <td>5</td>\n",
       "      <td>All residents asked to 'shelter in place' are ...</td>\n",
       "      <td>1</td>\n",
       "      <td>[residents, asked, shelter, place, notified, o...</td>\n",
       "    </tr>\n",
       "    <tr>\n",
       "      <th>3</th>\n",
       "      <td>6</td>\n",
       "      <td>13,000 people receive #wildfires evacuation or...</td>\n",
       "      <td>1</td>\n",
       "      <td>[people, receive, wildfires, evacuation, order...</td>\n",
       "    </tr>\n",
       "    <tr>\n",
       "      <th>4</th>\n",
       "      <td>7</td>\n",
       "      <td>Just got sent this photo from Ruby #Alaska as ...</td>\n",
       "      <td>1</td>\n",
       "      <td>[got, sent, photo, ruby, alaska, smoke, wildfi...</td>\n",
       "    </tr>\n",
       "  </tbody>\n",
       "</table>\n",
       "</div>"
      ],
      "text/plain": [
       "   id                                               text  target  \\\n",
       "0   1  Our Deeds are the Reason of this #earthquake M...       1   \n",
       "1   4             Forest fire near La Ronge Sask. Canada       1   \n",
       "2   5  All residents asked to 'shelter in place' are ...       1   \n",
       "3   6  13,000 people receive #wildfires evacuation or...       1   \n",
       "4   7  Just got sent this photo from Ruby #Alaska as ...       1   \n",
       "\n",
       "                                      filtered_tweet  \n",
       "0  [deeds, reason, earthquake, may, allah, forgiv...  \n",
       "1      [forest, fire, near, la, ronge, sask, canada]  \n",
       "2  [residents, asked, shelter, place, notified, o...  \n",
       "3  [people, receive, wildfires, evacuation, order...  \n",
       "4  [got, sent, photo, ruby, alaska, smoke, wildfi...  "
      ]
     },
     "execution_count": 8,
     "metadata": {},
     "output_type": "execute_result"
    }
   ],
   "source": [
    "# remove stopwords and punctuation\n",
    "def remove_stopwords(text):\n",
    "    text = [word for word in text if word not in stopwords.words('english')]\n",
    "    text = [word for word in text if word not in punctuations]\n",
    "    \n",
    "    return text\n",
    "\n",
    "train['filtered_tweet'] = train['filtered_tweet'].apply(lambda x: remove_stopwords(x))\n",
    "\n",
    "test['filtered_tweet'] = test['filtered_tweet'].apply(lambda x: remove_stopwords(x))\n",
    "\n",
    "train.head()"
   ]
  },
  {
   "cell_type": "markdown",
   "metadata": {
    "nteract": {
     "transient": {
      "deleting": false
     }
    }
   },
   "source": [
    "## Recreate sentences"
   ]
  },
  {
   "cell_type": "code",
   "execution_count": 9,
   "metadata": {
    "execution": {
     "iopub.execute_input": "2020-05-16T15:31:29.108Z",
     "iopub.status.busy": "2020-05-16T15:31:29.083Z",
     "iopub.status.idle": "2020-05-16T15:31:29.139Z",
     "shell.execute_reply": "2020-05-16T15:31:29.369Z"
    },
    "jupyter": {
     "outputs_hidden": false,
     "source_hidden": false
    },
    "nteract": {
     "transient": {
      "deleting": false
     }
    },
    "outputExpanded": false
   },
   "outputs": [
    {
     "data": {
      "text/html": [
       "<div>\n",
       "<style scoped>\n",
       "    .dataframe tbody tr th:only-of-type {\n",
       "        vertical-align: middle;\n",
       "    }\n",
       "\n",
       "    .dataframe tbody tr th {\n",
       "        vertical-align: top;\n",
       "    }\n",
       "\n",
       "    .dataframe thead th {\n",
       "        text-align: right;\n",
       "    }\n",
       "</style>\n",
       "<table border=\"1\" class=\"dataframe\">\n",
       "  <thead>\n",
       "    <tr style=\"text-align: right;\">\n",
       "      <th></th>\n",
       "      <th>id</th>\n",
       "      <th>text</th>\n",
       "      <th>target</th>\n",
       "      <th>filtered_tweet</th>\n",
       "    </tr>\n",
       "  </thead>\n",
       "  <tbody>\n",
       "    <tr>\n",
       "      <th>0</th>\n",
       "      <td>1</td>\n",
       "      <td>Our Deeds are the Reason of this #earthquake M...</td>\n",
       "      <td>1</td>\n",
       "      <td>deeds reason earthquake may allah forgive us</td>\n",
       "    </tr>\n",
       "    <tr>\n",
       "      <th>1</th>\n",
       "      <td>4</td>\n",
       "      <td>Forest fire near La Ronge Sask. Canada</td>\n",
       "      <td>1</td>\n",
       "      <td>forest fire near la ronge sask canada</td>\n",
       "    </tr>\n",
       "    <tr>\n",
       "      <th>2</th>\n",
       "      <td>5</td>\n",
       "      <td>All residents asked to 'shelter in place' are ...</td>\n",
       "      <td>1</td>\n",
       "      <td>residents asked shelter place notified office...</td>\n",
       "    </tr>\n",
       "    <tr>\n",
       "      <th>3</th>\n",
       "      <td>6</td>\n",
       "      <td>13,000 people receive #wildfires evacuation or...</td>\n",
       "      <td>1</td>\n",
       "      <td>people receive wildfires evacuation orders ca...</td>\n",
       "    </tr>\n",
       "    <tr>\n",
       "      <th>4</th>\n",
       "      <td>7</td>\n",
       "      <td>Just got sent this photo from Ruby #Alaska as ...</td>\n",
       "      <td>1</td>\n",
       "      <td>got sent photo ruby alaska smoke wildfires po...</td>\n",
       "    </tr>\n",
       "  </tbody>\n",
       "</table>\n",
       "</div>"
      ],
      "text/plain": [
       "   id                                               text  target  \\\n",
       "0   1  Our Deeds are the Reason of this #earthquake M...       1   \n",
       "1   4             Forest fire near La Ronge Sask. Canada       1   \n",
       "2   5  All residents asked to 'shelter in place' are ...       1   \n",
       "3   6  13,000 people receive #wildfires evacuation or...       1   \n",
       "4   7  Just got sent this photo from Ruby #Alaska as ...       1   \n",
       "\n",
       "                                      filtered_tweet  \n",
       "0       deeds reason earthquake may allah forgive us  \n",
       "1              forest fire near la ronge sask canada  \n",
       "2   residents asked shelter place notified office...  \n",
       "3   people receive wildfires evacuation orders ca...  \n",
       "4   got sent photo ruby alaska smoke wildfires po...  "
      ]
     },
     "execution_count": 9,
     "metadata": {},
     "output_type": "execute_result"
    }
   ],
   "source": [
    "def sentence(text):\n",
    "  sentence = ''\n",
    "  for word in text:\n",
    "    sentence = sentence + ' ' + word\n",
    "  \n",
    "  return sentence\n",
    "\n",
    "train['filtered_tweet'] = train['filtered_tweet'].apply(lambda x: sentence(x))\n",
    "\n",
    "test['filtered_tweet'] = test['filtered_tweet'].apply(lambda x: sentence(x))\n",
    "\n",
    "train.head()"
   ]
  },
  {
   "cell_type": "markdown",
   "metadata": {
    "nteract": {
     "transient": {
      "deleting": false
     }
    }
   },
   "source": [
    "# Classification models"
   ]
  },
  {
   "cell_type": "markdown",
   "metadata": {},
   "source": [
    "### Create pipe"
   ]
  },
  {
   "cell_type": "code",
   "execution_count": 101,
   "metadata": {},
   "outputs": [],
   "source": [
    "def spacy_tokenizer(sentence):\n",
    "    mytokens = parser(sentence)\n",
    "    mytokens = [ word.lemma_.lower().strip() \n",
    "                if word.lemma_ != \"-PRON-\" else word.lower_ for word in mytokens ]\n",
    "    mytokens = [ word for word in mytokens \n",
    "                if word not in stop_words and word not in punctuations ]\n",
    "\n",
    "    return mytokens\n",
    "\n",
    "\n",
    "X = train['filtered_tweet']\n",
    "y = train['target']\n",
    "\n",
    "tfidf_vector = TfidfVectorizer(tokenizer = spacy_tokenizer)"
   ]
  },
  {
   "cell_type": "markdown",
   "metadata": {},
   "source": [
    "### KNN"
   ]
  },
  {
   "cell_type": "code",
   "execution_count": 102,
   "metadata": {},
   "outputs": [
    {
     "name": "stdout",
     "output_type": "stream",
     "text": [
      "0.760507880910683\n"
     ]
    }
   ],
   "source": [
    "X_train, X_test, y_train, y_test = train_test_split(X, y, test_size=0.3, random_state=72)\n",
    "\n",
    "classifier = KNeighborsClassifier(n_neighbors = 3, weights = 'uniform')\n",
    "\n",
    "pipe = Pipeline([('vectorizer', tfidf_vector),\n",
    "                 ('classifier', classifier)])\n",
    "\n",
    "pipe.fit(X_train, y_train)\n",
    "\n",
    "predicted = pipe.predict(X_test)\n",
    "\n",
    "accuracy = metrics.accuracy_score(y_test, predicted)\n",
    "precision = metrics.precision_score(y_test, predicted, average=None)\n",
    "recall = metrics.recall_score(y_test, predicted, average=None)\n",
    "\n",
    "print(accuracy)"
   ]
  },
  {
   "cell_type": "markdown",
   "metadata": {},
   "source": [
    "#### Plot for different values of n"
   ]
  },
  {
   "cell_type": "code",
   "execution_count": 107,
   "metadata": {},
   "outputs": [
    {
     "data": {
      "text/plain": [
       "Text(0.5, 0.98, 'Accuracy, precision and recall for multiple value of n')"
      ]
     },
     "execution_count": 107,
     "metadata": {},
     "output_type": "execute_result"
    },
    {
     "data": {
      "image/png": "[encoded data removed]",
      "text/plain": [
       "<Figure size 792x216 with 3 Axes>"
      ]
     },
     "metadata": {
      "needs_background": "light"
     },
     "output_type": "display_data"
    }
   ],
   "source": [
    "data_acc = {}\n",
    "data_prec = {}\n",
    "data_rec = {}\n",
    "\n",
    "\n",
    "for i in range(1, 500, 1):\n",
    "    classifier = KNeighborsClassifier(n_neighbors = i, weights = 'distance')\n",
    "\n",
    "    pipe = Pipeline([('vectorizer', tfidf_vector),\n",
    "                 ('classifier', classifier)])\n",
    "\n",
    "    pipe.fit(X_train, y_train)\n",
    "\n",
    "    predicted = pipe.predict(X_test)\n",
    "\n",
    "    accuracy = metrics.accuracy_score(y_test, predicted)\n",
    "    precision = metrics.precision_score(y_test, predicted, average=None)\n",
    "    recall = metrics.recall_score(y_test, predicted, average=None)\n",
    "\n",
    "    data_acc[i] = accuracy\n",
    "    data_prec[i] = precision\n",
    "    data_rec[i] = recall\n",
    "\n",
    "\n",
    "names_acc = list(data_acc.keys())\n",
    "values_acc = list(data_acc.values())\n",
    "\n",
    "names_prec = list(data_prec.keys())\n",
    "values_prec = list(data_prec.values())\n",
    "\n",
    "names_rec = list(data_rec.keys())\n",
    "values_rec = list(data_rec.values())\n",
    "\n",
    "fig, axs = plt.subplots(1, 3, figsize=(11, 3), sharey=True)\n",
    "\n",
    "axs[0].plot(names_acc, values_acc, label='accuracy')\n",
    "axs[0].legend()\n",
    "\n",
    "axs[1].plot(names_prec, values_prec, label='precision')\n",
    "axs[1].legend(('precision for target=1', 'precision for target=0'))\n",
    "\n",
    "axs[2].plot(names_rec, values_rec, label='recall')\n",
    "axs[2].legend(('recall for target=1', 'recall for target=0'))\n",
    "\n",
    "fig.suptitle('Accuracy, precision and recall for multiple value of n')"
   ]
  },
  {
   "cell_type": "code",
   "execution_count": 114,
   "metadata": {},
   "outputs": [
    {
     "name": "stdout",
     "output_type": "stream",
     "text": [
      "optimal number of neighbors:  64\n",
      "associated accuracy:  0.7894045534150613\n"
     ]
    }
   ],
   "source": [
    "print('optimal number of neighbors: ', np.argmax(values_acc))\n",
    "\n",
    "classifier = KNeighborsClassifier(n_neighbors = np.argmax(values_acc), weights = 'distance')\n",
    "\n",
    "pipe = Pipeline([('vectorizer', tfidf_vector),\n",
    "                 ('classifier', classifier)])\n",
    "\n",
    "pipe.fit(X_train, y_train)\n",
    "\n",
    "predicted = pipe.predict(X_test)\n",
    "\n",
    "accuracy = metrics.accuracy_score(y_test, predicted)\n",
    "precision = metrics.precision_score(y_test, predicted, average=None)\n",
    "recall = metrics.recall_score(y_test, predicted, average=None)\n",
    "\n",
    "print('associated accuracy: ', accuracy)"
   ]
  },
  {
   "cell_type": "markdown",
   "metadata": {},
   "source": [
    "#### Plot for different values of train/test split treshold"
   ]
  },
  {
   "cell_type": "code",
   "execution_count": 116,
   "metadata": {},
   "outputs": [
    {
     "data": {
      "text/plain": [
       "Text(0.5, 0.98, 'Accuracy, precision and recall for multiple value of n')"
      ]
     },
     "execution_count": 116,
     "metadata": {},
     "output_type": "execute_result"
    },
    {
     "data": {
      "image/png": "[encoded data removed]",
      "text/plain": [
       "<Figure size 792x216 with 3 Axes>"
      ]
     },
     "metadata": {
      "needs_background": "light"
     },
     "output_type": "display_data"
    }
   ],
   "source": [
    "data_acc = {}\n",
    "data_prec = {}\n",
    "data_rec = {}\n",
    "\n",
    "\n",
    "for i in range(1, 100, 1):\n",
    "    j = i/100\n",
    "    \n",
    "    X_train, X_test, y_train, y_test = train_test_split(X, y, test_size=j, random_state=72)\n",
    "    \n",
    "    classifier = KNeighborsClassifier(n_neighbors = 64, weights = 'distance')\n",
    "\n",
    "    pipe = Pipeline([('vectorizer', tfidf_vector),\n",
    "                 ('classifier', classifier)])\n",
    "\n",
    "    pipe.fit(X_train, y_train)\n",
    "\n",
    "    predicted = pipe.predict(X_test)\n",
    "\n",
    "    accuracy = metrics.accuracy_score(y_test, predicted)\n",
    "    precision = metrics.precision_score(y_test, predicted, average=None)\n",
    "    recall = metrics.recall_score(y_test, predicted, average=None)\n",
    "\n",
    "    data_acc[j] = accuracy\n",
    "    data_prec[j] = precision\n",
    "    data_rec[j] = recall\n",
    "\n",
    "\n",
    "names_acc = list(data_acc.keys())\n",
    "values_acc = list(data_acc.values())\n",
    "\n",
    "names_prec = list(data_prec.keys())\n",
    "values_prec = list(data_prec.values())\n",
    "\n",
    "names_rec = list(data_rec.keys())\n",
    "values_rec = list(data_rec.values())\n",
    "\n",
    "fig, axs = plt.subplots(1, 3, figsize=(11, 3), sharey=True)\n",
    "\n",
    "axs[0].plot(names_acc, values_acc, label='accuracy')\n",
    "axs[0].legend()\n",
    "\n",
    "axs[1].plot(names_prec, values_prec, label='precision')\n",
    "axs[1].legend(('precision for target=1', 'precision for target=0'))\n",
    "\n",
    "axs[2].plot(names_rec, values_rec, label='recall')\n",
    "axs[2].legend(('recall for target=1', 'recall for target=0'))\n",
    "\n",
    "fig.suptitle('Accuracy, precision and recall for multiple value of train/test split treshold')"
   ]
  },
  {
   "cell_type": "code",
   "execution_count": 117,
   "metadata": {},
   "outputs": [
    {
     "name": "stdout",
     "output_type": "stream",
     "text": [
      "optimal treshold:  0\n"
     ]
    }
   ],
   "source": [
    "print('optimal treshold: ', np.argmax(values_acc))"
   ]
  },
  {
   "cell_type": "code",
   "execution_count": 127,
   "metadata": {},
   "outputs": [
    {
     "name": "stdout",
     "output_type": "stream",
     "text": [
      "associated accuracy:  0.7898883782009193\n"
     ]
    }
   ],
   "source": [
    "# as the optimal treshold is 0 (overfitting), we'll take a treshold of 0.2\n",
    "\n",
    "X_train, X_test, y_train, y_test = train_test_split(X, y, test_size=0.2, random_state=72)\n",
    "\n",
    "classifier = KNeighborsClassifier(n_neighbors = 64, weights = 'distance')\n",
    "\n",
    "pipe = Pipeline([('vectorizer', tfidf_vector),\n",
    "                 ('classifier', classifier)])\n",
    "\n",
    "pipe.fit(X_train, y_train)\n",
    "\n",
    "predicted = pipe.predict(X_test)\n",
    "\n",
    "accuracy = metrics.accuracy_score(y_test, predicted)\n",
    "precision = metrics.precision_score(y_test, predicted, average=None)\n",
    "recall = metrics.recall_score(y_test, predicted, average=None)\n",
    "\n",
    "print('associated accuracy: ', accuracy)"
   ]
  },
  {
   "cell_type": "markdown",
   "metadata": {},
   "source": [
    "#### Run on test dataset"
   ]
  },
  {
   "cell_type": "code",
   "execution_count": 119,
   "metadata": {},
   "outputs": [
    {
     "data": {
      "text/html": [
       "<div>\n",
       "<style scoped>\n",
       "    .dataframe tbody tr th:only-of-type {\n",
       "        vertical-align: middle;\n",
       "    }\n",
       "\n",
       "    .dataframe tbody tr th {\n",
       "        vertical-align: top;\n",
       "    }\n",
       "\n",
       "    .dataframe thead th {\n",
       "        text-align: right;\n",
       "    }\n",
       "</style>\n",
       "<table border=\"1\" class=\"dataframe\">\n",
       "  <thead>\n",
       "    <tr style=\"text-align: right;\">\n",
       "      <th></th>\n",
       "      <th>text</th>\n",
       "      <th>prediction</th>\n",
       "    </tr>\n",
       "  </thead>\n",
       "  <tbody>\n",
       "    <tr>\n",
       "      <th>0</th>\n",
       "      <td>Just happened a terrible car crash</td>\n",
       "      <td>1</td>\n",
       "    </tr>\n",
       "    <tr>\n",
       "      <th>1</th>\n",
       "      <td>Heard about #earthquake is different cities, s...</td>\n",
       "      <td>1</td>\n",
       "    </tr>\n",
       "    <tr>\n",
       "      <th>2</th>\n",
       "      <td>there is a forest fire at spot pond, geese are...</td>\n",
       "      <td>1</td>\n",
       "    </tr>\n",
       "    <tr>\n",
       "      <th>3</th>\n",
       "      <td>Apocalypse lighting. #Spokane #wildfires</td>\n",
       "      <td>0</td>\n",
       "    </tr>\n",
       "    <tr>\n",
       "      <th>4</th>\n",
       "      <td>Typhoon Soudelor kills 28 in China and Taiwan</td>\n",
       "      <td>1</td>\n",
       "    </tr>\n",
       "  </tbody>\n",
       "</table>\n",
       "</div>"
      ],
      "text/plain": [
       "                                                text  prediction\n",
       "0                 Just happened a terrible car crash           1\n",
       "1  Heard about #earthquake is different cities, s...           1\n",
       "2  there is a forest fire at spot pond, geese are...           1\n",
       "3           Apocalypse lighting. #Spokane #wildfires           0\n",
       "4      Typhoon Soudelor kills 28 in China and Taiwan           1"
      ]
     },
     "execution_count": 119,
     "metadata": {},
     "output_type": "execute_result"
    }
   ],
   "source": [
    "X_train, X_test, y_train, y_test = train_test_split(X, y, test_size=0.001, random_state=72)\n",
    "\n",
    "X_test = test['filtered_tweet']\n",
    "\n",
    "pipe.fit(X_train, y_train)\n",
    "\n",
    "predicted = pipe.predict(X_test)\n",
    "\n",
    "test['prediction'] = predicted\n",
    "\n",
    "test[['text', 'prediction']].head()"
   ]
  },
  {
   "cell_type": "markdown",
   "metadata": {},
   "source": [
    "#### Create submission file"
   ]
  },
  {
   "cell_type": "code",
   "execution_count": 121,
   "metadata": {},
   "outputs": [],
   "source": [
    "sample_sub=pd.read_csv('../data/sample_submission.csv')\n",
    "\n",
    "sub=pd.DataFrame({'id':sample_sub['id'].values.tolist(),'target': predicted})\n",
    "sub.to_csv('../data/submission_KNN.csv',index=False)"
   ]
  },
  {
   "cell_type": "markdown",
   "metadata": {},
   "source": [
    "### Multinomial Naive Bayes"
   ]
  },
  {
   "cell_type": "code",
   "execution_count": null,
   "metadata": {},
   "outputs": [],
   "source": [
    "from sklearn.naive_bayes import MultinomialNB\n",
    "from sklearn.model_selection import cross_val_score\n",
    "\n",
    "classifier = MultinomialNB()\n",
    "\n",
    "pipe = Pipeline([('vectorizer', tfidf_vector),\n",
    "                 ('classifier', classifier)])\n",
    "\n",
    "pipe.fit(X_train, y_train)\n",
    "\n",
    "predicted = pipe.predict(X_test)\n",
    "\n",
    "accuracy = metrics.accuracy_score(y_test, predicted)\n",
    "precision = metrics.precision_score(y_test, predicted, average=None)\n",
    "recall = metrics.recall_score(y_test, predicted, average=None)\n",
    "\n",
    "print(accuracy)"
   ]
  },
  {
   "cell_type": "markdown",
   "metadata": {},
   "source": [
    "#### Plot for different values of train/test split treshold"
   ]
  },
  {
   "cell_type": "code",
   "execution_count": 123,
   "metadata": {},
   "outputs": [
    {
     "data": {
      "text/plain": [
       "Text(0.5, 0.98, 'Accuracy, precision and recall for multiple value of train/test split treshold')"
      ]
     },
     "execution_count": 123,
     "metadata": {},
     "output_type": "execute_result"
    },
    {
     "data": {
      "image/png": "[encoded data removed]",
      "text/plain": [
       "<Figure size 792x216 with 3 Axes>"
      ]
     },
     "metadata": {
      "needs_background": "light"
     },
     "output_type": "display_data"
    }
   ],
   "source": [
    "data_acc = {}\n",
    "data_prec = {}\n",
    "data_rec = {}\n",
    "\n",
    "\n",
    "for i in range(1, 100, 1):\n",
    "    j = i/100\n",
    "    \n",
    "    X_train, X_test, y_train, y_test = train_test_split(X, y, test_size=j, random_state=72)\n",
    "\n",
    "    classifier = MultinomialNB()\n",
    "    \n",
    "    pipe = Pipeline([('vectorizer', tfidf_vector),\n",
    "                 ('classifier', classifier)])\n",
    "\n",
    "    pipe.fit(X_train, y_train)\n",
    "\n",
    "    predicted = pipe.predict(X_test)\n",
    "\n",
    "    accuracy = metrics.accuracy_score(y_test, predicted)\n",
    "    precision = metrics.precision_score(y_test, predicted, average=None)\n",
    "    recall = metrics.recall_score(y_test, predicted, average=None)\n",
    "\n",
    "    data_acc[j] = accuracy\n",
    "    data_prec[j] = precision\n",
    "    data_rec[j] = recall\n",
    "\n",
    "\n",
    "names_acc = list(data_acc.keys())\n",
    "values_acc = list(data_acc.values())\n",
    "\n",
    "names_prec = list(data_prec.keys())\n",
    "values_prec = list(data_prec.values())\n",
    "\n",
    "names_rec = list(data_rec.keys())\n",
    "values_rec = list(data_rec.values())\n",
    "\n",
    "fig, axs = plt.subplots(1, 3, figsize=(11, 3), sharey=True)\n",
    "\n",
    "axs[0].plot(names_acc, values_acc, label='accuracy')\n",
    "axs[0].legend()\n",
    "\n",
    "axs[1].plot(names_prec, values_prec, label='precision')\n",
    "axs[1].legend(('precision for target=1', 'precision for target=0'))\n",
    "\n",
    "axs[2].plot(names_rec, values_rec, label='recall')\n",
    "axs[2].legend(('recall for target=1', 'recall for target=0'))\n",
    "\n",
    "fig.suptitle('Accuracy, precision and recall for multiple value of train/test split treshold')"
   ]
  },
  {
   "cell_type": "code",
   "execution_count": 124,
   "metadata": {},
   "outputs": [
    {
     "name": "stdout",
     "output_type": "stream",
     "text": [
      "optimal treshold:  0\n"
     ]
    }
   ],
   "source": [
    "print('optimal treshold: ', np.argmax(values_acc))"
   ]
  },
  {
   "cell_type": "code",
   "execution_count": 126,
   "metadata": {},
   "outputs": [
    {
     "name": "stdout",
     "output_type": "stream",
     "text": [
      "associated accuracy:  0.8010505581089954\n"
     ]
    }
   ],
   "source": [
    "# as the optimal treshold is 0 (overfitting), we'll take a treshold of 0.2, which seems also to be an optimum\n",
    "\n",
    "X_train, X_test, y_train, y_test = train_test_split(X, y, test_size=0.2, random_state=72)\n",
    "\n",
    "classifier = MultinomialNB()\n",
    "\n",
    "pipe = Pipeline([('vectorizer', tfidf_vector),\n",
    "                 ('classifier', classifier)])\n",
    "\n",
    "pipe.fit(X_train, y_train)\n",
    "\n",
    "predicted = pipe.predict(X_test)\n",
    "\n",
    "accuracy = metrics.accuracy_score(y_test, predicted)\n",
    "precision = metrics.precision_score(y_test, predicted, average=None)\n",
    "recall = metrics.recall_score(y_test, predicted, average=None)\n",
    "\n",
    "print('associated accuracy: ', accuracy)"
   ]
  },
  {
   "cell_type": "markdown",
   "metadata": {},
   "source": [
    "#### Run on test dataset"
   ]
  },
  {
   "cell_type": "code",
   "execution_count": 128,
   "metadata": {},
   "outputs": [
    {
     "data": {
      "text/html": [
       "<div>\n",
       "<style scoped>\n",
       "    .dataframe tbody tr th:only-of-type {\n",
       "        vertical-align: middle;\n",
       "    }\n",
       "\n",
       "    .dataframe tbody tr th {\n",
       "        vertical-align: top;\n",
       "    }\n",
       "\n",
       "    .dataframe thead th {\n",
       "        text-align: right;\n",
       "    }\n",
       "</style>\n",
       "<table border=\"1\" class=\"dataframe\">\n",
       "  <thead>\n",
       "    <tr style=\"text-align: right;\">\n",
       "      <th></th>\n",
       "      <th>text</th>\n",
       "      <th>prediction</th>\n",
       "    </tr>\n",
       "  </thead>\n",
       "  <tbody>\n",
       "    <tr>\n",
       "      <th>0</th>\n",
       "      <td>Just happened a terrible car crash</td>\n",
       "      <td>1</td>\n",
       "    </tr>\n",
       "    <tr>\n",
       "      <th>1</th>\n",
       "      <td>Heard about #earthquake is different cities, s...</td>\n",
       "      <td>1</td>\n",
       "    </tr>\n",
       "    <tr>\n",
       "      <th>2</th>\n",
       "      <td>there is a forest fire at spot pond, geese are...</td>\n",
       "      <td>1</td>\n",
       "    </tr>\n",
       "    <tr>\n",
       "      <th>3</th>\n",
       "      <td>Apocalypse lighting. #Spokane #wildfires</td>\n",
       "      <td>0</td>\n",
       "    </tr>\n",
       "    <tr>\n",
       "      <th>4</th>\n",
       "      <td>Typhoon Soudelor kills 28 in China and Taiwan</td>\n",
       "      <td>1</td>\n",
       "    </tr>\n",
       "  </tbody>\n",
       "</table>\n",
       "</div>"
      ],
      "text/plain": [
       "                                                text  prediction\n",
       "0                 Just happened a terrible car crash           1\n",
       "1  Heard about #earthquake is different cities, s...           1\n",
       "2  there is a forest fire at spot pond, geese are...           1\n",
       "3           Apocalypse lighting. #Spokane #wildfires           0\n",
       "4      Typhoon Soudelor kills 28 in China and Taiwan           1"
      ]
     },
     "execution_count": 128,
     "metadata": {},
     "output_type": "execute_result"
    }
   ],
   "source": [
    "X_train, X_test, y_train, y_test = train_test_split(X, y, test_size=0.001, random_state=72)\n",
    "\n",
    "X_test = test['filtered_tweet']\n",
    "\n",
    "\n",
    "\n",
    "pipe.fit(X_train, y_train)\n",
    "\n",
    "predicted = pipe.predict(X_test)\n",
    "\n",
    "test['prediction'] = predicted\n",
    "\n",
    "test[['text', 'prediction']].head()"
   ]
  },
  {
   "cell_type": "markdown",
   "metadata": {},
   "source": [
    "#### Create submission file"
   ]
  },
  {
   "cell_type": "code",
   "execution_count": 130,
   "metadata": {},
   "outputs": [],
   "source": [
    "sample_sub=pd.read_csv('../data/sample_submission.csv')\n",
    "\n",
    "sub=pd.DataFrame({'id':sample_sub['id'].values.tolist(),'target': predicted})\n",
    "sub.to_csv('../data/submission_MNB.csv',index=False)"
   ]
  },
  {
   "cell_type": "markdown",
   "metadata": {},
   "source": [
    "### Bernouilli Naive Bayes"
   ]
  },
  {
   "cell_type": "code",
   "execution_count": 73,
   "metadata": {},
   "outputs": [
    {
     "name": "stdout",
     "output_type": "stream",
     "text": [
      "0.8021015761821366\n"
     ]
    }
   ],
   "source": [
    "from sklearn.naive_bayes import BernoulliNB\n",
    "\n",
    "classifier = BernoulliNB()\n",
    "\n",
    "pipe = Pipeline([('vectorizer', tfidf_vector),\n",
    "                 ('classifier', classifier)])\n",
    "\n",
    "pipe.fit(X_train, y_train)\n",
    "\n",
    "predicted = pipe.predict(X_test)\n",
    "\n",
    "accuracy = metrics.accuracy_score(y_test, predicted)\n",
    "precision = metrics.precision_score(y_test, predicted, average=None)\n",
    "recall = metrics.recall_score(y_test, predicted, average=None)\n",
    "\n",
    "print(accuracy)"
   ]
  },
  {
   "cell_type": "markdown",
   "metadata": {},
   "source": [
    "#### Plot for different values of train/test split treshold"
   ]
  },
  {
   "cell_type": "code",
   "execution_count": 131,
   "metadata": {},
   "outputs": [
    {
     "data": {
      "text/plain": [
       "Text(0.5, 0.98, 'Accuracy, precision and recall for multiple value of train/test split treshold')"
      ]
     },
     "execution_count": 131,
     "metadata": {},
     "output_type": "execute_result"
    },
    {
     "data": {
      "image/png": "[encoded data removed]",
      "text/plain": [
       "<Figure size 792x216 with 3 Axes>"
      ]
     },
     "metadata": {
      "needs_background": "light"
     },
     "output_type": "display_data"
    }
   ],
   "source": [
    "data_acc = {}\n",
    "data_prec = {}\n",
    "data_rec = {}\n",
    "\n",
    "\n",
    "for i in range(1, 100, 1):\n",
    "    j = i/100\n",
    "    \n",
    "    X_train, X_test, y_train, y_test = train_test_split(X, y, test_size=j, random_state=72)\n",
    "\n",
    "    classifier = BernoulliNB()\n",
    "    \n",
    "    pipe = Pipeline([('vectorizer', tfidf_vector),\n",
    "                 ('classifier', classifier)])\n",
    "\n",
    "    pipe.fit(X_train, y_train)\n",
    "\n",
    "    predicted = pipe.predict(X_test)\n",
    "\n",
    "    accuracy = metrics.accuracy_score(y_test, predicted)\n",
    "    precision = metrics.precision_score(y_test, predicted, average=None)\n",
    "    recall = metrics.recall_score(y_test, predicted, average=None)\n",
    "\n",
    "    data_acc[j] = accuracy\n",
    "    data_prec[j] = precision\n",
    "    data_rec[j] = recall\n",
    "\n",
    "\n",
    "names_acc = list(data_acc.keys())\n",
    "values_acc = list(data_acc.values())\n",
    "\n",
    "names_prec = list(data_prec.keys())\n",
    "values_prec = list(data_prec.values())\n",
    "\n",
    "names_rec = list(data_rec.keys())\n",
    "values_rec = list(data_rec.values())\n",
    "\n",
    "fig, axs = plt.subplots(1, 3, figsize=(11, 3), sharey=True)\n",
    "\n",
    "axs[0].plot(names_acc, values_acc, label='accuracy')\n",
    "axs[0].legend()\n",
    "\n",
    "axs[1].plot(names_prec, values_prec, label='precision')\n",
    "axs[1].legend(('precision for target=1', 'precision for target=0'))\n",
    "\n",
    "axs[2].plot(names_rec, values_rec, label='recall')\n",
    "axs[2].legend(('recall for target=1', 'recall for target=0'))\n",
    "\n",
    "fig.suptitle('Accuracy, precision and recall for multiple value of train/test split treshold')"
   ]
  },
  {
   "cell_type": "code",
   "execution_count": 132,
   "metadata": {},
   "outputs": [
    {
     "name": "stdout",
     "output_type": "stream",
     "text": [
      "optimal treshold:  0\n"
     ]
    }
   ],
   "source": [
    "print('optimal treshold: ', np.argmax(values_acc))"
   ]
  },
  {
   "cell_type": "code",
   "execution_count": 133,
   "metadata": {},
   "outputs": [
    {
     "name": "stdout",
     "output_type": "stream",
     "text": [
      "associated accuracy:  0.8036769533814839\n"
     ]
    }
   ],
   "source": [
    "# as the optimal treshold is 0 (overfitting), we'll take a treshold of 0.2, which seems also to be an optimum\n",
    "\n",
    "X_train, X_test, y_train, y_test = train_test_split(X, y, test_size=0.2, random_state=72)\n",
    "\n",
    "classifier = BernoulliNB()\n",
    "\n",
    "pipe = Pipeline([('vectorizer', tfidf_vector),\n",
    "                 ('classifier', classifier)])\n",
    "\n",
    "pipe.fit(X_train, y_train)\n",
    "\n",
    "predicted = pipe.predict(X_test)\n",
    "\n",
    "accuracy = metrics.accuracy_score(y_test, predicted)\n",
    "precision = metrics.precision_score(y_test, predicted, average=None)\n",
    "recall = metrics.recall_score(y_test, predicted, average=None)\n",
    "\n",
    "print('associated accuracy: ', accuracy)"
   ]
  },
  {
   "cell_type": "markdown",
   "metadata": {},
   "source": [
    "#### Run on test dataset"
   ]
  },
  {
   "cell_type": "code",
   "execution_count": 134,
   "metadata": {},
   "outputs": [
    {
     "data": {
      "text/html": [
       "<div>\n",
       "<style scoped>\n",
       "    .dataframe tbody tr th:only-of-type {\n",
       "        vertical-align: middle;\n",
       "    }\n",
       "\n",
       "    .dataframe tbody tr th {\n",
       "        vertical-align: top;\n",
       "    }\n",
       "\n",
       "    .dataframe thead th {\n",
       "        text-align: right;\n",
       "    }\n",
       "</style>\n",
       "<table border=\"1\" class=\"dataframe\">\n",
       "  <thead>\n",
       "    <tr style=\"text-align: right;\">\n",
       "      <th></th>\n",
       "      <th>text</th>\n",
       "      <th>prediction</th>\n",
       "    </tr>\n",
       "  </thead>\n",
       "  <tbody>\n",
       "    <tr>\n",
       "      <th>0</th>\n",
       "      <td>Just happened a terrible car crash</td>\n",
       "      <td>1</td>\n",
       "    </tr>\n",
       "    <tr>\n",
       "      <th>1</th>\n",
       "      <td>Heard about #earthquake is different cities, s...</td>\n",
       "      <td>1</td>\n",
       "    </tr>\n",
       "    <tr>\n",
       "      <th>2</th>\n",
       "      <td>there is a forest fire at spot pond, geese are...</td>\n",
       "      <td>1</td>\n",
       "    </tr>\n",
       "    <tr>\n",
       "      <th>3</th>\n",
       "      <td>Apocalypse lighting. #Spokane #wildfires</td>\n",
       "      <td>1</td>\n",
       "    </tr>\n",
       "    <tr>\n",
       "      <th>4</th>\n",
       "      <td>Typhoon Soudelor kills 28 in China and Taiwan</td>\n",
       "      <td>1</td>\n",
       "    </tr>\n",
       "  </tbody>\n",
       "</table>\n",
       "</div>"
      ],
      "text/plain": [
       "                                                text  prediction\n",
       "0                 Just happened a terrible car crash           1\n",
       "1  Heard about #earthquake is different cities, s...           1\n",
       "2  there is a forest fire at spot pond, geese are...           1\n",
       "3           Apocalypse lighting. #Spokane #wildfires           1\n",
       "4      Typhoon Soudelor kills 28 in China and Taiwan           1"
      ]
     },
     "execution_count": 134,
     "metadata": {},
     "output_type": "execute_result"
    }
   ],
   "source": [
    "X_train, X_test, y_train, y_test = train_test_split(X, y, test_size=0.001, random_state=72)\n",
    "\n",
    "X_test = test['filtered_tweet']\n",
    "\n",
    "pipe.fit(X_train, y_train)\n",
    "\n",
    "predicted = pipe.predict(X_test)\n",
    "\n",
    "test['prediction'] = predicted\n",
    "\n",
    "test[['text', 'prediction']].head()"
   ]
  },
  {
   "cell_type": "markdown",
   "metadata": {},
   "source": [
    "#### Create submission file"
   ]
  },
  {
   "cell_type": "code",
   "execution_count": 135,
   "metadata": {},
   "outputs": [],
   "source": [
    "sample_sub=pd.read_csv('../data/sample_submission.csv')\n",
    "\n",
    "sub=pd.DataFrame({'id':sample_sub['id'].values.tolist(),'target': predicted})\n",
    "sub.to_csv('../data/submission_BNB.csv',index=False)"
   ]
  },
  {
   "cell_type": "markdown",
   "metadata": {
    "nteract": {
     "transient": {
      "deleting": false
     }
    }
   },
   "source": [
    "### Logistic regression"
   ]
  },
  {
   "cell_type": "code",
   "execution_count": 10,
   "metadata": {
    "execution": {
     "iopub.execute_input": "2020-05-16T15:31:29.175Z",
     "iopub.status.busy": "2020-05-16T15:31:29.161Z",
     "iopub.status.idle": "2020-05-16T15:31:29.198Z",
     "shell.execute_reply": "2020-05-16T15:31:29.376Z"
    },
    "jupyter": {
     "outputs_hidden": false,
     "source_hidden": false
    },
    "nteract": {
     "transient": {
      "deleting": false
     }
    },
    "outputExpanded": false
   },
   "outputs": [],
   "source": [
    "#!python -m spacy download en_core_web_sm\n",
    "\n",
    "from sklearn.feature_extraction.text import CountVectorizer,TfidfVectorizer\n",
    "from sklearn.base import TransformerMixin\n",
    "from sklearn.pipeline import Pipeline\n",
    "import string\n",
    "from sklearn.model_selection import train_test_split\n",
    "from sklearn.linear_model import LogisticRegression\n",
    "from sklearn import metrics"
   ]
  },
  {
   "cell_type": "code",
   "execution_count": 96,
   "metadata": {
    "execution": {
     "iopub.execute_input": "2020-05-16T15:31:29.349Z",
     "iopub.status.busy": "2020-05-16T15:31:29.337Z",
     "iopub.status.idle": "2020-05-16T15:31:30.814Z",
     "shell.execute_reply": "2020-05-16T15:31:30.949Z"
    },
    "jupyter": {
     "outputs_hidden": false,
     "source_hidden": false
    },
    "nteract": {
     "transient": {
      "deleting": false
     }
    },
    "outputExpanded": false
   },
   "outputs": [
    {
     "name": "stdout",
     "output_type": "stream",
     "text": [
      "0.8069176882661997\n"
     ]
    }
   ],
   "source": [
    "X_train, X_test, y_train, y_test = train_test_split(X, y, test_size=0.3, random_state=72)\n",
    "\n",
    "classifier = LogisticRegression(solver=\"lbfgs\")\n",
    "\n",
    "pipe = Pipeline([('vectorizer', tfidf_vector),\n",
    "                 ('classifier', classifier)])\n",
    "\n",
    "pipe.fit(X_train, y_train)\n",
    "\n",
    "predicted = pipe.predict(X_test)\n",
    "\n",
    "accuracy = metrics.accuracy_score(y_test, predicted)\n",
    "precision = metrics.precision_score(y_test, predicted, average=None)\n",
    "recall = metrics.recall_score(y_test, predicted, average=None)\n",
    "\n",
    "print(accuracy)"
   ]
  },
  {
   "cell_type": "code",
   "execution_count": 14,
   "metadata": {
    "execution": {
     "iopub.execute_input": "2020-05-16T15:31:30.848Z",
     "iopub.status.busy": "2020-05-16T15:31:30.835Z",
     "iopub.status.idle": "2020-05-16T15:31:30.886Z",
     "shell.execute_reply": "2020-05-16T15:31:30.963Z"
    },
    "jupyter": {
     "outputs_hidden": false,
     "source_hidden": false
    },
    "nteract": {
     "transient": {
      "deleting": false
     }
    },
    "outputExpanded": false
   },
   "outputs": [
    {
     "name": "stdout",
     "output_type": "stream",
     "text": [
      "For a train/test split treshold of 0.3: \n",
      "\n",
      "We can see here that our model identified a tweet about a disaster 80.6% of the time. \n",
      "\n",
      "When it predicted a tweet to be about a disaster, it was correctly assessed 77.9% of the time, \n",
      "and was correctly assessed for a tweet not about a disaster 86.1% of the time. \n",
      "\n",
      "When given a tweet about a disaster, the model considered it as being about a disaster 91.7% of the time, \n",
      "and when given a tweet not about a disaster the model considered it as not a disaster for 66.3% of the time. \n",
      "\n"
     ]
    }
   ],
   "source": [
    "print(f'For a train/test split treshold of 0.3: \\n')\n",
    "\n",
    "print(f'We can see here that our model identified a tweet about a disaster {str(accuracy*100)[:4]}% of the time. \\n')\n",
    "\n",
    "print(f'When it predicted a tweet to be about a disaster, it was correctly assessed {str(precision[0]*100)[:4]}% of the time, \\nand was correctly assessed for a tweet not about a disaster {str(precision[1]*100)[:4]}% of the time. \\n')\n",
    "\n",
    "print(f'When given a tweet about a disaster, the model considered it as being about a disaster {str(recall[0]*100)[:4]}% of the time, \\nand when given a tweet not about a disaster the model considered it as not a disaster for {str(recall[1]*100)[:4]}% of the time. \\n')"
   ]
  },
  {
   "cell_type": "markdown",
   "metadata": {
    "nteract": {
     "transient": {
      "deleting": false
     }
    }
   },
   "source": [
    "#### Plot the results for different levels of train/test split treshold"
   ]
  },
  {
   "cell_type": "code",
   "execution_count": 84,
   "metadata": {
    "execution": {
     "iopub.execute_input": "2020-05-16T15:31:30.920Z",
     "iopub.status.busy": "2020-05-16T15:31:30.906Z",
     "iopub.status.idle": "2020-05-16T15:33:14.781Z",
     "shell.execute_reply": "2020-05-16T15:33:14.894Z"
    },
    "jupyter": {
     "outputs_hidden": false,
     "source_hidden": false
    },
    "nteract": {
     "transient": {
      "deleting": false
     }
    },
    "outputExpanded": false
   },
   "outputs": [
    {
     "name": "stderr",
     "output_type": "stream",
     "text": [
      "/Users/Samuel/anaconda3/lib/python3.7/site-packages/sklearn/metrics/classification.py:1437: UndefinedMetricWarning: Precision is ill-defined and being set to 0.0 in labels with no predicted samples.\n",
      "  'precision', 'predicted', average, warn_for)\n"
     ]
    },
    {
     "data": {
      "text/plain": [
       "Text(0.5, 0.98, 'Accuracy, precision and recall for multiple value of train/test split treshold')"
      ]
     },
     "execution_count": 84,
     "metadata": {},
     "output_type": "execute_result"
    },
    {
     "data": {
      "image/png": "[encoded data removed]",
      "text/plain": [
       "<Figure size 792x216 with 3 Axes>"
      ]
     },
     "metadata": {
      "needs_background": "light"
     },
     "output_type": "display_data"
    }
   ],
   "source": [
    "import matplotlib.pyplot as plt\n",
    "\n",
    "X = train['filtered_tweet']\n",
    "y = train['target']\n",
    "\n",
    "data_acc = {}\n",
    "data_prec = {}\n",
    "data_rec = {}\n",
    "\n",
    "\n",
    "for i in range(1, 100, 1):\n",
    "  j = i/100\n",
    "  \n",
    "  X_train, X_test, y_train, y_test = train_test_split(X, y, test_size=j, random_state=72)\n",
    "  \n",
    "  pipe.fit(X_train, y_train)\n",
    "\n",
    "  predicted = pipe.predict(X_test)\n",
    "\n",
    "  accuracy = metrics.accuracy_score(y_test, predicted)\n",
    "  precision = metrics.precision_score(y_test, predicted, average=None)\n",
    "  recall = metrics.recall_score(y_test, predicted, average=None)\n",
    "  \n",
    "  data_acc[j] = accuracy\n",
    "  data_prec[j] = precision\n",
    "  data_rec[j] = recall\n",
    "  \n",
    "names_acc = list(data_acc.keys())\n",
    "values_acc = list(data_acc.values())\n",
    "\n",
    "names_prec = list(data_prec.keys())\n",
    "values_prec = list(data_prec.values())\n",
    "\n",
    "names_rec = list(data_rec.keys())\n",
    "values_rec = list(data_rec.values())\n",
    "\n",
    "fig, axs = plt.subplots(1, 3, figsize=(11, 3), sharey=True)\n",
    "\n",
    "axs[0].plot(names_acc, values_acc, label='accuracy')\n",
    "axs[0].legend()\n",
    "\n",
    "axs[1].plot(names_prec, values_prec, label='precision')\n",
    "axs[1].legend(('precision for target=1', 'precision for target=0'))\n",
    "\n",
    "axs[2].plot(names_rec, values_rec, label='recall')\n",
    "axs[2].legend(('recall for target=1', 'recall for target=0'))\n",
    "\n",
    "fig.suptitle('Accuracy, precision and recall for multiple value of train/test split treshold')"
   ]
  },
  {
   "cell_type": "code",
   "execution_count": 85,
   "metadata": {
    "execution": {
     "iopub.execute_input": "2020-05-16T15:33:14.819Z",
     "iopub.status.busy": "2020-05-16T15:33:14.804Z",
     "iopub.status.idle": "2020-05-16T15:33:14.848Z",
     "shell.execute_reply": "2020-05-16T15:33:14.902Z"
    },
    "jupyter": {
     "outputs_hidden": false,
     "source_hidden": false
    },
    "nteract": {
     "transient": {
      "deleting": false
     }
    },
    "outputExpanded": false
   },
   "outputs": [
    {
     "name": "stdout",
     "output_type": "stream",
     "text": [
      "From those graphs, we can see that the optimal train/test split treshold seems to be around:  0\n"
     ]
    }
   ],
   "source": [
    "print('From those graphs, we can see that the optimal train/test split treshold is: ', np.argmax(values_acc))"
   ]
  },
  {
   "cell_type": "markdown",
   "metadata": {
    "nteract": {
     "transient": {
      "deleting": false
     }
    }
   },
   "source": [
    "#### Test the model on the testing dataset"
   ]
  },
  {
   "cell_type": "code",
   "execution_count": 99,
   "metadata": {
    "execution": {
     "iopub.execute_input": "2020-05-16T15:33:14.881Z",
     "iopub.status.busy": "2020-05-16T15:33:14.869Z",
     "iopub.status.idle": "2020-05-16T15:33:16.725Z",
     "shell.execute_reply": "2020-05-16T15:33:16.857Z"
    },
    "jupyter": {
     "outputs_hidden": false,
     "source_hidden": false
    },
    "nteract": {
     "transient": {
      "deleting": false
     }
    },
    "outputExpanded": false
   },
   "outputs": [
    {
     "data": {
      "text/html": [
       "<div>\n",
       "<style scoped>\n",
       "    .dataframe tbody tr th:only-of-type {\n",
       "        vertical-align: middle;\n",
       "    }\n",
       "\n",
       "    .dataframe tbody tr th {\n",
       "        vertical-align: top;\n",
       "    }\n",
       "\n",
       "    .dataframe thead th {\n",
       "        text-align: right;\n",
       "    }\n",
       "</style>\n",
       "<table border=\"1\" class=\"dataframe\">\n",
       "  <thead>\n",
       "    <tr style=\"text-align: right;\">\n",
       "      <th></th>\n",
       "      <th>text</th>\n",
       "      <th>prediction</th>\n",
       "    </tr>\n",
       "  </thead>\n",
       "  <tbody>\n",
       "    <tr>\n",
       "      <th>0</th>\n",
       "      <td>Just happened a terrible car crash</td>\n",
       "      <td>1</td>\n",
       "    </tr>\n",
       "    <tr>\n",
       "      <th>1</th>\n",
       "      <td>Heard about #earthquake is different cities, s...</td>\n",
       "      <td>1</td>\n",
       "    </tr>\n",
       "    <tr>\n",
       "      <th>2</th>\n",
       "      <td>there is a forest fire at spot pond, geese are...</td>\n",
       "      <td>1</td>\n",
       "    </tr>\n",
       "    <tr>\n",
       "      <th>3</th>\n",
       "      <td>Apocalypse lighting. #Spokane #wildfires</td>\n",
       "      <td>0</td>\n",
       "    </tr>\n",
       "    <tr>\n",
       "      <th>4</th>\n",
       "      <td>Typhoon Soudelor kills 28 in China and Taiwan</td>\n",
       "      <td>1</td>\n",
       "    </tr>\n",
       "  </tbody>\n",
       "</table>\n",
       "</div>"
      ],
      "text/plain": [
       "                                                text  prediction\n",
       "0                 Just happened a terrible car crash           1\n",
       "1  Heard about #earthquake is different cities, s...           1\n",
       "2  there is a forest fire at spot pond, geese are...           1\n",
       "3           Apocalypse lighting. #Spokane #wildfires           0\n",
       "4      Typhoon Soudelor kills 28 in China and Taiwan           1"
      ]
     },
     "execution_count": 99,
     "metadata": {},
     "output_type": "execute_result"
    }
   ],
   "source": [
    "X_train, X_test, y_train, y_test = train_test_split(X, y, test_size=0.001, random_state=72)\n",
    "\n",
    "X_test = test['filtered_tweet']\n",
    "\n",
    "pipe.fit(X_train, y_train)\n",
    "\n",
    "predicted = pipe.predict(X_test)\n",
    "\n",
    "test['prediction'] = predicted\n",
    "\n",
    "test[['text', 'prediction']].head()"
   ]
  },
  {
   "cell_type": "markdown",
   "metadata": {
    "nteract": {
     "transient": {
      "deleting": false
     }
    }
   },
   "source": [
    "#### Create submission file"
   ]
  },
  {
   "cell_type": "code",
   "execution_count": 98,
   "metadata": {
    "execution": {
     "iopub.execute_input": "2020-05-16T15:33:16.773Z",
     "iopub.status.busy": "2020-05-16T15:33:16.749Z",
     "iopub.status.idle": "2020-05-16T15:33:16.797Z",
     "shell.execute_reply": "2020-05-16T15:33:16.870Z"
    },
    "jupyter": {
     "outputs_hidden": false,
     "source_hidden": false
    },
    "nteract": {
     "transient": {
      "deleting": false
     }
    },
    "outputExpanded": false
   },
   "outputs": [],
   "source": [
    "sample_sub=pd.read_csv('../data/sample_submission.csv')\n",
    "\n",
    "sub=pd.DataFrame({'id':sample_sub['id'].values.tolist(),'target': predicted})\n",
    "sub.to_csv('../data/submission_LR.csv',index=False)"
   ]
  },
  {
   "cell_type": "markdown",
   "metadata": {
    "nteract": {
     "transient": {
      "deleting": false
     }
    }
   },
   "source": [
    "## Neural networks"
   ]
  },
  {
   "cell_type": "markdown",
   "metadata": {
    "nteract": {
     "transient": {
      "deleting": false
     }
    }
   },
   "source": [
    "### Vectorizing tweets"
   ]
  },
  {
   "cell_type": "code",
   "execution_count": 197,
   "metadata": {
    "execution": {
     "iopub.execute_input": "2020-05-16T16:00:12.366Z",
     "iopub.status.busy": "2020-05-16T16:00:12.328Z",
     "iopub.status.idle": "2020-05-16T16:00:13.131Z",
     "shell.execute_reply": "2020-05-16T16:00:13.160Z"
    },
    "jupyter": {
     "outputs_hidden": false,
     "source_hidden": false
    },
    "nteract": {
     "transient": {
      "deleting": false
     }
    },
    "outputExpanded": false
   },
   "outputs": [
    {
     "name": "stdout",
     "output_type": "stream",
     "text": [
      "train input shape:  (7613, 867)\n"
     ]
    }
   ],
   "source": [
    "from sklearn.feature_extraction.text import CountVectorizer\n",
    "\n",
    "X_train = train['filtered_tweet']\n",
    "y_train = train['target']\n",
    "\n",
    "#X_train, X_test, y_train, y_test = train_test_split(X, y, test_size=0.2, random_state=72)\n",
    "\n",
    "word_vectorizer = CountVectorizer(token_pattern=r\"(?u)\\b\\w+\\b\", \n",
    "                stop_words=None, ngram_range=(2,2), analyzer='word')\n",
    "\n",
    "# Vectorize the training set\n",
    "X_train = word_vectorizer.fit_transform(X_train.map(lambda words: ', '.join(words)))\n",
    "\n",
    "# Vectorize the testing test\n",
    "#X_test = word_vectorizer.transform(X_test.map(lambda words: ', '.join(words)))\n",
    "\n",
    "# Our output variable \"target\" which indicates whether a tweet is a disaster tweet\n",
    "#y_train = train['target']\n",
    "\n",
    "\n",
    "print('train input shape: ', X_train.shape)\n",
    "#print('train output shape: ', y_train.shape)\n",
    "#print('test output shape: ', X_test.shape)"
   ]
  },
  {
   "cell_type": "markdown",
   "metadata": {
    "nteract": {
     "transient": {
      "deleting": false
     }
    }
   },
   "source": [
    "### Building the model"
   ]
  },
  {
   "cell_type": "code",
   "execution_count": 198,
   "metadata": {
    "execution": {
     "iopub.execute_input": "2020-05-16T15:46:01.521Z",
     "iopub.status.busy": "2020-05-16T15:46:01.506Z",
     "iopub.status.idle": "2020-05-16T15:46:13.309Z",
     "shell.execute_reply": "2020-05-16T15:46:13.329Z"
    },
    "jupyter": {
     "outputs_hidden": false,
     "source_hidden": false
    },
    "nteract": {
     "transient": {
      "deleting": false
     }
    },
    "outputExpanded": false
   },
   "outputs": [],
   "source": [
    "#!pip install -U protobuf==3.8.0"
   ]
  },
  {
   "cell_type": "code",
   "execution_count": 199,
   "metadata": {
    "jupyter": {
     "outputs_hidden": false,
     "source_hidden": false
    },
    "nteract": {
     "transient": {
      "deleting": false
     }
    },
    "outputExpanded": false
   },
   "outputs": [],
   "source": [
    "#!pip install --upgrade tensorflow"
   ]
  },
  {
   "cell_type": "code",
   "execution_count": 200,
   "metadata": {
    "jupyter": {
     "outputs_hidden": false,
     "source_hidden": false
    },
    "nteract": {
     "transient": {
      "deleting": false
     }
    },
    "outputExpanded": false
   },
   "outputs": [],
   "source": [
    "#!pip install keras"
   ]
  },
  {
   "cell_type": "code",
   "execution_count": 201,
   "metadata": {
    "execution": {
     "iopub.execute_input": "2020-05-16T16:36:09.550Z",
     "iopub.status.busy": "2020-05-16T16:36:09.536Z",
     "iopub.status.idle": "2020-05-16T16:36:09.573Z",
     "shell.execute_reply": "2020-05-16T16:36:09.589Z"
    },
    "jupyter": {
     "outputs_hidden": false,
     "source_hidden": false
    },
    "nteract": {
     "transient": {
      "deleting": false
     }
    },
    "outputExpanded": false
   },
   "outputs": [],
   "source": [
    "import tensorflow as tf\n",
    "from tensorflow import keras\n",
    "from tensorflow.keras import layers\n",
    "import numpy as np\n",
    "import matplotlib.pyplot as plt\n",
    "plt.rcParams['figure.figsize'] = (7,7) # Make the figures a bit bigger\n",
    "\n",
    "from keras.datasets import mnist\n",
    "from keras.models import Sequential\n",
    "from keras.layers.core import Dense, Dropout, Activation\n",
    "from keras.layers import Dense, Conv2D, MaxPooling2D, Dropout, Flatten\n",
    "from keras.utils import np_utils"
   ]
  },
  {
   "cell_type": "code",
   "execution_count": 202,
   "metadata": {},
   "outputs": [],
   "source": [
    "model = Sequential()\n",
    "model.add(Dense(X_train.shape[0], input_shape=(X_train.shape[1],)))\n",
    "model.add(Activation('relu')) # An \"activation\" is just a non-linear function applied to the output\n",
    "                              # of the layer above. Here, with a \"rectified linear unit\",\n",
    "                              # we clamp all values below 0 to 0.\n",
    "\n",
    "model.add(Dropout(0.2))# Dropout helps protect the model from memorizing or \"overfitting\" the training data\n",
    "model.add(Dense(X_train.shape[0], input_shape=(X_train.shape[1],)))\n",
    "model.add(Dense(1, activation='sigmoid'))"
   ]
  },
  {
   "cell_type": "code",
   "execution_count": 203,
   "metadata": {
    "execution": {
     "iopub.execute_input": "2020-05-16T16:36:10.118Z",
     "iopub.status.busy": "2020-05-16T16:36:10.102Z",
     "iopub.status.idle": "2020-05-16T16:36:10.170Z",
     "shell.execute_reply": "2020-05-16T16:36:10.182Z"
    },
    "jupyter": {
     "outputs_hidden": false,
     "source_hidden": false
    },
    "nteract": {
     "transient": {
      "deleting": false
     }
    },
    "outputExpanded": false
   },
   "outputs": [],
   "source": [
    "optimizer = keras.optimizers.SGD(lr=0.01, decay=1e-6, momentum=0.9, nesterov=True)\n",
    "model.compile(loss='binary_crossentropy', optimizer=optimizer, metrics=['accuracy'])"
   ]
  },
  {
   "cell_type": "code",
   "execution_count": 204,
   "metadata": {
    "execution": {
     "iopub.execute_input": "2020-05-16T16:18:52.041Z",
     "iopub.status.busy": "2020-05-16T16:18:52.025Z",
     "iopub.status.idle": "2020-05-16T16:18:52.085Z",
     "shell.execute_reply": "2020-05-16T16:18:52.132Z"
    },
    "jupyter": {
     "outputs_hidden": false,
     "source_hidden": false
    },
    "nteract": {
     "transient": {
      "deleting": false
     }
    },
    "outputExpanded": false
   },
   "outputs": [
    {
     "name": "stdout",
     "output_type": "stream",
     "text": [
      "Model: \"sequential_11\"\n",
      "_________________________________________________________________\n",
      "Layer (type)                 Output Shape              Param #   \n",
      "=================================================================\n",
      "dense_35 (Dense)             (None, 7613)              6608084   \n",
      "_________________________________________________________________\n",
      "activation_13 (Activation)   (None, 7613)              0         \n",
      "_________________________________________________________________\n",
      "dropout_11 (Dropout)         (None, 7613)              0         \n",
      "_________________________________________________________________\n",
      "dense_36 (Dense)             (None, 7613)              57965382  \n",
      "_________________________________________________________________\n",
      "dense_37 (Dense)             (None, 1)                 7614      \n",
      "=================================================================\n",
      "Total params: 64,581,080\n",
      "Trainable params: 64,581,080\n",
      "Non-trainable params: 0\n",
      "_________________________________________________________________\n"
     ]
    }
   ],
   "source": [
    "model.summary()"
   ]
  },
  {
   "cell_type": "markdown",
   "metadata": {
    "collapsed": true,
    "jupyter": {
     "outputs_hidden": false,
     "source_hidden": false
    },
    "nteract": {
     "transient": {
      "deleting": false
     }
    },
    "outputExpanded": false
   },
   "source": [
    "### Train the model"
   ]
  },
  {
   "cell_type": "code",
   "execution_count": 205,
   "metadata": {
    "jupyter": {
     "outputs_hidden": false,
     "source_hidden": false
    },
    "nteract": {
     "transient": {
      "deleting": false
     }
    },
    "outputExpanded": false
   },
   "outputs": [
    {
     "name": "stdout",
     "output_type": "stream",
     "text": [
      "Train on 6090 samples, validate on 1523 samples\n",
      "Epoch 1/30\n",
      "6090/6090 [==============================] - 55s 9ms/step - loss: 0.6187 - accuracy: 0.6745 - val_loss: 0.5957 - val_accuracy: 0.6894\n",
      "Epoch 2/30\n",
      "6090/6090 [==============================] - 52s 9ms/step - loss: 0.5384 - accuracy: 0.7371 - val_loss: 0.5885 - val_accuracy: 0.6907\n",
      "Epoch 3/30\n",
      "6090/6090 [==============================] - 50s 8ms/step - loss: 0.5030 - accuracy: 0.7611 - val_loss: 0.5896 - val_accuracy: 0.6960\n",
      "Epoch 4/30\n",
      "6090/6090 [==============================] - 51s 8ms/step - loss: 0.4662 - accuracy: 0.7862 - val_loss: 0.5826 - val_accuracy: 0.7065\n",
      "Epoch 5/30\n",
      "6090/6090 [==============================] - 50s 8ms/step - loss: 0.4319 - accuracy: 0.8071 - val_loss: 0.5792 - val_accuracy: 0.7157\n",
      "Epoch 6/30\n",
      "6090/6090 [==============================] - 50s 8ms/step - loss: 0.3847 - accuracy: 0.8366 - val_loss: 0.6076 - val_accuracy: 0.7052\n",
      "Epoch 7/30\n",
      "6090/6090 [==============================] - 46s 8ms/step - loss: 0.3300 - accuracy: 0.8734 - val_loss: 0.6283 - val_accuracy: 0.7039\n",
      "Epoch 8/30\n",
      "6090/6090 [==============================] - 45s 7ms/step - loss: 0.2801 - accuracy: 0.8954 - val_loss: 0.6752 - val_accuracy: 0.7085\n",
      "Epoch 9/30\n",
      "6090/6090 [==============================] - 43s 7ms/step - loss: 0.2375 - accuracy: 0.9164 - val_loss: 0.6540 - val_accuracy: 0.6953\n",
      "Epoch 10/30\n",
      "6090/6090 [==============================] - 43s 7ms/step - loss: 0.1952 - accuracy: 0.9414 - val_loss: 0.7031 - val_accuracy: 0.7104\n",
      "Epoch 11/30\n",
      "6090/6090 [==============================] - 43s 7ms/step - loss: 0.1599 - accuracy: 0.9548 - val_loss: 0.7268 - val_accuracy: 0.7012\n",
      "Epoch 12/30\n",
      "6090/6090 [==============================] - 44s 7ms/step - loss: 0.1370 - accuracy: 0.9631 - val_loss: 0.7517 - val_accuracy: 0.7137\n",
      "Epoch 13/30\n",
      "6090/6090 [==============================] - 43s 7ms/step - loss: 0.1245 - accuracy: 0.9650 - val_loss: 0.8075 - val_accuracy: 0.6993\n",
      "Epoch 14/30\n",
      "6090/6090 [==============================] - 43s 7ms/step - loss: 0.1139 - accuracy: 0.9703 - val_loss: 0.7722 - val_accuracy: 0.7190\n",
      "Epoch 15/30\n",
      "6090/6090 [==============================] - 43s 7ms/step - loss: 0.1130 - accuracy: 0.9693 - val_loss: 0.8455 - val_accuracy: 0.7012\n",
      "Epoch 16/30\n",
      "6090/6090 [==============================] - 60s 10ms/step - loss: 0.1024 - accuracy: 0.9721 - val_loss: 0.9098 - val_accuracy: 0.7012\n",
      "Epoch 17/30\n",
      "6090/6090 [==============================] - 50s 8ms/step - loss: 0.1038 - accuracy: 0.9718 - val_loss: 0.9128 - val_accuracy: 0.6947\n",
      "Epoch 18/30\n",
      "6090/6090 [==============================] - 48s 8ms/step - loss: 0.0991 - accuracy: 0.9731 - val_loss: 0.8691 - val_accuracy: 0.6986\n",
      "Epoch 19/30\n",
      "6090/6090 [==============================] - 43s 7ms/step - loss: 0.1059 - accuracy: 0.9721 - val_loss: 0.8837 - val_accuracy: 0.6947\n",
      "Epoch 20/30\n",
      "6090/6090 [==============================] - 48s 8ms/step - loss: 0.0929 - accuracy: 0.9760 - val_loss: 0.8722 - val_accuracy: 0.6967\n",
      "Epoch 21/30\n",
      "6090/6090 [==============================] - 62s 10ms/step - loss: 0.0919 - accuracy: 0.9772 - val_loss: 0.9245 - val_accuracy: 0.7098\n",
      "Epoch 22/30\n",
      "6090/6090 [==============================] - 50s 8ms/step - loss: 0.0960 - accuracy: 0.9745 - val_loss: 0.8769 - val_accuracy: 0.7085\n",
      "Epoch 23/30\n",
      "6090/6090 [==============================] - 52s 9ms/step - loss: 0.0871 - accuracy: 0.9747 - val_loss: 0.9496 - val_accuracy: 0.7098\n",
      "Epoch 24/30\n",
      "6090/6090 [==============================] - 56s 9ms/step - loss: 0.0962 - accuracy: 0.9759 - val_loss: 1.0181 - val_accuracy: 0.6664\n",
      "Epoch 25/30\n",
      "6090/6090 [==============================] - 52s 9ms/step - loss: 0.0861 - accuracy: 0.9777 - val_loss: 0.9096 - val_accuracy: 0.6934\n",
      "Epoch 26/30\n",
      "6090/6090 [==============================] - 50s 8ms/step - loss: 0.0869 - accuracy: 0.9785 - val_loss: 0.9379 - val_accuracy: 0.6861\n",
      "Epoch 27/30\n",
      "6090/6090 [==============================] - 55s 9ms/step - loss: 0.0890 - accuracy: 0.9750 - val_loss: 0.9361 - val_accuracy: 0.6894\n",
      "Epoch 28/30\n",
      "6090/6090 [==============================] - 51s 8ms/step - loss: 0.0900 - accuracy: 0.9767 - val_loss: 0.9576 - val_accuracy: 0.6756\n",
      "Epoch 29/30\n",
      "6090/6090 [==============================] - 54s 9ms/step - loss: 0.0863 - accuracy: 0.9773 - val_loss: 0.9985 - val_accuracy: 0.6927\n",
      "Epoch 30/30\n",
      "6090/6090 [==============================] - 58s 10ms/step - loss: 0.0769 - accuracy: 0.9780 - val_loss: 0.9295 - val_accuracy: 0.7157\n"
     ]
    }
   ],
   "source": [
    "model_hist = model.fit(X_train, y_train,\n",
    "                       batch_size=100, epochs=30,\n",
    "                       verbose=1, validation_split=0.2)"
   ]
  },
  {
   "cell_type": "markdown",
   "metadata": {
    "collapsed": true,
    "jupyter": {
     "outputs_hidden": false,
     "source_hidden": false
    },
    "nteract": {
     "transient": {
      "deleting": false
     }
    },
    "outputExpanded": false
   },
   "source": [
    "### Evaluate performance"
   ]
  },
  {
   "cell_type": "code",
   "execution_count": 206,
   "metadata": {
    "jupyter": {
     "outputs_hidden": false,
     "source_hidden": false
    },
    "nteract": {
     "transient": {
      "deleting": false
     }
    },
    "outputExpanded": false
   },
   "outputs": [
    {
     "data": {
      "text/plain": [
       "Text(0.5, 0.98, 'Validation accuracy and accuracy evolving with epochs')"
      ]
     },
     "execution_count": 206,
     "metadata": {},
     "output_type": "execute_result"
    },
    {
     "data": {
      "image/png": "[encoded data removed]",
      "text/plain": [
       "<Figure size 792x288 with 2 Axes>"
      ]
     },
     "metadata": {
      "needs_background": "light"
     },
     "output_type": "display_data"
    }
   ],
   "source": [
    "fig, axs = plt.subplots(1, 2, figsize=(11, 4), sharey=True)\n",
    "\n",
    "axs[0].plot(model_hist.history['val_accuracy'], label='validation accuracy')\n",
    "axs[0].legend()\n",
    "\n",
    "axs[1].plot(model_hist.history['accuracy'], label='accuracy')\n",
    "axs[1].legend()\n",
    "\n",
    "fig.suptitle('Validation accuracy and accuracy evolving with epochs')"
   ]
  },
  {
   "cell_type": "markdown",
   "metadata": {
    "collapsed": true,
    "jupyter": {
     "outputs_hidden": false,
     "source_hidden": false
    },
    "nteract": {
     "transient": {
      "deleting": false
     }
    },
    "outputExpanded": false
   },
   "source": [
    "### Predict for test dataset"
   ]
  },
  {
   "cell_type": "code",
   "execution_count": 207,
   "metadata": {
    "jupyter": {
     "outputs_hidden": false,
     "source_hidden": false
    },
    "nteract": {
     "transient": {
      "deleting": false
     }
    },
    "outputExpanded": false
   },
   "outputs": [
    {
     "data": {
      "text/html": [
       "<div>\n",
       "<style scoped>\n",
       "    .dataframe tbody tr th:only-of-type {\n",
       "        vertical-align: middle;\n",
       "    }\n",
       "\n",
       "    .dataframe tbody tr th {\n",
       "        vertical-align: top;\n",
       "    }\n",
       "\n",
       "    .dataframe thead th {\n",
       "        text-align: right;\n",
       "    }\n",
       "</style>\n",
       "<table border=\"1\" class=\"dataframe\">\n",
       "  <thead>\n",
       "    <tr style=\"text-align: right;\">\n",
       "      <th></th>\n",
       "      <th>text</th>\n",
       "      <th>prediction</th>\n",
       "    </tr>\n",
       "  </thead>\n",
       "  <tbody>\n",
       "    <tr>\n",
       "      <th>0</th>\n",
       "      <td>Just happened a terrible car crash</td>\n",
       "      <td>0</td>\n",
       "    </tr>\n",
       "    <tr>\n",
       "      <th>1</th>\n",
       "      <td>Heard about #earthquake is different cities, s...</td>\n",
       "      <td>0</td>\n",
       "    </tr>\n",
       "    <tr>\n",
       "      <th>2</th>\n",
       "      <td>there is a forest fire at spot pond, geese are...</td>\n",
       "      <td>1</td>\n",
       "    </tr>\n",
       "    <tr>\n",
       "      <th>3</th>\n",
       "      <td>Apocalypse lighting. #Spokane #wildfires</td>\n",
       "      <td>1</td>\n",
       "    </tr>\n",
       "    <tr>\n",
       "      <th>4</th>\n",
       "      <td>Typhoon Soudelor kills 28 in China and Taiwan</td>\n",
       "      <td>0</td>\n",
       "    </tr>\n",
       "  </tbody>\n",
       "</table>\n",
       "</div>"
      ],
      "text/plain": [
       "                                                text  prediction\n",
       "0                 Just happened a terrible car crash           0\n",
       "1  Heard about #earthquake is different cities, s...           0\n",
       "2  there is a forest fire at spot pond, geese are...           1\n",
       "3           Apocalypse lighting. #Spokane #wildfires           1\n",
       "4      Typhoon Soudelor kills 28 in China and Taiwan           0"
      ]
     },
     "execution_count": 207,
     "metadata": {},
     "output_type": "execute_result"
    }
   ],
   "source": [
    "X_test = test['filtered_tweet']\n",
    "X_test = word_vectorizer.transform(X_test.map(lambda words: ', '.join(words)))\n",
    "\n",
    "y_test = model.predict_classes(X_test)\n",
    "\n",
    "test['prediction'] = y_test\n",
    "\n",
    "test[['text', 'prediction']].head()"
   ]
  },
  {
   "cell_type": "code",
   "execution_count": 208,
   "metadata": {
    "jupyter": {
     "outputs_hidden": false,
     "source_hidden": false
    },
    "nteract": {
     "transient": {
      "deleting": false
     }
    },
    "outputExpanded": false
   },
   "outputs": [],
   "source": [
    "ysample_sub=pd.read_csv('../data/sample_submission.csv')\n",
    "\n",
    "sub=pd.DataFrame({'id':sample_sub['id'].values.tolist(),'target': predicted})\n",
    "sub.to_csv('../data/submission_NN.csv',index=False)"
   ]
  },
  {
   "cell_type": "markdown",
   "metadata": {},
   "source": [
    "## Decision trees"
   ]
  },
  {
   "cell_type": "markdown",
   "metadata": {},
   "source": [
    "### Split train/test"
   ]
  },
  {
   "cell_type": "code",
   "execution_count": 31,
   "metadata": {},
   "outputs": [],
   "source": [
    "X = train['filtered_tweet']\n",
    "y = train['target']\n",
    "\n",
    "X_train, X_test, y_train, y_test = train_test_split(X, y, test_size=0.3, random_state=72)"
   ]
  },
  {
   "cell_type": "markdown",
   "metadata": {},
   "source": [
    "### Vectorizing tweets"
   ]
  },
  {
   "cell_type": "code",
   "execution_count": 32,
   "metadata": {},
   "outputs": [
    {
     "name": "stdout",
     "output_type": "stream",
     "text": [
      "train input shape:  (5329, 835)\n",
      "train output shape:  (5329,)\n",
      "test output shape:  (2284, 835)\n"
     ]
    }
   ],
   "source": [
    "from sklearn.feature_extraction.text import CountVectorizer\n",
    "\n",
    "word_vectorizer = CountVectorizer(token_pattern=r\"(?u)\\b\\w+\\b\", \n",
    "                stop_words=None, ngram_range=(2,2), analyzer='word')\n",
    "\n",
    "# Vectorize the training set\n",
    "X_train = word_vectorizer.fit_transform(X_train.map(lambda words: ', '.join(words)))\n",
    "\n",
    "# Vectorize the testing test\n",
    "X_test = word_vectorizer.transform(X_test.map(lambda words: ', '.join(words)))\n",
    "\n",
    "\n",
    "print('train input shape: ', X_train.shape)\n",
    "print('train output shape: ', y_train.shape)\n",
    "print('test output shape: ', X_test.shape)"
   ]
  },
  {
   "cell_type": "code",
   "execution_count": null,
   "metadata": {},
   "outputs": [],
   "source": []
  },
  {
   "cell_type": "code",
   "execution_count": null,
   "metadata": {},
   "outputs": [],
   "source": []
  },
  {
   "cell_type": "markdown",
   "metadata": {},
   "source": [
    "### Fit the model"
   ]
  },
  {
   "cell_type": "code",
   "execution_count": 33,
   "metadata": {},
   "outputs": [
    {
     "data": {
      "text/plain": [
       "0.6571803852889667"
      ]
     },
     "execution_count": 33,
     "metadata": {},
     "output_type": "execute_result"
    }
   ],
   "source": [
    "from sklearn.tree import DecisionTreeClassifier\n",
    "classifier = DecisionTreeClassifier(criterion='entropy')\n",
    "classifier.fit(X_train, y_train)\n",
    "\n",
    "classifier.score(X_test,y_test)"
   ]
  },
  {
   "cell_type": "code",
   "execution_count": 34,
   "metadata": {},
   "outputs": [
    {
     "data": {
      "text/plain": [
       "45"
      ]
     },
     "execution_count": 34,
     "metadata": {},
     "output_type": "execute_result"
    }
   ],
   "source": [
    "classifier.get_depth()"
   ]
  },
  {
   "cell_type": "code",
   "execution_count": 35,
   "metadata": {},
   "outputs": [
    {
     "data": {
      "text/plain": [
       "Text(0.5, 0, 'depth')"
      ]
     },
     "execution_count": 35,
     "metadata": {},
     "output_type": "execute_result"
    },
    {
     "data": {
      "image/png": "[encoded data removed]",
      "text/plain": [
       "<Figure size 504x504 with 1 Axes>"
      ]
     },
     "metadata": {
      "needs_background": "light"
     },
     "output_type": "display_data"
    }
   ],
   "source": [
    "scores = []\n",
    "for d in range(1, 21):\n",
    "    classifier = DecisionTreeClassifier(criterion='entropy', max_depth=d)\n",
    "    classifier.fit(X_train, y_train)\n",
    "    scores.append(classifier.score(X_test, y_test))\n",
    "    \n",
    "    \n",
    "plt.plot(scores)\n",
    "plt.ylabel('accuracy', fontsize=15)\n",
    "plt.xlabel('depth', fontsize=15)"
   ]
  },
  {
   "cell_type": "code",
   "execution_count": 36,
   "metadata": {},
   "outputs": [
    {
     "name": "stdout",
     "output_type": "stream",
     "text": [
      "The optimal depth is:  14\n"
     ]
    }
   ],
   "source": [
    "print('The optimal depth is: ', np.argmax(scores))"
   ]
  },
  {
   "cell_type": "markdown",
   "metadata": {},
   "source": [
    "### Evaluate model"
   ]
  },
  {
   "cell_type": "code",
   "execution_count": 41,
   "metadata": {},
   "outputs": [
    {
     "name": "stdout",
     "output_type": "stream",
     "text": [
      "[[2899  155]\n",
      " [ 653 1622]]\n",
      "              precision    recall  f1-score   support\n",
      "\n",
      "           0       0.82      0.95      0.88      3054\n",
      "           1       0.91      0.71      0.80      2275\n",
      "\n",
      "    accuracy                           0.85      5329\n",
      "   macro avg       0.86      0.83      0.84      5329\n",
      "weighted avg       0.86      0.85      0.84      5329\n",
      "\n"
     ]
    }
   ],
   "source": [
    "from sklearn.metrics import classification_report, confusion_matrix\n",
    "\n",
    "classifier = DecisionTreeClassifier(criterion='entropy', max_depth=np.argmax(scores))\n",
    "classifier.fit(X_train, y_train)\n",
    "\n",
    "y_pred = classifier.predict(X_train)\n",
    "print(confusion_matrix(y_train, y_pred))\n",
    "print(classification_report(y_train, y_pred))"
   ]
  },
  {
   "cell_type": "markdown",
   "metadata": {},
   "source": [
    "### Run on test dataset"
   ]
  },
  {
   "cell_type": "code",
   "execution_count": 42,
   "metadata": {},
   "outputs": [
    {
     "data": {
      "text/html": [
       "<div>\n",
       "<style scoped>\n",
       "    .dataframe tbody tr th:only-of-type {\n",
       "        vertical-align: middle;\n",
       "    }\n",
       "\n",
       "    .dataframe tbody tr th {\n",
       "        vertical-align: top;\n",
       "    }\n",
       "\n",
       "    .dataframe thead th {\n",
       "        text-align: right;\n",
       "    }\n",
       "</style>\n",
       "<table border=\"1\" class=\"dataframe\">\n",
       "  <thead>\n",
       "    <tr style=\"text-align: right;\">\n",
       "      <th></th>\n",
       "      <th>text</th>\n",
       "      <th>prediction</th>\n",
       "    </tr>\n",
       "  </thead>\n",
       "  <tbody>\n",
       "    <tr>\n",
       "      <th>0</th>\n",
       "      <td>Just happened a terrible car crash</td>\n",
       "      <td>0</td>\n",
       "    </tr>\n",
       "    <tr>\n",
       "      <th>1</th>\n",
       "      <td>Heard about #earthquake is different cities, s...</td>\n",
       "      <td>1</td>\n",
       "    </tr>\n",
       "    <tr>\n",
       "      <th>2</th>\n",
       "      <td>there is a forest fire at spot pond, geese are...</td>\n",
       "      <td>1</td>\n",
       "    </tr>\n",
       "    <tr>\n",
       "      <th>3</th>\n",
       "      <td>Apocalypse lighting. #Spokane #wildfires</td>\n",
       "      <td>1</td>\n",
       "    </tr>\n",
       "    <tr>\n",
       "      <th>4</th>\n",
       "      <td>Typhoon Soudelor kills 28 in China and Taiwan</td>\n",
       "      <td>0</td>\n",
       "    </tr>\n",
       "  </tbody>\n",
       "</table>\n",
       "</div>"
      ],
      "text/plain": [
       "                                                text  prediction\n",
       "0                 Just happened a terrible car crash           0\n",
       "1  Heard about #earthquake is different cities, s...           1\n",
       "2  there is a forest fire at spot pond, geese are...           1\n",
       "3           Apocalypse lighting. #Spokane #wildfires           1\n",
       "4      Typhoon Soudelor kills 28 in China and Taiwan           0"
      ]
     },
     "execution_count": 42,
     "metadata": {},
     "output_type": "execute_result"
    }
   ],
   "source": [
    "X_test = word_vectorizer.transform(test['filtered_tweet'].map(lambda words: ', '.join(words)))\n",
    "\n",
    "y_test = classifier.predict(X_test)\n",
    "\n",
    "test['prediction'] = y_test\n",
    "\n",
    "test[['text', 'prediction']].head()"
   ]
  },
  {
   "cell_type": "markdown",
   "metadata": {},
   "source": [
    "### Create submission file"
   ]
  },
  {
   "cell_type": "code",
   "execution_count": 43,
   "metadata": {},
   "outputs": [],
   "source": [
    "sample_sub=pd.read_csv('../data/sample_submission.csv')\n",
    "\n",
    "sub=pd.DataFrame({'id':sample_sub['id'].values.tolist(),'target': predicted})\n",
    "sub.to_csv('../data/submission_DT.csv',index=False)"
   ]
  },
  {
   "cell_type": "code",
   "execution_count": null,
   "metadata": {},
   "outputs": [],
   "source": []
  },
  {
   "cell_type": "code",
   "execution_count": null,
   "metadata": {},
   "outputs": [],
   "source": []
  },
  {
   "cell_type": "code",
   "execution_count": null,
   "metadata": {},
   "outputs": [],
   "source": []
  },
  {
   "cell_type": "code",
   "execution_count": null,
   "metadata": {},
   "outputs": [],
   "source": []
  }
 ],
 "metadata": {
  "kernelspec": {
   "display_name": "Python 3",
   "language": "python",
   "name": "python3"
  },
  "language_info": {
   "codemirror_mode": {
    "name": "ipython",
    "version": 3
   },
   "file_extension": ".py",
   "mimetype": "text/x-python",
   "name": "python",
   "nbconvert_exporter": "python",
   "pygments_lexer": "ipython3",
   "version": "3.7.3"
  },
  "nteract": {
   "version": "0.23.1"
  }
 },
 "nbformat": 4,
 "nbformat_minor": 2
}

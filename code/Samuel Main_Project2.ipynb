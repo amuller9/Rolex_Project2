{
  "cells": [
    {
      "cell_type": "markdown",
      "source": [
        "## Real or Not? NLP with Disaster Tweets - Project 2 - Sam's part"
      ],
      "metadata": {}
    },
    {
      "cell_type": "markdown",
      "source": [
        "Big-Scale Analytics - Project 2 - Team Rolex\n",
        "> Samuel Lew, Alexandre Lang, Samy Bouzerda, Alix Muller"
      ],
      "metadata": {}
    },
    {
      "cell_type": "markdown",
      "source": [
        "## Load dataset"
      ],
      "metadata": {
        "nteract": {
          "transient": {
            "deleting": false
          }
        }
      }
    },
    {
      "cell_type": "code",
      "source": [
        "import pandas as pd"
      ],
      "outputs": [],
      "execution_count": 2,
      "metadata": {
        "execution": {
          "iopub.status.busy": "2020-04-30T14:09:24.686Z",
          "iopub.execute_input": "2020-04-30T14:09:24.696Z",
          "shell.execute_reply": "2020-04-30T14:09:25.863Z",
          "iopub.status.idle": "2020-04-30T14:09:25.875Z"
        }
      }
    },
    {
      "cell_type": "code",
      "source": [
        "df = pd.read_csv ('../data/train.csv')\n",
        "df = df[['id', 'text', 'target']]\n",
        "df.iloc[:10]"
      ],
      "outputs": [
        {
          "output_type": "execute_result",
          "execution_count": 3,
          "data": {
            "text/plain": [
              "   id                                               text  target\n",
              "0   1  Our Deeds are the Reason of this #earthquake M...       1\n",
              "1   4             Forest fire near La Ronge Sask. Canada       1\n",
              "2   5  All residents asked to 'shelter in place' are ...       1\n",
              "3   6  13,000 people receive #wildfires evacuation or...       1\n",
              "4   7  Just got sent this photo from Ruby #Alaska as ...       1\n",
              "5   8  #RockyFire Update => California Hwy. 20 closed...       1\n",
              "6  10  #flood #disaster Heavy rain causes flash flood...       1\n",
              "7  13  I'm on top of the hill and I can see a fire in...       1\n",
              "8  14  There's an emergency evacuation happening now ...       1\n",
              "9  15  I'm afraid that the tornado is coming to our a...       1"
            ],
            "text/html": [
              "<div>\n",
              "<style scoped>\n",
              "    .dataframe tbody tr th:only-of-type {\n",
              "        vertical-align: middle;\n",
              "    }\n",
              "\n",
              "    .dataframe tbody tr th {\n",
              "        vertical-align: top;\n",
              "    }\n",
              "\n",
              "    .dataframe thead th {\n",
              "        text-align: right;\n",
              "    }\n",
              "</style>\n",
              "<table border=\"1\" class=\"dataframe\">\n",
              "  <thead>\n",
              "    <tr style=\"text-align: right;\">\n",
              "      <th></th>\n",
              "      <th>id</th>\n",
              "      <th>text</th>\n",
              "      <th>target</th>\n",
              "    </tr>\n",
              "  </thead>\n",
              "  <tbody>\n",
              "    <tr>\n",
              "      <th>0</th>\n",
              "      <td>1</td>\n",
              "      <td>Our Deeds are the Reason of this #earthquake M...</td>\n",
              "      <td>1</td>\n",
              "    </tr>\n",
              "    <tr>\n",
              "      <th>1</th>\n",
              "      <td>4</td>\n",
              "      <td>Forest fire near La Ronge Sask. Canada</td>\n",
              "      <td>1</td>\n",
              "    </tr>\n",
              "    <tr>\n",
              "      <th>2</th>\n",
              "      <td>5</td>\n",
              "      <td>All residents asked to 'shelter in place' are ...</td>\n",
              "      <td>1</td>\n",
              "    </tr>\n",
              "    <tr>\n",
              "      <th>3</th>\n",
              "      <td>6</td>\n",
              "      <td>13,000 people receive #wildfires evacuation or...</td>\n",
              "      <td>1</td>\n",
              "    </tr>\n",
              "    <tr>\n",
              "      <th>4</th>\n",
              "      <td>7</td>\n",
              "      <td>Just got sent this photo from Ruby #Alaska as ...</td>\n",
              "      <td>1</td>\n",
              "    </tr>\n",
              "    <tr>\n",
              "      <th>5</th>\n",
              "      <td>8</td>\n",
              "      <td>#RockyFire Update =&gt; California Hwy. 20 closed...</td>\n",
              "      <td>1</td>\n",
              "    </tr>\n",
              "    <tr>\n",
              "      <th>6</th>\n",
              "      <td>10</td>\n",
              "      <td>#flood #disaster Heavy rain causes flash flood...</td>\n",
              "      <td>1</td>\n",
              "    </tr>\n",
              "    <tr>\n",
              "      <th>7</th>\n",
              "      <td>13</td>\n",
              "      <td>I'm on top of the hill and I can see a fire in...</td>\n",
              "      <td>1</td>\n",
              "    </tr>\n",
              "    <tr>\n",
              "      <th>8</th>\n",
              "      <td>14</td>\n",
              "      <td>There's an emergency evacuation happening now ...</td>\n",
              "      <td>1</td>\n",
              "    </tr>\n",
              "    <tr>\n",
              "      <th>9</th>\n",
              "      <td>15</td>\n",
              "      <td>I'm afraid that the tornado is coming to our a...</td>\n",
              "      <td>1</td>\n",
              "    </tr>\n",
              "  </tbody>\n",
              "</table>\n",
              "</div>"
            ]
          },
          "metadata": {}
        }
      ],
      "execution_count": 3,
      "metadata": {
        "collapsed": true,
        "outputExpanded": false,
        "jupyter": {
          "source_hidden": false,
          "outputs_hidden": false
        },
        "nteract": {
          "transient": {
            "deleting": false
          }
        },
        "execution": {
          "iopub.status.busy": "2020-04-30T14:09:25.888Z",
          "iopub.execute_input": "2020-04-30T14:09:25.899Z",
          "iopub.status.idle": "2020-04-30T14:09:25.991Z",
          "shell.execute_reply": "2020-04-30T14:09:26.114Z"
        }
      }
    },
    {
      "cell_type": "code",
      "source": [
        "index = df.index\n",
        "columns = df.columns\n",
        "values = df.values"
      ],
      "outputs": [],
      "execution_count": 4,
      "metadata": {
        "collapsed": true,
        "outputExpanded": false,
        "jupyter": {
          "source_hidden": false,
          "outputs_hidden": false
        },
        "nteract": {
          "transient": {
            "deleting": false
          }
        },
        "execution": {
          "iopub.status.busy": "2020-04-30T14:09:26.003Z",
          "iopub.execute_input": "2020-04-30T14:09:26.015Z",
          "iopub.status.idle": "2020-04-30T14:09:26.029Z",
          "shell.execute_reply": "2020-04-30T14:09:26.126Z"
        }
      }
    },
    {
      "cell_type": "code",
      "source": [
        "df_yes = df.query('target == 1')\n",
        "yes_count = 0\n",
        "for row in df_yes.iterrows():\n",
        "    yes_count += 1\n",
        "print(f'there are {yes_count} tweets about disasters')\n",
        "\n",
        "df_no = df.query('target == 0')\n",
        "no_count = 0\n",
        "for row in df_no.iterrows():\n",
        "    no_count += 1\n",
        "print(f'there are {no_count} tweets that are not about disasters')"
      ],
      "outputs": [
        {
          "output_type": "stream",
          "name": "stdout",
          "text": [
            "there are 3271 tweets about disasters\n",
            "there are 4342 tweets that are not about disasters\n"
          ]
        }
      ],
      "execution_count": 5,
      "metadata": {
        "collapsed": true,
        "outputExpanded": false,
        "jupyter": {
          "source_hidden": false,
          "outputs_hidden": false
        },
        "nteract": {
          "transient": {
            "deleting": false
          }
        },
        "execution": {
          "iopub.status.busy": "2020-04-30T14:09:26.038Z",
          "iopub.execute_input": "2020-04-30T14:09:26.046Z",
          "iopub.status.idle": "2020-04-30T14:09:27.507Z",
          "shell.execute_reply": "2020-04-30T14:09:27.598Z"
        }
      }
    },
    {
      "cell_type": "markdown",
      "source": [
        "## Process text"
      ],
      "metadata": {
        "nteract": {
          "transient": {
            "deleting": false
          }
        }
      }
    },
    {
      "cell_type": "code",
      "source": [
        "#!pip install spacy\n",
        "#!python -m spacy download en\n",
        "\n",
        "import spacy\n",
        "from spacy.lang.en import English"
      ],
      "outputs": [],
      "execution_count": 6,
      "metadata": {
        "collapsed": true,
        "outputExpanded": false,
        "jupyter": {
          "source_hidden": false,
          "outputs_hidden": false
        },
        "nteract": {
          "transient": {
            "deleting": false
          }
        },
        "execution": {
          "iopub.status.busy": "2020-04-30T14:09:27.528Z",
          "iopub.execute_input": "2020-04-30T14:09:27.538Z",
          "shell.execute_reply": "2020-04-30T14:09:27.605Z",
          "iopub.status.idle": "2020-04-30T14:09:27.557Z"
        }
      }
    },
    {
      "cell_type": "code",
      "source": [
        "nlp = English()\n",
        "sbd = nlp.create_pipe('sentencizer')\n",
        "nlp.add_pipe(sbd)\n",
        "\n",
        "spacy_stopwords = spacy.lang.en.stop_words.STOP_WORDS"
      ],
      "outputs": [],
      "execution_count": 7,
      "metadata": {
        "collapsed": true,
        "outputExpanded": false,
        "jupyter": {
          "source_hidden": false,
          "outputs_hidden": false
        },
        "nteract": {
          "transient": {
            "deleting": false
          }
        },
        "execution": {
          "iopub.status.busy": "2020-04-30T14:09:27.572Z",
          "iopub.execute_input": "2020-04-30T14:09:27.580Z",
          "iopub.status.idle": "2020-04-30T14:09:27.934Z",
          "shell.execute_reply": "2020-04-30T14:09:27.942Z"
        }
      }
    },
    {
      "cell_type": "markdown",
      "source": [
        "### Removing stopwords & lowercasing every word:"
      ],
      "metadata": {
        "nteract": {
          "transient": {
            "deleting": false
          }
        }
      }
    },
    {
      "cell_type": "code",
      "source": [
        "filtered_tweets = []\n",
        "for tweet in df['text']:\n",
        "    tweet = nlp(tweet)\n",
        "    filt_tweet = ' '\n",
        "    for word in tweet:\n",
        "        if word.is_stop == False:\n",
        "            filt_tweet = filt_tweet + ' ' + str(word)\n",
        "    filtered_tweets.append(filt_tweet)\n",
        "    \n",
        "df['filtered_tweets'] = filtered_tweets\n",
        "\n",
        "def clean_text(text):\n",
        "    # Removing spaces and converting text into lowercase\n",
        "    return text.strip().lower()\n",
        "\n",
        "df['filtered_tweets'] = df['filtered_tweets'].map(clean_text)\n",
        "\n",
        "df.head(10)"
      ],
      "outputs": [
        {
          "output_type": "execute_result",
          "execution_count": 31,
          "data": {
            "text/plain": [
              "   id                                               text  target  \\\n",
              "0   1  Our Deeds are the Reason of this #earthquake M...       1   \n",
              "1   4             Forest fire near La Ronge Sask. Canada       1   \n",
              "2   5  All residents asked to 'shelter in place' are ...       1   \n",
              "3   6  13,000 people receive #wildfires evacuation or...       1   \n",
              "4   7  Just got sent this photo from Ruby #Alaska as ...       1   \n",
              "5   8  #RockyFire Update => California Hwy. 20 closed...       1   \n",
              "6  10  #flood #disaster Heavy rain causes flash flood...       1   \n",
              "7  13  I'm on top of the hill and I can see a fire in...       1   \n",
              "8  14  There's an emergency evacuation happening now ...       1   \n",
              "9  15  I'm afraid that the tornado is coming to our a...       1   \n",
              "\n",
              "                                     filtered_tweets  \n",
              "0            deeds reason # earthquake allah forgive  \n",
              "1            forest fire near la ronge sask . canada  \n",
              "2  residents asked ' shelter place ' notified off...  \n",
              "3  13,000 people receive # wildfires evacuation o...  \n",
              "4  got sent photo ruby # alaska smoke # wildfires...  \n",
              "5  # rockyfire update = > california hwy . 20 clo...  \n",
              "6  # flood # disaster heavy rain causes flash flo...  \n",
              "7                                hill fire woods ...  \n",
              "8     emergency evacuation happening building street  \n",
              "9                     afraid tornado coming area ...  "
            ],
            "text/html": [
              "<div>\n",
              "<style scoped>\n",
              "    .dataframe tbody tr th:only-of-type {\n",
              "        vertical-align: middle;\n",
              "    }\n",
              "\n",
              "    .dataframe tbody tr th {\n",
              "        vertical-align: top;\n",
              "    }\n",
              "\n",
              "    .dataframe thead th {\n",
              "        text-align: right;\n",
              "    }\n",
              "</style>\n",
              "<table border=\"1\" class=\"dataframe\">\n",
              "  <thead>\n",
              "    <tr style=\"text-align: right;\">\n",
              "      <th></th>\n",
              "      <th>id</th>\n",
              "      <th>text</th>\n",
              "      <th>target</th>\n",
              "      <th>filtered_tweets</th>\n",
              "    </tr>\n",
              "  </thead>\n",
              "  <tbody>\n",
              "    <tr>\n",
              "      <th>0</th>\n",
              "      <td>1</td>\n",
              "      <td>Our Deeds are the Reason of this #earthquake M...</td>\n",
              "      <td>1</td>\n",
              "      <td>deeds reason # earthquake allah forgive</td>\n",
              "    </tr>\n",
              "    <tr>\n",
              "      <th>1</th>\n",
              "      <td>4</td>\n",
              "      <td>Forest fire near La Ronge Sask. Canada</td>\n",
              "      <td>1</td>\n",
              "      <td>forest fire near la ronge sask . canada</td>\n",
              "    </tr>\n",
              "    <tr>\n",
              "      <th>2</th>\n",
              "      <td>5</td>\n",
              "      <td>All residents asked to 'shelter in place' are ...</td>\n",
              "      <td>1</td>\n",
              "      <td>residents asked ' shelter place ' notified off...</td>\n",
              "    </tr>\n",
              "    <tr>\n",
              "      <th>3</th>\n",
              "      <td>6</td>\n",
              "      <td>13,000 people receive #wildfires evacuation or...</td>\n",
              "      <td>1</td>\n",
              "      <td>13,000 people receive # wildfires evacuation o...</td>\n",
              "    </tr>\n",
              "    <tr>\n",
              "      <th>4</th>\n",
              "      <td>7</td>\n",
              "      <td>Just got sent this photo from Ruby #Alaska as ...</td>\n",
              "      <td>1</td>\n",
              "      <td>got sent photo ruby # alaska smoke # wildfires...</td>\n",
              "    </tr>\n",
              "    <tr>\n",
              "      <th>5</th>\n",
              "      <td>8</td>\n",
              "      <td>#RockyFire Update =&gt; California Hwy. 20 closed...</td>\n",
              "      <td>1</td>\n",
              "      <td># rockyfire update = &gt; california hwy . 20 clo...</td>\n",
              "    </tr>\n",
              "    <tr>\n",
              "      <th>6</th>\n",
              "      <td>10</td>\n",
              "      <td>#flood #disaster Heavy rain causes flash flood...</td>\n",
              "      <td>1</td>\n",
              "      <td># flood # disaster heavy rain causes flash flo...</td>\n",
              "    </tr>\n",
              "    <tr>\n",
              "      <th>7</th>\n",
              "      <td>13</td>\n",
              "      <td>I'm on top of the hill and I can see a fire in...</td>\n",
              "      <td>1</td>\n",
              "      <td>hill fire woods ...</td>\n",
              "    </tr>\n",
              "    <tr>\n",
              "      <th>8</th>\n",
              "      <td>14</td>\n",
              "      <td>There's an emergency evacuation happening now ...</td>\n",
              "      <td>1</td>\n",
              "      <td>emergency evacuation happening building street</td>\n",
              "    </tr>\n",
              "    <tr>\n",
              "      <th>9</th>\n",
              "      <td>15</td>\n",
              "      <td>I'm afraid that the tornado is coming to our a...</td>\n",
              "      <td>1</td>\n",
              "      <td>afraid tornado coming area ...</td>\n",
              "    </tr>\n",
              "  </tbody>\n",
              "</table>\n",
              "</div>"
            ]
          },
          "metadata": {}
        }
      ],
      "execution_count": 31,
      "metadata": {
        "collapsed": true,
        "outputExpanded": false,
        "jupyter": {
          "source_hidden": false,
          "outputs_hidden": false
        },
        "nteract": {
          "transient": {
            "deleting": false
          }
        },
        "execution": {
          "iopub.status.busy": "2020-04-30T14:27:06.412Z",
          "iopub.execute_input": "2020-04-30T14:27:06.422Z",
          "iopub.status.idle": "2020-04-30T14:27:09.096Z",
          "shell.execute_reply": "2020-04-30T14:27:09.140Z"
        }
      }
    },
    {
      "cell_type": "markdown",
      "source": [
        "### Logistic regression:"
      ],
      "metadata": {
        "nteract": {
          "transient": {
            "deleting": false
          }
        }
      }
    },
    {
      "cell_type": "code",
      "source": [
        "#!python -m spacy download en_core_web_sm\n",
        "\n",
        "from sklearn.feature_extraction.text import CountVectorizer,TfidfVectorizer\n",
        "from sklearn.base import TransformerMixin\n",
        "from sklearn.pipeline import Pipeline\n"
      ],
      "outputs": [],
      "execution_count": 40,
      "metadata": {
        "collapsed": true,
        "outputExpanded": false,
        "jupyter": {
          "source_hidden": false,
          "outputs_hidden": false
        },
        "nteract": {
          "transient": {
            "deleting": false
          }
        },
        "execution": {
          "iopub.status.busy": "2020-04-30T14:33:50.320Z",
          "iopub.execute_input": "2020-04-30T14:33:50.325Z",
          "iopub.status.idle": "2020-04-30T14:33:50.333Z",
          "shell.execute_reply": "2020-04-30T14:33:50.339Z"
        }
      }
    },
    {
      "cell_type": "code",
      "source": [
        "import string\n",
        "from spacy.lang.en.stop_words import STOP_WORDS\n",
        "from spacy.lang.en import English\n",
        "\n",
        "punctuations = string.punctuation\n",
        "\n",
        "nlp = spacy.load('en')\n",
        "stop_words = spacy.lang.en.stop_words.STOP_WORDS\n",
        "\n",
        "parser = English()\n",
        "\n",
        "def spacy_tokenizer(sentence):\n",
        "    mytokens = parser(sentence)\n",
        "    mytokens = [ word.lemma_.lower().strip() \n",
        "                if word.lemma_ != \"-PRON-\" else word.lower_ for word in mytokens ]\n",
        "    mytokens = [ word for word in mytokens \n",
        "                if word not in stop_words and word not in punctuations ]\n",
        "\n",
        "    return mytokens\n",
        "\n",
        "\n",
        "tfidf_vector = TfidfVectorizer(tokenizer = spacy_tokenizer)"
      ],
      "outputs": [],
      "execution_count": 41,
      "metadata": {
        "collapsed": true,
        "outputExpanded": false,
        "jupyter": {
          "source_hidden": false,
          "outputs_hidden": false
        },
        "nteract": {
          "transient": {
            "deleting": false
          }
        },
        "execution": {
          "iopub.status.busy": "2020-04-30T14:33:50.731Z",
          "iopub.execute_input": "2020-04-30T14:33:50.736Z",
          "iopub.status.idle": "2020-04-30T14:33:51.953Z",
          "shell.execute_reply": "2020-04-30T14:33:51.958Z"
        }
      }
    },
    {
      "cell_type": "code",
      "source": [
        "from sklearn.model_selection import train_test_split\n",
        "\n",
        "X = df['text']\n",
        "ylabels = df['target']\n",
        "\n",
        "X_train, X_test, y_train, y_test = train_test_split(X, ylabels, test_size=0.3, random_state=72)"
      ],
      "outputs": [],
      "execution_count": 49,
      "metadata": {
        "collapsed": true,
        "outputExpanded": false,
        "jupyter": {
          "source_hidden": false,
          "outputs_hidden": false
        },
        "nteract": {
          "transient": {
            "deleting": false
          }
        },
        "execution": {
          "iopub.status.busy": "2020-04-30T14:43:29.715Z",
          "iopub.execute_input": "2020-04-30T14:43:29.719Z",
          "iopub.status.idle": "2020-04-30T14:43:29.728Z",
          "shell.execute_reply": "2020-04-30T14:43:29.733Z"
        }
      }
    },
    {
      "cell_type": "code",
      "source": [
        "from sklearn.linear_model import LogisticRegression\n",
        "classifier = LogisticRegression(solver=\"lbfgs\")\n",
        "\n",
        "# Create pipeline using Bag of Words\n",
        "pipe = Pipeline([('vectorizer', tfidf_vector),\n",
        "                 ('classifier', classifier)])\n",
        "\n",
        "# model generation\n",
        "pipe.fit(X_train,y_train)\n",
        "\n",
        "from sklearn import metrics\n",
        "predicted = pipe.predict(X_test)\n",
        "\n",
        "print(\" test Accuracy:\",metrics.accuracy_score(y_test, predicted))\n",
        "print(\" Precision:\",metrics.precision_score(y_test, predicted, average=None))\n",
        "print(\" Recall:\",metrics.recall_score(y_test, predicted, average=None))"
      ],
      "outputs": [
        {
          "output_type": "stream",
          "name": "stdout",
          "text": [
            " test Accuracy: 0.8047285464098074\n",
            " Precision: [0.78066667 0.85076531]\n",
            " Recall: [0.90916149 0.66967871]\n"
          ]
        }
      ],
      "execution_count": 50,
      "metadata": {
        "collapsed": true,
        "outputExpanded": false,
        "jupyter": {
          "source_hidden": false,
          "outputs_hidden": false
        },
        "nteract": {
          "transient": {
            "deleting": false
          }
        },
        "execution": {
          "iopub.status.busy": "2020-04-30T14:43:30.019Z",
          "iopub.execute_input": "2020-04-30T14:43:30.026Z",
          "shell.execute_reply": "2020-04-30T14:43:32.765Z",
          "iopub.status.idle": "2020-04-30T14:43:32.754Z"
        }
      }
    },
    {
      "cell_type": "markdown",
      "source": [
        "#### we can see here that our model identified a tweet about a disaster 80.47% of the time\n",
        "#### when it predicted a tweet to be about a disaster, it was correctly assessed 78.07% of the time, and was correctly assessed for a tweet not about a disaster 85.08% of the time\n",
        "#### when given a tweet about a disaster, the model considered it as being about a disaster 90.92% of the time, and when given a tweet not about a disaster the model considered it as not a disaster for 66.97% of the time"
      ],
      "metadata": {
        "nteract": {
          "transient": {
            "deleting": false
          }
        }
      }
    },
    {
      "cell_type": "code",
      "source": [],
      "outputs": [],
      "execution_count": null,
      "metadata": {
        "collapsed": true,
        "outputExpanded": false,
        "jupyter": {
          "source_hidden": false,
          "outputs_hidden": false
        },
        "nteract": {
          "transient": {
            "deleting": false
          }
        }
      }
    }
  ],
  "metadata": {
    "kernelspec": {
      "display_name": "Python 3",
      "language": "python",
      "name": "python3"
    },
    "language_info": {
      "name": "python",
      "version": "3.7.3",
      "mimetype": "text/x-python",
      "codemirror_mode": {
        "name": "ipython",
        "version": 3
      },
      "pygments_lexer": "ipython3",
      "nbconvert_exporter": "python",
      "file_extension": ".py"
    },
    "nteract": {
      "version": "0.22.4"
    }
  },
  "nbformat": 4,
  "nbformat_minor": 2
}
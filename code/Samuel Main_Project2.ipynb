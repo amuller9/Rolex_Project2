{
  "cells": [
    {
      "cell_type": "markdown",
      "source": [
        "## Real or Not? NLP with Disaster Tweets - Project 2 - Sam's part"
      ],
      "metadata": {}
    },
    {
      "cell_type": "markdown",
      "source": [
        "Big-Scale Analytics - Project 2 - Team Rolex\n",
        "> Samuel Lew, Alexandre Lang, Samy Bouzerda, Alix Muller"
      ],
      "metadata": {}
    },
    {
      "cell_type": "markdown",
      "source": [
        "## Load dataset"
      ],
      "metadata": {
        "nteract": {
          "transient": {
            "deleting": false
          }
        }
      }
    },
    {
      "cell_type": "code",
      "source": [
        "import pandas as pd"
      ],
      "outputs": [],
      "execution_count": 3,
      "metadata": {
        "execution": {
          "iopub.status.busy": "2020-05-09T11:53:50.752Z",
          "iopub.execute_input": "2020-05-09T11:53:50.763Z",
          "shell.execute_reply": "2020-05-09T11:54:09.537Z",
          "iopub.status.idle": "2020-05-09T11:54:09.494Z"
        }
      }
    },
    {
      "cell_type": "code",
      "source": [
        "df = pd.read_csv ('../data/train.csv')\n",
        "df = df[['id', 'text', 'target']]\n",
        "df.iloc[:10]"
      ],
      "outputs": [
        {
          "output_type": "execute_result",
          "execution_count": 4,
          "data": {
            "text/plain": [
              "   id                                               text  target\n",
              "0   1  Our Deeds are the Reason of this #earthquake M...       1\n",
              "1   4             Forest fire near La Ronge Sask. Canada       1\n",
              "2   5  All residents asked to 'shelter in place' are ...       1\n",
              "3   6  13,000 people receive #wildfires evacuation or...       1\n",
              "4   7  Just got sent this photo from Ruby #Alaska as ...       1\n",
              "5   8  #RockyFire Update => California Hwy. 20 closed...       1\n",
              "6  10  #flood #disaster Heavy rain causes flash flood...       1\n",
              "7  13  I'm on top of the hill and I can see a fire in...       1\n",
              "8  14  There's an emergency evacuation happening now ...       1\n",
              "9  15  I'm afraid that the tornado is coming to our a...       1"
            ],
            "text/html": [
              "<div>\n",
              "<style scoped>\n",
              "    .dataframe tbody tr th:only-of-type {\n",
              "        vertical-align: middle;\n",
              "    }\n",
              "\n",
              "    .dataframe tbody tr th {\n",
              "        vertical-align: top;\n",
              "    }\n",
              "\n",
              "    .dataframe thead th {\n",
              "        text-align: right;\n",
              "    }\n",
              "</style>\n",
              "<table border=\"1\" class=\"dataframe\">\n",
              "  <thead>\n",
              "    <tr style=\"text-align: right;\">\n",
              "      <th></th>\n",
              "      <th>id</th>\n",
              "      <th>text</th>\n",
              "      <th>target</th>\n",
              "    </tr>\n",
              "  </thead>\n",
              "  <tbody>\n",
              "    <tr>\n",
              "      <th>0</th>\n",
              "      <td>1</td>\n",
              "      <td>Our Deeds are the Reason of this #earthquake M...</td>\n",
              "      <td>1</td>\n",
              "    </tr>\n",
              "    <tr>\n",
              "      <th>1</th>\n",
              "      <td>4</td>\n",
              "      <td>Forest fire near La Ronge Sask. Canada</td>\n",
              "      <td>1</td>\n",
              "    </tr>\n",
              "    <tr>\n",
              "      <th>2</th>\n",
              "      <td>5</td>\n",
              "      <td>All residents asked to 'shelter in place' are ...</td>\n",
              "      <td>1</td>\n",
              "    </tr>\n",
              "    <tr>\n",
              "      <th>3</th>\n",
              "      <td>6</td>\n",
              "      <td>13,000 people receive #wildfires evacuation or...</td>\n",
              "      <td>1</td>\n",
              "    </tr>\n",
              "    <tr>\n",
              "      <th>4</th>\n",
              "      <td>7</td>\n",
              "      <td>Just got sent this photo from Ruby #Alaska as ...</td>\n",
              "      <td>1</td>\n",
              "    </tr>\n",
              "    <tr>\n",
              "      <th>5</th>\n",
              "      <td>8</td>\n",
              "      <td>#RockyFire Update =&gt; California Hwy. 20 closed...</td>\n",
              "      <td>1</td>\n",
              "    </tr>\n",
              "    <tr>\n",
              "      <th>6</th>\n",
              "      <td>10</td>\n",
              "      <td>#flood #disaster Heavy rain causes flash flood...</td>\n",
              "      <td>1</td>\n",
              "    </tr>\n",
              "    <tr>\n",
              "      <th>7</th>\n",
              "      <td>13</td>\n",
              "      <td>I'm on top of the hill and I can see a fire in...</td>\n",
              "      <td>1</td>\n",
              "    </tr>\n",
              "    <tr>\n",
              "      <th>8</th>\n",
              "      <td>14</td>\n",
              "      <td>There's an emergency evacuation happening now ...</td>\n",
              "      <td>1</td>\n",
              "    </tr>\n",
              "    <tr>\n",
              "      <th>9</th>\n",
              "      <td>15</td>\n",
              "      <td>I'm afraid that the tornado is coming to our a...</td>\n",
              "      <td>1</td>\n",
              "    </tr>\n",
              "  </tbody>\n",
              "</table>\n",
              "</div>"
            ]
          },
          "metadata": {}
        }
      ],
      "execution_count": 4,
      "metadata": {
        "collapsed": true,
        "outputExpanded": false,
        "jupyter": {
          "source_hidden": false,
          "outputs_hidden": false
        },
        "nteract": {
          "transient": {
            "deleting": false
          }
        },
        "execution": {
          "iopub.status.busy": "2020-05-09T11:54:09.512Z",
          "iopub.execute_input": "2020-05-09T11:54:09.527Z",
          "iopub.status.idle": "2020-05-09T11:54:09.593Z",
          "shell.execute_reply": "2020-05-09T11:54:09.694Z"
        }
      }
    },
    {
      "cell_type": "code",
      "source": [
        "index = df.index\n",
        "columns = df.columns\n",
        "values = df.values"
      ],
      "outputs": [],
      "execution_count": 5,
      "metadata": {
        "collapsed": true,
        "outputExpanded": false,
        "jupyter": {
          "source_hidden": false,
          "outputs_hidden": false
        },
        "nteract": {
          "transient": {
            "deleting": false
          }
        },
        "execution": {
          "iopub.status.busy": "2020-05-09T11:54:09.610Z",
          "iopub.execute_input": "2020-05-09T11:54:09.623Z",
          "iopub.status.idle": "2020-05-09T11:54:09.639Z",
          "shell.execute_reply": "2020-05-09T11:54:09.707Z"
        }
      }
    },
    {
      "cell_type": "code",
      "source": [
        "df_yes = df.query('target == 1')\n",
        "yes_count = 0\n",
        "for row in df_yes.iterrows():\n",
        "    yes_count += 1\n",
        "print(f'there are {yes_count} tweets about disasters')\n",
        "\n",
        "df_no = df.query('target == 0')\n",
        "no_count = 0\n",
        "for row in df_no.iterrows():\n",
        "    no_count += 1\n",
        "print(f'there are {no_count} tweets that are not about disasters')\n",
        "\n",
        "print('the classification base rate is ' + str(yes_count/(yes_count+no_count)*100)[:5] + '%')"
      ],
      "outputs": [
        {
          "output_type": "stream",
          "name": "stdout",
          "text": [
            "there are 3271 tweets about disasters\n",
            "there are 4342 tweets that are not about disasters\n",
            "the classification base rate is 42.96%\n"
          ]
        }
      ],
      "execution_count": 10,
      "metadata": {
        "collapsed": true,
        "outputExpanded": false,
        "jupyter": {
          "source_hidden": false,
          "outputs_hidden": false
        },
        "nteract": {
          "transient": {
            "deleting": false
          }
        },
        "execution": {
          "iopub.status.busy": "2020-05-09T11:55:03.868Z",
          "iopub.execute_input": "2020-05-09T11:55:03.876Z",
          "iopub.status.idle": "2020-05-09T11:55:04.761Z",
          "shell.execute_reply": "2020-05-09T11:55:04.782Z"
        }
      }
    },
    {
      "cell_type": "markdown",
      "source": [
        "## Process text"
      ],
      "metadata": {
        "nteract": {
          "transient": {
            "deleting": false
          }
        }
      }
    },
    {
      "cell_type": "code",
      "source": [
        "#!pip install spacy\n",
        "#!python -m spacy download en"
      ],
      "outputs": [],
      "execution_count": 11,
      "metadata": {
        "collapsed": true,
        "outputExpanded": false,
        "jupyter": {
          "source_hidden": false,
          "outputs_hidden": false
        },
        "nteract": {
          "transient": {
            "deleting": false
          }
        },
        "execution": {
          "iopub.status.busy": "2020-05-09T11:55:11.906Z",
          "iopub.execute_input": "2020-05-09T11:55:11.913Z",
          "shell.execute_reply": "2020-05-09T11:55:11.931Z",
          "iopub.status.idle": "2020-05-09T11:55:11.924Z"
        }
      }
    },
    {
      "cell_type": "markdown",
      "source": [
        "### Removing stopwords & lowercasing every word:"
      ],
      "metadata": {
        "nteract": {
          "transient": {
            "deleting": false
          }
        }
      }
    },
    {
      "cell_type": "code",
      "source": [
        "import string\n",
        "import spacy\n",
        "from spacy.lang.en.stop_words import STOP_WORDS\n",
        "from spacy.lang.en import English\n",
        "\n",
        "punctuations = string.punctuation\n",
        "\n",
        "nlp = spacy.load('en')\n",
        "stop_words = spacy.lang.en.stop_words.STOP_WORDS\n",
        "\n",
        "parser = English()\n",
        "\n",
        "filtered_tweets = []\n",
        "for tweet in df['text']:\n",
        "    tweet = nlp(tweet)\n",
        "    filt_tweet = ' '\n",
        "    for word in tweet:\n",
        "        if word.is_stop == False and word.lemma_ != \"-PRON-\" and word not in stop_words or punctuations:\n",
        "            filt_tweet = filt_tweet + ' ' + str(word)\n",
        "          \n",
        "    filtered_tweets.append(filt_tweet)\n",
        "    \n",
        "df['filtered_tweet'] = filtered_tweets\n",
        "\n",
        "def clean_text(text):\n",
        "    # Removing spaces and converting text into lowercase\n",
        "    return text.strip().lower()\n",
        "\n",
        "df['filtered_tweet'] = df['filtered_tweet'].map(clean_text)\n",
        "\n",
        "df.head(30)"
      ],
      "outputs": [
        {
          "output_type": "execute_result",
          "execution_count": 27,
          "data": {
            "text/plain": [
              "    id                                               text  target  \\\n",
              "0    1  Our Deeds are the Reason of this #earthquake M...       1   \n",
              "1    4             Forest fire near La Ronge Sask. Canada       1   \n",
              "2    5  All residents asked to 'shelter in place' are ...       1   \n",
              "3    6  13,000 people receive #wildfires evacuation or...       1   \n",
              "4    7  Just got sent this photo from Ruby #Alaska as ...       1   \n",
              "5    8  #RockyFire Update => California Hwy. 20 closed...       1   \n",
              "6   10  #flood #disaster Heavy rain causes flash flood...       1   \n",
              "7   13  I'm on top of the hill and I can see a fire in...       1   \n",
              "8   14  There's an emergency evacuation happening now ...       1   \n",
              "9   15  I'm afraid that the tornado is coming to our a...       1   \n",
              "10  16        Three people died from the heat wave so far       1   \n",
              "11  17  Haha South Tampa is getting flooded hah- WAIT ...       1   \n",
              "12  18  #raining #flooding #Florida #TampaBay #Tampa 1...       1   \n",
              "13  19            #Flood in Bago Myanmar #We arrived Bago       1   \n",
              "14  20  Damage to school bus on 80 in multi car crash ...       1   \n",
              "15  23                                     What's up man?       0   \n",
              "16  24                                      I love fruits       0   \n",
              "17  25                                   Summer is lovely       0   \n",
              "18  26                                  My car is so fast       0   \n",
              "19  28                       What a goooooooaaaaaal!!!!!!       0   \n",
              "20  31                             this is ridiculous....       0   \n",
              "21  32                                  London is cool ;)       0   \n",
              "22  33                                        Love skiing       0   \n",
              "23  34                              What a wonderful day!       0   \n",
              "24  36                                           LOOOOOOL       0   \n",
              "25  37                     No way...I can't eat that shit       0   \n",
              "26  38                              Was in NYC last week!       0   \n",
              "27  39                                 Love my girlfriend       0   \n",
              "28  40                                          Cooool :)       0   \n",
              "29  41                                 Do you like pasta?       0   \n",
              "\n",
              "                                       filtered_tweet  \n",
              "0   our deeds are the reason of this # earthquake ...  \n",
              "1             forest fire near la ronge sask . canada  \n",
              "2   all residents asked to ' shelter in place ' ar...  \n",
              "3   13,000 people receive # wildfires evacuation o...  \n",
              "4   just got sent this photo from ruby # alaska as...  \n",
              "5   # rockyfire update = > california hwy . 20 clo...  \n",
              "6   # flood # disaster heavy rain causes flash flo...  \n",
              "7   i 'm on top of the hill and i can see a fire i...  \n",
              "8   there 's an emergency evacuation happening now...  \n",
              "9   i 'm afraid that the tornado is coming to our ...  \n",
              "10        three people died from the heat wave so far  \n",
              "11  haha south tampa is getting flooded hah- wait ...  \n",
              "12  # raining # flooding # florida # tampabay # ta...  \n",
              "13          # flood in bago myanmar # we arrived bago  \n",
              "14  damage to school bus on 80 in multi car crash ...  \n",
              "15                                   what 's up man ?  \n",
              "16                                      i love fruits  \n",
              "17                                   summer is lovely  \n",
              "18                                  my car is so fast  \n",
              "19                 what a goooooooaaaaaal ! ! ! ! ! !  \n",
              "20                            this is ridiculous ....  \n",
              "21                                  london is cool ;)  \n",
              "22                                        love skiing  \n",
              "23                             what a wonderful day !  \n",
              "24                                           looooool  \n",
              "25                  no way ... i ca n't eat that shit  \n",
              "26                             was in nyc last week !  \n",
              "27                                 love my girlfriend  \n",
              "28                                          cooool :)  \n",
              "29                                do you like pasta ?  "
            ],
            "text/html": [
              "<div>\n",
              "<style scoped>\n",
              "    .dataframe tbody tr th:only-of-type {\n",
              "        vertical-align: middle;\n",
              "    }\n",
              "\n",
              "    .dataframe tbody tr th {\n",
              "        vertical-align: top;\n",
              "    }\n",
              "\n",
              "    .dataframe thead th {\n",
              "        text-align: right;\n",
              "    }\n",
              "</style>\n",
              "<table border=\"1\" class=\"dataframe\">\n",
              "  <thead>\n",
              "    <tr style=\"text-align: right;\">\n",
              "      <th></th>\n",
              "      <th>id</th>\n",
              "      <th>text</th>\n",
              "      <th>target</th>\n",
              "      <th>filtered_tweet</th>\n",
              "    </tr>\n",
              "  </thead>\n",
              "  <tbody>\n",
              "    <tr>\n",
              "      <th>0</th>\n",
              "      <td>1</td>\n",
              "      <td>Our Deeds are the Reason of this #earthquake M...</td>\n",
              "      <td>1</td>\n",
              "      <td>our deeds are the reason of this # earthquake ...</td>\n",
              "    </tr>\n",
              "    <tr>\n",
              "      <th>1</th>\n",
              "      <td>4</td>\n",
              "      <td>Forest fire near La Ronge Sask. Canada</td>\n",
              "      <td>1</td>\n",
              "      <td>forest fire near la ronge sask . canada</td>\n",
              "    </tr>\n",
              "    <tr>\n",
              "      <th>2</th>\n",
              "      <td>5</td>\n",
              "      <td>All residents asked to 'shelter in place' are ...</td>\n",
              "      <td>1</td>\n",
              "      <td>all residents asked to ' shelter in place ' ar...</td>\n",
              "    </tr>\n",
              "    <tr>\n",
              "      <th>3</th>\n",
              "      <td>6</td>\n",
              "      <td>13,000 people receive #wildfires evacuation or...</td>\n",
              "      <td>1</td>\n",
              "      <td>13,000 people receive # wildfires evacuation o...</td>\n",
              "    </tr>\n",
              "    <tr>\n",
              "      <th>4</th>\n",
              "      <td>7</td>\n",
              "      <td>Just got sent this photo from Ruby #Alaska as ...</td>\n",
              "      <td>1</td>\n",
              "      <td>just got sent this photo from ruby # alaska as...</td>\n",
              "    </tr>\n",
              "    <tr>\n",
              "      <th>5</th>\n",
              "      <td>8</td>\n",
              "      <td>#RockyFire Update =&gt; California Hwy. 20 closed...</td>\n",
              "      <td>1</td>\n",
              "      <td># rockyfire update = &gt; california hwy . 20 clo...</td>\n",
              "    </tr>\n",
              "    <tr>\n",
              "      <th>6</th>\n",
              "      <td>10</td>\n",
              "      <td>#flood #disaster Heavy rain causes flash flood...</td>\n",
              "      <td>1</td>\n",
              "      <td># flood # disaster heavy rain causes flash flo...</td>\n",
              "    </tr>\n",
              "    <tr>\n",
              "      <th>7</th>\n",
              "      <td>13</td>\n",
              "      <td>I'm on top of the hill and I can see a fire in...</td>\n",
              "      <td>1</td>\n",
              "      <td>i 'm on top of the hill and i can see a fire i...</td>\n",
              "    </tr>\n",
              "    <tr>\n",
              "      <th>8</th>\n",
              "      <td>14</td>\n",
              "      <td>There's an emergency evacuation happening now ...</td>\n",
              "      <td>1</td>\n",
              "      <td>there 's an emergency evacuation happening now...</td>\n",
              "    </tr>\n",
              "    <tr>\n",
              "      <th>9</th>\n",
              "      <td>15</td>\n",
              "      <td>I'm afraid that the tornado is coming to our a...</td>\n",
              "      <td>1</td>\n",
              "      <td>i 'm afraid that the tornado is coming to our ...</td>\n",
              "    </tr>\n",
              "    <tr>\n",
              "      <th>10</th>\n",
              "      <td>16</td>\n",
              "      <td>Three people died from the heat wave so far</td>\n",
              "      <td>1</td>\n",
              "      <td>three people died from the heat wave so far</td>\n",
              "    </tr>\n",
              "    <tr>\n",
              "      <th>11</th>\n",
              "      <td>17</td>\n",
              "      <td>Haha South Tampa is getting flooded hah- WAIT ...</td>\n",
              "      <td>1</td>\n",
              "      <td>haha south tampa is getting flooded hah- wait ...</td>\n",
              "    </tr>\n",
              "    <tr>\n",
              "      <th>12</th>\n",
              "      <td>18</td>\n",
              "      <td>#raining #flooding #Florida #TampaBay #Tampa 1...</td>\n",
              "      <td>1</td>\n",
              "      <td># raining # flooding # florida # tampabay # ta...</td>\n",
              "    </tr>\n",
              "    <tr>\n",
              "      <th>13</th>\n",
              "      <td>19</td>\n",
              "      <td>#Flood in Bago Myanmar #We arrived Bago</td>\n",
              "      <td>1</td>\n",
              "      <td># flood in bago myanmar # we arrived bago</td>\n",
              "    </tr>\n",
              "    <tr>\n",
              "      <th>14</th>\n",
              "      <td>20</td>\n",
              "      <td>Damage to school bus on 80 in multi car crash ...</td>\n",
              "      <td>1</td>\n",
              "      <td>damage to school bus on 80 in multi car crash ...</td>\n",
              "    </tr>\n",
              "    <tr>\n",
              "      <th>15</th>\n",
              "      <td>23</td>\n",
              "      <td>What's up man?</td>\n",
              "      <td>0</td>\n",
              "      <td>what 's up man ?</td>\n",
              "    </tr>\n",
              "    <tr>\n",
              "      <th>16</th>\n",
              "      <td>24</td>\n",
              "      <td>I love fruits</td>\n",
              "      <td>0</td>\n",
              "      <td>i love fruits</td>\n",
              "    </tr>\n",
              "    <tr>\n",
              "      <th>17</th>\n",
              "      <td>25</td>\n",
              "      <td>Summer is lovely</td>\n",
              "      <td>0</td>\n",
              "      <td>summer is lovely</td>\n",
              "    </tr>\n",
              "    <tr>\n",
              "      <th>18</th>\n",
              "      <td>26</td>\n",
              "      <td>My car is so fast</td>\n",
              "      <td>0</td>\n",
              "      <td>my car is so fast</td>\n",
              "    </tr>\n",
              "    <tr>\n",
              "      <th>19</th>\n",
              "      <td>28</td>\n",
              "      <td>What a goooooooaaaaaal!!!!!!</td>\n",
              "      <td>0</td>\n",
              "      <td>what a goooooooaaaaaal ! ! ! ! ! !</td>\n",
              "    </tr>\n",
              "    <tr>\n",
              "      <th>20</th>\n",
              "      <td>31</td>\n",
              "      <td>this is ridiculous....</td>\n",
              "      <td>0</td>\n",
              "      <td>this is ridiculous ....</td>\n",
              "    </tr>\n",
              "    <tr>\n",
              "      <th>21</th>\n",
              "      <td>32</td>\n",
              "      <td>London is cool ;)</td>\n",
              "      <td>0</td>\n",
              "      <td>london is cool ;)</td>\n",
              "    </tr>\n",
              "    <tr>\n",
              "      <th>22</th>\n",
              "      <td>33</td>\n",
              "      <td>Love skiing</td>\n",
              "      <td>0</td>\n",
              "      <td>love skiing</td>\n",
              "    </tr>\n",
              "    <tr>\n",
              "      <th>23</th>\n",
              "      <td>34</td>\n",
              "      <td>What a wonderful day!</td>\n",
              "      <td>0</td>\n",
              "      <td>what a wonderful day !</td>\n",
              "    </tr>\n",
              "    <tr>\n",
              "      <th>24</th>\n",
              "      <td>36</td>\n",
              "      <td>LOOOOOOL</td>\n",
              "      <td>0</td>\n",
              "      <td>looooool</td>\n",
              "    </tr>\n",
              "    <tr>\n",
              "      <th>25</th>\n",
              "      <td>37</td>\n",
              "      <td>No way...I can't eat that shit</td>\n",
              "      <td>0</td>\n",
              "      <td>no way ... i ca n't eat that shit</td>\n",
              "    </tr>\n",
              "    <tr>\n",
              "      <th>26</th>\n",
              "      <td>38</td>\n",
              "      <td>Was in NYC last week!</td>\n",
              "      <td>0</td>\n",
              "      <td>was in nyc last week !</td>\n",
              "    </tr>\n",
              "    <tr>\n",
              "      <th>27</th>\n",
              "      <td>39</td>\n",
              "      <td>Love my girlfriend</td>\n",
              "      <td>0</td>\n",
              "      <td>love my girlfriend</td>\n",
              "    </tr>\n",
              "    <tr>\n",
              "      <th>28</th>\n",
              "      <td>40</td>\n",
              "      <td>Cooool :)</td>\n",
              "      <td>0</td>\n",
              "      <td>cooool :)</td>\n",
              "    </tr>\n",
              "    <tr>\n",
              "      <th>29</th>\n",
              "      <td>41</td>\n",
              "      <td>Do you like pasta?</td>\n",
              "      <td>0</td>\n",
              "      <td>do you like pasta ?</td>\n",
              "    </tr>\n",
              "  </tbody>\n",
              "</table>\n",
              "</div>"
            ]
          },
          "metadata": {}
        }
      ],
      "execution_count": 27,
      "metadata": {
        "collapsed": true,
        "outputExpanded": false,
        "jupyter": {
          "source_hidden": false,
          "outputs_hidden": false
        },
        "nteract": {
          "transient": {
            "deleting": false
          }
        },
        "execution": {
          "iopub.status.busy": "2020-05-09T12:18:27.884Z",
          "iopub.execute_input": "2020-05-09T12:18:27.898Z",
          "iopub.status.idle": "2020-05-09T12:21:24.821Z",
          "shell.execute_reply": "2020-05-09T12:21:24.874Z"
        }
      }
    },
    {
      "cell_type": "code",
      "source": [
        "'''for row in df:\n",
        "  \n",
        "  for word in ['filtered_tweet']:\n",
        "    print(word.lemma)\n",
        "\n",
        "[word.lemma_.lower().strip() for word in df['filtered_tweet']]'''"
      ],
      "outputs": [
        {
          "output_type": "error",
          "ename": "AttributeError",
          "evalue": "'str' object has no attribute 'lemma'",
          "traceback": [
            "\u001b[0;31m---------------------------------------------------------------------------\u001b[0m",
            "\u001b[0;31mAttributeError\u001b[0m                            Traceback (most recent call last)",
            "\u001b[0;32m<ipython-input-22-085312feffa3>\u001b[0m in \u001b[0;36m<module>\u001b[0;34m\u001b[0m\n\u001b[1;32m      2\u001b[0m \u001b[0;34m\u001b[0m\u001b[0m\n\u001b[1;32m      3\u001b[0m   \u001b[0;32mfor\u001b[0m \u001b[0mword\u001b[0m \u001b[0;32min\u001b[0m \u001b[0;34m[\u001b[0m\u001b[0;34m'filtered_tweet'\u001b[0m\u001b[0;34m]\u001b[0m\u001b[0;34m:\u001b[0m\u001b[0;34m\u001b[0m\u001b[0;34m\u001b[0m\u001b[0m\n\u001b[0;32m----> 4\u001b[0;31m     \u001b[0mprint\u001b[0m\u001b[0;34m(\u001b[0m\u001b[0mword\u001b[0m\u001b[0;34m.\u001b[0m\u001b[0mlemma\u001b[0m\u001b[0;34m)\u001b[0m\u001b[0;34m\u001b[0m\u001b[0;34m\u001b[0m\u001b[0m\n\u001b[0m\u001b[1;32m      5\u001b[0m \u001b[0;34m\u001b[0m\u001b[0m\n\u001b[1;32m      6\u001b[0m \u001b[0;34m[\u001b[0m\u001b[0mword\u001b[0m\u001b[0;34m.\u001b[0m\u001b[0mlemma_\u001b[0m\u001b[0;34m.\u001b[0m\u001b[0mlower\u001b[0m\u001b[0;34m(\u001b[0m\u001b[0;34m)\u001b[0m\u001b[0;34m.\u001b[0m\u001b[0mstrip\u001b[0m\u001b[0;34m(\u001b[0m\u001b[0;34m)\u001b[0m \u001b[0;32mfor\u001b[0m \u001b[0mword\u001b[0m \u001b[0;32min\u001b[0m \u001b[0mdf\u001b[0m\u001b[0;34m[\u001b[0m\u001b[0;34m'filtered_tweet'\u001b[0m\u001b[0;34m]\u001b[0m\u001b[0;34m]\u001b[0m\u001b[0;34m\u001b[0m\u001b[0;34m\u001b[0m\u001b[0m\n",
            "\u001b[0;31mAttributeError\u001b[0m: 'str' object has no attribute 'lemma'"
          ]
        }
      ],
      "execution_count": 22,
      "metadata": {
        "collapsed": true,
        "outputExpanded": false,
        "jupyter": {
          "source_hidden": false,
          "outputs_hidden": false
        },
        "nteract": {
          "transient": {
            "deleting": false
          }
        },
        "execution": {
          "iopub.status.busy": "2020-05-09T12:08:27.780Z",
          "iopub.execute_input": "2020-05-09T12:08:27.795Z",
          "iopub.status.idle": "2020-05-09T12:08:27.816Z",
          "shell.execute_reply": "2020-05-09T12:08:27.835Z"
        }
      }
    },
    {
      "cell_type": "markdown",
      "source": [
        "### Logistic regression:"
      ],
      "metadata": {
        "nteract": {
          "transient": {
            "deleting": false
          }
        }
      }
    },
    {
      "cell_type": "code",
      "source": [
        "#!python -m spacy download en_core_web_sm\n",
        "\n",
        "from sklearn.feature_extraction.text import CountVectorizer,TfidfVectorizer\n",
        "from sklearn.base import TransformerMixin\n",
        "from sklearn.pipeline import Pipeline\n"
      ],
      "outputs": [],
      "execution_count": 23,
      "metadata": {
        "collapsed": true,
        "outputExpanded": false,
        "jupyter": {
          "source_hidden": false,
          "outputs_hidden": false
        },
        "nteract": {
          "transient": {
            "deleting": false
          }
        },
        "execution": {
          "iopub.status.busy": "2020-05-09T12:08:35.254Z",
          "iopub.execute_input": "2020-05-09T12:08:35.264Z",
          "iopub.status.idle": "2020-05-09T12:08:48.344Z",
          "shell.execute_reply": "2020-05-09T12:08:48.394Z"
        }
      }
    },
    {
      "cell_type": "code",
      "source": [
        "import string\n",
        "from spacy.lang.en.stop_words import STOP_WORDS\n",
        "from spacy.lang.en import English\n",
        "\n",
        "def spacy_tokenizer(sentence):\n",
        "    mytokens = parser(sentence)\n",
        "    mytokens = [ word.lemma_.lower().strip() \n",
        "                if word.lemma_ != \"-PRON-\" else word.lower_ for word in mytokens ]\n",
        "    mytokens = [ word for word in mytokens \n",
        "                if word not in stop_words and word not in punctuations ]\n",
        "\n",
        "    return mytokens\n",
        "\n",
        "\n",
        "tfidf_vector = TfidfVectorizer(tokenizer = spacy_tokenizer)"
      ],
      "outputs": [],
      "execution_count": 24,
      "metadata": {
        "collapsed": true,
        "outputExpanded": false,
        "jupyter": {
          "source_hidden": false,
          "outputs_hidden": false
        },
        "nteract": {
          "transient": {
            "deleting": false
          }
        },
        "execution": {
          "iopub.status.busy": "2020-05-09T12:08:48.366Z",
          "iopub.execute_input": "2020-05-09T12:08:48.378Z",
          "iopub.status.idle": "2020-05-09T12:08:49.559Z",
          "shell.execute_reply": "2020-05-09T12:08:49.600Z"
        }
      }
    },
    {
      "cell_type": "code",
      "source": [
        "from sklearn.model_selection import train_test_split\n",
        "\n",
        "X = df['text']\n",
        "ylabels = df['target']\n",
        "\n",
        "X_train, X_test, y_train, y_test = train_test_split(X, ylabels, test_size=0.3, random_state=72)"
      ],
      "outputs": [],
      "execution_count": 30,
      "metadata": {
        "collapsed": true,
        "outputExpanded": false,
        "jupyter": {
          "source_hidden": false,
          "outputs_hidden": false
        },
        "nteract": {
          "transient": {
            "deleting": false
          }
        },
        "execution": {
          "iopub.status.busy": "2020-05-09T12:27:13.594Z",
          "iopub.execute_input": "2020-05-09T12:27:13.609Z",
          "iopub.status.idle": "2020-05-09T12:27:13.631Z",
          "shell.execute_reply": "2020-05-09T12:27:13.642Z"
        }
      }
    },
    {
      "cell_type": "code",
      "source": [
        "from sklearn.linear_model import LogisticRegression\n",
        "classifier = LogisticRegression(solver=\"lbfgs\")\n",
        "\n",
        "# Create pipeline using Bag of Words\n",
        "pipe = Pipeline([('vectorizer', tfidf_vector),\n",
        "                 ('classifier', classifier)])\n",
        "\n",
        "# model generation\n",
        "pipe.fit(X_train,y_train)\n",
        "\n",
        "from sklearn import metrics\n",
        "predicted = pipe.predict(X_test)\n",
        "\n",
        "print(\" test Accuracy:\",metrics.accuracy_score(y_test, predicted))\n",
        "print(\" Precision:\",metrics.precision_score(y_test, predicted, average=None))\n",
        "print(\" Recall:\",metrics.recall_score(y_test, predicted, average=None))"
      ],
      "outputs": [
        {
          "output_type": "stream",
          "name": "stdout",
          "text": [
            " test Accuracy: 0.8047285464098074\n",
            " Precision: [0.78066667 0.85076531]\n",
            " Recall: [0.90916149 0.66967871]\n"
          ]
        }
      ],
      "execution_count": 31,
      "metadata": {
        "collapsed": true,
        "outputExpanded": false,
        "jupyter": {
          "source_hidden": false,
          "outputs_hidden": false
        },
        "nteract": {
          "transient": {
            "deleting": false
          }
        },
        "execution": {
          "iopub.status.busy": "2020-05-09T12:27:13.757Z",
          "iopub.execute_input": "2020-05-09T12:27:13.820Z",
          "shell.execute_reply": "2020-05-09T12:27:17.349Z",
          "iopub.status.idle": "2020-05-09T12:27:17.330Z"
        }
      }
    },
    {
      "cell_type": "markdown",
      "source": [
        "#### we can see here that our model identified a tweet about a disaster 80.47% of the time\n",
        "#### when it predicted a tweet to be about a disaster, it was correctly assessed 78.07% of the time, and was correctly assessed for a tweet not about a disaster 85.08% of the time\n",
        "#### when given a tweet about a disaster, the model considered it as being about a disaster 90.92% of the time, and when given a tweet not about a disaster the model considered it as not a disaster for 66.97% of the time"
      ],
      "metadata": {
        "nteract": {
          "transient": {
            "deleting": false
          }
        }
      }
    },
    {
      "cell_type": "code",
      "source": [],
      "outputs": [],
      "execution_count": null,
      "metadata": {
        "collapsed": true,
        "outputExpanded": false,
        "jupyter": {
          "source_hidden": false,
          "outputs_hidden": false
        },
        "nteract": {
          "transient": {
            "deleting": false
          }
        }
      }
    }
  ],
  "metadata": {
    "kernelspec": {
      "display_name": "Python 3",
      "language": "python",
      "name": "python3"
    },
    "language_info": {
      "name": "python",
      "version": "3.7.3",
      "mimetype": "text/x-python",
      "codemirror_mode": {
        "name": "ipython",
        "version": 3
      },
      "pygments_lexer": "ipython3",
      "nbconvert_exporter": "python",
      "file_extension": ".py"
    },
    "nteract": {
      "version": "0.23.1"
    }
  },
  "nbformat": 4,
  "nbformat_minor": 2
}
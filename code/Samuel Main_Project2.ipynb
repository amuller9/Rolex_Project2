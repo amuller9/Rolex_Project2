{
  "cells": [
    {
      "cell_type": "markdown",
      "source": [
        "## Real or Not? NLP with Disaster Tweets - Project 2 - Sam's part"
      ],
      "metadata": {}
    },
    {
      "cell_type": "markdown",
      "source": [
        "Big-Scale Analytics - Project 2 - Team Rolex\n",
        "> Samuel Lew, Alexandre Lang, Samy Bouzerda, Alix Muller"
      ],
      "metadata": {}
    },
    {
      "cell_type": "markdown",
      "source": [
        "## Load dataset"
      ],
      "metadata": {
        "nteract": {
          "transient": {
            "deleting": false
          }
        }
      }
    },
    {
      "cell_type": "code",
      "source": [
        "import pandas as pd"
      ],
      "outputs": [],
      "execution_count": 2,
      "metadata": {
        "execution": {
          "iopub.status.busy": "2020-04-30T09:55:45.110Z",
          "iopub.execute_input": "2020-04-30T09:55:45.114Z",
          "shell.execute_reply": "2020-04-30T09:55:47.578Z",
          "iopub.status.idle": "2020-04-30T09:55:47.586Z"
        }
      }
    },
    {
      "cell_type": "code",
      "source": [
        "df = pd.read_csv ('../data/train.csv')\n",
        "df = df[['id', 'text', 'target']]\n",
        "df.iloc[:10]"
      ],
      "outputs": [
        {
          "output_type": "execute_result",
          "execution_count": 46,
          "data": {
            "text/plain": [
              "   id                                               text  target\n",
              "0   1  Our Deeds are the Reason of this #earthquake M...       1\n",
              "1   4             Forest fire near La Ronge Sask. Canada       1\n",
              "2   5  All residents asked to 'shelter in place' are ...       1\n",
              "3   6  13,000 people receive #wildfires evacuation or...       1\n",
              "4   7  Just got sent this photo from Ruby #Alaska as ...       1\n",
              "5   8  #RockyFire Update => California Hwy. 20 closed...       1\n",
              "6  10  #flood #disaster Heavy rain causes flash flood...       1\n",
              "7  13  I'm on top of the hill and I can see a fire in...       1\n",
              "8  14  There's an emergency evacuation happening now ...       1\n",
              "9  15  I'm afraid that the tornado is coming to our a...       1"
            ],
            "text/html": [
              "<div>\n",
              "<style scoped>\n",
              "    .dataframe tbody tr th:only-of-type {\n",
              "        vertical-align: middle;\n",
              "    }\n",
              "\n",
              "    .dataframe tbody tr th {\n",
              "        vertical-align: top;\n",
              "    }\n",
              "\n",
              "    .dataframe thead th {\n",
              "        text-align: right;\n",
              "    }\n",
              "</style>\n",
              "<table border=\"1\" class=\"dataframe\">\n",
              "  <thead>\n",
              "    <tr style=\"text-align: right;\">\n",
              "      <th></th>\n",
              "      <th>id</th>\n",
              "      <th>text</th>\n",
              "      <th>target</th>\n",
              "    </tr>\n",
              "  </thead>\n",
              "  <tbody>\n",
              "    <tr>\n",
              "      <th>0</th>\n",
              "      <td>1</td>\n",
              "      <td>Our Deeds are the Reason of this #earthquake M...</td>\n",
              "      <td>1</td>\n",
              "    </tr>\n",
              "    <tr>\n",
              "      <th>1</th>\n",
              "      <td>4</td>\n",
              "      <td>Forest fire near La Ronge Sask. Canada</td>\n",
              "      <td>1</td>\n",
              "    </tr>\n",
              "    <tr>\n",
              "      <th>2</th>\n",
              "      <td>5</td>\n",
              "      <td>All residents asked to 'shelter in place' are ...</td>\n",
              "      <td>1</td>\n",
              "    </tr>\n",
              "    <tr>\n",
              "      <th>3</th>\n",
              "      <td>6</td>\n",
              "      <td>13,000 people receive #wildfires evacuation or...</td>\n",
              "      <td>1</td>\n",
              "    </tr>\n",
              "    <tr>\n",
              "      <th>4</th>\n",
              "      <td>7</td>\n",
              "      <td>Just got sent this photo from Ruby #Alaska as ...</td>\n",
              "      <td>1</td>\n",
              "    </tr>\n",
              "    <tr>\n",
              "      <th>5</th>\n",
              "      <td>8</td>\n",
              "      <td>#RockyFire Update =&gt; California Hwy. 20 closed...</td>\n",
              "      <td>1</td>\n",
              "    </tr>\n",
              "    <tr>\n",
              "      <th>6</th>\n",
              "      <td>10</td>\n",
              "      <td>#flood #disaster Heavy rain causes flash flood...</td>\n",
              "      <td>1</td>\n",
              "    </tr>\n",
              "    <tr>\n",
              "      <th>7</th>\n",
              "      <td>13</td>\n",
              "      <td>I'm on top of the hill and I can see a fire in...</td>\n",
              "      <td>1</td>\n",
              "    </tr>\n",
              "    <tr>\n",
              "      <th>8</th>\n",
              "      <td>14</td>\n",
              "      <td>There's an emergency evacuation happening now ...</td>\n",
              "      <td>1</td>\n",
              "    </tr>\n",
              "    <tr>\n",
              "      <th>9</th>\n",
              "      <td>15</td>\n",
              "      <td>I'm afraid that the tornado is coming to our a...</td>\n",
              "      <td>1</td>\n",
              "    </tr>\n",
              "  </tbody>\n",
              "</table>\n",
              "</div>"
            ]
          },
          "metadata": {}
        }
      ],
      "execution_count": 46,
      "metadata": {
        "collapsed": true,
        "outputExpanded": false,
        "jupyter": {
          "source_hidden": false,
          "outputs_hidden": false
        },
        "nteract": {
          "transient": {
            "deleting": false
          }
        },
        "execution": {
          "iopub.status.busy": "2020-04-30T10:17:30.169Z",
          "iopub.execute_input": "2020-04-30T10:17:30.173Z",
          "iopub.status.idle": "2020-04-30T10:17:30.205Z",
          "shell.execute_reply": "2020-04-30T10:17:30.223Z"
        }
      }
    },
    {
      "cell_type": "code",
      "source": [
        "index = df.index\n",
        "columns = df.columns\n",
        "values = df.values"
      ],
      "outputs": [],
      "execution_count": 47,
      "metadata": {
        "collapsed": true,
        "outputExpanded": false,
        "jupyter": {
          "source_hidden": false,
          "outputs_hidden": false
        },
        "nteract": {
          "transient": {
            "deleting": false
          }
        },
        "execution": {
          "iopub.status.busy": "2020-04-30T10:17:34.957Z",
          "iopub.execute_input": "2020-04-30T10:17:34.962Z",
          "iopub.status.idle": "2020-04-30T10:17:34.966Z",
          "shell.execute_reply": "2020-04-30T10:17:34.970Z"
        }
      }
    },
    {
      "cell_type": "code",
      "source": [
        "df_yes = df.query('target == 1')\n",
        "yes_count = 0\n",
        "for row in df_yes.iterrows():\n",
        "    yes_count += 1\n",
        "print(f'there are {yes_count} tweets about disasters')\n",
        "\n",
        "df_no = df.query('target == 0')\n",
        "no_count = 0\n",
        "for row in df_no.iterrows():\n",
        "    no_count += 1\n",
        "print(f'there are {no_count} tweets that are not about disasters')"
      ],
      "outputs": [
        {
          "output_type": "stream",
          "name": "stdout",
          "text": [
            "there are 3271 tweets about disasters\n",
            "there are 4342 tweets that are not about disasters\n"
          ]
        }
      ],
      "execution_count": 56,
      "metadata": {
        "collapsed": true,
        "outputExpanded": false,
        "jupyter": {
          "source_hidden": false,
          "outputs_hidden": false
        },
        "nteract": {
          "transient": {
            "deleting": false
          }
        },
        "execution": {
          "iopub.status.busy": "2020-04-30T10:23:48.436Z",
          "iopub.execute_input": "2020-04-30T10:23:48.439Z",
          "iopub.status.idle": "2020-04-30T10:23:49.192Z",
          "shell.execute_reply": "2020-04-30T10:23:49.199Z"
        }
      }
    },
    {
      "cell_type": "markdown",
      "source": [
        "## Process text"
      ],
      "metadata": {
        "nteract": {
          "transient": {
            "deleting": false
          }
        }
      }
    },
    {
      "cell_type": "code",
      "source": [
        "!pip install spacy\n",
        "!python -m spacy download en\n",
        "\n",
        "import spacy\n",
        "from spacy.lang.en import English"
      ],
      "outputs": [
        {
          "output_type": "stream",
          "name": "stdout",
          "text": [
            "Requirement already satisfied: spacy in /Users/Samuel/anaconda3/lib/python3.7/site-packages (2.2.3)\n",
            "Requirement already satisfied: plac<1.2.0,>=0.9.6 in /Users/Samuel/anaconda3/lib/python3.7/site-packages (from spacy) (1.1.3)\n",
            "Requirement already satisfied: catalogue<1.1.0,>=0.0.7 in /Users/Samuel/anaconda3/lib/python3.7/site-packages (from spacy) (0.0.8)\n",
            "Requirement already satisfied: srsly<1.1.0,>=0.1.0 in /Users/Samuel/anaconda3/lib/python3.7/site-packages (from spacy) (0.2.0)\n",
            "Requirement already satisfied: setuptools in /Users/Samuel/anaconda3/lib/python3.7/site-packages (from spacy) (46.1.3)\n",
            "Requirement already satisfied: wasabi<1.1.0,>=0.4.0 in /Users/Samuel/anaconda3/lib/python3.7/site-packages (from spacy) (0.4.0)\n",
            "Requirement already satisfied: requests<3.0.0,>=2.13.0 in /Users/Samuel/anaconda3/lib/python3.7/site-packages (from spacy) (2.22.0)\n",
            "Requirement already satisfied: preshed<3.1.0,>=3.0.2 in /Users/Samuel/anaconda3/lib/python3.7/site-packages (from spacy) (3.0.2)\n",
            "Requirement already satisfied: murmurhash<1.1.0,>=0.28.0 in /Users/Samuel/anaconda3/lib/python3.7/site-packages (from spacy) (1.0.2)\n",
            "Requirement already satisfied: thinc<7.4.0,>=7.3.0 in /Users/Samuel/anaconda3/lib/python3.7/site-packages (from spacy) (7.3.1)\n",
            "Requirement already satisfied: numpy>=1.15.0 in /Users/Samuel/anaconda3/lib/python3.7/site-packages (from spacy) (1.16.4)\n",
            "Requirement already satisfied: cymem<2.1.0,>=2.0.2 in /Users/Samuel/anaconda3/lib/python3.7/site-packages (from spacy) (2.0.3)\n",
            "Requirement already satisfied: blis<0.5.0,>=0.4.0 in /Users/Samuel/anaconda3/lib/python3.7/site-packages (from spacy) (0.4.1)\n",
            "Requirement already satisfied: importlib-metadata>=0.20; python_version < \"3.8\" in /Users/Samuel/anaconda3/lib/python3.7/site-packages (from catalogue<1.1.0,>=0.0.7->spacy) (0.23)\n",
            "Requirement already satisfied: urllib3!=1.25.0,!=1.25.1,<1.26,>=1.21.1 in /Users/Samuel/anaconda3/lib/python3.7/site-packages (from requests<3.0.0,>=2.13.0->spacy) (1.24.2)\n",
            "Requirement already satisfied: chardet<3.1.0,>=3.0.2 in /Users/Samuel/anaconda3/lib/python3.7/site-packages (from requests<3.0.0,>=2.13.0->spacy) (3.0.4)\n",
            "Requirement already satisfied: certifi>=2017.4.17 in /Users/Samuel/anaconda3/lib/python3.7/site-packages (from requests<3.0.0,>=2.13.0->spacy) (2019.6.16)\n",
            "Requirement already satisfied: idna<2.9,>=2.5 in /Users/Samuel/anaconda3/lib/python3.7/site-packages (from requests<3.0.0,>=2.13.0->spacy) (2.8)\n",
            "Requirement already satisfied: tqdm<5.0.0,>=4.10.0 in /Users/Samuel/anaconda3/lib/python3.7/site-packages (from thinc<7.4.0,>=7.3.0->spacy) (4.32.1)\n",
            "Requirement already satisfied: zipp>=0.5 in /Users/Samuel/anaconda3/lib/python3.7/site-packages (from importlib-metadata>=0.20; python_version < \"3.8\"->catalogue<1.1.0,>=0.0.7->spacy) (0.5.1)\n",
            "\u001b[33mWARNING: You are using pip version 20.0.2; however, version 20.1 is available.\n",
            "You should consider upgrading via the '/Users/Samuel/anaconda3/bin/python -m pip install --upgrade pip' command.\u001b[0m\n",
            "Requirement already satisfied: en_core_web_sm==2.2.5 from https://github.com/explosion/spacy-models/releases/download/en_core_web_sm-2.2.5/en_core_web_sm-2.2.5.tar.gz#egg=en_core_web_sm==2.2.5 in /Users/Samuel/anaconda3/lib/python3.7/site-packages (2.2.5)\n",
            "Requirement already satisfied: spacy>=2.2.2 in /Users/Samuel/anaconda3/lib/python3.7/site-packages (from en_core_web_sm==2.2.5) (2.2.3)\n",
            "Requirement already satisfied: srsly<1.1.0,>=0.1.0 in /Users/Samuel/anaconda3/lib/python3.7/site-packages (from spacy>=2.2.2->en_core_web_sm==2.2.5) (0.2.0)\n",
            "Requirement already satisfied: preshed<3.1.0,>=3.0.2 in /Users/Samuel/anaconda3/lib/python3.7/site-packages (from spacy>=2.2.2->en_core_web_sm==2.2.5) (3.0.2)\n",
            "Requirement already satisfied: setuptools in /Users/Samuel/anaconda3/lib/python3.7/site-packages (from spacy>=2.2.2->en_core_web_sm==2.2.5) (46.1.3)\n",
            "Requirement already satisfied: wasabi<1.1.0,>=0.4.0 in /Users/Samuel/anaconda3/lib/python3.7/site-packages (from spacy>=2.2.2->en_core_web_sm==2.2.5) (0.4.0)\n",
            "Requirement already satisfied: catalogue<1.1.0,>=0.0.7 in /Users/Samuel/anaconda3/lib/python3.7/site-packages (from spacy>=2.2.2->en_core_web_sm==2.2.5) (0.0.8)\n",
            "Requirement already satisfied: cymem<2.1.0,>=2.0.2 in /Users/Samuel/anaconda3/lib/python3.7/site-packages (from spacy>=2.2.2->en_core_web_sm==2.2.5) (2.0.3)\n",
            "Requirement already satisfied: blis<0.5.0,>=0.4.0 in /Users/Samuel/anaconda3/lib/python3.7/site-packages (from spacy>=2.2.2->en_core_web_sm==2.2.5) (0.4.1)\n",
            "Requirement already satisfied: numpy>=1.15.0 in /Users/Samuel/anaconda3/lib/python3.7/site-packages (from spacy>=2.2.2->en_core_web_sm==2.2.5) (1.16.4)\n",
            "Requirement already satisfied: thinc<7.4.0,>=7.3.0 in /Users/Samuel/anaconda3/lib/python3.7/site-packages (from spacy>=2.2.2->en_core_web_sm==2.2.5) (7.3.1)\n",
            "Requirement already satisfied: requests<3.0.0,>=2.13.0 in /Users/Samuel/anaconda3/lib/python3.7/site-packages (from spacy>=2.2.2->en_core_web_sm==2.2.5) (2.22.0)\n",
            "Requirement already satisfied: plac<1.2.0,>=0.9.6 in /Users/Samuel/anaconda3/lib/python3.7/site-packages (from spacy>=2.2.2->en_core_web_sm==2.2.5) (1.1.3)\n",
            "Requirement already satisfied: murmurhash<1.1.0,>=0.28.0 in /Users/Samuel/anaconda3/lib/python3.7/site-packages (from spacy>=2.2.2->en_core_web_sm==2.2.5) (1.0.2)\n",
            "Requirement already satisfied: importlib-metadata>=0.20; python_version < \"3.8\" in /Users/Samuel/anaconda3/lib/python3.7/site-packages (from catalogue<1.1.0,>=0.0.7->spacy>=2.2.2->en_core_web_sm==2.2.5) (0.23)\n",
            "Requirement already satisfied: tqdm<5.0.0,>=4.10.0 in /Users/Samuel/anaconda3/lib/python3.7/site-packages (from thinc<7.4.0,>=7.3.0->spacy>=2.2.2->en_core_web_sm==2.2.5) (4.32.1)\n",
            "Requirement already satisfied: certifi>=2017.4.17 in /Users/Samuel/anaconda3/lib/python3.7/site-packages (from requests<3.0.0,>=2.13.0->spacy>=2.2.2->en_core_web_sm==2.2.5) (2019.6.16)\n",
            "Requirement already satisfied: idna<2.9,>=2.5 in /Users/Samuel/anaconda3/lib/python3.7/site-packages (from requests<3.0.0,>=2.13.0->spacy>=2.2.2->en_core_web_sm==2.2.5) (2.8)\n",
            "Requirement already satisfied: urllib3!=1.25.0,!=1.25.1,<1.26,>=1.21.1 in /Users/Samuel/anaconda3/lib/python3.7/site-packages (from requests<3.0.0,>=2.13.0->spacy>=2.2.2->en_core_web_sm==2.2.5) (1.24.2)\n",
            "Requirement already satisfied: chardet<3.1.0,>=3.0.2 in /Users/Samuel/anaconda3/lib/python3.7/site-packages (from requests<3.0.0,>=2.13.0->spacy>=2.2.2->en_core_web_sm==2.2.5) (3.0.4)\n",
            "Requirement already satisfied: zipp>=0.5 in /Users/Samuel/anaconda3/lib/python3.7/site-packages (from importlib-metadata>=0.20; python_version < \"3.8\"->catalogue<1.1.0,>=0.0.7->spacy>=2.2.2->en_core_web_sm==2.2.5) (0.5.1)\n",
            "\u001b[33mWARNING: You are using pip version 20.0.2; however, version 20.1 is available.\n",
            "You should consider upgrading via the '/Users/Samuel/anaconda3/bin/python -m pip install --upgrade pip' command.\u001b[0m\n",
            "\u001b[38;5;2m✔ Download and installation successful\u001b[0m\n",
            "You can now load the model via spacy.load('en_core_web_sm')\n",
            "\u001b[38;5;2m✔ Linking successful\u001b[0m\n",
            "/Users/Samuel/anaconda3/lib/python3.7/site-packages/en_core_web_sm -->\n",
            "/Users/Samuel/anaconda3/lib/python3.7/site-packages/spacy/data/en\n",
            "You can now load the model via spacy.load('en')\n"
          ]
        }
      ],
      "execution_count": 59,
      "metadata": {
        "collapsed": true,
        "outputExpanded": false,
        "jupyter": {
          "source_hidden": false,
          "outputs_hidden": false
        },
        "nteract": {
          "transient": {
            "deleting": false
          }
        },
        "execution": {
          "iopub.status.busy": "2020-04-30T11:24:11.215Z",
          "iopub.execute_input": "2020-04-30T11:24:11.222Z",
          "shell.execute_reply": "2020-04-30T11:24:20.838Z",
          "iopub.status.idle": "2020-04-30T11:24:20.830Z"
        }
      }
    },
    {
      "cell_type": "code",
      "source": [
        "nlp = English()\n",
        "sbd = nlp.create_pipe('sentencizer')\n",
        "nlp.add_pipe(sbd)\n",
        "\n",
        "spacy_stopwords = spacy.lang.en.stop_words.STOP_WORDS"
      ],
      "outputs": [],
      "execution_count": 63,
      "metadata": {
        "collapsed": true,
        "outputExpanded": false,
        "jupyter": {
          "source_hidden": false,
          "outputs_hidden": false
        },
        "nteract": {
          "transient": {
            "deleting": false
          }
        },
        "execution": {
          "iopub.status.busy": "2020-04-30T11:29:51.392Z",
          "iopub.execute_input": "2020-04-30T11:29:51.399Z",
          "iopub.status.idle": "2020-04-30T11:29:51.578Z",
          "shell.execute_reply": "2020-04-30T11:29:51.586Z"
        }
      }
    },
    {
      "cell_type": "code",
      "source": [
        "for tweet in df['text']:\n",
        "    tweet = nlp(tweet)\n",
        "    filt_tweet = []\n",
        "    for word in tweet:\n",
        "        if word.is_stop==False:\n",
        "            filt_tweet.append(word)"
      ],
      "outputs": [],
      "execution_count": 65,
      "metadata": {
        "collapsed": true,
        "outputExpanded": false,
        "jupyter": {
          "source_hidden": false,
          "outputs_hidden": false
        },
        "nteract": {
          "transient": {
            "deleting": false
          }
        },
        "execution": {
          "iopub.status.busy": "2020-04-30T11:30:27.751Z",
          "iopub.execute_input": "2020-04-30T11:30:27.755Z",
          "iopub.status.idle": "2020-04-30T11:30:29.592Z",
          "shell.execute_reply": "2020-04-30T11:30:29.601Z"
        }
      }
    },
    {
      "cell_type": "code",
      "source": [],
      "outputs": [],
      "execution_count": null,
      "metadata": {
        "collapsed": true,
        "outputExpanded": false,
        "jupyter": {
          "source_hidden": false,
          "outputs_hidden": false
        },
        "nteract": {
          "transient": {
            "deleting": false
          }
        }
      }
    },
    {
      "cell_type": "code",
      "source": [],
      "outputs": [],
      "execution_count": null,
      "metadata": {
        "collapsed": true,
        "outputExpanded": false,
        "jupyter": {
          "source_hidden": false,
          "outputs_hidden": false
        },
        "nteract": {
          "transient": {
            "deleting": false
          }
        }
      }
    },
    {
      "cell_type": "code",
      "source": [],
      "outputs": [],
      "execution_count": null,
      "metadata": {
        "collapsed": true,
        "outputExpanded": false,
        "jupyter": {
          "source_hidden": false,
          "outputs_hidden": false
        },
        "nteract": {
          "transient": {
            "deleting": false
          }
        }
      }
    }
  ],
  "metadata": {
    "kernelspec": {
      "display_name": "Python 3",
      "language": "python",
      "name": "python3"
    },
    "language_info": {
      "name": "python",
      "version": "3.7.3",
      "mimetype": "text/x-python",
      "codemirror_mode": {
        "name": "ipython",
        "version": 3
      },
      "pygments_lexer": "ipython3",
      "nbconvert_exporter": "python",
      "file_extension": ".py"
    },
    "nteract": {
      "version": "0.22.4"
    }
  },
  "nbformat": 4,
  "nbformat_minor": 2
}
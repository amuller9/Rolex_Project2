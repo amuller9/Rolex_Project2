{
  "cells": [
    {
      "cell_type": "markdown",
      "source": [
        "## Real or Not? NLP with Disaster Tweets - Project 2 - Sam's part"
      ],
      "metadata": {}
    },
    {
      "cell_type": "markdown",
      "source": [
        "Big-Scale Analytics - Project 2 - Team Rolex\n",
        "> Samuel Lew, Alexandre Lang, Samy Bouzerda, Alix Muller"
      ],
      "metadata": {}
    },
    {
      "cell_type": "markdown",
      "source": [
        "## Load dataset"
      ],
      "metadata": {
        "nteract": {
          "transient": {
            "deleting": false
          }
        }
      }
    },
    {
      "cell_type": "code",
      "source": [
        "import pandas as pd"
      ],
      "outputs": [],
      "execution_count": 1,
      "metadata": {
        "execution": {
          "iopub.status.busy": "2020-05-09T13:53:48.052Z",
          "iopub.execute_input": "2020-05-09T13:53:48.064Z",
          "shell.execute_reply": "2020-05-09T13:53:49.768Z",
          "iopub.status.idle": "2020-05-09T13:53:49.755Z"
        }
      }
    },
    {
      "cell_type": "code",
      "source": [
        "df = pd.read_csv ('../data/train.csv')\n",
        "df = df[['id', 'text', 'target']]\n",
        "df.iloc[:10]"
      ],
      "outputs": [
        {
          "output_type": "execute_result",
          "execution_count": 4,
          "data": {
            "text/plain": [
              "   id                                               text  target\n",
              "0   1  Our Deeds are the Reason of this #earthquake M...       1\n",
              "1   4             Forest fire near La Ronge Sask. Canada       1\n",
              "2   5  All residents asked to 'shelter in place' are ...       1\n",
              "3   6  13,000 people receive #wildfires evacuation or...       1\n",
              "4   7  Just got sent this photo from Ruby #Alaska as ...       1\n",
              "5   8  #RockyFire Update => California Hwy. 20 closed...       1\n",
              "6  10  #flood #disaster Heavy rain causes flash flood...       1\n",
              "7  13  I'm on top of the hill and I can see a fire in...       1\n",
              "8  14  There's an emergency evacuation happening now ...       1\n",
              "9  15  I'm afraid that the tornado is coming to our a...       1"
            ],
            "text/html": [
              "<div>\n",
              "<style scoped>\n",
              "    .dataframe tbody tr th:only-of-type {\n",
              "        vertical-align: middle;\n",
              "    }\n",
              "\n",
              "    .dataframe tbody tr th {\n",
              "        vertical-align: top;\n",
              "    }\n",
              "\n",
              "    .dataframe thead th {\n",
              "        text-align: right;\n",
              "    }\n",
              "</style>\n",
              "<table border=\"1\" class=\"dataframe\">\n",
              "  <thead>\n",
              "    <tr style=\"text-align: right;\">\n",
              "      <th></th>\n",
              "      <th>id</th>\n",
              "      <th>text</th>\n",
              "      <th>target</th>\n",
              "    </tr>\n",
              "  </thead>\n",
              "  <tbody>\n",
              "    <tr>\n",
              "      <th>0</th>\n",
              "      <td>1</td>\n",
              "      <td>Our Deeds are the Reason of this #earthquake M...</td>\n",
              "      <td>1</td>\n",
              "    </tr>\n",
              "    <tr>\n",
              "      <th>1</th>\n",
              "      <td>4</td>\n",
              "      <td>Forest fire near La Ronge Sask. Canada</td>\n",
              "      <td>1</td>\n",
              "    </tr>\n",
              "    <tr>\n",
              "      <th>2</th>\n",
              "      <td>5</td>\n",
              "      <td>All residents asked to 'shelter in place' are ...</td>\n",
              "      <td>1</td>\n",
              "    </tr>\n",
              "    <tr>\n",
              "      <th>3</th>\n",
              "      <td>6</td>\n",
              "      <td>13,000 people receive #wildfires evacuation or...</td>\n",
              "      <td>1</td>\n",
              "    </tr>\n",
              "    <tr>\n",
              "      <th>4</th>\n",
              "      <td>7</td>\n",
              "      <td>Just got sent this photo from Ruby #Alaska as ...</td>\n",
              "      <td>1</td>\n",
              "    </tr>\n",
              "    <tr>\n",
              "      <th>5</th>\n",
              "      <td>8</td>\n",
              "      <td>#RockyFire Update =&gt; California Hwy. 20 closed...</td>\n",
              "      <td>1</td>\n",
              "    </tr>\n",
              "    <tr>\n",
              "      <th>6</th>\n",
              "      <td>10</td>\n",
              "      <td>#flood #disaster Heavy rain causes flash flood...</td>\n",
              "      <td>1</td>\n",
              "    </tr>\n",
              "    <tr>\n",
              "      <th>7</th>\n",
              "      <td>13</td>\n",
              "      <td>I'm on top of the hill and I can see a fire in...</td>\n",
              "      <td>1</td>\n",
              "    </tr>\n",
              "    <tr>\n",
              "      <th>8</th>\n",
              "      <td>14</td>\n",
              "      <td>There's an emergency evacuation happening now ...</td>\n",
              "      <td>1</td>\n",
              "    </tr>\n",
              "    <tr>\n",
              "      <th>9</th>\n",
              "      <td>15</td>\n",
              "      <td>I'm afraid that the tornado is coming to our a...</td>\n",
              "      <td>1</td>\n",
              "    </tr>\n",
              "  </tbody>\n",
              "</table>\n",
              "</div>"
            ]
          },
          "metadata": {}
        }
      ],
      "execution_count": 4,
      "metadata": {
        "collapsed": true,
        "outputExpanded": false,
        "jupyter": {
          "source_hidden": false,
          "outputs_hidden": false
        },
        "nteract": {
          "transient": {
            "deleting": false
          }
        },
        "execution": {
          "iopub.status.busy": "2020-05-09T13:54:20.249Z",
          "iopub.execute_input": "2020-05-09T13:54:20.261Z",
          "iopub.status.idle": "2020-05-09T13:54:20.311Z",
          "shell.execute_reply": "2020-05-09T13:54:20.320Z"
        }
      }
    },
    {
      "cell_type": "code",
      "source": [
        "index = df.index\n",
        "columns = df.columns\n",
        "values = df.values"
      ],
      "outputs": [],
      "execution_count": 5,
      "metadata": {
        "collapsed": true,
        "outputExpanded": false,
        "jupyter": {
          "source_hidden": false,
          "outputs_hidden": false
        },
        "nteract": {
          "transient": {
            "deleting": false
          }
        },
        "execution": {
          "iopub.status.busy": "2020-05-09T13:54:21.510Z",
          "iopub.execute_input": "2020-05-09T13:54:21.521Z",
          "iopub.status.idle": "2020-05-09T13:54:21.536Z",
          "shell.execute_reply": "2020-05-09T13:54:21.544Z"
        }
      }
    },
    {
      "cell_type": "code",
      "source": [
        "total_count = 0\n",
        "for row in df.iterrows():\n",
        "  total_count += 1\n",
        "print(f'there are {total_count} tweets in the dataset')\n",
        "\n",
        "df_yes = df.query('target == 1')\n",
        "yes_count = 0\n",
        "for row in df_yes.iterrows():\n",
        "    yes_count += 1\n",
        "print(f'there are {yes_count} tweets about disasters')\n",
        "\n",
        "df_no = df.query('target == 0')\n",
        "no_count = 0\n",
        "for row in df_no.iterrows():\n",
        "    no_count += 1\n",
        "print(f'there are {no_count} tweets that are not about disasters')\n",
        "\n",
        "print('the classification base rate is ' + str(yes_count/(yes_count+no_count)*100)[:5] + '%')"
      ],
      "outputs": [
        {
          "output_type": "stream",
          "name": "stdout",
          "text": [
            "there are 7613 tweets in the dataset\n",
            "there are 3271 tweets about disasters\n",
            "there are 4342 tweets that are not about disasters\n",
            "the classification base rate is 42.96%\n"
          ]
        }
      ],
<<<<<<< Updated upstream
      "execution_count": 90,
=======
      "execution_count": 6,
>>>>>>> Stashed changes
      "metadata": {
        "collapsed": true,
        "outputExpanded": false,
        "jupyter": {
          "source_hidden": false,
          "outputs_hidden": false
        },
        "nteract": {
          "transient": {
            "deleting": false
          }
        },
        "execution": {
<<<<<<< Updated upstream
          "iopub.status.busy": "2020-05-09T18:06:21.719Z",
          "iopub.execute_input": "2020-05-09T18:06:21.758Z",
          "iopub.status.idle": "2020-05-09T18:06:23.315Z",
          "shell.execute_reply": "2020-05-09T18:06:23.335Z"
=======
          "iopub.status.busy": "2020-05-09T13:54:22.124Z",
          "iopub.execute_input": "2020-05-09T13:54:22.143Z",
          "iopub.status.idle": "2020-05-09T13:54:22.931Z",
          "shell.execute_reply": "2020-05-09T13:54:22.950Z"
>>>>>>> Stashed changes
        }
      }
    },
    {
      "cell_type": "markdown",
      "source": [
        "## Process text"
      ],
      "metadata": {
        "nteract": {
          "transient": {
            "deleting": false
          }
        }
      }
    },
    {
      "cell_type": "code",
      "source": [
        "#!pip install spacy\n",
        "#!python -m spacy download en"
      ],
      "outputs": [],
      "execution_count": 7,
      "metadata": {
        "collapsed": true,
        "outputExpanded": false,
        "jupyter": {
          "source_hidden": false,
          "outputs_hidden": false
        },
        "nteract": {
          "transient": {
            "deleting": false
          }
        },
        "execution": {
          "iopub.status.busy": "2020-05-09T13:54:24.318Z",
          "iopub.execute_input": "2020-05-09T13:54:24.327Z",
          "shell.execute_reply": "2020-05-09T13:54:24.346Z",
          "iopub.status.idle": "2020-05-09T13:54:24.337Z"
        }
      }
    },
    {
      "cell_type": "markdown",
      "source": [
        "### Removing stopwords & lowercasing every word:"
      ],
      "metadata": {
        "nteract": {
          "transient": {
            "deleting": false
          }
        }
      }
    },
    {
      "cell_type": "code",
      "source": [
        "import string\n",
        "import spacy\n",
        "import re\n",
        "from spacy.lang.en.stop_words import STOP_WORDS\n",
        "from spacy.lang.en import English\n",
        "from nltk.corpus import stopwords\n",
        "import nltk\n",
        "\n",
        "nlp = spacy.load('en')\n",
        "stop_words = spacy.lang.en.stop_words.STOP_WORDS\n",
        "punctuations = string.punctuation\n",
        "\n",
<<<<<<< Updated upstream
        "# lowercase, remove punctuation and !letters\n",
        "def clean_text(text):\n",
        "    text = text.lower()\n",
=======
        "# tokenize tweets\n",
        "\n",
        "# lowercase, remove stopwords\n",
        "def remove_stopwords(text):\n",
        "    text = text.lower()\n",
        "    text = text.split()\n",
        "    text = [word for word in text if word not in stopwords.words('english')]\n",
        "    text = [word for word in text if word not in punctuations]\n",
        "    return text\n",
        "\n",
        "# lowercase, remove punctuation and !letters\n",
        "def clean_text(text):\n",
        "    \n",
>>>>>>> Stashed changes
        "    text = re.sub('\\[.*?\\]', '', text)\n",
        "    text = re.sub('https?://\\S+|www\\.\\S+', '', text)\n",
        "    text = re.sub('<.*?>+', '', text)\n",
        "    text = re.sub('[%s]' % re.escape(string.punctuation), '', text)\n",
        "    text = re.sub('\\n', '', text)\n",
        "    text = re.sub('\\w*\\d\\w*', '', text)\n",
        "    \n",
        "    return text\n",
        "  \n",
        "  \n",
<<<<<<< Updated upstream
        "df['filtered_tweet'] = df['text'].apply(lambda x: clean_text(x))\n",
        "\n",
=======
        "# Applying the cleaning function to the dataset\n",
        "df['filtered_tweet'] = df['text'].apply(lambda x: remove_stopwords(x))\n",
        "\n",
        "for tweet in df['filtered_tweet']:\n",
        "  for word in tweet:\n",
        "    for char in word:\n",
        "      char = re.sub('\\[.*?\\]', '', char)\n",
        "      char = re.sub('https?://\\S+|www\\.\\S+', '', char)\n",
        "      char = re.sub('<.*?>+', '', char)\n",
        "      char = re.sub('[%s]' % re.escape(string.punctuation), '', char)\n",
        "      char = re.sub('\\n', '', char)\n",
        "      char = re.sub('\\w*\\d\\w*', '', char)\n",
>>>>>>> Stashed changes
        "\n",
        "# Updated text\n",
        "df.head()"
      ],
      "outputs": [
        {
          "output_type": "execute_result",
<<<<<<< Updated upstream
          "execution_count": 105,
=======
          "execution_count": 88,
>>>>>>> Stashed changes
          "data": {
            "text/plain": [
              "   id                                               text  target  \\\n",
              "0   1  Our Deeds are the Reason of this #earthquake M...       1   \n",
              "1   4             Forest fire near La Ronge Sask. Canada       1   \n",
              "2   5  All residents asked to 'shelter in place' are ...       1   \n",
              "3   6  13,000 people receive #wildfires evacuation or...       1   \n",
              "4   7  Just got sent this photo from Ruby #Alaska as ...       1   \n",
              "\n",
              "                                      filtered_tweet  \n",
<<<<<<< Updated upstream
              "0  our deeds are the reason of this earthquake ma...  \n",
              "1              forest fire near la ronge sask canada  \n",
              "2  all residents asked to shelter in place are be...  \n",
              "3   people receive wildfires evacuation orders in...  \n",
              "4  just got sent this photo from ruby alaska as s...  "
=======
              "0  [deeds, reason, #earthquake, may, allah, forgi...  \n",
              "1     [forest, fire, near, la, ronge, sask., canada]  \n",
              "2  [residents, asked, 'shelter, place', notified,...  \n",
              "3  [13,000, people, receive, #wildfires, evacuati...  \n",
              "4  [got, sent, photo, ruby, #alaska, smoke, #wild...  "
>>>>>>> Stashed changes
            ],
            "text/html": [
              "<div>\n",
              "<style scoped>\n",
              "    .dataframe tbody tr th:only-of-type {\n",
              "        vertical-align: middle;\n",
              "    }\n",
              "\n",
              "    .dataframe tbody tr th {\n",
              "        vertical-align: top;\n",
              "    }\n",
              "\n",
              "    .dataframe thead th {\n",
              "        text-align: right;\n",
              "    }\n",
              "</style>\n",
              "<table border=\"1\" class=\"dataframe\">\n",
              "  <thead>\n",
              "    <tr style=\"text-align: right;\">\n",
              "      <th></th>\n",
              "      <th>id</th>\n",
              "      <th>text</th>\n",
              "      <th>target</th>\n",
              "      <th>filtered_tweet</th>\n",
              "    </tr>\n",
              "  </thead>\n",
              "  <tbody>\n",
              "    <tr>\n",
              "      <th>0</th>\n",
              "      <td>1</td>\n",
              "      <td>Our Deeds are the Reason of this #earthquake M...</td>\n",
              "      <td>1</td>\n",
<<<<<<< Updated upstream
              "      <td>our deeds are the reason of this earthquake ma...</td>\n",
=======
              "      <td>[deeds, reason, #earthquake, may, allah, forgi...</td>\n",
>>>>>>> Stashed changes
              "    </tr>\n",
              "    <tr>\n",
              "      <th>1</th>\n",
              "      <td>4</td>\n",
              "      <td>Forest fire near La Ronge Sask. Canada</td>\n",
              "      <td>1</td>\n",
<<<<<<< Updated upstream
              "      <td>forest fire near la ronge sask canada</td>\n",
=======
              "      <td>[forest, fire, near, la, ronge, sask., canada]</td>\n",
>>>>>>> Stashed changes
              "    </tr>\n",
              "    <tr>\n",
              "      <th>2</th>\n",
              "      <td>5</td>\n",
              "      <td>All residents asked to 'shelter in place' are ...</td>\n",
              "      <td>1</td>\n",
<<<<<<< Updated upstream
              "      <td>all residents asked to shelter in place are be...</td>\n",
=======
              "      <td>[residents, asked, 'shelter, place', notified,...</td>\n",
>>>>>>> Stashed changes
              "    </tr>\n",
              "    <tr>\n",
              "      <th>3</th>\n",
              "      <td>6</td>\n",
              "      <td>13,000 people receive #wildfires evacuation or...</td>\n",
              "      <td>1</td>\n",
<<<<<<< Updated upstream
              "      <td>people receive wildfires evacuation orders in...</td>\n",
=======
              "      <td>[13,000, people, receive, #wildfires, evacuati...</td>\n",
>>>>>>> Stashed changes
              "    </tr>\n",
              "    <tr>\n",
              "      <th>4</th>\n",
              "      <td>7</td>\n",
              "      <td>Just got sent this photo from Ruby #Alaska as ...</td>\n",
              "      <td>1</td>\n",
<<<<<<< Updated upstream
              "      <td>just got sent this photo from ruby alaska as s...</td>\n",
=======
              "      <td>[got, sent, photo, ruby, #alaska, smoke, #wild...</td>\n",
>>>>>>> Stashed changes
              "    </tr>\n",
              "  </tbody>\n",
              "</table>\n",
              "</div>"
            ]
          },
          "metadata": {}
        }
      ],
<<<<<<< Updated upstream
      "execution_count": 105,
=======
      "execution_count": 88,
>>>>>>> Stashed changes
      "metadata": {
        "collapsed": true,
        "outputExpanded": false,
        "jupyter": {
          "source_hidden": false,
          "outputs_hidden": false
        },
        "nteract": {
          "transient": {
            "deleting": false
          }
        },
        "execution": {
<<<<<<< Updated upstream
          "iopub.status.busy": "2020-05-10T19:23:11.857Z",
          "iopub.execute_input": "2020-05-10T19:23:11.864Z",
          "iopub.status.idle": "2020-05-10T19:23:12.848Z",
          "shell.execute_reply": "2020-05-10T19:23:12.900Z"
=======
          "iopub.status.busy": "2020-05-09T17:00:13.315Z",
          "iopub.execute_input": "2020-05-09T17:00:13.323Z",
          "iopub.status.idle": "2020-05-09T17:00:51.982Z",
          "shell.execute_reply": "2020-05-09T17:00:51.995Z"
>>>>>>> Stashed changes
        }
      }
    },
    {
      "cell_type": "code",
      "source": [
<<<<<<< Updated upstream
        "# Tokenising the tweets\n",
        "tokenizer = nltk.tokenize.RegexpTokenizer(r'\\w+')\n",
        "\n",
        "df['filtered_tweet'] = df['filtered_tweet'].apply(lambda x: tokenizer.tokenize(x))\n",
        "\n",
        "df.head()"
      ],
      "outputs": [
        {
          "output_type": "execute_result",
          "execution_count": 106,
          "data": {
            "text/plain": [
              "   id                                               text  target  \\\n",
              "0   1  Our Deeds are the Reason of this #earthquake M...       1   \n",
              "1   4             Forest fire near La Ronge Sask. Canada       1   \n",
              "2   5  All residents asked to 'shelter in place' are ...       1   \n",
              "3   6  13,000 people receive #wildfires evacuation or...       1   \n",
              "4   7  Just got sent this photo from Ruby #Alaska as ...       1   \n",
              "\n",
              "                                      filtered_tweet  \n",
              "0  [our, deeds, are, the, reason, of, this, earth...  \n",
              "1      [forest, fire, near, la, ronge, sask, canada]  \n",
              "2  [all, residents, asked, to, shelter, in, place...  \n",
              "3  [people, receive, wildfires, evacuation, order...  \n",
              "4  [just, got, sent, this, photo, from, ruby, ala...  "
            ],
            "text/html": [
              "<div>\n",
              "<style scoped>\n",
              "    .dataframe tbody tr th:only-of-type {\n",
              "        vertical-align: middle;\n",
              "    }\n",
              "\n",
              "    .dataframe tbody tr th {\n",
              "        vertical-align: top;\n",
              "    }\n",
              "\n",
              "    .dataframe thead th {\n",
              "        text-align: right;\n",
              "    }\n",
              "</style>\n",
              "<table border=\"1\" class=\"dataframe\">\n",
              "  <thead>\n",
              "    <tr style=\"text-align: right;\">\n",
              "      <th></th>\n",
              "      <th>id</th>\n",
              "      <th>text</th>\n",
              "      <th>target</th>\n",
              "      <th>filtered_tweet</th>\n",
              "    </tr>\n",
              "  </thead>\n",
              "  <tbody>\n",
              "    <tr>\n",
              "      <th>0</th>\n",
              "      <td>1</td>\n",
              "      <td>Our Deeds are the Reason of this #earthquake M...</td>\n",
              "      <td>1</td>\n",
              "      <td>[our, deeds, are, the, reason, of, this, earth...</td>\n",
              "    </tr>\n",
              "    <tr>\n",
              "      <th>1</th>\n",
              "      <td>4</td>\n",
              "      <td>Forest fire near La Ronge Sask. Canada</td>\n",
              "      <td>1</td>\n",
              "      <td>[forest, fire, near, la, ronge, sask, canada]</td>\n",
              "    </tr>\n",
              "    <tr>\n",
              "      <th>2</th>\n",
              "      <td>5</td>\n",
              "      <td>All residents asked to 'shelter in place' are ...</td>\n",
              "      <td>1</td>\n",
              "      <td>[all, residents, asked, to, shelter, in, place...</td>\n",
              "    </tr>\n",
              "    <tr>\n",
              "      <th>3</th>\n",
              "      <td>6</td>\n",
              "      <td>13,000 people receive #wildfires evacuation or...</td>\n",
              "      <td>1</td>\n",
              "      <td>[people, receive, wildfires, evacuation, order...</td>\n",
              "    </tr>\n",
              "    <tr>\n",
              "      <th>4</th>\n",
              "      <td>7</td>\n",
              "      <td>Just got sent this photo from Ruby #Alaska as ...</td>\n",
              "      <td>1</td>\n",
              "      <td>[just, got, sent, this, photo, from, ruby, ala...</td>\n",
              "    </tr>\n",
              "  </tbody>\n",
              "</table>\n",
              "</div>"
            ]
          },
          "metadata": {}
        }
      ],
      "execution_count": 106,
=======
        "text = 'Hello guys! I am the 22 years old boy.'\n",
        "\n",
        "def remove_stopwords(text):\n",
        "   text = text.lower()\n",
        "   text = text.split()\n",
        "   text = [word for word in text if word not in stopwords.words('english')]\n",
        "   return text\n",
        "\n"
      ],
      "outputs": [],
      "execution_count": 84,
>>>>>>> Stashed changes
      "metadata": {
        "collapsed": true,
        "outputExpanded": false,
        "jupyter": {
          "source_hidden": false,
          "outputs_hidden": false
        },
        "nteract": {
          "transient": {
            "deleting": false
          }
        },
        "execution": {
<<<<<<< Updated upstream
          "iopub.status.busy": "2020-05-10T19:23:12.881Z",
          "iopub.execute_input": "2020-05-10T19:23:12.891Z",
          "iopub.status.idle": "2020-05-10T19:23:12.941Z",
          "shell.execute_reply": "2020-05-10T19:23:12.962Z"
=======
          "iopub.status.busy": "2020-05-09T16:22:50.123Z",
          "iopub.execute_input": "2020-05-09T16:22:50.129Z",
          "iopub.status.idle": "2020-05-09T16:22:50.139Z",
          "shell.execute_reply": "2020-05-09T16:22:50.164Z"
        }
      }
    },
    {
      "cell_type": "markdown",
      "source": [
        "### Logistic regression:"
      ],
      "metadata": {
        "nteract": {
          "transient": {
            "deleting": false
          }
>>>>>>> Stashed changes
        }
      }
    },
    {
      "cell_type": "code",
      "source": [
        "# remove stopwords and punctuation\n",
        "def remove_stopwords(text):\n",
        "    text = [word for word in text if word not in stopwords.words('english')]\n",
        "    text = [word for word in text if word not in punctuations]\n",
        "    \n",
        "    return text\n",
        "\n",
        "df['filtered_tweet'] = df['filtered_tweet'].apply(lambda x: remove_stopwords(x))\n",
        "\n",
        "df.head()"
      ],
      "outputs": [
        {
          "output_type": "execute_result",
          "execution_count": 107,
          "data": {
            "text/plain": [
              "   id                                               text  target  \\\n",
              "0   1  Our Deeds are the Reason of this #earthquake M...       1   \n",
              "1   4             Forest fire near La Ronge Sask. Canada       1   \n",
              "2   5  All residents asked to 'shelter in place' are ...       1   \n",
              "3   6  13,000 people receive #wildfires evacuation or...       1   \n",
              "4   7  Just got sent this photo from Ruby #Alaska as ...       1   \n",
              "\n",
              "                                      filtered_tweet  \n",
              "0  [deeds, reason, earthquake, may, allah, forgiv...  \n",
              "1      [forest, fire, near, la, ronge, sask, canada]  \n",
              "2  [residents, asked, shelter, place, notified, o...  \n",
              "3  [people, receive, wildfires, evacuation, order...  \n",
              "4  [got, sent, photo, ruby, alaska, smoke, wildfi...  "
            ],
            "text/html": [
              "<div>\n",
              "<style scoped>\n",
              "    .dataframe tbody tr th:only-of-type {\n",
              "        vertical-align: middle;\n",
              "    }\n",
              "\n",
              "    .dataframe tbody tr th {\n",
              "        vertical-align: top;\n",
              "    }\n",
              "\n",
              "    .dataframe thead th {\n",
              "        text-align: right;\n",
              "    }\n",
              "</style>\n",
              "<table border=\"1\" class=\"dataframe\">\n",
              "  <thead>\n",
              "    <tr style=\"text-align: right;\">\n",
              "      <th></th>\n",
              "      <th>id</th>\n",
              "      <th>text</th>\n",
              "      <th>target</th>\n",
              "      <th>filtered_tweet</th>\n",
              "    </tr>\n",
              "  </thead>\n",
              "  <tbody>\n",
              "    <tr>\n",
              "      <th>0</th>\n",
              "      <td>1</td>\n",
              "      <td>Our Deeds are the Reason of this #earthquake M...</td>\n",
              "      <td>1</td>\n",
              "      <td>[deeds, reason, earthquake, may, allah, forgiv...</td>\n",
              "    </tr>\n",
              "    <tr>\n",
              "      <th>1</th>\n",
              "      <td>4</td>\n",
              "      <td>Forest fire near La Ronge Sask. Canada</td>\n",
              "      <td>1</td>\n",
              "      <td>[forest, fire, near, la, ronge, sask, canada]</td>\n",
              "    </tr>\n",
              "    <tr>\n",
              "      <th>2</th>\n",
              "      <td>5</td>\n",
              "      <td>All residents asked to 'shelter in place' are ...</td>\n",
              "      <td>1</td>\n",
              "      <td>[residents, asked, shelter, place, notified, o...</td>\n",
              "    </tr>\n",
              "    <tr>\n",
              "      <th>3</th>\n",
              "      <td>6</td>\n",
              "      <td>13,000 people receive #wildfires evacuation or...</td>\n",
              "      <td>1</td>\n",
              "      <td>[people, receive, wildfires, evacuation, order...</td>\n",
              "    </tr>\n",
              "    <tr>\n",
              "      <th>4</th>\n",
              "      <td>7</td>\n",
              "      <td>Just got sent this photo from Ruby #Alaska as ...</td>\n",
              "      <td>1</td>\n",
              "      <td>[got, sent, photo, ruby, alaska, smoke, wildfi...</td>\n",
              "    </tr>\n",
              "  </tbody>\n",
              "</table>\n",
              "</div>"
            ]
          },
          "metadata": {}
        }
      ],
      "execution_count": 107,
      "metadata": {
        "collapsed": true,
        "outputExpanded": false,
        "jupyter": {
          "source_hidden": false,
          "outputs_hidden": false
        },
        "nteract": {
          "transient": {
            "deleting": false
          }
        },
        "execution": {
          "iopub.status.busy": "2020-05-10T19:23:13.798Z",
          "iopub.execute_input": "2020-05-10T19:23:13.804Z",
          "iopub.status.idle": "2020-05-10T19:23:33.496Z",
          "shell.execute_reply": "2020-05-10T19:23:33.529Z"
        }
      }
    },
    {
      "cell_type": "code",
      "source": [
        "# recreating sentences\n",
        "def sentence(text):\n",
        "  sentence = ''\n",
        "  for word in text:\n",
        "    sentence = sentence + ' ' + word\n",
        "  \n",
        "  return sentence\n",
        "\n",
        "df['filtered_tweet'] = df['filtered_tweet'].apply(lambda x: sentence(x))\n",
        "\n",
        "df.head()"
      ],
      "outputs": [
        {
          "output_type": "execute_result",
          "execution_count": 108,
          "data": {
            "text/plain": [
              "   id                                               text  target  \\\n",
              "0   1  Our Deeds are the Reason of this #earthquake M...       1   \n",
              "1   4             Forest fire near La Ronge Sask. Canada       1   \n",
              "2   5  All residents asked to 'shelter in place' are ...       1   \n",
              "3   6  13,000 people receive #wildfires evacuation or...       1   \n",
              "4   7  Just got sent this photo from Ruby #Alaska as ...       1   \n",
              "\n",
              "                                      filtered_tweet  \n",
              "0       deeds reason earthquake may allah forgive us  \n",
              "1              forest fire near la ronge sask canada  \n",
              "2   residents asked shelter place notified office...  \n",
              "3   people receive wildfires evacuation orders ca...  \n",
              "4   got sent photo ruby alaska smoke wildfires po...  "
            ],
            "text/html": [
              "<div>\n",
              "<style scoped>\n",
              "    .dataframe tbody tr th:only-of-type {\n",
              "        vertical-align: middle;\n",
              "    }\n",
              "\n",
              "    .dataframe tbody tr th {\n",
              "        vertical-align: top;\n",
              "    }\n",
              "\n",
              "    .dataframe thead th {\n",
              "        text-align: right;\n",
              "    }\n",
              "</style>\n",
              "<table border=\"1\" class=\"dataframe\">\n",
              "  <thead>\n",
              "    <tr style=\"text-align: right;\">\n",
              "      <th></th>\n",
              "      <th>id</th>\n",
              "      <th>text</th>\n",
              "      <th>target</th>\n",
              "      <th>filtered_tweet</th>\n",
              "    </tr>\n",
              "  </thead>\n",
              "  <tbody>\n",
              "    <tr>\n",
              "      <th>0</th>\n",
              "      <td>1</td>\n",
              "      <td>Our Deeds are the Reason of this #earthquake M...</td>\n",
              "      <td>1</td>\n",
              "      <td>deeds reason earthquake may allah forgive us</td>\n",
              "    </tr>\n",
              "    <tr>\n",
              "      <th>1</th>\n",
              "      <td>4</td>\n",
              "      <td>Forest fire near La Ronge Sask. Canada</td>\n",
              "      <td>1</td>\n",
              "      <td>forest fire near la ronge sask canada</td>\n",
              "    </tr>\n",
              "    <tr>\n",
              "      <th>2</th>\n",
              "      <td>5</td>\n",
              "      <td>All residents asked to 'shelter in place' are ...</td>\n",
              "      <td>1</td>\n",
              "      <td>residents asked shelter place notified office...</td>\n",
              "    </tr>\n",
              "    <tr>\n",
              "      <th>3</th>\n",
              "      <td>6</td>\n",
              "      <td>13,000 people receive #wildfires evacuation or...</td>\n",
              "      <td>1</td>\n",
              "      <td>people receive wildfires evacuation orders ca...</td>\n",
              "    </tr>\n",
              "    <tr>\n",
              "      <th>4</th>\n",
              "      <td>7</td>\n",
              "      <td>Just got sent this photo from Ruby #Alaska as ...</td>\n",
              "      <td>1</td>\n",
              "      <td>got sent photo ruby alaska smoke wildfires po...</td>\n",
              "    </tr>\n",
              "  </tbody>\n",
              "</table>\n",
              "</div>"
            ]
          },
          "metadata": {}
        }
      ],
      "execution_count": 108,
      "metadata": {
        "collapsed": true,
        "outputExpanded": false,
        "jupyter": {
          "source_hidden": false,
          "outputs_hidden": false
        },
        "nteract": {
          "transient": {
            "deleting": false
          }
        },
        "execution": {
          "iopub.status.busy": "2020-05-10T19:24:49.844Z",
          "iopub.execute_input": "2020-05-10T19:24:49.853Z",
          "iopub.status.idle": "2020-05-10T19:24:49.870Z",
          "shell.execute_reply": "2020-05-10T19:24:49.897Z"
        }
      }
    },
    {
      "cell_type": "markdown",
      "source": [
        "### Logistic regression"
      ],
      "metadata": {
        "nteract": {
          "transient": {
            "deleting": false
          }
        }
      }
    },
    {
      "cell_type": "code",
      "source": [
        "#!python -m spacy download en_core_web_sm\n",
        "\n",
        "from sklearn.feature_extraction.text import CountVectorizer,TfidfVectorizer\n",
        "from sklearn.base import TransformerMixin\n",
        "from sklearn.pipeline import Pipeline\n",
        "import string\n",
        "from sklearn.model_selection import train_test_split\n",
        "from sklearn.linear_model import LogisticRegression\n",
        "from sklearn import metrics\n"
      ],
      "outputs": [],
      "execution_count": 109,
      "metadata": {
        "collapsed": true,
        "outputExpanded": false,
        "jupyter": {
          "source_hidden": false,
          "outputs_hidden": false
        },
        "nteract": {
          "transient": {
            "deleting": false
          }
        },
        "execution": {
          "iopub.status.busy": "2020-05-10T19:24:55.340Z",
          "iopub.execute_input": "2020-05-10T19:24:55.347Z",
          "iopub.status.idle": "2020-05-10T19:24:55.358Z",
          "shell.execute_reply": "2020-05-10T19:24:55.364Z"
        }
      }
    },
    {
      "cell_type": "code",
      "source": [
        "def spacy_tokenizer(sentence):\n",
        "    mytokens = parser(sentence)\n",
        "    mytokens = [ word.lemma_.lower().strip() \n",
        "                if word.lemma_ != \"-PRON-\" else word.lower_ for word in mytokens ]\n",
        "    mytokens = [ word for word in mytokens \n",
        "                if word not in stop_words and word not in punctuations ]\n",
        "\n",
        "    return mytokens\n",
        "\n",
        "\n",
        "tfidf_vector = TfidfVectorizer(tokenizer = spacy_tokenizer)"
      ],
      "outputs": [],
      "execution_count": 110,
      "metadata": {
        "collapsed": true,
        "outputExpanded": false,
        "jupyter": {
          "source_hidden": false,
          "outputs_hidden": false
        },
        "nteract": {
          "transient": {
            "deleting": false
          }
        },
        "execution": {
          "iopub.status.busy": "2020-05-10T19:24:56.123Z",
          "iopub.execute_input": "2020-05-10T19:24:56.130Z",
          "iopub.status.idle": "2020-05-10T19:24:56.142Z",
          "shell.execute_reply": "2020-05-10T19:24:56.148Z"
        }
      }
    },
    {
      "cell_type": "code",
      "source": [
        "X = df['filtered_tweet']\n",
        "ylabels = df['target']\n",
        "\n",
        "X_train, X_test, y_train, y_test = train_test_split(X, ylabels, test_size=0.3, random_state=72)"
      ],
      "outputs": [],
      "execution_count": 111,
      "metadata": {
        "collapsed": true,
        "outputExpanded": false,
        "jupyter": {
          "source_hidden": false,
          "outputs_hidden": false
        },
        "nteract": {
          "transient": {
            "deleting": false
          }
        },
        "execution": {
          "iopub.status.busy": "2020-05-10T19:24:56.839Z",
          "iopub.execute_input": "2020-05-10T19:24:56.849Z",
          "iopub.status.idle": "2020-05-10T19:24:56.863Z",
          "shell.execute_reply": "2020-05-10T19:24:56.870Z"
        }
      }
    },
    {
      "cell_type": "code",
      "source": [
        "def log_reg(i):\n",
        "    X = df['filtered_tweet']\n",
        "    ylabels = df['target']\n",
        "\n",
        "    X_train, X_test, y_train, y_test = train_test_split(X, ylabels, test_size=i, random_state=72)\n",
        "\n",
        "    classifier = LogisticRegression(solver=\"lbfgs\")\n",
        "\n",
        "# Create pipeline using Bag of Words\n",
        "    pipe = Pipeline([('vectorizer', tfidf_vector),\n",
        "                 ('classifier', classifier)])\n",
        "\n",
        "# model generation\n",
        "    pipe.fit(X_train,y_train)\n",
        "\n",
        "    predicted = pipe.predict(X_test)\n",
        "\n",
        "    accuracy = metrics.accuracy_score(y_test, predicted)\n",
        "    precision = metrics.precision_score(y_test, predicted, average=None)\n",
        "    recall = metrics.recall_score(y_test, predicted, average=None)\n",
        "    \n",
        "    #print(accuracy)\n",
        "    return accuracy, precision, recall, i\n",
        "    \n",
        "  \n",
        "accuracy, precision, recall, i = log_reg(0.2)"
      ],
      "outputs": [],
      "execution_count": 181,
      "metadata": {
        "collapsed": true,
        "outputExpanded": false,
        "jupyter": {
          "source_hidden": false,
          "outputs_hidden": false
        },
        "nteract": {
          "transient": {
            "deleting": false
          }
        },
        "execution": {
          "iopub.status.busy": "2020-05-11T08:30:21.384Z",
          "iopub.execute_input": "2020-05-11T08:30:21.393Z",
          "shell.execute_reply": "2020-05-11T08:30:22.802Z",
          "iopub.status.idle": "2020-05-11T08:30:22.741Z"
        }
      }
    },
    {
      "cell_type": "code",
      "source": [
        "print(f'For a train/test split treshold of {i}: \\n')\n",
        "\n",
        "print(f'We can see here that our model identified a tweet about a disaster {str(accuracy*100)[:4]}% of the time. \\n')\n",
        "\n",
        "print(f'When it predicted a tweet to be about a disaster, it was correctly assessed {str(precision[0]*100)[:4]}% of the time, \\nand was correctly assessed for a tweet not about a disaster {str(precision[1]*100)[:4]}% of the time. \\n')\n",
        "\n",
        "print(f'When given a tweet about a disaster, the model considered it as being about a disaster {str(recall[0]*100)[:4]}% of the time, \\nand when given a tweet not about a disaster the model considered it as not a disaster for {str(recall[1]*100)[:4]}% of the time. \\n')"
      ],
      "outputs": [
        {
          "output_type": "stream",
          "name": "stdout",
          "text": [
            "For a train/test split treshold of 0.2: \n",
            "\n",
            "We can see here that our model identified a tweet about a disaster 80.0% of the time. \n",
            "\n",
            "When it predicted a tweet to be about a disaster, it was correctly assessed 77.5% of the time, \n",
            "and was correctly assessed for a tweet not about a disaster 84.6% of the time. \n",
            "\n",
            "When given a tweet about a disaster, the model considered it as being about a disaster 90.3% of the time, \n",
            "and when given a tweet not about a disaster the model considered it as not a disaster for 67.0% of the time. \n",
            "\n"
          ]
        }
      ],
      "execution_count": 182,
      "metadata": {
        "collapsed": true,
        "outputExpanded": false,
        "jupyter": {
          "source_hidden": false,
          "outputs_hidden": false
        },
        "nteract": {
          "transient": {
            "deleting": false
          }
        },
        "execution": {
          "iopub.status.busy": "2020-05-11T08:30:22.756Z",
          "iopub.execute_input": "2020-05-11T08:30:22.764Z",
          "iopub.status.idle": "2020-05-11T08:30:22.782Z",
          "shell.execute_reply": "2020-05-11T08:30:22.811Z"
        }
      }
    },
    {
      "cell_type": "markdown",
      "source": [
        "### Plot the results"
      ],
      "metadata": {
        "nteract": {
          "transient": {
            "deleting": false
          }
        }
      }
    },
    {
      "cell_type": "code",
      "source": [
        "import matplotlib.pyplot as plt\n",
        "\n",
        "data_acc = {}\n",
        "data_prec = {}\n",
        "data_rec = {}\n",
        "\n",
        "\n",
        "for i in range(1, 10, 1):\n",
        "  j = i/10\n",
        "  accuracy, precision, recall, i = log_reg(j)\n",
        "  data_acc[j] = accuracy\n",
        "  data_prec[j] = precision\n",
        "  data_rec[j] = recall\n",
        "  \n",
        "names_acc = list(data_acc.keys())\n",
        "values_acc = list(data_acc.values())\n",
        "\n",
        "names_prec = list(data_prec.keys())\n",
        "values_prec = list(data_prec.values())\n",
        "\n",
        "names_rec = list(data_rec.keys())\n",
        "values_rec = list(data_rec.values())\n",
        "\n",
        "fig, axs = plt.subplots(1, 3, figsize=(11, 3), sharey=True)\n",
        "\n",
        "axs[0].plot(names_acc, values_acc, label='accuracy')\n",
        "axs[0].legend()\n",
        "\n",
        "axs[1].plot(names_prec, values_prec, label='precision')\n",
        "axs[1].legend(('precision for target=1', 'precision for target=0'))\n",
        "\n",
        "axs[2].plot(names_rec, values_rec, label='recall')\n",
        "axs[2].legend(('recall for target=1', 'recall for target=0'))\n",
        "\n",
        "fig.suptitle('Accuracy, precision and recall for multiple value of train/test split treshold')"
      ],
      "outputs": [
        {
          "output_type": "execute_result",
          "execution_count": 204,
          "data": {
            "text/plain": [
              "Text(0.5, 0.98, 'Accuracy, precision and recall for multiple value of train/test split treshold')"
            ]
          },
          "metadata": {}
        },
        {
          "output_type": "display_data",
          "data": {
            "text/plain": [
              "<Figure size 792x216 with 3 Axes>"
            ],
            "image/png": [
              "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\n"
            ]
          },
          "metadata": {
            "needs_background": "light"
          }
        }
      ],
      "execution_count": 204,
      "metadata": {
        "collapsed": true,
        "outputExpanded": false,
        "jupyter": {
          "source_hidden": false,
          "outputs_hidden": false
        },
        "nteract": {
          "transient": {
            "deleting": false
          }
        },
        "execution": {
          "iopub.status.busy": "2020-05-11T08:54:29.509Z",
          "iopub.execute_input": "2020-05-11T08:54:29.520Z",
          "iopub.status.idle": "2020-05-11T08:54:40.309Z",
          "shell.execute_reply": "2020-05-11T08:54:40.324Z"
        }
      }
    },
    {
      "cell_type": "markdown",
      "source": [
        "### Neural networks"
      ],
      "metadata": {
        "nteract": {
          "transient": {
            "deleting": false
          }
        }
      }
    },
    {
      "cell_type": "code",
      "source": [],
      "outputs": [],
      "execution_count": null,
      "metadata": {
        "collapsed": true,
        "outputExpanded": false,
        "jupyter": {
          "source_hidden": false,
          "outputs_hidden": false
        },
        "nteract": {
          "transient": {
            "deleting": false
          }
        }
      }
    },
    {
      "cell_type": "code",
      "source": [],
      "outputs": [],
      "execution_count": null,
      "metadata": {
        "collapsed": true,
        "outputExpanded": false,
        "jupyter": {
          "source_hidden": false,
          "outputs_hidden": false
        },
        "nteract": {
          "transient": {
            "deleting": false
          }
        }
      }
    },
    {
      "cell_type": "code",
      "source": [],
      "outputs": [],
      "execution_count": null,
      "metadata": {
        "collapsed": true,
        "outputExpanded": false,
        "jupyter": {
          "source_hidden": false,
          "outputs_hidden": false
        },
        "nteract": {
          "transient": {
            "deleting": false
          }
        }
      }
    },
    {
      "cell_type": "code",
      "source": [],
      "outputs": [],
      "execution_count": null,
      "metadata": {
        "collapsed": true,
        "outputExpanded": false,
        "jupyter": {
          "source_hidden": false,
          "outputs_hidden": false
        },
        "nteract": {
          "transient": {
            "deleting": false
          }
        }
      }
    },
    {
      "cell_type": "code",
      "source": [],
      "outputs": [],
      "execution_count": null,
      "metadata": {
        "collapsed": true,
        "outputExpanded": false,
        "jupyter": {
          "source_hidden": false,
          "outputs_hidden": false
        },
        "nteract": {
          "transient": {
            "deleting": false
          }
        }
      }
    },
    {
      "cell_type": "code",
      "source": [],
      "outputs": [],
      "execution_count": null,
      "metadata": {
        "collapsed": true,
        "outputExpanded": false,
        "jupyter": {
          "source_hidden": false,
          "outputs_hidden": false
        },
        "nteract": {
          "transient": {
            "deleting": false
          }
        }
      }
    },
    {
      "cell_type": "code",
      "source": [],
      "outputs": [],
      "execution_count": null,
      "metadata": {
        "collapsed": true,
        "outputExpanded": false,
        "jupyter": {
          "source_hidden": false,
          "outputs_hidden": false
        },
        "nteract": {
          "transient": {
            "deleting": false
          }
        }
      }
    },
    {
      "cell_type": "code",
      "source": [],
      "outputs": [],
      "execution_count": null,
      "metadata": {
        "collapsed": true,
        "outputExpanded": false,
        "jupyter": {
          "source_hidden": false,
          "outputs_hidden": false
        },
        "nteract": {
          "transient": {
            "deleting": false
          }
        }
      }
    },
    {
      "cell_type": "code",
      "source": [],
      "outputs": [],
      "execution_count": null,
      "metadata": {
        "collapsed": true,
        "outputExpanded": false,
        "jupyter": {
          "source_hidden": false,
          "outputs_hidden": false
        },
        "nteract": {
          "transient": {
            "deleting": false
          }
        }
      }
    },
    {
      "cell_type": "code",
      "source": [],
      "outputs": [],
      "execution_count": null,
      "metadata": {
        "collapsed": true,
        "outputExpanded": false,
        "jupyter": {
          "source_hidden": false,
          "outputs_hidden": false
        },
        "nteract": {
          "transient": {
            "deleting": false
          }
        }
      }
    },
    {
      "cell_type": "code",
      "source": [],
      "outputs": [],
      "execution_count": null,
      "metadata": {
        "collapsed": true,
        "outputExpanded": false,
        "jupyter": {
          "source_hidden": false,
          "outputs_hidden": false
        },
        "nteract": {
          "transient": {
            "deleting": false
          }
        }
      }
    }
  ],
  "metadata": {
    "kernelspec": {
      "display_name": "Python 3",
      "language": "python",
      "name": "python3"
    },
    "language_info": {
      "name": "python",
      "version": "3.7.3",
      "mimetype": "text/x-python",
      "codemirror_mode": {
        "name": "ipython",
        "version": 3
      },
      "pygments_lexer": "ipython3",
      "nbconvert_exporter": "python",
      "file_extension": ".py"
    },
    "nteract": {
      "version": "0.23.1"
    }
  },
  "nbformat": 4,
  "nbformat_minor": 2
}
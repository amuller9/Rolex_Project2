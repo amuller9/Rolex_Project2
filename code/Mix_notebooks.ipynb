{
 "cells": [
  {
   "cell_type": "markdown",
   "metadata": {},
   "source": [
    "##### Project 2 - Big-Scale Analytics \n",
    "##### Team ROLEX - Samuel Lew, Alexandre Lang, Samy Bouzerda, Alix Muller\n",
    "-------\n",
    "# Kaggle: Real or Not? NLP with Disaster Tweets\n",
    "-------"
   ]
  },
  {
   "cell_type": "markdown",
   "metadata": {},
   "source": [
    "# 0. Kaggle competition\n",
    "\n",
    "> In this competition, people have to create machine learning models to predict whether the tweets test set mention a disaster or not. This challenge is a binary classification problem.\n",
    "\n",
    "This competition's Dataset shows a set of tweets divided into a training and a test set. The training set has a column named 'target' that permits to identify if the tweet contains an infomation about a disaster or not.\n",
    "\n",
    "For example, here are one tweet about a disaster and another not:"
   ]
  },
  {
   "cell_type": "code",
   "execution_count": 3,
   "metadata": {},
   "outputs": [
    {
     "data": {
      "text/plain": [
       "\"'Suicide bombing at [location named]...' #premonitions http://t.co/iIkSsJGBDn\""
      ]
     },
     "execution_count": 3,
     "metadata": {},
     "output_type": "execute_result"
    }
   ],
   "source": [
    "# A disaster tweet\n",
    "disaster_tweet = train[train['target'] == 1]['text']\n",
    "disaster_tweet.values[1]"
   ]
  },
  {
   "cell_type": "code",
   "execution_count": 4,
   "metadata": {},
   "outputs": [
    {
     "data": {
      "text/plain": [
       "'@ThatWitchEm @EmmaChosenOne @JessieNovoaRP @Jessie_Novoa_ @Liana_Novoa why you screamed'"
      ]
     },
     "execution_count": 4,
     "metadata": {},
     "output_type": "execute_result"
    }
   ],
   "source": [
    "# A tweet not concerning a disaster\n",
    "non_disaster_tweet = train[train['target'] == 0]['text']\n",
    "non_disaster_tweet.values[1]"
   ]
  },
  {
   "cell_type": "markdown",
   "metadata": {
    "nteract": {
     "transient": {
      "deleting": false
     }
    }
   },
   "source": [
    "# I. Libraries\n",
    "\n",
    "Let's first import the libraries that we will need during this analysis."
   ]
  },
  {
   "cell_type": "code",
   "execution_count": 14,
   "metadata": {},
   "outputs": [],
   "source": [
    "import pandas as pd\n",
    "import seaborn as sns\n",
    "import matplotlib.pyplot as plt\n",
    "import numpy as np\n",
    "\n",
    "from nltk import word_tokenize, sent_tokenize\n",
    "from nltk.corpus import stopwords\n",
    "import re\n",
    "\n",
    "from sklearn.feature_extraction.text import ENGLISH_STOP_WORDS\n",
    "from wordcloud import WordCloud\n",
    "from string import punctuation"
   ]
  },
  {
   "cell_type": "markdown",
   "metadata": {},
   "source": [
    "# II. EDA"
   ]
  },
  {
   "cell_type": "markdown",
   "metadata": {},
   "source": [
    "Before starting the classification problems, we have to explore the dataset. \n",
    "During this exploratory analysis, we will observe the distribution of data according the differents variables available: Target, Keyword, Location and Text. \n",
    "\n",
    "It permits to understand better the composition of the dataset, and undertand more about the tweets we will have to classify."
   ]
  },
  {
   "cell_type": "code",
   "execution_count": 2,
   "metadata": {},
   "outputs": [
    {
     "data": {
      "text/html": [
       "<div>\n",
       "<style scoped>\n",
       "    .dataframe tbody tr th:only-of-type {\n",
       "        vertical-align: middle;\n",
       "    }\n",
       "\n",
       "    .dataframe tbody tr th {\n",
       "        vertical-align: top;\n",
       "    }\n",
       "\n",
       "    .dataframe thead th {\n",
       "        text-align: right;\n",
       "    }\n",
       "</style>\n",
       "<table border=\"1\" class=\"dataframe\">\n",
       "  <thead>\n",
       "    <tr style=\"text-align: right;\">\n",
       "      <th></th>\n",
       "      <th>id</th>\n",
       "      <th>keyword</th>\n",
       "      <th>location</th>\n",
       "      <th>text</th>\n",
       "      <th>target</th>\n",
       "    </tr>\n",
       "  </thead>\n",
       "  <tbody>\n",
       "    <tr>\n",
       "      <th>616</th>\n",
       "      <td>888</td>\n",
       "      <td>bioterrorism</td>\n",
       "      <td>San Francisco, CA</td>\n",
       "      <td>A Tale of Two Pox - Body Horrors http://t.co/W...</td>\n",
       "      <td>1</td>\n",
       "    </tr>\n",
       "    <tr>\n",
       "      <th>6434</th>\n",
       "      <td>9207</td>\n",
       "      <td>suicide%20bombing</td>\n",
       "      <td>NaN</td>\n",
       "      <td>'Suicide bombing at [location named]...' #prem...</td>\n",
       "      <td>1</td>\n",
       "    </tr>\n",
       "    <tr>\n",
       "      <th>6397</th>\n",
       "      <td>9143</td>\n",
       "      <td>suicide%20bomber</td>\n",
       "      <td>NaN</td>\n",
       "      <td>Suicide Bomber Kills 13 At Saudi Mosque http:/...</td>\n",
       "      <td>1</td>\n",
       "    </tr>\n",
       "    <tr>\n",
       "      <th>6682</th>\n",
       "      <td>9575</td>\n",
       "      <td>thunder</td>\n",
       "      <td>NaN</td>\n",
       "      <td>@OriginalFunko @Spencers THUNDER BUDDYS!</td>\n",
       "      <td>0</td>\n",
       "    </tr>\n",
       "    <tr>\n",
       "      <th>5940</th>\n",
       "      <td>8484</td>\n",
       "      <td>screamed</td>\n",
       "      <td>NaN</td>\n",
       "      <td>@ThatWitchEm @EmmaChosenOne @JessieNovoaRP @Je...</td>\n",
       "      <td>0</td>\n",
       "    </tr>\n",
       "    <tr>\n",
       "      <th>2090</th>\n",
       "      <td>3004</td>\n",
       "      <td>death</td>\n",
       "      <td>ATL??AL??</td>\n",
       "      <td>I Hate To Talking Otp With My Grandma... I Mea...</td>\n",
       "      <td>0</td>\n",
       "    </tr>\n",
       "    <tr>\n",
       "      <th>2743</th>\n",
       "      <td>3945</td>\n",
       "      <td>devastated</td>\n",
       "      <td>Varies</td>\n",
       "      <td>Is Stuart Broad the Prime Minister yet. Best t...</td>\n",
       "      <td>0</td>\n",
       "    </tr>\n",
       "    <tr>\n",
       "      <th>6886</th>\n",
       "      <td>9872</td>\n",
       "      <td>traumatised</td>\n",
       "      <td>Hackney, London</td>\n",
       "      <td>America like South Africa is a traumatised sic...</td>\n",
       "      <td>0</td>\n",
       "    </tr>\n",
       "    <tr>\n",
       "      <th>7390</th>\n",
       "      <td>10575</td>\n",
       "      <td>windstorm</td>\n",
       "      <td>NaN</td>\n",
       "      <td>@blakeshelton DON'T be a FART ??in a WINDSTORM...</td>\n",
       "      <td>1</td>\n",
       "    </tr>\n",
       "    <tr>\n",
       "      <th>1096</th>\n",
       "      <td>1585</td>\n",
       "      <td>bombed</td>\n",
       "      <td>New York</td>\n",
       "      <td>The U.S. bombed Hiroshima 70 years ago today. ...</td>\n",
       "      <td>1</td>\n",
       "    </tr>\n",
       "  </tbody>\n",
       "</table>\n",
       "</div>"
      ],
      "text/plain": [
       "         id            keyword           location  \\\n",
       "616     888       bioterrorism  San Francisco, CA   \n",
       "6434   9207  suicide%20bombing                NaN   \n",
       "6397   9143   suicide%20bomber                NaN   \n",
       "6682   9575            thunder                NaN   \n",
       "5940   8484           screamed                NaN   \n",
       "2090   3004              death          ATL??AL??   \n",
       "2743   3945         devastated            Varies    \n",
       "6886   9872        traumatised    Hackney, London   \n",
       "7390  10575          windstorm                NaN   \n",
       "1096   1585             bombed           New York   \n",
       "\n",
       "                                                   text  target  \n",
       "616   A Tale of Two Pox - Body Horrors http://t.co/W...       1  \n",
       "6434  'Suicide bombing at [location named]...' #prem...       1  \n",
       "6397  Suicide Bomber Kills 13 At Saudi Mosque http:/...       1  \n",
       "6682           @OriginalFunko @Spencers THUNDER BUDDYS!       0  \n",
       "5940  @ThatWitchEm @EmmaChosenOne @JessieNovoaRP @Je...       0  \n",
       "2090  I Hate To Talking Otp With My Grandma... I Mea...       0  \n",
       "2743  Is Stuart Broad the Prime Minister yet. Best t...       0  \n",
       "6886  America like South Africa is a traumatised sic...       0  \n",
       "7390  @blakeshelton DON'T be a FART ??in a WINDSTORM...       1  \n",
       "1096  The U.S. bombed Hiroshima 70 years ago today. ...       1  "
      ]
     },
     "execution_count": 2,
     "metadata": {},
     "output_type": "execute_result"
    }
   ],
   "source": [
    "train = pd.read_csv('../data/train.csv')\n",
    "train = train.sample(frac=1, replace=False)\n",
    "train = train[['id', 'keyword', 'location', 'text', 'target']]\n",
    "train.head(10)"
   ]
  },
  {
   "cell_type": "markdown",
   "metadata": {},
   "source": [
    "### Distribution Target\n",
    "This binary variable, like explained earlier, permits to identify the tweets mentionning a disaster from a tweet mentionning something else.\n",
    "The following code permit to know the number of tweets in the train dataset, and to identify the repartition of disaster tweets."
   ]
  },
  {
   "cell_type": "code",
   "execution_count": 5,
   "metadata": {},
   "outputs": [
    {
     "name": "stdout",
     "output_type": "stream",
     "text": [
      "There are 7613 tweets in the dataset\n",
      "There are 3271 tweets about disasters\n",
      "There are 4342 tweets that are not about disasters\n",
      "The classification base rate is 42.96%\n"
     ]
    }
   ],
   "source": [
    "total_count = 0\n",
    "for row in train.iterrows():\n",
    "  total_count += 1\n",
    "print(f'There are {total_count} tweets in the dataset')\n",
    "\n",
    "train_yes = train.query('target == 1')\n",
    "yes_count = 0\n",
    "for row in train_yes.iterrows():\n",
    "    yes_count += 1\n",
    "print(f'There are {yes_count} tweets about disasters')\n",
    "\n",
    "train_no = train.query('target == 0')\n",
    "no_count = 0\n",
    "for row in train_no.iterrows():\n",
    "    no_count += 1\n",
    "print(f'There are {no_count} tweets that are not about disasters')\n",
    "\n",
    "print('The classification base rate is ' + str(yes_count/(yes_count+no_count)*100)[:5] + '%')"
   ]
  },
  {
   "cell_type": "code",
   "execution_count": 6,
   "metadata": {},
   "outputs": [
    {
     "data": {
      "text/plain": [
       "Text(0, 0.5, 'Samples')"
      ]
     },
     "execution_count": 6,
     "metadata": {},
     "output_type": "execute_result"
    },
    {
     "data": {
      "image/png": "[encoded data removed]",
      "text/plain": [
       "<Figure size 432x288 with 1 Axes>"
      ]
     },
     "metadata": {
      "needs_background": "light"
     },
     "output_type": "display_data"
    }
   ],
   "source": [
    "sns.countplot('target',data = train, palette = 'rocket')\n",
    "plt.gca().set_ylabel('Samples')"
   ]
  },
  {
   "cell_type": "markdown",
   "metadata": {},
   "source": [
    "### Most common keywords"
   ]
  },
  {
   "cell_type": "markdown",
   "metadata": {},
   "source": [
    "This column recapitulates the keyword representing the tweet's text. The following barplot shows the most frequent keywords in the train dataset."
   ]
  },
  {
   "cell_type": "code",
   "execution_count": 7,
   "metadata": {},
   "outputs": [
    {
     "data": {
      "text/plain": [
       "<matplotlib.axes._subplots.AxesSubplot at 0x210acdd9cc0>"
      ]
     },
     "execution_count": 7,
     "metadata": {},
     "output_type": "execute_result"
    },
    {
     "data": {
      "image/png": "[encoded data removed]",
      "text/plain": [
       "<Figure size 432x288 with 1 Axes>"
      ]
     },
     "metadata": {
      "needs_background": "light"
     },
     "output_type": "display_data"
    }
   ],
   "source": [
    "sns.barplot(y = train['keyword'].value_counts()[:10].index, x = train['keyword'].value_counts()[:10], orient='h', palette = 'rocket')"
   ]
  },
  {
   "cell_type": "markdown",
   "metadata": {},
   "source": [
    "### Most common locations\n",
    "\n",
    "Each tweet has been written from some location. In the following plot, we can find the top 15 locations of this tweet's dataset. \n",
    "\n",
    "We can notice that already different words have been used for the same country: USA and United States. So these two columns should have been counted together. Also, some shows the country, others the city or even state. \n",
    "This is why this graph is quantitatively not reprentative, and that later on we will process the text in order to correct text errors."
   ]
  },
  {
   "cell_type": "code",
   "execution_count": 8,
   "metadata": {},
   "outputs": [
    {
     "data": {
      "image/png": "[encoded data removed]",
      "text/plain": [
       "<Figure size 648x432 with 1 Axes>"
      ]
     },
     "metadata": {
      "needs_background": "light"
     },
     "output_type": "display_data"
    }
   ],
   "source": [
    "plt.figure(figsize=(9,6))\n",
    "sns.countplot(y=train.location, order = train.location.value_counts().iloc[:15].index, palette = 'rocket')\n",
    "plt.title('Top 15 locations')\n",
    "plt.show()"
   ]
  },
  {
   "cell_type": "code",
   "execution_count": 9,
   "metadata": {},
   "outputs": [
    {
     "data": {
      "image/png": "[encoded data removed]",
      "text/plain": [
       "<Figure size 1008x432 with 1 Axes>"
      ]
     },
     "metadata": {
      "needs_background": "light"
     },
     "output_type": "display_data"
    }
   ],
   "source": [
    "raw_loc = train.location.value_counts()\n",
    "top_loc = list(raw_loc[raw_loc>=10].index)\n",
    "top_only = train[train.location.isin(top_loc)]\n",
    "\n",
    "top_l = top_only.groupby('location').mean()['target'].sort_values(ascending=False)\n",
    "plt.figure(figsize=(14,6))\n",
    "sns.barplot(x=top_l.index, y=top_l, palette = 'rocket')\n",
    "plt.xticks(rotation=80)\n",
    "plt.show()"
   ]
  },
  {
   "cell_type": "markdown",
   "metadata": {},
   "source": [
    "### Distribution of Character, Word and Sentence Frequency\n",
    "\n",
    "Then, in order to undertand the lenght of the tweet texts, we created these graphs. They are displaying the number of characters, the number of words and the number of sentences of each tweet, and separating the disaster tweets from the non-disaster tweets. \n",
    "\n",
    "There is more outliers in disaster tweets than in non-disaster tweets."
   ]
  },
  {
   "cell_type": "code",
   "execution_count": 15,
   "metadata": {},
   "outputs": [
    {
     "ename": "NameError",
     "evalue": "name 'color' is not defined",
     "output_type": "error",
     "traceback": [
      "\u001b[1;31m---------------------------------------------------------------------------\u001b[0m",
      "\u001b[1;31mNameError\u001b[0m                                 Traceback (most recent call last)",
      "\u001b[1;32m<ipython-input-15-559b546fa91c>\u001b[0m in \u001b[0;36m<module>\u001b[1;34m\u001b[0m\n\u001b[0;32m     16\u001b[0m \u001b[1;32mfor\u001b[0m \u001b[0mcounter\u001b[0m\u001b[1;33m,\u001b[0m \u001b[0mi\u001b[0m \u001b[1;32min\u001b[0m \u001b[0menumerate\u001b[0m\u001b[1;33m(\u001b[0m\u001b[1;33m[\u001b[0m\u001b[1;36m0\u001b[0m\u001b[1;33m,\u001b[0m\u001b[1;36m1\u001b[0m\u001b[1;33m,\u001b[0m\u001b[1;36m2\u001b[0m\u001b[1;33m]\u001b[0m\u001b[1;33m)\u001b[0m\u001b[1;33m:\u001b[0m\u001b[1;33m\u001b[0m\u001b[1;33m\u001b[0m\u001b[0m\n\u001b[0;32m     17\u001b[0m     \u001b[0mplt\u001b[0m\u001b[1;33m.\u001b[0m\u001b[0msubplot\u001b[0m\u001b[1;33m(\u001b[0m\u001b[1;36m1\u001b[0m\u001b[1;33m,\u001b[0m\u001b[1;36m3\u001b[0m\u001b[1;33m,\u001b[0m\u001b[0mcounter\u001b[0m\u001b[1;33m+\u001b[0m\u001b[1;36m1\u001b[0m\u001b[1;33m)\u001b[0m\u001b[1;33m\u001b[0m\u001b[1;33m\u001b[0m\u001b[0m\n\u001b[1;32m---> 18\u001b[1;33m     \u001b[0msns\u001b[0m\u001b[1;33m.\u001b[0m\u001b[0mdistplot\u001b[0m\u001b[1;33m(\u001b[0m\u001b[0mtrain\u001b[0m\u001b[1;33m[\u001b[0m\u001b[0mtrain\u001b[0m\u001b[1;33m.\u001b[0m\u001b[0mtarget\u001b[0m \u001b[1;33m==\u001b[0m \u001b[1;36m1\u001b[0m\u001b[1;33m]\u001b[0m\u001b[1;33m[\u001b[0m\u001b[0mplot_cols\u001b[0m\u001b[1;33m[\u001b[0m\u001b[0mi\u001b[0m\u001b[1;33m]\u001b[0m\u001b[1;33m]\u001b[0m\u001b[1;33m,\u001b[0m \u001b[0mlabel\u001b[0m\u001b[1;33m=\u001b[0m\u001b[1;34m'Disaster'\u001b[0m\u001b[1;33m,\u001b[0m \u001b[0mcolor\u001b[0m\u001b[1;33m=\u001b[0m\u001b[0mcolor\u001b[0m\u001b[1;33m[\u001b[0m\u001b[1;36m1\u001b[0m\u001b[1;33m]\u001b[0m\u001b[1;33m)\u001b[0m\u001b[1;33m.\u001b[0m\u001b[0mset_title\u001b[0m\u001b[1;33m(\u001b[0m\u001b[0mplot_titles\u001b[0m\u001b[1;33m[\u001b[0m\u001b[0mi\u001b[0m\u001b[1;33m]\u001b[0m\u001b[1;33m)\u001b[0m\u001b[1;33m\u001b[0m\u001b[1;33m\u001b[0m\u001b[0m\n\u001b[0m\u001b[0;32m     19\u001b[0m     \u001b[0msns\u001b[0m\u001b[1;33m.\u001b[0m\u001b[0mdistplot\u001b[0m\u001b[1;33m(\u001b[0m\u001b[0mtrain\u001b[0m\u001b[1;33m[\u001b[0m\u001b[0mtrain\u001b[0m\u001b[1;33m.\u001b[0m\u001b[0mtarget\u001b[0m \u001b[1;33m==\u001b[0m \u001b[1;36m0\u001b[0m\u001b[1;33m]\u001b[0m\u001b[1;33m[\u001b[0m\u001b[0mplot_cols\u001b[0m\u001b[1;33m[\u001b[0m\u001b[0mi\u001b[0m\u001b[1;33m]\u001b[0m\u001b[1;33m]\u001b[0m\u001b[1;33m,\u001b[0m \u001b[0mlabel\u001b[0m\u001b[1;33m=\u001b[0m\u001b[1;34m'Non-Disaster'\u001b[0m\u001b[1;33m,\u001b[0m \u001b[0mcolor\u001b[0m\u001b[1;33m=\u001b[0m\u001b[0mcolor\u001b[0m\u001b[1;33m[\u001b[0m\u001b[1;36m0\u001b[0m\u001b[1;33m]\u001b[0m\u001b[1;33m)\u001b[0m\u001b[1;33m\u001b[0m\u001b[1;33m\u001b[0m\u001b[0m\n\u001b[0;32m     20\u001b[0m     \u001b[0mplt\u001b[0m\u001b[1;33m.\u001b[0m\u001b[0mlegend\u001b[0m\u001b[1;33m(\u001b[0m\u001b[1;33m)\u001b[0m\u001b[1;33m\u001b[0m\u001b[1;33m\u001b[0m\u001b[0m\n",
      "\u001b[1;31mNameError\u001b[0m: name 'color' is not defined"
     ]
    },
    {
     "data": {
      "image/png": "[encoded data removed]",
      "text/plain": [
       "<Figure size 1440x288 with 1 Axes>"
      ]
     },
     "metadata": {
      "needs_background": "light"
     },
     "output_type": "display_data"
    }
   ],
   "source": [
    "# count number of characters in each tweet\n",
    "train['char_len'] = train.text.str.len()\n",
    "\n",
    "# count number of words in each tweet\n",
    "word_tokens = [len(word_tokenize(tweet)) for tweet in train.text]\n",
    "train['word_len'] = word_tokens\n",
    "\n",
    "# count number of sentence in each tweet\n",
    "sent_tokens = [len(sent_tokenize(tweet)) for tweet in train.text]\n",
    "train['sent_len'] = sent_tokens\n",
    "\n",
    "plot_cols = ['char_len','word_len','sent_len']\n",
    "plot_titles = ['Character Length','Word Length','Sentence Length']\n",
    "\n",
    "plt.figure(figsize=(20,4))\n",
    "for counter, i in enumerate([0,1,2]):\n",
    "    plt.subplot(1,3,counter+1)\n",
    "    sns.distplot(train[train.target == 1][plot_cols[i]], label='Disaster', color=color[1]).set_title(plot_titles[i])\n",
    "    sns.distplot(train[train.target == 0][plot_cols[i]], label='Non-Disaster', color=color[0])\n",
    "    plt.legend()"
   ]
  },
  {
   "cell_type": "markdown",
   "metadata": {},
   "source": [
    "### Most common stopwords\n",
    "\n",
    "The stopwords used are overall the same for disaster tweets than for non-disaster tweets. However, the stopword 'the' apprears significately more frequently than in non-disaster tweets, and also the use of 'I' that appears 3 times more in the tweet's text. \n",
    "\n",
    "As there are 3271 tweets about disasters compared to 4342 tweets that are not about disasters (overall less tweets on disasters) it is interesting to notice that personal/possessive pronouns as 'I', 'you' and 'my' are more used when people tweets about disasters."
   ]
  },
  {
   "cell_type": "code",
   "execution_count": 11,
   "metadata": {},
   "outputs": [
    {
     "ename": "NameError",
     "evalue": "name 'color' is not defined",
     "output_type": "error",
     "traceback": [
      "\u001b[1;31m---------------------------------------------------------------------------\u001b[0m",
      "\u001b[1;31mNameError\u001b[0m                                 Traceback (most recent call last)",
      "\u001b[1;32m<ipython-input-11-24013c11ff02>\u001b[0m in \u001b[0;36m<module>\u001b[1;34m\u001b[0m\n\u001b[0;32m     28\u001b[0m \u001b[0mplt\u001b[0m\u001b[1;33m.\u001b[0m\u001b[0mfigure\u001b[0m\u001b[1;33m(\u001b[0m\u001b[0mfigsize\u001b[0m\u001b[1;33m=\u001b[0m\u001b[1;33m(\u001b[0m\u001b[1;36m15\u001b[0m\u001b[1;33m,\u001b[0m\u001b[1;36m4\u001b[0m\u001b[1;33m)\u001b[0m\u001b[1;33m)\u001b[0m\u001b[1;33m\u001b[0m\u001b[1;33m\u001b[0m\u001b[0m\n\u001b[0;32m     29\u001b[0m \u001b[0mplt\u001b[0m\u001b[1;33m.\u001b[0m\u001b[0msubplot\u001b[0m\u001b[1;33m(\u001b[0m\u001b[1;36m1\u001b[0m\u001b[1;33m,\u001b[0m\u001b[1;36m2\u001b[0m\u001b[1;33m,\u001b[0m\u001b[1;36m1\u001b[0m\u001b[1;33m)\u001b[0m\u001b[1;33m\u001b[0m\u001b[1;33m\u001b[0m\u001b[0m\n\u001b[1;32m---> 30\u001b[1;33m \u001b[0mplt\u001b[0m\u001b[1;33m.\u001b[0m\u001b[0mbar\u001b[0m\u001b[1;33m(\u001b[0m\u001b[0mx0\u001b[0m\u001b[1;33m,\u001b[0m\u001b[0my0\u001b[0m\u001b[1;33m,\u001b[0m \u001b[0mcolor\u001b[0m\u001b[1;33m=\u001b[0m\u001b[0mcolor\u001b[0m\u001b[1;33m[\u001b[0m\u001b[1;36m0\u001b[0m\u001b[1;33m]\u001b[0m\u001b[1;33m)\u001b[0m\u001b[1;33m\u001b[0m\u001b[1;33m\u001b[0m\u001b[0m\n\u001b[0m\u001b[0;32m     31\u001b[0m \u001b[0mplt\u001b[0m\u001b[1;33m.\u001b[0m\u001b[0mtitle\u001b[0m\u001b[1;33m(\u001b[0m\u001b[1;34m'Top Stopwords for Disaster Tweets'\u001b[0m\u001b[1;33m)\u001b[0m\u001b[1;33m\u001b[0m\u001b[1;33m\u001b[0m\u001b[0m\n\u001b[0;32m     32\u001b[0m \u001b[0mplt\u001b[0m\u001b[1;33m.\u001b[0m\u001b[0msubplot\u001b[0m\u001b[1;33m(\u001b[0m\u001b[1;36m1\u001b[0m\u001b[1;33m,\u001b[0m\u001b[1;36m2\u001b[0m\u001b[1;33m,\u001b[0m\u001b[1;36m2\u001b[0m\u001b[1;33m)\u001b[0m\u001b[1;33m\u001b[0m\u001b[1;33m\u001b[0m\u001b[0m\n",
      "\u001b[1;31mNameError\u001b[0m: name 'color' is not defined"
     ]
    },
    {
     "data": {
      "image/png": "[encoded data removed]",
      "text/plain": [
       "<Figure size 1080x288 with 1 Axes>"
      ]
     },
     "metadata": {
      "needs_background": "light"
     },
     "output_type": "display_data"
    }
   ],
   "source": [
    "## Plot most common stopwords\n",
    "\n",
    "stop = set(stopwords.words('english'))\n",
    "\n",
    "# Get all the word tokens in dataframe for Disaster and Non-Disaster\n",
    "corpus0 = [] # Non-Disaster\n",
    "[corpus0.append(word.lower()) for tweet in train[train.target == 0].text for word in word_tokenize(tweet)]\n",
    "corpus1 = [] # Disaster\n",
    "[corpus1.append(word.lower()) for tweet in train[train.target == 1].text for word in word_tokenize(tweet)]\n",
    "\n",
    "# Function for counting top stopwords in a corpus\n",
    "def count_top_stopwords(corpus):\n",
    "    stopwords_freq = {}\n",
    "    for word in corpus:\n",
    "        if word in stop: \n",
    "            if word in stopwords_freq:\n",
    "                stopwords_freq[word] += 1\n",
    "            else:\n",
    "                stopwords_freq[word] = 1\n",
    "    topwords = sorted(stopwords_freq.items(), key=lambda item: item[1], reverse=True)[:10] # get the top 10 stopwords\n",
    "    x,y = zip(*topwords) # get key and values\n",
    "    return x,y\n",
    "\n",
    "x0,y0 = count_top_stopwords(corpus0)\n",
    "x1,y1 = count_top_stopwords(corpus1)\n",
    "\n",
    "# Plot bar plot of top stopwords for each class\n",
    "plt.figure(figsize=(15,4))\n",
    "plt.subplot(1,2,1)\n",
    "plt.bar(x0,y0, color=color[0])\n",
    "plt.title('Top Stopwords for Disaster Tweets')\n",
    "plt.subplot(1,2,2)\n",
    "plt.bar(x1,y1, color=color[1])\n",
    "plt.title('Top Stopwords for  Non-Disaster Tweets')"
   ]
  },
  {
   "cell_type": "markdown",
   "metadata": {},
   "source": [
    "### Most common punctuations"
   ]
  },
  {
   "cell_type": "markdown",
   "metadata": {},
   "source": [
    "In this section, we plotted the most common ponctuations that are used in the tweets, comparing the disaster tweet and non-disaster tweet again. There is not much of a trend to underline from these graphs, apart from the fact that people seems to use more punctuation when they tweet about disaster, and also using more question marks '?'."
   ]
  },
  {
   "cell_type": "code",
   "execution_count": null,
   "metadata": {},
   "outputs": [],
   "source": [
    "## Plot most common punctuations\n",
    "\n",
    "# Get all the punctuations in dataframe for Disaster and Non-Disaster\n",
    "corpus0 = [] # Non-Disaster\n",
    "[corpus0.append(c) for tweet in train[train.target == 0].text for c in tweet]\n",
    "corpus0 = list(filter(lambda x: x in punctuation, corpus0)) # use filter to select only punctuations\n",
    "corpus1 = [] # Disaster\n",
    "[corpus1.append(c) for tweet in train[train.target == 1].text for c in tweet]\n",
    "corpus1 = list(filter(lambda x: x in punctuation, corpus1)) \n",
    "\n",
    "from collections import Counter\n",
    "x0,y0 = zip(*Counter(corpus0).most_common())\n",
    "x1,y1 = zip(*Counter(corpus1).most_common())\n",
    "\n",
    "# Plot bar plot of top punctuations for each class\n",
    "plt.figure(figsize=(15,4))\n",
    "plt.subplot(1,2,1)\n",
    "plt.bar(x0,y0, color=color[0])\n",
    "plt.title('Top Punctuations for Disaster Tweets')\n",
    "plt.subplot(1,2,2)\n",
    "plt.bar(x1,y1, color=color[1])\n",
    "plt.title('Top Punctuations for Non-Disaster Tweets')"
   ]
  },
  {
   "cell_type": "markdown",
   "metadata": {},
   "source": [
    "### Most common words\n",
    "\n",
    "What are the differences in terms of words used for these tweets?\n",
    "\n",
    "For disasters, people use certain words such as: news, disaster, suicide, killed, police etc.\n",
    "\n",
    "While for non-disasters, like, I, body, video, etc come out more frequently.\n",
    "\n",
    "The word 'like'appears more than two times more in non-disaster tweets than in disaster one, while 'people'is mentionned as many times. If we give a look at the word cloud, the classification between the non-disaster tweets from the disaster ones seems quite good, so the 'target'column looks globally efficient, even if not fully precise."
   ]
  },
  {
   "cell_type": "code",
   "execution_count": null,
   "metadata": {},
   "outputs": [],
   "source": [
    "## Plot most common words\n",
    "\n",
    "stop = ENGLISH_STOP_WORDS.union(stop) # combine stop words from different sources\n",
    "\n",
    "# function for removing url from text\n",
    "def remove_url(txt):\n",
    "    return \" \".join(re.sub(\"([^0-9A-Za-z \\t])|(\\w+:\\/\\/\\S+)\", \"\", txt).split())\n",
    "\n",
    "# Get all the word tokens in dataframe for Disaster and Non-Disaster\n",
    "# - remove url, tokenize tweet into words, lowercase words\n",
    "corpus0 = [] # Non-Disaster\n",
    "[corpus0.append(word.lower()) for tweet in train[train.target == 0].text for word in word_tokenize(remove_url(tweet))]\n",
    "corpus0 = list(filter(lambda x: x not in stop, corpus0)) # use filter to unselect stopwords\n",
    "\n",
    "corpus1 = [] # Disaster\n",
    "[corpus1.append(word.lower()) for tweet in train[train.target == 1].text for word in word_tokenize(remove_url(tweet))]\n",
    "corpus1 = list(filter(lambda x: x not in stop, corpus1)) # use filter to unselect stopwords\n",
    "\n",
    "# Create df for word counts to use sns plots\n",
    "a = Counter(corpus0).most_common()\n",
    "df0 = pd.DataFrame(a, columns=['Word','Count'])\n",
    "\n",
    "a = Counter(corpus1).most_common()\n",
    "df1 = pd.DataFrame(a, columns=['Word','Count'])\n",
    "\n",
    "# Plot for Disaster and Non-Disaster\n",
    "plt.figure(figsize=(15,4))\n",
    "plt.subplot(1,2,1)\n",
    "sns.barplot(x='Word',y='Count', palette = 'rocket', data=df0.head(10)).set_title('Most Common Words for Non-Disasters')\n",
    "plt.xticks(rotation=45)\n",
    "plt.subplot(1,2,2)\n",
    "sns.barplot(x='Word',y='Count', palette = 'rocket', data=df1.head(10)).set_title('Most Common Words for Disasters')\n",
    "plt.xticks(rotation=45)"
   ]
  },
  {
   "cell_type": "code",
   "execution_count": null,
   "metadata": {},
   "outputs": [],
   "source": [
    "def clean(word):\n",
    "    for p in punctuation: word = word.replace(p, '')\n",
    "    return word\n",
    "\n",
    "def wc_hash(target):\n",
    "    hashtag = [clean(w[1:].lower()) for tweet in train[train.target == target].text for w in tweet.split() if '#' in w and w[0] == '#']\n",
    "    hashtag = ' '.join(hashtag)\n",
    "    my_cloud = WordCloud(background_color='white', stopwords=stop).generate(hashtag)\n",
    "\n",
    "    plt.subplot(1,2,target+1)\n",
    "    plt.imshow(my_cloud, interpolation='bilinear') \n",
    "    plt.axis(\"off\")\n",
    "\n",
    "plt.figure(figsize=(15,4))\n",
    "wc_hash(0)\n",
    "plt.title('Non-Disaster')\n",
    "wc_hash(1)\n",
    "plt.title('Disaster')"
   ]
  },
  {
   "cell_type": "markdown",
   "metadata": {},
   "source": [
    "# III. Data processing"
   ]
  },
  {
   "cell_type": "markdown",
   "metadata": {},
   "source": [
    "In order to build the classification models, we need to preprocess the data. As we will work on text, we have to homogenize the sentences and words by lowercasing the words, remove the punctuation and stopwords, but also tokenize the tweets and in the end reacreate the sentences."
   ]
  },
  {
   "cell_type": "markdown",
   "metadata": {
    "nteract": {
     "transient": {
      "deleting": false
     }
    }
   },
   "source": [
    "## 1. Import libraries and load data"
   ]
  },
  {
   "cell_type": "code",
   "execution_count": 69,
   "metadata": {
    "execution": {
     "iopub.execute_input": "2020-05-16T15:30:57.048Z",
     "iopub.status.busy": "2020-05-16T15:30:57.032Z",
     "iopub.status.idle": "2020-05-16T15:31:02.568Z",
     "shell.execute_reply": "2020-05-16T15:31:02.586Z"
    },
    "jupyter": {
     "outputs_hidden": false,
     "source_hidden": false
    },
    "nteract": {
     "transient": {
      "deleting": false
     }
    },
    "outputExpanded": false
   },
   "outputs": [
    {
     "ename": "ModuleNotFoundError",
     "evalue": "No module named 'spacy'",
     "output_type": "error",
     "traceback": [
      "\u001b[1;31m---------------------------------------------------------------------------\u001b[0m",
      "\u001b[1;31mModuleNotFoundError\u001b[0m                       Traceback (most recent call last)",
      "\u001b[1;32m<ipython-input-69-a9ad8bb9b066>\u001b[0m in \u001b[0;36m<module>\u001b[1;34m\u001b[0m\n\u001b[0;32m      1\u001b[0m \u001b[1;32mimport\u001b[0m \u001b[0mpandas\u001b[0m \u001b[1;32mas\u001b[0m \u001b[0mpd\u001b[0m\u001b[1;33m\u001b[0m\u001b[1;33m\u001b[0m\u001b[0m\n\u001b[0;32m      2\u001b[0m \u001b[1;32mimport\u001b[0m \u001b[0mstring\u001b[0m\u001b[1;33m\u001b[0m\u001b[1;33m\u001b[0m\u001b[0m\n\u001b[1;32m----> 3\u001b[1;33m \u001b[1;32mimport\u001b[0m \u001b[0mspacy\u001b[0m\u001b[1;33m\u001b[0m\u001b[1;33m\u001b[0m\u001b[0m\n\u001b[0m\u001b[0;32m      4\u001b[0m \u001b[1;32mimport\u001b[0m \u001b[0mre\u001b[0m\u001b[1;33m\u001b[0m\u001b[1;33m\u001b[0m\u001b[0m\n\u001b[0;32m      5\u001b[0m \u001b[1;32mfrom\u001b[0m \u001b[0mspacy\u001b[0m\u001b[1;33m.\u001b[0m\u001b[0mlang\u001b[0m\u001b[1;33m.\u001b[0m\u001b[0men\u001b[0m\u001b[1;33m.\u001b[0m\u001b[0mstop_words\u001b[0m \u001b[1;32mimport\u001b[0m \u001b[0mSTOP_WORDS\u001b[0m\u001b[1;33m\u001b[0m\u001b[1;33m\u001b[0m\u001b[0m\n",
      "\u001b[1;31mModuleNotFoundError\u001b[0m: No module named 'spacy'"
     ]
    }
   ],
   "source": [
    "import pandas as pd\n",
    "import string\n",
    "import spacy\n",
    "import re\n",
    "from spacy.lang.en.stop_words import STOP_WORDS\n",
    "from spacy.lang.en import English\n",
    "from nltk.corpus import stopwords\n",
    "import nltk\n",
    "\n",
    "parser = English()\n",
    "nlp = spacy.load('en')\n",
    "stop_words = spacy.lang.en.stop_words.STOP_WORDS\n",
    "punctuations = string.punctuation\n"
   ]
  },
  {
   "cell_type": "code",
   "execution_count": 70,
   "metadata": {
    "execution": {
     "iopub.execute_input": "2020-05-16T15:30:56.984Z",
     "iopub.status.busy": "2020-05-16T15:30:56.969Z",
     "iopub.status.idle": "2020-05-16T15:30:57.010Z",
     "shell.execute_reply": "2020-05-16T15:30:57.093Z"
    },
    "jupyter": {
     "outputs_hidden": false,
     "source_hidden": false
    },
    "nteract": {
     "transient": {
      "deleting": false
     }
    },
    "outputExpanded": false
   },
   "outputs": [],
   "source": [
    "#!pip install spacy\n",
    "#!python -m spacy download en"
   ]
  },
  {
   "cell_type": "code",
   "execution_count": 71,
   "metadata": {
    "execution": {
     "iopub.execute_input": "2020-05-16T15:30:55.320Z",
     "iopub.status.busy": "2020-05-16T15:30:55.305Z",
     "iopub.status.idle": "2020-05-16T15:30:55.398Z",
     "shell.execute_reply": "2020-05-16T15:30:55.496Z"
    },
    "jupyter": {
     "outputs_hidden": false,
     "source_hidden": false
    },
    "nteract": {
     "transient": {
      "deleting": false
     }
    },
    "outputExpanded": false
   },
   "outputs": [
    {
     "data": {
      "text/html": [
       "<div>\n",
       "<style scoped>\n",
       "    .dataframe tbody tr th:only-of-type {\n",
       "        vertical-align: middle;\n",
       "    }\n",
       "\n",
       "    .dataframe tbody tr th {\n",
       "        vertical-align: top;\n",
       "    }\n",
       "\n",
       "    .dataframe thead th {\n",
       "        text-align: right;\n",
       "    }\n",
       "</style>\n",
       "<table border=\"1\" class=\"dataframe\">\n",
       "  <thead>\n",
       "    <tr style=\"text-align: right;\">\n",
       "      <th></th>\n",
       "      <th>id</th>\n",
       "      <th>text</th>\n",
       "      <th>target</th>\n",
       "    </tr>\n",
       "  </thead>\n",
       "  <tbody>\n",
       "    <tr>\n",
       "      <th>0</th>\n",
       "      <td>1</td>\n",
       "      <td>Our Deeds are the Reason of this #earthquake M...</td>\n",
       "      <td>1</td>\n",
       "    </tr>\n",
       "    <tr>\n",
       "      <th>1</th>\n",
       "      <td>4</td>\n",
       "      <td>Forest fire near La Ronge Sask. Canada</td>\n",
       "      <td>1</td>\n",
       "    </tr>\n",
       "    <tr>\n",
       "      <th>2</th>\n",
       "      <td>5</td>\n",
       "      <td>All residents asked to 'shelter in place' are ...</td>\n",
       "      <td>1</td>\n",
       "    </tr>\n",
       "    <tr>\n",
       "      <th>3</th>\n",
       "      <td>6</td>\n",
       "      <td>13,000 people receive #wildfires evacuation or...</td>\n",
       "      <td>1</td>\n",
       "    </tr>\n",
       "    <tr>\n",
       "      <th>4</th>\n",
       "      <td>7</td>\n",
       "      <td>Just got sent this photo from Ruby #Alaska as ...</td>\n",
       "      <td>1</td>\n",
       "    </tr>\n",
       "  </tbody>\n",
       "</table>\n",
       "</div>"
      ],
      "text/plain": [
       "   id                                               text  target\n",
       "0   1  Our Deeds are the Reason of this #earthquake M...       1\n",
       "1   4             Forest fire near La Ronge Sask. Canada       1\n",
       "2   5  All residents asked to 'shelter in place' are ...       1\n",
       "3   6  13,000 people receive #wildfires evacuation or...       1\n",
       "4   7  Just got sent this photo from Ruby #Alaska as ...       1"
      ]
     },
     "execution_count": 71,
     "metadata": {},
     "output_type": "execute_result"
    }
   ],
   "source": [
    "train = pd.read_csv ('../data/train.csv')\n",
    "train = train[['id', 'text', 'target']]\n",
    "\n",
    "test = pd.read_csv ('../data/test.csv')\n",
    "test = test[['id', 'text']]\n",
    "\n",
    "train.head()"
   ]
  },
  {
   "cell_type": "markdown",
   "metadata": {
    "nteract": {
     "transient": {
      "deleting": false
     }
    }
   },
   "source": [
    "## 2. Text processing"
   ]
  },
  {
   "cell_type": "markdown",
   "metadata": {
    "nteract": {
     "transient": {
      "deleting": false
     }
    }
   },
   "source": [
    "### Lowercase and remove punctuation"
   ]
  },
  {
   "cell_type": "code",
   "execution_count": 72,
   "metadata": {
    "execution": {
     "iopub.execute_input": "2020-05-16T15:31:02.663Z",
     "iopub.status.busy": "2020-05-16T15:31:02.619Z",
     "iopub.status.idle": "2020-05-16T15:31:03.102Z",
     "shell.execute_reply": "2020-05-16T15:31:03.189Z"
    },
    "jupyter": {
     "outputs_hidden": false,
     "source_hidden": false
    },
    "nteract": {
     "transient": {
      "deleting": false
     }
    },
    "outputExpanded": false
   },
   "outputs": [
    {
     "data": {
      "text/html": [
       "<div>\n",
       "<style scoped>\n",
       "    .dataframe tbody tr th:only-of-type {\n",
       "        vertical-align: middle;\n",
       "    }\n",
       "\n",
       "    .dataframe tbody tr th {\n",
       "        vertical-align: top;\n",
       "    }\n",
       "\n",
       "    .dataframe thead th {\n",
       "        text-align: right;\n",
       "    }\n",
       "</style>\n",
       "<table border=\"1\" class=\"dataframe\">\n",
       "  <thead>\n",
       "    <tr style=\"text-align: right;\">\n",
       "      <th></th>\n",
       "      <th>id</th>\n",
       "      <th>text</th>\n",
       "      <th>target</th>\n",
       "      <th>filtered_tweet</th>\n",
       "    </tr>\n",
       "  </thead>\n",
       "  <tbody>\n",
       "    <tr>\n",
       "      <th>0</th>\n",
       "      <td>1</td>\n",
       "      <td>Our Deeds are the Reason of this #earthquake M...</td>\n",
       "      <td>1</td>\n",
       "      <td>our deeds are the reason of this earthquake ma...</td>\n",
       "    </tr>\n",
       "    <tr>\n",
       "      <th>1</th>\n",
       "      <td>4</td>\n",
       "      <td>Forest fire near La Ronge Sask. Canada</td>\n",
       "      <td>1</td>\n",
       "      <td>forest fire near la ronge sask canada</td>\n",
       "    </tr>\n",
       "    <tr>\n",
       "      <th>2</th>\n",
       "      <td>5</td>\n",
       "      <td>All residents asked to 'shelter in place' are ...</td>\n",
       "      <td>1</td>\n",
       "      <td>all residents asked to shelter in place are be...</td>\n",
       "    </tr>\n",
       "    <tr>\n",
       "      <th>3</th>\n",
       "      <td>6</td>\n",
       "      <td>13,000 people receive #wildfires evacuation or...</td>\n",
       "      <td>1</td>\n",
       "      <td>people receive wildfires evacuation orders in...</td>\n",
       "    </tr>\n",
       "    <tr>\n",
       "      <th>4</th>\n",
       "      <td>7</td>\n",
       "      <td>Just got sent this photo from Ruby #Alaska as ...</td>\n",
       "      <td>1</td>\n",
       "      <td>just got sent this photo from ruby alaska as s...</td>\n",
       "    </tr>\n",
       "  </tbody>\n",
       "</table>\n",
       "</div>"
      ],
      "text/plain": [
       "   id                                               text  target  \\\n",
       "0   1  Our Deeds are the Reason of this #earthquake M...       1   \n",
       "1   4             Forest fire near La Ronge Sask. Canada       1   \n",
       "2   5  All residents asked to 'shelter in place' are ...       1   \n",
       "3   6  13,000 people receive #wildfires evacuation or...       1   \n",
       "4   7  Just got sent this photo from Ruby #Alaska as ...       1   \n",
       "\n",
       "                                      filtered_tweet  \n",
       "0  our deeds are the reason of this earthquake ma...  \n",
       "1              forest fire near la ronge sask canada  \n",
       "2  all residents asked to shelter in place are be...  \n",
       "3   people receive wildfires evacuation orders in...  \n",
       "4  just got sent this photo from ruby alaska as s...  "
      ]
     },
     "execution_count": 72,
     "metadata": {},
     "output_type": "execute_result"
    }
   ],
   "source": [
    "def clean_text(text):\n",
    "    text = text.lower()\n",
    "    text = re.sub('\\[.*?\\]', '', text)\n",
    "    text = re.sub('https?://\\S+|www\\.\\S+', '', text)\n",
    "    text = re.sub('<.*?>+', '', text)\n",
    "    text = re.sub('[%s]' % re.escape(string.punctuation), '', text)\n",
    "    text = re.sub('\\n', '', text)\n",
    "    text = re.sub('\\w*\\d\\w*', '', text)\n",
    "    \n",
    "    return text\n",
    "  \n",
    "  \n",
    "train['filtered_tweet'] = train['text'].apply(lambda x: clean_text(x))\n",
    "test['filtered_tweet'] = test['text'].apply(lambda x: clean_text(x))\n",
    "\n",
    "train.head()"
   ]
  },
  {
   "cell_type": "markdown",
   "metadata": {
    "nteract": {
     "transient": {
      "deleting": false
     }
    }
   },
   "source": [
    "### Tokenize tweets"
   ]
  },
  {
   "cell_type": "code",
   "execution_count": 73,
   "metadata": {
    "execution": {
     "iopub.execute_input": "2020-05-16T15:31:03.205Z",
     "iopub.status.busy": "2020-05-16T15:31:03.167Z",
     "iopub.status.idle": "2020-05-16T15:31:03.274Z",
     "shell.execute_reply": "2020-05-16T15:31:03.368Z"
    },
    "jupyter": {
     "outputs_hidden": false,
     "source_hidden": false
    },
    "nteract": {
     "transient": {
      "deleting": false
     }
    },
    "outputExpanded": false
   },
   "outputs": [
    {
     "data": {
      "text/html": [
       "<div>\n",
       "<style scoped>\n",
       "    .dataframe tbody tr th:only-of-type {\n",
       "        vertical-align: middle;\n",
       "    }\n",
       "\n",
       "    .dataframe tbody tr th {\n",
       "        vertical-align: top;\n",
       "    }\n",
       "\n",
       "    .dataframe thead th {\n",
       "        text-align: right;\n",
       "    }\n",
       "</style>\n",
       "<table border=\"1\" class=\"dataframe\">\n",
       "  <thead>\n",
       "    <tr style=\"text-align: right;\">\n",
       "      <th></th>\n",
       "      <th>id</th>\n",
       "      <th>text</th>\n",
       "      <th>target</th>\n",
       "      <th>filtered_tweet</th>\n",
       "    </tr>\n",
       "  </thead>\n",
       "  <tbody>\n",
       "    <tr>\n",
       "      <th>0</th>\n",
       "      <td>1</td>\n",
       "      <td>Our Deeds are the Reason of this #earthquake M...</td>\n",
       "      <td>1</td>\n",
       "      <td>[our, deeds, are, the, reason, of, this, earth...</td>\n",
       "    </tr>\n",
       "    <tr>\n",
       "      <th>1</th>\n",
       "      <td>4</td>\n",
       "      <td>Forest fire near La Ronge Sask. Canada</td>\n",
       "      <td>1</td>\n",
       "      <td>[forest, fire, near, la, ronge, sask, canada]</td>\n",
       "    </tr>\n",
       "    <tr>\n",
       "      <th>2</th>\n",
       "      <td>5</td>\n",
       "      <td>All residents asked to 'shelter in place' are ...</td>\n",
       "      <td>1</td>\n",
       "      <td>[all, residents, asked, to, shelter, in, place...</td>\n",
       "    </tr>\n",
       "    <tr>\n",
       "      <th>3</th>\n",
       "      <td>6</td>\n",
       "      <td>13,000 people receive #wildfires evacuation or...</td>\n",
       "      <td>1</td>\n",
       "      <td>[people, receive, wildfires, evacuation, order...</td>\n",
       "    </tr>\n",
       "    <tr>\n",
       "      <th>4</th>\n",
       "      <td>7</td>\n",
       "      <td>Just got sent this photo from Ruby #Alaska as ...</td>\n",
       "      <td>1</td>\n",
       "      <td>[just, got, sent, this, photo, from, ruby, ala...</td>\n",
       "    </tr>\n",
       "  </tbody>\n",
       "</table>\n",
       "</div>"
      ],
      "text/plain": [
       "   id                                               text  target  \\\n",
       "0   1  Our Deeds are the Reason of this #earthquake M...       1   \n",
       "1   4             Forest fire near La Ronge Sask. Canada       1   \n",
       "2   5  All residents asked to 'shelter in place' are ...       1   \n",
       "3   6  13,000 people receive #wildfires evacuation or...       1   \n",
       "4   7  Just got sent this photo from Ruby #Alaska as ...       1   \n",
       "\n",
       "                                      filtered_tweet  \n",
       "0  [our, deeds, are, the, reason, of, this, earth...  \n",
       "1      [forest, fire, near, la, ronge, sask, canada]  \n",
       "2  [all, residents, asked, to, shelter, in, place...  \n",
       "3  [people, receive, wildfires, evacuation, order...  \n",
       "4  [just, got, sent, this, photo, from, ruby, ala...  "
      ]
     },
     "execution_count": 73,
     "metadata": {},
     "output_type": "execute_result"
    }
   ],
   "source": [
    "tokenizer = nltk.tokenize.RegexpTokenizer(r'\\w+')\n",
    "\n",
    "train['filtered_tweet'] = train['filtered_tweet'].apply(lambda x: tokenizer.tokenize(x))\n",
    "\n",
    "test['filtered_tweet'] = test['filtered_tweet'].apply(lambda x: tokenizer.tokenize(x))\n",
    "\n",
    "train.head()"
   ]
  },
  {
   "cell_type": "markdown",
   "metadata": {
    "nteract": {
     "transient": {
      "deleting": false
     }
    }
   },
   "source": [
    "### Remove stopwords and punctuation"
   ]
  },
  {
   "cell_type": "code",
   "execution_count": 74,
   "metadata": {
    "execution": {
     "iopub.execute_input": "2020-05-16T15:31:03.323Z",
     "iopub.status.busy": "2020-05-16T15:31:03.306Z",
     "iopub.status.idle": "2020-05-16T15:31:29.029Z",
     "shell.execute_reply": "2020-05-16T15:31:29.362Z"
    },
    "jupyter": {
     "outputs_hidden": false,
     "source_hidden": false
    },
    "nteract": {
     "transient": {
      "deleting": false
     }
    },
    "outputExpanded": false
   },
   "outputs": [
    {
     "ename": "NameError",
     "evalue": "name 'punctuations' is not defined",
     "output_type": "error",
     "traceback": [
      "\u001b[1;31m---------------------------------------------------------------------------\u001b[0m",
      "\u001b[1;31mNameError\u001b[0m                                 Traceback (most recent call last)",
      "\u001b[1;32m<ipython-input-74-ca3e390fb645>\u001b[0m in \u001b[0;36m<module>\u001b[1;34m\u001b[0m\n\u001b[0;32m      6\u001b[0m     \u001b[1;32mreturn\u001b[0m \u001b[0mtext\u001b[0m\u001b[1;33m\u001b[0m\u001b[1;33m\u001b[0m\u001b[0m\n\u001b[0;32m      7\u001b[0m \u001b[1;33m\u001b[0m\u001b[0m\n\u001b[1;32m----> 8\u001b[1;33m \u001b[0mtrain\u001b[0m\u001b[1;33m[\u001b[0m\u001b[1;34m'filtered_tweet'\u001b[0m\u001b[1;33m]\u001b[0m \u001b[1;33m=\u001b[0m \u001b[0mtrain\u001b[0m\u001b[1;33m[\u001b[0m\u001b[1;34m'filtered_tweet'\u001b[0m\u001b[1;33m]\u001b[0m\u001b[1;33m.\u001b[0m\u001b[0mapply\u001b[0m\u001b[1;33m(\u001b[0m\u001b[1;32mlambda\u001b[0m \u001b[0mx\u001b[0m\u001b[1;33m:\u001b[0m \u001b[0mremove_stopwords\u001b[0m\u001b[1;33m(\u001b[0m\u001b[0mx\u001b[0m\u001b[1;33m)\u001b[0m\u001b[1;33m)\u001b[0m\u001b[1;33m\u001b[0m\u001b[1;33m\u001b[0m\u001b[0m\n\u001b[0m\u001b[0;32m      9\u001b[0m \u001b[1;33m\u001b[0m\u001b[0m\n\u001b[0;32m     10\u001b[0m \u001b[0mtest\u001b[0m\u001b[1;33m[\u001b[0m\u001b[1;34m'filtered_tweet'\u001b[0m\u001b[1;33m]\u001b[0m \u001b[1;33m=\u001b[0m \u001b[0mtest\u001b[0m\u001b[1;33m[\u001b[0m\u001b[1;34m'filtered_tweet'\u001b[0m\u001b[1;33m]\u001b[0m\u001b[1;33m.\u001b[0m\u001b[0mapply\u001b[0m\u001b[1;33m(\u001b[0m\u001b[1;32mlambda\u001b[0m \u001b[0mx\u001b[0m\u001b[1;33m:\u001b[0m \u001b[0mremove_stopwords\u001b[0m\u001b[1;33m(\u001b[0m\u001b[0mx\u001b[0m\u001b[1;33m)\u001b[0m\u001b[1;33m)\u001b[0m\u001b[1;33m\u001b[0m\u001b[1;33m\u001b[0m\u001b[0m\n",
      "\u001b[1;32mC:\\ProgramData\\Anaconda3\\lib\\site-packages\\pandas\\core\\series.py\u001b[0m in \u001b[0;36mapply\u001b[1;34m(self, func, convert_dtype, args, **kwds)\u001b[0m\n\u001b[0;32m   3589\u001b[0m             \u001b[1;32melse\u001b[0m\u001b[1;33m:\u001b[0m\u001b[1;33m\u001b[0m\u001b[1;33m\u001b[0m\u001b[0m\n\u001b[0;32m   3590\u001b[0m                 \u001b[0mvalues\u001b[0m \u001b[1;33m=\u001b[0m \u001b[0mself\u001b[0m\u001b[1;33m.\u001b[0m\u001b[0mastype\u001b[0m\u001b[1;33m(\u001b[0m\u001b[0mobject\u001b[0m\u001b[1;33m)\u001b[0m\u001b[1;33m.\u001b[0m\u001b[0mvalues\u001b[0m\u001b[1;33m\u001b[0m\u001b[1;33m\u001b[0m\u001b[0m\n\u001b[1;32m-> 3591\u001b[1;33m                 \u001b[0mmapped\u001b[0m \u001b[1;33m=\u001b[0m \u001b[0mlib\u001b[0m\u001b[1;33m.\u001b[0m\u001b[0mmap_infer\u001b[0m\u001b[1;33m(\u001b[0m\u001b[0mvalues\u001b[0m\u001b[1;33m,\u001b[0m \u001b[0mf\u001b[0m\u001b[1;33m,\u001b[0m \u001b[0mconvert\u001b[0m\u001b[1;33m=\u001b[0m\u001b[0mconvert_dtype\u001b[0m\u001b[1;33m)\u001b[0m\u001b[1;33m\u001b[0m\u001b[1;33m\u001b[0m\u001b[0m\n\u001b[0m\u001b[0;32m   3592\u001b[0m \u001b[1;33m\u001b[0m\u001b[0m\n\u001b[0;32m   3593\u001b[0m         \u001b[1;32mif\u001b[0m \u001b[0mlen\u001b[0m\u001b[1;33m(\u001b[0m\u001b[0mmapped\u001b[0m\u001b[1;33m)\u001b[0m \u001b[1;32mand\u001b[0m \u001b[0misinstance\u001b[0m\u001b[1;33m(\u001b[0m\u001b[0mmapped\u001b[0m\u001b[1;33m[\u001b[0m\u001b[1;36m0\u001b[0m\u001b[1;33m]\u001b[0m\u001b[1;33m,\u001b[0m \u001b[0mSeries\u001b[0m\u001b[1;33m)\u001b[0m\u001b[1;33m:\u001b[0m\u001b[1;33m\u001b[0m\u001b[1;33m\u001b[0m\u001b[0m\n",
      "\u001b[1;32mpandas/_libs/lib.pyx\u001b[0m in \u001b[0;36mpandas._libs.lib.map_infer\u001b[1;34m()\u001b[0m\n",
      "\u001b[1;32m<ipython-input-74-ca3e390fb645>\u001b[0m in \u001b[0;36m<lambda>\u001b[1;34m(x)\u001b[0m\n\u001b[0;32m      6\u001b[0m     \u001b[1;32mreturn\u001b[0m \u001b[0mtext\u001b[0m\u001b[1;33m\u001b[0m\u001b[1;33m\u001b[0m\u001b[0m\n\u001b[0;32m      7\u001b[0m \u001b[1;33m\u001b[0m\u001b[0m\n\u001b[1;32m----> 8\u001b[1;33m \u001b[0mtrain\u001b[0m\u001b[1;33m[\u001b[0m\u001b[1;34m'filtered_tweet'\u001b[0m\u001b[1;33m]\u001b[0m \u001b[1;33m=\u001b[0m \u001b[0mtrain\u001b[0m\u001b[1;33m[\u001b[0m\u001b[1;34m'filtered_tweet'\u001b[0m\u001b[1;33m]\u001b[0m\u001b[1;33m.\u001b[0m\u001b[0mapply\u001b[0m\u001b[1;33m(\u001b[0m\u001b[1;32mlambda\u001b[0m \u001b[0mx\u001b[0m\u001b[1;33m:\u001b[0m \u001b[0mremove_stopwords\u001b[0m\u001b[1;33m(\u001b[0m\u001b[0mx\u001b[0m\u001b[1;33m)\u001b[0m\u001b[1;33m)\u001b[0m\u001b[1;33m\u001b[0m\u001b[1;33m\u001b[0m\u001b[0m\n\u001b[0m\u001b[0;32m      9\u001b[0m \u001b[1;33m\u001b[0m\u001b[0m\n\u001b[0;32m     10\u001b[0m \u001b[0mtest\u001b[0m\u001b[1;33m[\u001b[0m\u001b[1;34m'filtered_tweet'\u001b[0m\u001b[1;33m]\u001b[0m \u001b[1;33m=\u001b[0m \u001b[0mtest\u001b[0m\u001b[1;33m[\u001b[0m\u001b[1;34m'filtered_tweet'\u001b[0m\u001b[1;33m]\u001b[0m\u001b[1;33m.\u001b[0m\u001b[0mapply\u001b[0m\u001b[1;33m(\u001b[0m\u001b[1;32mlambda\u001b[0m \u001b[0mx\u001b[0m\u001b[1;33m:\u001b[0m \u001b[0mremove_stopwords\u001b[0m\u001b[1;33m(\u001b[0m\u001b[0mx\u001b[0m\u001b[1;33m)\u001b[0m\u001b[1;33m)\u001b[0m\u001b[1;33m\u001b[0m\u001b[1;33m\u001b[0m\u001b[0m\n",
      "\u001b[1;32m<ipython-input-74-ca3e390fb645>\u001b[0m in \u001b[0;36mremove_stopwords\u001b[1;34m(text)\u001b[0m\n\u001b[0;32m      2\u001b[0m \u001b[1;32mdef\u001b[0m \u001b[0mremove_stopwords\u001b[0m\u001b[1;33m(\u001b[0m\u001b[0mtext\u001b[0m\u001b[1;33m)\u001b[0m\u001b[1;33m:\u001b[0m\u001b[1;33m\u001b[0m\u001b[1;33m\u001b[0m\u001b[0m\n\u001b[0;32m      3\u001b[0m     \u001b[0mtext\u001b[0m \u001b[1;33m=\u001b[0m \u001b[1;33m[\u001b[0m\u001b[0mword\u001b[0m \u001b[1;32mfor\u001b[0m \u001b[0mword\u001b[0m \u001b[1;32min\u001b[0m \u001b[0mtext\u001b[0m \u001b[1;32mif\u001b[0m \u001b[0mword\u001b[0m \u001b[1;32mnot\u001b[0m \u001b[1;32min\u001b[0m \u001b[0mstopwords\u001b[0m\u001b[1;33m.\u001b[0m\u001b[0mwords\u001b[0m\u001b[1;33m(\u001b[0m\u001b[1;34m'english'\u001b[0m\u001b[1;33m)\u001b[0m\u001b[1;33m]\u001b[0m\u001b[1;33m\u001b[0m\u001b[1;33m\u001b[0m\u001b[0m\n\u001b[1;32m----> 4\u001b[1;33m     \u001b[0mtext\u001b[0m \u001b[1;33m=\u001b[0m \u001b[1;33m[\u001b[0m\u001b[0mword\u001b[0m \u001b[1;32mfor\u001b[0m \u001b[0mword\u001b[0m \u001b[1;32min\u001b[0m \u001b[0mtext\u001b[0m \u001b[1;32mif\u001b[0m \u001b[0mword\u001b[0m \u001b[1;32mnot\u001b[0m \u001b[1;32min\u001b[0m \u001b[0mpunctuations\u001b[0m\u001b[1;33m]\u001b[0m\u001b[1;33m\u001b[0m\u001b[1;33m\u001b[0m\u001b[0m\n\u001b[0m\u001b[0;32m      5\u001b[0m \u001b[1;33m\u001b[0m\u001b[0m\n\u001b[0;32m      6\u001b[0m     \u001b[1;32mreturn\u001b[0m \u001b[0mtext\u001b[0m\u001b[1;33m\u001b[0m\u001b[1;33m\u001b[0m\u001b[0m\n",
      "\u001b[1;32m<ipython-input-74-ca3e390fb645>\u001b[0m in \u001b[0;36m<listcomp>\u001b[1;34m(.0)\u001b[0m\n\u001b[0;32m      2\u001b[0m \u001b[1;32mdef\u001b[0m \u001b[0mremove_stopwords\u001b[0m\u001b[1;33m(\u001b[0m\u001b[0mtext\u001b[0m\u001b[1;33m)\u001b[0m\u001b[1;33m:\u001b[0m\u001b[1;33m\u001b[0m\u001b[1;33m\u001b[0m\u001b[0m\n\u001b[0;32m      3\u001b[0m     \u001b[0mtext\u001b[0m \u001b[1;33m=\u001b[0m \u001b[1;33m[\u001b[0m\u001b[0mword\u001b[0m \u001b[1;32mfor\u001b[0m \u001b[0mword\u001b[0m \u001b[1;32min\u001b[0m \u001b[0mtext\u001b[0m \u001b[1;32mif\u001b[0m \u001b[0mword\u001b[0m \u001b[1;32mnot\u001b[0m \u001b[1;32min\u001b[0m \u001b[0mstopwords\u001b[0m\u001b[1;33m.\u001b[0m\u001b[0mwords\u001b[0m\u001b[1;33m(\u001b[0m\u001b[1;34m'english'\u001b[0m\u001b[1;33m)\u001b[0m\u001b[1;33m]\u001b[0m\u001b[1;33m\u001b[0m\u001b[1;33m\u001b[0m\u001b[0m\n\u001b[1;32m----> 4\u001b[1;33m     \u001b[0mtext\u001b[0m \u001b[1;33m=\u001b[0m \u001b[1;33m[\u001b[0m\u001b[0mword\u001b[0m \u001b[1;32mfor\u001b[0m \u001b[0mword\u001b[0m \u001b[1;32min\u001b[0m \u001b[0mtext\u001b[0m \u001b[1;32mif\u001b[0m \u001b[0mword\u001b[0m \u001b[1;32mnot\u001b[0m \u001b[1;32min\u001b[0m \u001b[0mpunctuations\u001b[0m\u001b[1;33m]\u001b[0m\u001b[1;33m\u001b[0m\u001b[1;33m\u001b[0m\u001b[0m\n\u001b[0m\u001b[0;32m      5\u001b[0m \u001b[1;33m\u001b[0m\u001b[0m\n\u001b[0;32m      6\u001b[0m     \u001b[1;32mreturn\u001b[0m \u001b[0mtext\u001b[0m\u001b[1;33m\u001b[0m\u001b[1;33m\u001b[0m\u001b[0m\n",
      "\u001b[1;31mNameError\u001b[0m: name 'punctuations' is not defined"
     ]
    }
   ],
   "source": [
    "# remove stopwords and punctuation\n",
    "def remove_stopwords(text):\n",
    "    text = [word for word in text if word not in stopwords.words('english')]\n",
    "    text = [word for word in text if word not in punctuations]\n",
    "    \n",
    "    return text\n",
    "\n",
    "train['filtered_tweet'] = train['filtered_tweet'].apply(lambda x: remove_stopwords(x))\n",
    "\n",
    "test['filtered_tweet'] = test['filtered_tweet'].apply(lambda x: remove_stopwords(x))\n",
    "\n",
    "train.head()"
   ]
  },
  {
   "cell_type": "markdown",
   "metadata": {
    "nteract": {
     "transient": {
      "deleting": false
     }
    }
   },
   "source": [
    "### Recreate sentences"
   ]
  },
  {
   "cell_type": "code",
   "execution_count": null,
   "metadata": {
    "execution": {
     "iopub.execute_input": "2020-05-16T15:31:29.108Z",
     "iopub.status.busy": "2020-05-16T15:31:29.083Z",
     "iopub.status.idle": "2020-05-16T15:31:29.139Z",
     "shell.execute_reply": "2020-05-16T15:31:29.369Z"
    },
    "jupyter": {
     "outputs_hidden": false,
     "source_hidden": false
    },
    "nteract": {
     "transient": {
      "deleting": false
     }
    },
    "outputExpanded": false
   },
   "outputs": [],
   "source": [
    "def sentence(text):\n",
    "  sentence = ''\n",
    "  for word in text:\n",
    "    sentence = sentence + ' ' + word\n",
    "  \n",
    "  return sentence\n",
    "\n",
    "train['filtered_tweet'] = train['filtered_tweet'].apply(lambda x: sentence(x))\n",
    "\n",
    "test['filtered_tweet'] = test['filtered_tweet'].apply(lambda x: sentence(x))\n",
    "\n",
    "train.head()"
   ]
  },
  {
   "cell_type": "markdown",
   "metadata": {
    "nteract": {
     "transient": {
      "deleting": false
     }
    }
   },
   "source": [
    "# IV. Classification models"
   ]
  },
  {
   "cell_type": "markdown",
   "metadata": {},
   "source": [
    "## Create pipe"
   ]
  },
  {
   "cell_type": "code",
   "execution_count": null,
   "metadata": {},
   "outputs": [],
   "source": [
    "def spacy_tokenizer(sentence):\n",
    "    mytokens = parser(sentence)\n",
    "    mytokens = [ word.lemma_.lower().strip() \n",
    "                if word.lemma_ != \"-PRON-\" else word.lower_ for word in mytokens ]\n",
    "    mytokens = [ word for word in mytokens \n",
    "                if word not in stop_words and word not in punctuations ]\n",
    "\n",
    "    return mytokens\n",
    "\n",
    "\n",
    "X = train['filtered_tweet']\n",
    "y = train['target']\n",
    "\n",
    "tfidf_vector = TfidfVectorizer(tokenizer = spacy_tokenizer)"
   ]
  },
  {
   "cell_type": "markdown",
   "metadata": {},
   "source": [
    "## 1. KNN"
   ]
  },
  {
   "cell_type": "code",
   "execution_count": null,
   "metadata": {},
   "outputs": [],
   "source": [
    "X_train, X_test, y_train, y_test = train_test_split(X, y, test_size=0.3, random_state=72)\n",
    "\n",
    "classifier = KNeighborsClassifier(n_neighbors = 3, weights = 'uniform')\n",
    "\n",
    "pipe = Pipeline([('vectorizer', tfidf_vector),\n",
    "                 ('classifier', classifier)])\n",
    "\n",
    "pipe.fit(X_train, y_train)\n",
    "\n",
    "predicted = pipe.predict(X_test)\n",
    "\n",
    "accuracy = metrics.accuracy_score(y_test, predicted)\n",
    "precision = metrics.precision_score(y_test, predicted, average=None)\n",
    "recall = metrics.recall_score(y_test, predicted, average=None)\n",
    "\n",
    "print(accuracy)"
   ]
  },
  {
   "cell_type": "markdown",
   "metadata": {},
   "source": [
    "### Plot for different values of n"
   ]
  },
  {
   "cell_type": "code",
   "execution_count": null,
   "metadata": {},
   "outputs": [],
   "source": [
    "data_acc = {}\n",
    "data_prec = {}\n",
    "data_rec = {}\n",
    "\n",
    "\n",
    "for i in range(1, 500, 1):\n",
    "    classifier = KNeighborsClassifier(n_neighbors = i, weights = 'distance')\n",
    "\n",
    "    pipe = Pipeline([('vectorizer', tfidf_vector),\n",
    "                 ('classifier', classifier)])\n",
    "\n",
    "    pipe.fit(X_train, y_train)\n",
    "\n",
    "    predicted = pipe.predict(X_test)\n",
    "\n",
    "    accuracy = metrics.accuracy_score(y_test, predicted)\n",
    "    precision = metrics.precision_score(y_test, predicted, average=None)\n",
    "    recall = metrics.recall_score(y_test, predicted, average=None)\n",
    "\n",
    "    data_acc[i] = accuracy\n",
    "    data_prec[i] = precision\n",
    "    data_rec[i] = recall\n",
    "\n",
    "\n",
    "names_acc = list(data_acc.keys())\n",
    "values_acc = list(data_acc.values())\n",
    "\n",
    "names_prec = list(data_prec.keys())\n",
    "values_prec = list(data_prec.values())\n",
    "\n",
    "names_rec = list(data_rec.keys())\n",
    "values_rec = list(data_rec.values())\n",
    "\n",
    "fig, axs = plt.subplots(1, 3, figsize=(11, 3), sharey=True)\n",
    "\n",
    "axs[0].plot(names_acc, values_acc, label='accuracy')\n",
    "axs[0].legend()\n",
    "\n",
    "axs[1].plot(names_prec, values_prec, label='precision')\n",
    "axs[1].legend(('precision for target=1', 'precision for target=0'))\n",
    "\n",
    "axs[2].plot(names_rec, values_rec, label='recall')\n",
    "axs[2].legend(('recall for target=1', 'recall for target=0'))\n",
    "\n",
    "fig.suptitle('Accuracy, precision and recall for multiple value of n')"
   ]
  },
  {
   "cell_type": "code",
   "execution_count": null,
   "metadata": {},
   "outputs": [],
   "source": [
    "print('optimal number of neighbors: ', np.argmax(values_acc))\n",
    "\n",
    "classifier = KNeighborsClassifier(n_neighbors = np.argmax(values_acc), weights = 'distance')\n",
    "\n",
    "pipe = Pipeline([('vectorizer', tfidf_vector),\n",
    "                 ('classifier', classifier)])\n",
    "\n",
    "pipe.fit(X_train, y_train)\n",
    "\n",
    "predicted = pipe.predict(X_test)\n",
    "\n",
    "accuracy = metrics.accuracy_score(y_test, predicted)\n",
    "precision = metrics.precision_score(y_test, predicted, average=None)\n",
    "recall = metrics.recall_score(y_test, predicted, average=None)\n",
    "\n",
    "print('associated accuracy: ', accuracy)"
   ]
  },
  {
   "cell_type": "markdown",
   "metadata": {},
   "source": [
    "### Plot for different values of train/test split treshold"
   ]
  },
  {
   "cell_type": "code",
   "execution_count": null,
   "metadata": {},
   "outputs": [],
   "source": [
    "data_acc = {}\n",
    "data_prec = {}\n",
    "data_rec = {}\n",
    "\n",
    "\n",
    "for i in range(1, 100, 1):\n",
    "    j = i/100\n",
    "    \n",
    "    X_train, X_test, y_train, y_test = train_test_split(X, y, test_size=j, random_state=72)\n",
    "    \n",
    "    classifier = KNeighborsClassifier(n_neighbors = 64, weights = 'distance')\n",
    "\n",
    "    pipe = Pipeline([('vectorizer', tfidf_vector),\n",
    "                 ('classifier', classifier)])\n",
    "\n",
    "    pipe.fit(X_train, y_train)\n",
    "\n",
    "    predicted = pipe.predict(X_test)\n",
    "\n",
    "    accuracy = metrics.accuracy_score(y_test, predicted)\n",
    "    precision = metrics.precision_score(y_test, predicted, average=None)\n",
    "    recall = metrics.recall_score(y_test, predicted, average=None)\n",
    "\n",
    "    data_acc[j] = accuracy\n",
    "    data_prec[j] = precision\n",
    "    data_rec[j] = recall\n",
    "\n",
    "\n",
    "names_acc = list(data_acc.keys())\n",
    "values_acc = list(data_acc.values())\n",
    "\n",
    "names_prec = list(data_prec.keys())\n",
    "values_prec = list(data_prec.values())\n",
    "\n",
    "names_rec = list(data_rec.keys())\n",
    "values_rec = list(data_rec.values())\n",
    "\n",
    "fig, axs = plt.subplots(1, 3, figsize=(11, 3), sharey=True)\n",
    "\n",
    "axs[0].plot(names_acc, values_acc, label='accuracy')\n",
    "axs[0].legend()\n",
    "\n",
    "axs[1].plot(names_prec, values_prec, label='precision')\n",
    "axs[1].legend(('precision for target=1', 'precision for target=0'))\n",
    "\n",
    "axs[2].plot(names_rec, values_rec, label='recall')\n",
    "axs[2].legend(('recall for target=1', 'recall for target=0'))\n",
    "\n",
    "fig.suptitle('Accuracy, precision and recall for multiple value of train/test split treshold')"
   ]
  },
  {
   "cell_type": "code",
   "execution_count": null,
   "metadata": {},
   "outputs": [],
   "source": [
    "print('optimal treshold: ', np.argmax(values_acc))"
   ]
  },
  {
   "cell_type": "code",
   "execution_count": null,
   "metadata": {},
   "outputs": [],
   "source": [
    "# as the optimal treshold is 0 (overfitting), we'll take a treshold of 0.2\n",
    "\n",
    "X_train, X_test, y_train, y_test = train_test_split(X, y, test_size=0.2, random_state=72)\n",
    "\n",
    "classifier = KNeighborsClassifier(n_neighbors = 64, weights = 'distance')\n",
    "\n",
    "pipe = Pipeline([('vectorizer', tfidf_vector),\n",
    "                 ('classifier', classifier)])\n",
    "\n",
    "pipe.fit(X_train, y_train)\n",
    "\n",
    "predicted = pipe.predict(X_test)\n",
    "\n",
    "accuracy = metrics.accuracy_score(y_test, predicted)\n",
    "precision = metrics.precision_score(y_test, predicted, average=None)\n",
    "recall = metrics.recall_score(y_test, predicted, average=None)\n",
    "\n",
    "print('associated accuracy: ', accuracy)"
   ]
  },
  {
   "cell_type": "markdown",
   "metadata": {},
   "source": [
    "### Run on test dataset"
   ]
  },
  {
   "cell_type": "code",
   "execution_count": null,
   "metadata": {},
   "outputs": [],
   "source": [
    "X_train, X_test, y_train, y_test = train_test_split(X, y, test_size=0.001, random_state=72)\n",
    "\n",
    "X_test = test['filtered_tweet']\n",
    "\n",
    "pipe.fit(X_train, y_train)\n",
    "\n",
    "predicted = pipe.predict(X_test)\n",
    "\n",
    "test['prediction'] = predicted\n",
    "\n",
    "test[['text', 'prediction']].head()"
   ]
  },
  {
   "cell_type": "markdown",
   "metadata": {},
   "source": [
    "### Create submission file"
   ]
  },
  {
   "cell_type": "code",
   "execution_count": null,
   "metadata": {},
   "outputs": [],
   "source": [
    "sample_sub=pd.read_csv('../data/sample_submission.csv')\n",
    "\n",
    "sub=pd.DataFrame({'id':sample_sub['id'].values.tolist(),'target': predicted})\n",
    "sub.to_csv('../data/submission_KNN.csv',index=False)"
   ]
  },
  {
   "cell_type": "markdown",
   "metadata": {},
   "source": [
    "## 2. Multinomial Naive Bayes"
   ]
  },
  {
   "cell_type": "code",
   "execution_count": null,
   "metadata": {},
   "outputs": [],
   "source": [
    "from sklearn.naive_bayes import MultinomialNB\n",
    "from sklearn.model_selection import cross_val_score\n",
    "\n",
    "classifier = MultinomialNB()\n",
    "\n",
    "pipe = Pipeline([('vectorizer', tfidf_vector),\n",
    "                 ('classifier', classifier)])\n",
    "\n",
    "pipe.fit(X_train, y_train)\n",
    "\n",
    "predicted = pipe.predict(X_test)\n",
    "\n",
    "accuracy = metrics.accuracy_score(y_test, predicted)\n",
    "precision = metrics.precision_score(y_test, predicted, average=None)\n",
    "recall = metrics.recall_score(y_test, predicted, average=None)\n",
    "\n",
    "print(accuracy)"
   ]
  },
  {
   "cell_type": "markdown",
   "metadata": {},
   "source": [
    "### Plot for different values of train/test split treshold"
   ]
  },
  {
   "cell_type": "code",
   "execution_count": null,
   "metadata": {},
   "outputs": [],
   "source": [
    "data_acc = {}\n",
    "data_prec = {}\n",
    "data_rec = {}\n",
    "\n",
    "\n",
    "for i in range(1, 100, 1):\n",
    "    j = i/100\n",
    "    \n",
    "    X_train, X_test, y_train, y_test = train_test_split(X, y, test_size=j, random_state=72)\n",
    "\n",
    "    classifier = MultinomialNB()\n",
    "    \n",
    "    pipe = Pipeline([('vectorizer', tfidf_vector),\n",
    "                 ('classifier', classifier)])\n",
    "\n",
    "    pipe.fit(X_train, y_train)\n",
    "\n",
    "    predicted = pipe.predict(X_test)\n",
    "\n",
    "    accuracy = metrics.accuracy_score(y_test, predicted)\n",
    "    precision = metrics.precision_score(y_test, predicted, average=None)\n",
    "    recall = metrics.recall_score(y_test, predicted, average=None)\n",
    "\n",
    "    data_acc[j] = accuracy\n",
    "    data_prec[j] = precision\n",
    "    data_rec[j] = recall\n",
    "\n",
    "\n",
    "names_acc = list(data_acc.keys())\n",
    "values_acc = list(data_acc.values())\n",
    "\n",
    "names_prec = list(data_prec.keys())\n",
    "values_prec = list(data_prec.values())\n",
    "\n",
    "names_rec = list(data_rec.keys())\n",
    "values_rec = list(data_rec.values())\n",
    "\n",
    "fig, axs = plt.subplots(1, 3, figsize=(11, 3), sharey=True)\n",
    "\n",
    "axs[0].plot(names_acc, values_acc, label='accuracy')\n",
    "axs[0].legend()\n",
    "\n",
    "axs[1].plot(names_prec, values_prec, label='precision')\n",
    "axs[1].legend(('precision for target=1', 'precision for target=0'))\n",
    "\n",
    "axs[2].plot(names_rec, values_rec, label='recall')\n",
    "axs[2].legend(('recall for target=1', 'recall for target=0'))\n",
    "\n",
    "fig.suptitle('Accuracy, precision and recall for multiple value of train/test split treshold')"
   ]
  },
  {
   "cell_type": "code",
   "execution_count": null,
   "metadata": {},
   "outputs": [],
   "source": [
    "print('optimal treshold: ', np.argmax(values_acc))"
   ]
  },
  {
   "cell_type": "code",
   "execution_count": null,
   "metadata": {},
   "outputs": [],
   "source": [
    "# as the optimal treshold is 0 (overfitting), we'll take a treshold of 0.2, which seems also to be an optimum\n",
    "\n",
    "X_train, X_test, y_train, y_test = train_test_split(X, y, test_size=0.2, random_state=72)\n",
    "\n",
    "classifier = MultinomialNB()\n",
    "\n",
    "pipe = Pipeline([('vectorizer', tfidf_vector),\n",
    "                 ('classifier', classifier)])\n",
    "\n",
    "pipe.fit(X_train, y_train)\n",
    "\n",
    "predicted = pipe.predict(X_test)\n",
    "\n",
    "accuracy = metrics.accuracy_score(y_test, predicted)\n",
    "precision = metrics.precision_score(y_test, predicted, average=None)\n",
    "recall = metrics.recall_score(y_test, predicted, average=None)\n",
    "\n",
    "print('associated accuracy: ', accuracy)"
   ]
  },
  {
   "cell_type": "markdown",
   "metadata": {},
   "source": [
    "### Run on test dataset"
   ]
  },
  {
   "cell_type": "code",
   "execution_count": null,
   "metadata": {},
   "outputs": [],
   "source": [
    "X_train, X_test, y_train, y_test = train_test_split(X, y, test_size=0.001, random_state=72)\n",
    "\n",
    "X_test = test['filtered_tweet']\n",
    "\n",
    "\n",
    "\n",
    "pipe.fit(X_train, y_train)\n",
    "\n",
    "predicted = pipe.predict(X_test)\n",
    "\n",
    "test['prediction'] = predicted\n",
    "\n",
    "test[['text', 'prediction']].head()"
   ]
  },
  {
   "cell_type": "markdown",
   "metadata": {},
   "source": [
    "### Create submission file"
   ]
  },
  {
   "cell_type": "code",
   "execution_count": null,
   "metadata": {},
   "outputs": [],
   "source": [
    "sample_sub=pd.read_csv('../data/sample_submission.csv')\n",
    "\n",
    "sub=pd.DataFrame({'id':sample_sub['id'].values.tolist(),'target': predicted})\n",
    "sub.to_csv('../data/submission_MNB.csv',index=False)"
   ]
  },
  {
   "cell_type": "markdown",
   "metadata": {},
   "source": [
    "## 3. Bernouilli Naive Bayes"
   ]
  },
  {
   "cell_type": "code",
   "execution_count": null,
   "metadata": {},
   "outputs": [],
   "source": [
    "from sklearn.naive_bayes import BernoulliNB\n",
    "\n",
    "classifier = BernoulliNB()\n",
    "\n",
    "pipe = Pipeline([('vectorizer', tfidf_vector),\n",
    "                 ('classifier', classifier)])\n",
    "\n",
    "pipe.fit(X_train, y_train)\n",
    "\n",
    "predicted = pipe.predict(X_test)\n",
    "\n",
    "accuracy = metrics.accuracy_score(y_test, predicted)\n",
    "precision = metrics.precision_score(y_test, predicted, average=None)\n",
    "recall = metrics.recall_score(y_test, predicted, average=None)\n",
    "\n",
    "print(accuracy)"
   ]
  },
  {
   "cell_type": "markdown",
   "metadata": {},
   "source": [
    "### Plot for different values of train/test split treshold"
   ]
  },
  {
   "cell_type": "code",
   "execution_count": null,
   "metadata": {},
   "outputs": [],
   "source": [
    "data_acc = {}\n",
    "data_prec = {}\n",
    "data_rec = {}\n",
    "\n",
    "\n",
    "for i in range(1, 100, 1):\n",
    "    j = i/100\n",
    "    \n",
    "    X_train, X_test, y_train, y_test = train_test_split(X, y, test_size=j, random_state=72)\n",
    "\n",
    "    classifier = BernoulliNB()\n",
    "    \n",
    "    pipe = Pipeline([('vectorizer', tfidf_vector),\n",
    "                 ('classifier', classifier)])\n",
    "\n",
    "    pipe.fit(X_train, y_train)\n",
    "\n",
    "    predicted = pipe.predict(X_test)\n",
    "\n",
    "    accuracy = metrics.accuracy_score(y_test, predicted)\n",
    "    precision = metrics.precision_score(y_test, predicted, average=None)\n",
    "    recall = metrics.recall_score(y_test, predicted, average=None)\n",
    "\n",
    "    data_acc[j] = accuracy\n",
    "    data_prec[j] = precision\n",
    "    data_rec[j] = recall\n",
    "\n",
    "\n",
    "names_acc = list(data_acc.keys())\n",
    "values_acc = list(data_acc.values())\n",
    "\n",
    "names_prec = list(data_prec.keys())\n",
    "values_prec = list(data_prec.values())\n",
    "\n",
    "names_rec = list(data_rec.keys())\n",
    "values_rec = list(data_rec.values())\n",
    "\n",
    "fig, axs = plt.subplots(1, 3, figsize=(11, 3), sharey=True)\n",
    "\n",
    "axs[0].plot(names_acc, values_acc, label='accuracy')\n",
    "axs[0].legend()\n",
    "\n",
    "axs[1].plot(names_prec, values_prec, label='precision')\n",
    "axs[1].legend(('precision for target=1', 'precision for target=0'))\n",
    "\n",
    "axs[2].plot(names_rec, values_rec, label='recall')\n",
    "axs[2].legend(('recall for target=1', 'recall for target=0'))\n",
    "\n",
    "fig.suptitle('Accuracy, precision and recall for multiple value of train/test split treshold')"
   ]
  },
  {
   "cell_type": "code",
   "execution_count": null,
   "metadata": {},
   "outputs": [],
   "source": [
    "print('optimal treshold: ', np.argmax(values_acc))"
   ]
  },
  {
   "cell_type": "code",
   "execution_count": null,
   "metadata": {},
   "outputs": [],
   "source": [
    "# as the optimal treshold is 0 (overfitting), we'll take a treshold of 0.2, which seems also to be an optimum\n",
    "\n",
    "X_train, X_test, y_train, y_test = train_test_split(X, y, test_size=0.2, random_state=72)\n",
    "\n",
    "classifier = BernoulliNB()\n",
    "\n",
    "pipe = Pipeline([('vectorizer', tfidf_vector),\n",
    "                 ('classifier', classifier)])\n",
    "\n",
    "pipe.fit(X_train, y_train)\n",
    "\n",
    "predicted = pipe.predict(X_test)\n",
    "\n",
    "accuracy = metrics.accuracy_score(y_test, predicted)\n",
    "precision = metrics.precision_score(y_test, predicted, average=None)\n",
    "recall = metrics.recall_score(y_test, predicted, average=None)\n",
    "\n",
    "print('associated accuracy: ', accuracy)"
   ]
  },
  {
   "cell_type": "markdown",
   "metadata": {},
   "source": [
    "### Run on test dataset"
   ]
  },
  {
   "cell_type": "code",
   "execution_count": null,
   "metadata": {},
   "outputs": [],
   "source": [
    "X_train, X_test, y_train, y_test = train_test_split(X, y, test_size=0.001, random_state=72)\n",
    "\n",
    "X_test = test['filtered_tweet']\n",
    "\n",
    "pipe.fit(X_train, y_train)\n",
    "\n",
    "predicted = pipe.predict(X_test)\n",
    "\n",
    "test['prediction'] = predicted\n",
    "\n",
    "test[['text', 'prediction']].head()"
   ]
  },
  {
   "cell_type": "markdown",
   "metadata": {},
   "source": [
    "### Create submission file"
   ]
  },
  {
   "cell_type": "code",
   "execution_count": null,
   "metadata": {},
   "outputs": [],
   "source": [
    "sample_sub=pd.read_csv('../data/sample_submission.csv')\n",
    "\n",
    "sub=pd.DataFrame({'id':sample_sub['id'].values.tolist(),'target': predicted})\n",
    "sub.to_csv('../data/submission_BNB.csv',index=False)"
   ]
  },
  {
   "cell_type": "markdown",
   "metadata": {
    "nteract": {
     "transient": {
      "deleting": false
     }
    }
   },
   "source": [
    "## 4. Logistic regression"
   ]
  },
  {
   "cell_type": "code",
   "execution_count": null,
   "metadata": {
    "execution": {
     "iopub.execute_input": "2020-05-16T15:31:29.175Z",
     "iopub.status.busy": "2020-05-16T15:31:29.161Z",
     "iopub.status.idle": "2020-05-16T15:31:29.198Z",
     "shell.execute_reply": "2020-05-16T15:31:29.376Z"
    },
    "jupyter": {
     "outputs_hidden": false,
     "source_hidden": false
    },
    "nteract": {
     "transient": {
      "deleting": false
     }
    },
    "outputExpanded": false
   },
   "outputs": [],
   "source": [
    "#!python -m spacy download en_core_web_sm\n",
    "\n",
    "from sklearn.feature_extraction.text import CountVectorizer,TfidfVectorizer\n",
    "from sklearn.base import TransformerMixin\n",
    "from sklearn.pipeline import Pipeline\n",
    "import string\n",
    "from sklearn.model_selection import train_test_split\n",
    "from sklearn.linear_model import LogisticRegression\n",
    "from sklearn import metrics"
   ]
  },
  {
   "cell_type": "code",
   "execution_count": null,
   "metadata": {
    "execution": {
     "iopub.execute_input": "2020-05-16T15:31:29.349Z",
     "iopub.status.busy": "2020-05-16T15:31:29.337Z",
     "iopub.status.idle": "2020-05-16T15:31:30.814Z",
     "shell.execute_reply": "2020-05-16T15:31:30.949Z"
    },
    "jupyter": {
     "outputs_hidden": false,
     "source_hidden": false
    },
    "nteract": {
     "transient": {
      "deleting": false
     }
    },
    "outputExpanded": false
   },
   "outputs": [],
   "source": [
    "X_train, X_test, y_train, y_test = train_test_split(X, y, test_size=0.3, random_state=72)\n",
    "\n",
    "classifier = LogisticRegression(solver=\"lbfgs\")\n",
    "\n",
    "pipe = Pipeline([('vectorizer', tfidf_vector),\n",
    "                 ('classifier', classifier)])\n",
    "\n",
    "pipe.fit(X_train, y_train)\n",
    "\n",
    "predicted = pipe.predict(X_test)\n",
    "\n",
    "accuracy = metrics.accuracy_score(y_test, predicted)\n",
    "precision = metrics.precision_score(y_test, predicted, average=None)\n",
    "recall = metrics.recall_score(y_test, predicted, average=None)\n",
    "\n",
    "print(accuracy)"
   ]
  },
  {
   "cell_type": "code",
   "execution_count": null,
   "metadata": {
    "execution": {
     "iopub.execute_input": "2020-05-16T15:31:30.848Z",
     "iopub.status.busy": "2020-05-16T15:31:30.835Z",
     "iopub.status.idle": "2020-05-16T15:31:30.886Z",
     "shell.execute_reply": "2020-05-16T15:31:30.963Z"
    },
    "jupyter": {
     "outputs_hidden": false,
     "source_hidden": false
    },
    "nteract": {
     "transient": {
      "deleting": false
     }
    },
    "outputExpanded": false
   },
   "outputs": [],
   "source": [
    "print(f'For a train/test split treshold of 0.3: \\n')\n",
    "\n",
    "print(f'We can see here that our model identified a tweet about a disaster {str(accuracy*100)[:4]}% of the time. \\n')\n",
    "\n",
    "print(f'When it predicted a tweet to be about a disaster, it was correctly assessed {str(precision[0]*100)[:4]}% of the time, \\nand was correctly assessed for a tweet not about a disaster {str(precision[1]*100)[:4]}% of the time. \\n')\n",
    "\n",
    "print(f'When given a tweet about a disaster, the model considered it as being about a disaster {str(recall[0]*100)[:4]}% of the time, \\nand when given a tweet not about a disaster the model considered it as not a disaster for {str(recall[1]*100)[:4]}% of the time. \\n')"
   ]
  },
  {
   "cell_type": "markdown",
   "metadata": {
    "nteract": {
     "transient": {
      "deleting": false
     }
    }
   },
   "source": [
    "### Plot the results for different levels of train/test split treshold"
   ]
  },
  {
   "cell_type": "code",
   "execution_count": null,
   "metadata": {
    "execution": {
     "iopub.execute_input": "2020-05-16T15:31:30.920Z",
     "iopub.status.busy": "2020-05-16T15:31:30.906Z",
     "iopub.status.idle": "2020-05-16T15:33:14.781Z",
     "shell.execute_reply": "2020-05-16T15:33:14.894Z"
    },
    "jupyter": {
     "outputs_hidden": false,
     "source_hidden": false
    },
    "nteract": {
     "transient": {
      "deleting": false
     }
    },
    "outputExpanded": false
   },
   "outputs": [],
   "source": [
    "import matplotlib.pyplot as plt\n",
    "\n",
    "X = train['filtered_tweet']\n",
    "y = train['target']\n",
    "\n",
    "data_acc = {}\n",
    "data_prec = {}\n",
    "data_rec = {}\n",
    "\n",
    "\n",
    "for i in range(1, 100, 1):\n",
    "  j = i/100\n",
    "  \n",
    "  X_train, X_test, y_train, y_test = train_test_split(X, y, test_size=j, random_state=72)\n",
    "  \n",
    "  pipe.fit(X_train, y_train)\n",
    "\n",
    "  predicted = pipe.predict(X_test)\n",
    "\n",
    "  accuracy = metrics.accuracy_score(y_test, predicted)\n",
    "  precision = metrics.precision_score(y_test, predicted, average=None)\n",
    "  recall = metrics.recall_score(y_test, predicted, average=None)\n",
    "  \n",
    "  data_acc[j] = accuracy\n",
    "  data_prec[j] = precision\n",
    "  data_rec[j] = recall\n",
    "  \n",
    "names_acc = list(data_acc.keys())\n",
    "values_acc = list(data_acc.values())\n",
    "\n",
    "names_prec = list(data_prec.keys())\n",
    "values_prec = list(data_prec.values())\n",
    "\n",
    "names_rec = list(data_rec.keys())\n",
    "values_rec = list(data_rec.values())\n",
    "\n",
    "fig, axs = plt.subplots(1, 3, figsize=(11, 3), sharey=True)\n",
    "\n",
    "axs[0].plot(names_acc, values_acc, label='accuracy')\n",
    "axs[0].legend()\n",
    "\n",
    "axs[1].plot(names_prec, values_prec, label='precision')\n",
    "axs[1].legend(('precision for target=1', 'precision for target=0'))\n",
    "\n",
    "axs[2].plot(names_rec, values_rec, label='recall')\n",
    "axs[2].legend(('recall for target=1', 'recall for target=0'))\n",
    "\n",
    "fig.suptitle('Accuracy, precision and recall for multiple value of train/test split treshold')"
   ]
  },
  {
   "cell_type": "code",
   "execution_count": null,
   "metadata": {
    "execution": {
     "iopub.execute_input": "2020-05-16T15:33:14.819Z",
     "iopub.status.busy": "2020-05-16T15:33:14.804Z",
     "iopub.status.idle": "2020-05-16T15:33:14.848Z",
     "shell.execute_reply": "2020-05-16T15:33:14.902Z"
    },
    "jupyter": {
     "outputs_hidden": false,
     "source_hidden": false
    },
    "nteract": {
     "transient": {
      "deleting": false
     }
    },
    "outputExpanded": false
   },
   "outputs": [],
   "source": [
    "print('From those graphs, we can see that the optimal train/test split treshold is: ', np.argmax(values_acc))"
   ]
  },
  {
   "cell_type": "markdown",
   "metadata": {
    "nteract": {
     "transient": {
      "deleting": false
     }
    }
   },
   "source": [
    "### Test the model on the testing dataset"
   ]
  },
  {
   "cell_type": "code",
   "execution_count": null,
   "metadata": {
    "execution": {
     "iopub.execute_input": "2020-05-16T15:33:14.881Z",
     "iopub.status.busy": "2020-05-16T15:33:14.869Z",
     "iopub.status.idle": "2020-05-16T15:33:16.725Z",
     "shell.execute_reply": "2020-05-16T15:33:16.857Z"
    },
    "jupyter": {
     "outputs_hidden": false,
     "source_hidden": false
    },
    "nteract": {
     "transient": {
      "deleting": false
     }
    },
    "outputExpanded": false
   },
   "outputs": [],
   "source": [
    "X_train, X_test, y_train, y_test = train_test_split(X, y, test_size=0.001, random_state=72)\n",
    "\n",
    "X_test = test['filtered_tweet']\n",
    "\n",
    "pipe.fit(X_train, y_train)\n",
    "\n",
    "predicted = pipe.predict(X_test)\n",
    "\n",
    "test['prediction'] = predicted\n",
    "\n",
    "test[['text', 'prediction']].head()"
   ]
  },
  {
   "cell_type": "markdown",
   "metadata": {
    "nteract": {
     "transient": {
      "deleting": false
     }
    }
   },
   "source": [
    "### Create submission file"
   ]
  },
  {
   "cell_type": "code",
   "execution_count": null,
   "metadata": {
    "execution": {
     "iopub.execute_input": "2020-05-16T15:33:16.773Z",
     "iopub.status.busy": "2020-05-16T15:33:16.749Z",
     "iopub.status.idle": "2020-05-16T15:33:16.797Z",
     "shell.execute_reply": "2020-05-16T15:33:16.870Z"
    },
    "jupyter": {
     "outputs_hidden": false,
     "source_hidden": false
    },
    "nteract": {
     "transient": {
      "deleting": false
     }
    },
    "outputExpanded": false
   },
   "outputs": [],
   "source": [
    "sample_sub=pd.read_csv('../data/sample_submission.csv')\n",
    "\n",
    "sub=pd.DataFrame({'id':sample_sub['id'].values.tolist(),'target': predicted})\n",
    "sub.to_csv('../data/submission_LR.csv',index=False)"
   ]
  },
  {
   "cell_type": "markdown",
   "metadata": {
    "nteract": {
     "transient": {
      "deleting": false
     }
    }
   },
   "source": [
    "## 5. Neural networks"
   ]
  },
  {
   "cell_type": "markdown",
   "metadata": {
    "nteract": {
     "transient": {
      "deleting": false
     }
    }
   },
   "source": [
    "### Vectorizing tweets"
   ]
  },
  {
   "cell_type": "code",
   "execution_count": null,
   "metadata": {
    "execution": {
     "iopub.execute_input": "2020-05-16T16:00:12.366Z",
     "iopub.status.busy": "2020-05-16T16:00:12.328Z",
     "iopub.status.idle": "2020-05-16T16:00:13.131Z",
     "shell.execute_reply": "2020-05-16T16:00:13.160Z"
    },
    "jupyter": {
     "outputs_hidden": false,
     "source_hidden": false
    },
    "nteract": {
     "transient": {
      "deleting": false
     }
    },
    "outputExpanded": false
   },
   "outputs": [],
   "source": [
    "from sklearn.feature_extraction.text import CountVectorizer\n",
    "\n",
    "X_train = train['filtered_tweet']\n",
    "y_train = train['target']\n",
    "\n",
    "#X_train, X_test, y_train, y_test = train_test_split(X, y, test_size=0.2, random_state=72)\n",
    "\n",
    "word_vectorizer = CountVectorizer(token_pattern=r\"(?u)\\b\\w+\\b\", \n",
    "                stop_words=None, ngram_range=(2,2), analyzer='word')\n",
    "\n",
    "# Vectorize the training set\n",
    "X_train = word_vectorizer.fit_transform(X_train.map(lambda words: ', '.join(words)))\n",
    "\n",
    "# Vectorize the testing test\n",
    "#X_test = word_vectorizer.transform(X_test.map(lambda words: ', '.join(words)))\n",
    "\n",
    "# Our output variable \"target\" which indicates whether a tweet is a disaster tweet\n",
    "#y_train = train['target']\n",
    "\n",
    "\n",
    "print('train input shape: ', X_train.shape)\n",
    "#print('train output shape: ', y_train.shape)\n",
    "#print('test output shape: ', X_test.shape)"
   ]
  },
  {
   "cell_type": "markdown",
   "metadata": {
    "nteract": {
     "transient": {
      "deleting": false
     }
    }
   },
   "source": [
    "### Building the model"
   ]
  },
  {
   "cell_type": "code",
   "execution_count": null,
   "metadata": {
    "execution": {
     "iopub.execute_input": "2020-05-16T15:46:01.521Z",
     "iopub.status.busy": "2020-05-16T15:46:01.506Z",
     "iopub.status.idle": "2020-05-16T15:46:13.309Z",
     "shell.execute_reply": "2020-05-16T15:46:13.329Z"
    },
    "jupyter": {
     "outputs_hidden": false,
     "source_hidden": false
    },
    "nteract": {
     "transient": {
      "deleting": false
     }
    },
    "outputExpanded": false
   },
   "outputs": [],
   "source": [
    "#!pip install -U protobuf==3.8.0"
   ]
  },
  {
   "cell_type": "code",
   "execution_count": null,
   "metadata": {
    "jupyter": {
     "outputs_hidden": false,
     "source_hidden": false
    },
    "nteract": {
     "transient": {
      "deleting": false
     }
    },
    "outputExpanded": false
   },
   "outputs": [],
   "source": [
    "#!pip install --upgrade tensorflow"
   ]
  },
  {
   "cell_type": "code",
   "execution_count": null,
   "metadata": {
    "jupyter": {
     "outputs_hidden": false,
     "source_hidden": false
    },
    "nteract": {
     "transient": {
      "deleting": false
     }
    },
    "outputExpanded": false
   },
   "outputs": [],
   "source": [
    "#!pip install keras"
   ]
  },
  {
   "cell_type": "code",
   "execution_count": null,
   "metadata": {
    "execution": {
     "iopub.execute_input": "2020-05-16T16:36:09.550Z",
     "iopub.status.busy": "2020-05-16T16:36:09.536Z",
     "iopub.status.idle": "2020-05-16T16:36:09.573Z",
     "shell.execute_reply": "2020-05-16T16:36:09.589Z"
    },
    "jupyter": {
     "outputs_hidden": false,
     "source_hidden": false
    },
    "nteract": {
     "transient": {
      "deleting": false
     }
    },
    "outputExpanded": false
   },
   "outputs": [],
   "source": [
    "import tensorflow as tf\n",
    "from tensorflow import keras\n",
    "from tensorflow.keras import layers\n",
    "import numpy as np\n",
    "import matplotlib.pyplot as plt\n",
    "plt.rcParams['figure.figsize'] = (7,7) # Make the figures a bit bigger\n",
    "\n",
    "from keras.datasets import mnist\n",
    "from keras.models import Sequential\n",
    "from keras.layers.core import Dense, Dropout, Activation\n",
    "from keras.layers import Dense, Conv2D, MaxPooling2D, Dropout, Flatten\n",
    "from keras.utils import np_utils"
   ]
  },
  {
   "cell_type": "code",
   "execution_count": null,
   "metadata": {},
   "outputs": [],
   "source": [
    "model = Sequential()\n",
    "model.add(Dense(X_train.shape[0], input_shape=(X_train.shape[1],)))\n",
    "model.add(Activation('relu')) # An \"activation\" is just a non-linear function applied to the output\n",
    "                              # of the layer above. Here, with a \"rectified linear unit\",\n",
    "                              # we clamp all values below 0 to 0.\n",
    "\n",
    "model.add(Dropout(0.2))# Dropout helps protect the model from memorizing or \"overfitting\" the training data\n",
    "model.add(Dense(X_train.shape[0], input_shape=(X_train.shape[1],)))\n",
    "model.add(Dense(1, activation='sigmoid'))"
   ]
  },
  {
   "cell_type": "code",
   "execution_count": null,
   "metadata": {
    "execution": {
     "iopub.execute_input": "2020-05-16T16:36:10.118Z",
     "iopub.status.busy": "2020-05-16T16:36:10.102Z",
     "iopub.status.idle": "2020-05-16T16:36:10.170Z",
     "shell.execute_reply": "2020-05-16T16:36:10.182Z"
    },
    "jupyter": {
     "outputs_hidden": false,
     "source_hidden": false
    },
    "nteract": {
     "transient": {
      "deleting": false
     }
    },
    "outputExpanded": false
   },
   "outputs": [],
   "source": [
    "optimizer = keras.optimizers.SGD(lr=0.01, decay=1e-6, momentum=0.9, nesterov=True)\n",
    "model.compile(loss='binary_crossentropy', optimizer=optimizer, metrics=['accuracy'])"
   ]
  },
  {
   "cell_type": "code",
   "execution_count": null,
   "metadata": {
    "execution": {
     "iopub.execute_input": "2020-05-16T16:18:52.041Z",
     "iopub.status.busy": "2020-05-16T16:18:52.025Z",
     "iopub.status.idle": "2020-05-16T16:18:52.085Z",
     "shell.execute_reply": "2020-05-16T16:18:52.132Z"
    },
    "jupyter": {
     "outputs_hidden": false,
     "source_hidden": false
    },
    "nteract": {
     "transient": {
      "deleting": false
     }
    },
    "outputExpanded": false
   },
   "outputs": [],
   "source": [
    "model.summary()"
   ]
  },
  {
   "cell_type": "markdown",
   "metadata": {
    "collapsed": true,
    "jupyter": {
     "outputs_hidden": false,
     "source_hidden": false
    },
    "nteract": {
     "transient": {
      "deleting": false
     }
    },
    "outputExpanded": false
   },
   "source": [
    "### Train the model"
   ]
  },
  {
   "cell_type": "code",
   "execution_count": null,
   "metadata": {
    "jupyter": {
     "outputs_hidden": false,
     "source_hidden": false
    },
    "nteract": {
     "transient": {
      "deleting": false
     }
    },
    "outputExpanded": false
   },
   "outputs": [],
   "source": [
    "model_hist = model.fit(X_train, y_train,\n",
    "                       batch_size=100, epochs=30,\n",
    "                       verbose=1, validation_split=0.2)"
   ]
  },
  {
   "cell_type": "markdown",
   "metadata": {
    "collapsed": true,
    "jupyter": {
     "outputs_hidden": false,
     "source_hidden": false
    },
    "nteract": {
     "transient": {
      "deleting": false
     }
    },
    "outputExpanded": false
   },
   "source": [
    "### Evaluate performance"
   ]
  },
  {
   "cell_type": "code",
   "execution_count": null,
   "metadata": {
    "jupyter": {
     "outputs_hidden": false,
     "source_hidden": false
    },
    "nteract": {
     "transient": {
      "deleting": false
     }
    },
    "outputExpanded": false
   },
   "outputs": [],
   "source": [
    "fig, axs = plt.subplots(1, 2, figsize=(11, 4), sharey=True)\n",
    "\n",
    "axs[0].plot(model_hist.history['val_accuracy'], label='validation accuracy')\n",
    "axs[0].legend()\n",
    "\n",
    "axs[1].plot(model_hist.history['accuracy'], label='accuracy')\n",
    "axs[1].legend()\n",
    "\n",
    "fig.suptitle('Validation accuracy and accuracy evolving with epochs')"
   ]
  },
  {
   "cell_type": "markdown",
   "metadata": {
    "collapsed": true,
    "jupyter": {
     "outputs_hidden": false,
     "source_hidden": false
    },
    "nteract": {
     "transient": {
      "deleting": false
     }
    },
    "outputExpanded": false
   },
   "source": [
    "### Predict for test dataset"
   ]
  },
  {
   "cell_type": "code",
   "execution_count": null,
   "metadata": {
    "jupyter": {
     "outputs_hidden": false,
     "source_hidden": false
    },
    "nteract": {
     "transient": {
      "deleting": false
     }
    },
    "outputExpanded": false
   },
   "outputs": [],
   "source": [
    "X_test = test['filtered_tweet']\n",
    "X_test = word_vectorizer.transform(X_test.map(lambda words: ', '.join(words)))\n",
    "\n",
    "y_test = model.predict_classes(X_test)\n",
    "\n",
    "test['prediction'] = y_test\n",
    "\n",
    "test[['text', 'prediction']].head()"
   ]
  },
  {
   "cell_type": "code",
   "execution_count": null,
   "metadata": {
    "jupyter": {
     "outputs_hidden": false,
     "source_hidden": false
    },
    "nteract": {
     "transient": {
      "deleting": false
     }
    },
    "outputExpanded": false
   },
   "outputs": [],
   "source": [
    "ysample_sub=pd.read_csv('../data/sample_submission.csv')\n",
    "\n",
    "sub=pd.DataFrame({'id':sample_sub['id'].values.tolist(),'target': predicted})\n",
    "sub.to_csv('../data/submission_NN.csv',index=False)"
   ]
  },
  {
   "cell_type": "markdown",
   "metadata": {},
   "source": [
    "## 6. Decision trees"
   ]
  },
  {
   "cell_type": "markdown",
   "metadata": {},
   "source": [
    "### Split train/test"
   ]
  },
  {
   "cell_type": "code",
   "execution_count": null,
   "metadata": {},
   "outputs": [],
   "source": [
    "X = train['filtered_tweet']\n",
    "y = train['target']\n",
    "\n",
    "X_train, X_test, y_train, y_test = train_test_split(X, y, test_size=0.3, random_state=72)"
   ]
  },
  {
   "cell_type": "markdown",
   "metadata": {},
   "source": [
    "### Vectorizing tweets"
   ]
  },
  {
   "cell_type": "code",
   "execution_count": null,
   "metadata": {},
   "outputs": [],
   "source": [
    "from sklearn.feature_extraction.text import CountVectorizer\n",
    "\n",
    "word_vectorizer = CountVectorizer(token_pattern=r\"(?u)\\b\\w+\\b\", \n",
    "                stop_words=None, ngram_range=(2,2), analyzer='word')\n",
    "\n",
    "# Vectorize the training set\n",
    "X_train = word_vectorizer.fit_transform(X_train.map(lambda words: ', '.join(words)))\n",
    "\n",
    "# Vectorize the testing test\n",
    "X_test = word_vectorizer.transform(X_test.map(lambda words: ', '.join(words)))\n",
    "\n",
    "\n",
    "print('train input shape: ', X_train.shape)\n",
    "print('train output shape: ', y_train.shape)\n",
    "print('test output shape: ', X_test.shape)"
   ]
  },
  {
   "cell_type": "markdown",
   "metadata": {},
   "source": [
    "### Fit the model"
   ]
  },
  {
   "cell_type": "code",
   "execution_count": null,
   "metadata": {},
   "outputs": [],
   "source": [
    "from sklearn.tree import DecisionTreeClassifier\n",
    "classifier = DecisionTreeClassifier(criterion='entropy')\n",
    "classifier.fit(X_train, y_train)\n",
    "\n",
    "classifier.score(X_test,y_test)"
   ]
  },
  {
   "cell_type": "code",
   "execution_count": null,
   "metadata": {},
   "outputs": [],
   "source": [
    "classifier.get_depth()"
   ]
  },
  {
   "cell_type": "code",
   "execution_count": null,
   "metadata": {},
   "outputs": [],
   "source": [
    "scores = []\n",
    "for d in range(1, 21):\n",
    "    classifier = DecisionTreeClassifier(criterion='entropy', max_depth=d)\n",
    "    classifier.fit(X_train, y_train)\n",
    "    scores.append(classifier.score(X_test, y_test))\n",
    "    \n",
    "    \n",
    "plt.plot(scores)\n",
    "plt.ylabel('accuracy', fontsize=15)\n",
    "plt.xlabel('depth', fontsize=15)"
   ]
  },
  {
   "cell_type": "code",
   "execution_count": null,
   "metadata": {},
   "outputs": [],
   "source": [
    "print('The optimal depth is: ', np.argmax(scores))"
   ]
  },
  {
   "cell_type": "markdown",
   "metadata": {},
   "source": [
    "### Evaluate model"
   ]
  },
  {
   "cell_type": "code",
   "execution_count": null,
   "metadata": {},
   "outputs": [],
   "source": [
    "from sklearn.metrics import classification_report, confusion_matrix\n",
    "\n",
    "classifier = DecisionTreeClassifier(criterion='entropy', max_depth=np.argmax(scores))\n",
    "classifier.fit(X_train, y_train)\n",
    "\n",
    "y_pred = classifier.predict(X_train)\n",
    "print(confusion_matrix(y_train, y_pred))\n",
    "print(classification_report(y_train, y_pred))"
   ]
  },
  {
   "cell_type": "markdown",
   "metadata": {},
   "source": [
    "### Run on test dataset"
   ]
  },
  {
   "cell_type": "code",
   "execution_count": null,
   "metadata": {},
   "outputs": [],
   "source": [
    "X_test = word_vectorizer.transform(test['filtered_tweet'].map(lambda words: ', '.join(words)))\n",
    "\n",
    "y_test = classifier.predict(X_test)\n",
    "\n",
    "test['prediction'] = y_test\n",
    "\n",
    "test[['text', 'prediction']].head()"
   ]
  },
  {
   "cell_type": "markdown",
   "metadata": {},
   "source": [
    "### Create submission file"
   ]
  },
  {
   "cell_type": "code",
   "execution_count": null,
   "metadata": {},
   "outputs": [],
   "source": [
    "sample_sub=pd.read_csv('../data/sample_submission.csv')\n",
    "\n",
    "sub=pd.DataFrame({'id':sample_sub['id'].values.tolist(),'target': predicted})\n",
    "sub.to_csv('../data/submission_DT.csv',index=False)"
   ]
  },
  {
   "cell_type": "code",
   "execution_count": null,
   "metadata": {},
   "outputs": [],
   "source": []
  }
 ],
 "metadata": {
  "kernelspec": {
   "display_name": "Python 3",
   "language": "python",
   "name": "python3"
  },
  "language_info": {
   "codemirror_mode": {
    "name": "ipython",
    "version": 3
   },
   "file_extension": ".py",
   "mimetype": "text/x-python",
   "name": "python",
   "nbconvert_exporter": "python",
   "pygments_lexer": "ipython3",
   "version": "3.7.3"
  },
  "nteract": {
   "version": "0.23.1"
  }
 },
 "nbformat": 4,
 "nbformat_minor": 2
}
